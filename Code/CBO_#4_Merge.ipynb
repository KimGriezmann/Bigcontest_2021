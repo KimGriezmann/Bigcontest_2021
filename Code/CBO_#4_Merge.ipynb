{
  "nbformat": 4,
  "nbformat_minor": 0,
  "metadata": {
    "colab": {
      "name": "Bigcontest_Merge.ipynb",
      "provenance": [],
      "collapsed_sections": [
        "EIGMLuTXi6Ct",
        "gd-34xM0i8Rl",
        "jP2ikNDJnD32",
        "81x28KntjAKV",
        "q4VUADdtjIz8",
        "ewHLL7KfjSmR",
        "Eh0mvAG-ZDBS",
        "SJOEOXABZTmL"
      ]
    },
    "kernelspec": {
      "name": "python3",
      "display_name": "Python 3"
    },
    "language_info": {
      "name": "python"
    },
    "accelerator": "GPU",
    "widgets": {
      "application/vnd.jupyter.widget-state+json": {
        "5679d398ee2f4328b8f578432cea1286": {
          "model_module": "@jupyter-widgets/controls",
          "model_name": "HBoxModel",
          "model_module_version": "1.5.0",
          "state": {
            "_view_name": "HBoxView",
            "_dom_classes": [],
            "_model_name": "HBoxModel",
            "_view_module": "@jupyter-widgets/controls",
            "_model_module_version": "1.5.0",
            "_view_count": null,
            "_view_module_version": "1.5.0",
            "box_style": "",
            "layout": "IPY_MODEL_acc64313ce214ae6a0429cc32a40031b",
            "_model_module": "@jupyter-widgets/controls",
            "children": [
              "IPY_MODEL_76de72b85a63459881630ca3561e93fd",
              "IPY_MODEL_ea5418f5d8b64ce3b1b46094fc13482d",
              "IPY_MODEL_bc5109bb24c041c5918c073fc78bc79d"
            ]
          }
        },
        "acc64313ce214ae6a0429cc32a40031b": {
          "model_module": "@jupyter-widgets/base",
          "model_name": "LayoutModel",
          "model_module_version": "1.2.0",
          "state": {
            "_view_name": "LayoutView",
            "grid_template_rows": null,
            "right": null,
            "justify_content": null,
            "_view_module": "@jupyter-widgets/base",
            "overflow": null,
            "_model_module_version": "1.2.0",
            "_view_count": null,
            "flex_flow": null,
            "width": null,
            "min_width": null,
            "border": null,
            "align_items": null,
            "bottom": null,
            "_model_module": "@jupyter-widgets/base",
            "top": null,
            "grid_column": null,
            "overflow_y": null,
            "overflow_x": null,
            "grid_auto_flow": null,
            "grid_area": null,
            "grid_template_columns": null,
            "flex": null,
            "_model_name": "LayoutModel",
            "justify_items": null,
            "grid_row": null,
            "max_height": null,
            "align_content": null,
            "visibility": null,
            "align_self": null,
            "height": null,
            "min_height": null,
            "padding": null,
            "grid_auto_rows": null,
            "grid_gap": null,
            "max_width": null,
            "order": null,
            "_view_module_version": "1.2.0",
            "grid_template_areas": null,
            "object_position": null,
            "object_fit": null,
            "grid_auto_columns": null,
            "margin": null,
            "display": null,
            "left": null
          }
        },
        "76de72b85a63459881630ca3561e93fd": {
          "model_module": "@jupyter-widgets/controls",
          "model_name": "HTMLModel",
          "model_module_version": "1.5.0",
          "state": {
            "_view_name": "HTMLView",
            "style": "IPY_MODEL_17319db9d3954972a4348201786d3fb5",
            "_dom_classes": [],
            "description": "",
            "_model_name": "HTMLModel",
            "placeholder": "​",
            "_view_module": "@jupyter-widgets/controls",
            "_model_module_version": "1.5.0",
            "value": "100%",
            "_view_count": null,
            "_view_module_version": "1.5.0",
            "description_tooltip": null,
            "_model_module": "@jupyter-widgets/controls",
            "layout": "IPY_MODEL_0d3a19bc8bdd4248b40fb9f2faa33354"
          }
        },
        "ea5418f5d8b64ce3b1b46094fc13482d": {
          "model_module": "@jupyter-widgets/controls",
          "model_name": "FloatProgressModel",
          "model_module_version": "1.5.0",
          "state": {
            "_view_name": "ProgressView",
            "style": "IPY_MODEL_7944030a20684af4b457bfc6a55aabd1",
            "_dom_classes": [],
            "description": "",
            "_model_name": "FloatProgressModel",
            "bar_style": "success",
            "max": 2008,
            "_view_module": "@jupyter-widgets/controls",
            "_model_module_version": "1.5.0",
            "value": 2008,
            "_view_count": null,
            "_view_module_version": "1.5.0",
            "orientation": "horizontal",
            "min": 0,
            "description_tooltip": null,
            "_model_module": "@jupyter-widgets/controls",
            "layout": "IPY_MODEL_76e4f664891c4726ade0549a4a08e27d"
          }
        },
        "bc5109bb24c041c5918c073fc78bc79d": {
          "model_module": "@jupyter-widgets/controls",
          "model_name": "HTMLModel",
          "model_module_version": "1.5.0",
          "state": {
            "_view_name": "HTMLView",
            "style": "IPY_MODEL_a8cd499ff11b44ee8e84822d41803a4e",
            "_dom_classes": [],
            "description": "",
            "_model_name": "HTMLModel",
            "placeholder": "​",
            "_view_module": "@jupyter-widgets/controls",
            "_model_module_version": "1.5.0",
            "value": " 2008/2008 [01:21&lt;00:00, 24.70it/s]",
            "_view_count": null,
            "_view_module_version": "1.5.0",
            "description_tooltip": null,
            "_model_module": "@jupyter-widgets/controls",
            "layout": "IPY_MODEL_dd9fdfda4dce47f3969f15805437c075"
          }
        },
        "17319db9d3954972a4348201786d3fb5": {
          "model_module": "@jupyter-widgets/controls",
          "model_name": "DescriptionStyleModel",
          "model_module_version": "1.5.0",
          "state": {
            "_view_name": "StyleView",
            "_model_name": "DescriptionStyleModel",
            "description_width": "",
            "_view_module": "@jupyter-widgets/base",
            "_model_module_version": "1.5.0",
            "_view_count": null,
            "_view_module_version": "1.2.0",
            "_model_module": "@jupyter-widgets/controls"
          }
        },
        "0d3a19bc8bdd4248b40fb9f2faa33354": {
          "model_module": "@jupyter-widgets/base",
          "model_name": "LayoutModel",
          "model_module_version": "1.2.0",
          "state": {
            "_view_name": "LayoutView",
            "grid_template_rows": null,
            "right": null,
            "justify_content": null,
            "_view_module": "@jupyter-widgets/base",
            "overflow": null,
            "_model_module_version": "1.2.0",
            "_view_count": null,
            "flex_flow": null,
            "width": null,
            "min_width": null,
            "border": null,
            "align_items": null,
            "bottom": null,
            "_model_module": "@jupyter-widgets/base",
            "top": null,
            "grid_column": null,
            "overflow_y": null,
            "overflow_x": null,
            "grid_auto_flow": null,
            "grid_area": null,
            "grid_template_columns": null,
            "flex": null,
            "_model_name": "LayoutModel",
            "justify_items": null,
            "grid_row": null,
            "max_height": null,
            "align_content": null,
            "visibility": null,
            "align_self": null,
            "height": null,
            "min_height": null,
            "padding": null,
            "grid_auto_rows": null,
            "grid_gap": null,
            "max_width": null,
            "order": null,
            "_view_module_version": "1.2.0",
            "grid_template_areas": null,
            "object_position": null,
            "object_fit": null,
            "grid_auto_columns": null,
            "margin": null,
            "display": null,
            "left": null
          }
        },
        "7944030a20684af4b457bfc6a55aabd1": {
          "model_module": "@jupyter-widgets/controls",
          "model_name": "ProgressStyleModel",
          "model_module_version": "1.5.0",
          "state": {
            "_view_name": "StyleView",
            "_model_name": "ProgressStyleModel",
            "description_width": "",
            "_view_module": "@jupyter-widgets/base",
            "_model_module_version": "1.5.0",
            "_view_count": null,
            "_view_module_version": "1.2.0",
            "bar_color": null,
            "_model_module": "@jupyter-widgets/controls"
          }
        },
        "76e4f664891c4726ade0549a4a08e27d": {
          "model_module": "@jupyter-widgets/base",
          "model_name": "LayoutModel",
          "model_module_version": "1.2.0",
          "state": {
            "_view_name": "LayoutView",
            "grid_template_rows": null,
            "right": null,
            "justify_content": null,
            "_view_module": "@jupyter-widgets/base",
            "overflow": null,
            "_model_module_version": "1.2.0",
            "_view_count": null,
            "flex_flow": null,
            "width": null,
            "min_width": null,
            "border": null,
            "align_items": null,
            "bottom": null,
            "_model_module": "@jupyter-widgets/base",
            "top": null,
            "grid_column": null,
            "overflow_y": null,
            "overflow_x": null,
            "grid_auto_flow": null,
            "grid_area": null,
            "grid_template_columns": null,
            "flex": null,
            "_model_name": "LayoutModel",
            "justify_items": null,
            "grid_row": null,
            "max_height": null,
            "align_content": null,
            "visibility": null,
            "align_self": null,
            "height": null,
            "min_height": null,
            "padding": null,
            "grid_auto_rows": null,
            "grid_gap": null,
            "max_width": null,
            "order": null,
            "_view_module_version": "1.2.0",
            "grid_template_areas": null,
            "object_position": null,
            "object_fit": null,
            "grid_auto_columns": null,
            "margin": null,
            "display": null,
            "left": null
          }
        },
        "a8cd499ff11b44ee8e84822d41803a4e": {
          "model_module": "@jupyter-widgets/controls",
          "model_name": "DescriptionStyleModel",
          "model_module_version": "1.5.0",
          "state": {
            "_view_name": "StyleView",
            "_model_name": "DescriptionStyleModel",
            "description_width": "",
            "_view_module": "@jupyter-widgets/base",
            "_model_module_version": "1.5.0",
            "_view_count": null,
            "_view_module_version": "1.2.0",
            "_model_module": "@jupyter-widgets/controls"
          }
        },
        "dd9fdfda4dce47f3969f15805437c075": {
          "model_module": "@jupyter-widgets/base",
          "model_name": "LayoutModel",
          "model_module_version": "1.2.0",
          "state": {
            "_view_name": "LayoutView",
            "grid_template_rows": null,
            "right": null,
            "justify_content": null,
            "_view_module": "@jupyter-widgets/base",
            "overflow": null,
            "_model_module_version": "1.2.0",
            "_view_count": null,
            "flex_flow": null,
            "width": null,
            "min_width": null,
            "border": null,
            "align_items": null,
            "bottom": null,
            "_model_module": "@jupyter-widgets/base",
            "top": null,
            "grid_column": null,
            "overflow_y": null,
            "overflow_x": null,
            "grid_auto_flow": null,
            "grid_area": null,
            "grid_template_columns": null,
            "flex": null,
            "_model_name": "LayoutModel",
            "justify_items": null,
            "grid_row": null,
            "max_height": null,
            "align_content": null,
            "visibility": null,
            "align_self": null,
            "height": null,
            "min_height": null,
            "padding": null,
            "grid_auto_rows": null,
            "grid_gap": null,
            "max_width": null,
            "order": null,
            "_view_module_version": "1.2.0",
            "grid_template_areas": null,
            "object_position": null,
            "object_fit": null,
            "grid_auto_columns": null,
            "margin": null,
            "display": null,
            "left": null
          }
        }
      }
    }
  },
  "cells": [
    {
      "cell_type": "code",
      "metadata": {
        "id": "IW5RFcGdQmX4"
      },
      "source": [
        "import pandas as pd\n",
        "import numpy as np\n",
        "import matplotlib\n",
        "from matplotlib import pyplot as plt\n",
        "import seaborn as sns\n",
        "import re\n",
        "from tqdm import tqdm_notebook"
      ],
      "execution_count": null,
      "outputs": []
    },
    {
      "cell_type": "markdown",
      "metadata": {
        "id": "EIGMLuTXi6Ct"
      },
      "source": [
        "# Data Load"
      ]
    },
    {
      "cell_type": "code",
      "metadata": {
        "colab": {
          "base_uri": "https://localhost:8080/"
        },
        "id": "FJOYILiURYoD",
        "outputId": "a80a5855-3b5b-4cd1-87d0-41d4279d2d5f"
      },
      "source": [
        "def create_df():\n",
        "\n",
        "  #연도별 데이터 경로\n",
        "  HTS_dir = '/content/drive/MyDrive/빅콘테스트/01_제공데이터/2021 빅콘테스트_데이터분석분야_챔피언리그_스포츠테크_HTS'\n",
        "  Player_dir = '/content/drive/MyDrive/빅콘테스트/01_제공데이터/2021 빅콘테스트_데이터분석분야_챔피언리그_스포츠테크_선수'\n",
        "  Hitter_dir = '/content/drive/MyDrive/빅콘테스트/01_제공데이터/2021 빅콘테스트_데이터분석분야_챔피언리그_스포츠테크_타자 기본'\n",
        "  #단일 데이터 경로\n",
        "  Team_dir = '/content/drive/MyDrive/빅콘테스트/01_제공데이터/2021 빅콘테스트_데이터분석분야_챔피언리그_스포츠테크_팀.csv'\n",
        "  Schedule_dir = '/content/drive/MyDrive/빅콘테스트/01_제공데이터/2021 빅콘테스트_데이터분석분야_챔피언리그_스포츠테크_경기일정_2021.csv'\n",
        "  val_dir = '/content/drive/MyDrive/빅콘테스트/02_평가데이터/2021 빅콘테스트_데이터분석분야_챔피언리그_스포츠테크_평가데이터.xlsx'\n",
        "  Crawl_dir = '/content/drive/MyDrive/빅콘테스트/crawling_data.csv'\n",
        "\n",
        "  year = [2018, 2019, 2020, 2021]\n",
        "\n",
        "  for i in year:\n",
        "    globals()['HTS_{}'.format(i)]     = pd.read_csv(HTS_dir + '_' + str(i) + '.csv', encoding='CP949')\n",
        "    globals()['Player_{}'.format(i)]  = pd.read_csv(Player_dir + '_' + str(i) + '.csv', encoding='CP949')\n",
        "    globals()['Hitter_{}'.format(i)]  = pd.read_csv(Hitter_dir + '_' + str(i) + '.csv', encoding='CP949')\n",
        "\n",
        "  global Team_df, Schedule_df, val_df, Crawl_df\n",
        "  Team_df = pd.read_csv(Team_dir, encoding='CP949')\n",
        "  Schedule_df = pd.read_csv(Schedule_dir, encoding='CP949')\n",
        "  val_df = pd.read_excel(val_dir)\n",
        "  Crawl_df = pd.read_csv(Crawl_dir, index_col=0)\n",
        "\n",
        "######################\n",
        "\n",
        "#연도별 데이터 하나로 통합\n",
        "def concat_df():\n",
        "  df_list = ['HTS', 'Player', 'Hitter']\n",
        "\n",
        "#각 칼럼이 모두 같은지 검사 후 통합\n",
        "  for i in df_list:\n",
        "    if ((globals()['{}_2018'.format(i)].columns == globals()['{}_2019'.format(i)].columns).all()) and ((globals()['{}_2019'.format(i)].columns == globals()['{}_2020'.format(i)].columns).all()) and \\\n",
        "    ((globals()['{}_2020'.format(i)].columns == globals()['{}_2021'.format(i)].columns).all()):\n",
        "      globals()['{}_df'.format(i)] = pd.concat( [ globals()['{}_2018'.format(i)], globals()['{}_2019'.format(i)], globals()['{}_2020'.format(i)], globals()['{}_2021'.format(i) ] ] )\n",
        "\n",
        "#연도별 길이의 합이 통합된 데이터의 길이와 같은지 검사\n",
        "  for i in df_list:\n",
        "    if len(globals()['{}_2018'.format(i)]) + len(globals()['{}_2019'.format(i)]) + len(globals()['{}_2020'.format(i)]) + len(globals()['{}_2021'.format(i)]) == len(globals()['{}_df'.format(i)]):\n",
        "      print('{} is complete!'.format(i))\n",
        "\n",
        "######################\n",
        "\n",
        "create_df()\n",
        "concat_df()"
      ],
      "execution_count": null,
      "outputs": [
        {
          "output_type": "stream",
          "text": [
            "HTS is complete!\n",
            "Player is complete!\n",
            "Hitter is complete!\n"
          ],
          "name": "stdout"
        }
      ]
    },
    {
      "cell_type": "code",
      "metadata": {
        "colab": {
          "base_uri": "https://localhost:8080/",
          "height": 204
        },
        "id": "olpMs9m99Bix",
        "outputId": "aa3620c7-0fc6-498f-954c-f780f3c7ddd4"
      },
      "source": [
        "HTS_df.head()"
      ],
      "execution_count": null,
      "outputs": [
        {
          "output_type": "execute_result",
          "data": {
            "text/html": [
              "<div>\n",
              "<style scoped>\n",
              "    .dataframe tbody tr th:only-of-type {\n",
              "        vertical-align: middle;\n",
              "    }\n",
              "\n",
              "    .dataframe tbody tr th {\n",
              "        vertical-align: top;\n",
              "    }\n",
              "\n",
              "    .dataframe thead th {\n",
              "        text-align: right;\n",
              "    }\n",
              "</style>\n",
              "<table border=\"1\" class=\"dataframe\">\n",
              "  <thead>\n",
              "    <tr style=\"text-align: right;\">\n",
              "      <th></th>\n",
              "      <th>GYEAR</th>\n",
              "      <th>G_ID</th>\n",
              "      <th>PIT_ID</th>\n",
              "      <th>PCODE</th>\n",
              "      <th>T_ID</th>\n",
              "      <th>INN</th>\n",
              "      <th>HIT_VEL</th>\n",
              "      <th>HIT_ANG_VER</th>\n",
              "      <th>HIT_RESULT</th>\n",
              "      <th>PIT_VEL</th>\n",
              "      <th>STADIUM</th>\n",
              "    </tr>\n",
              "  </thead>\n",
              "  <tbody>\n",
              "    <tr>\n",
              "      <th>0</th>\n",
              "      <td>2018</td>\n",
              "      <td>20180324HHWO0</td>\n",
              "      <td>180324_140436</td>\n",
              "      <td>62797</td>\n",
              "      <td>HH</td>\n",
              "      <td>1</td>\n",
              "      <td>131.50</td>\n",
              "      <td>42.7</td>\n",
              "      <td>플라이</td>\n",
              "      <td>149.59</td>\n",
              "      <td>고척</td>\n",
              "    </tr>\n",
              "    <tr>\n",
              "      <th>1</th>\n",
              "      <td>2018</td>\n",
              "      <td>20180324HHWO0</td>\n",
              "      <td>180324_140514</td>\n",
              "      <td>76753</td>\n",
              "      <td>HH</td>\n",
              "      <td>1</td>\n",
              "      <td>135.18</td>\n",
              "      <td>9.9</td>\n",
              "      <td>1루타</td>\n",
              "      <td>148.78</td>\n",
              "      <td>고척</td>\n",
              "    </tr>\n",
              "    <tr>\n",
              "      <th>2</th>\n",
              "      <td>2018</td>\n",
              "      <td>20180324HHWO0</td>\n",
              "      <td>180324_140647</td>\n",
              "      <td>71752</td>\n",
              "      <td>HH</td>\n",
              "      <td>1</td>\n",
              "      <td>152.41</td>\n",
              "      <td>2.1</td>\n",
              "      <td>1루타</td>\n",
              "      <td>148.59</td>\n",
              "      <td>고척</td>\n",
              "    </tr>\n",
              "    <tr>\n",
              "      <th>3</th>\n",
              "      <td>2018</td>\n",
              "      <td>20180324HHWO0</td>\n",
              "      <td>180324_140911</td>\n",
              "      <td>62700</td>\n",
              "      <td>HH</td>\n",
              "      <td>1</td>\n",
              "      <td>113.72</td>\n",
              "      <td>13.5</td>\n",
              "      <td>1루타</td>\n",
              "      <td>139.13</td>\n",
              "      <td>고척</td>\n",
              "    </tr>\n",
              "    <tr>\n",
              "      <th>4</th>\n",
              "      <td>2018</td>\n",
              "      <td>20180324HHWO0</td>\n",
              "      <td>180324_142050</td>\n",
              "      <td>68730</td>\n",
              "      <td>HH</td>\n",
              "      <td>2</td>\n",
              "      <td>54.11</td>\n",
              "      <td>16.4</td>\n",
              "      <td>번트안타</td>\n",
              "      <td>134.07</td>\n",
              "      <td>고척</td>\n",
              "    </tr>\n",
              "  </tbody>\n",
              "</table>\n",
              "</div>"
            ],
            "text/plain": [
              "   GYEAR           G_ID         PIT_ID  ...  HIT_RESULT PIT_VEL  STADIUM\n",
              "0   2018  20180324HHWO0  180324_140436  ...         플라이  149.59       고척\n",
              "1   2018  20180324HHWO0  180324_140514  ...         1루타  148.78       고척\n",
              "2   2018  20180324HHWO0  180324_140647  ...         1루타  148.59       고척\n",
              "3   2018  20180324HHWO0  180324_140911  ...         1루타  139.13       고척\n",
              "4   2018  20180324HHWO0  180324_142050  ...        번트안타  134.07       고척\n",
              "\n",
              "[5 rows x 11 columns]"
            ]
          },
          "metadata": {},
          "execution_count": 4
        }
      ]
    },
    {
      "cell_type": "code",
      "metadata": {
        "colab": {
          "base_uri": "https://localhost:8080/",
          "height": 204
        },
        "id": "NSUArcX-9DWk",
        "outputId": "f4e50934-3d9d-4dfd-b50e-ba98fb6eedb9"
      },
      "source": [
        "Crawl_df.head()"
      ],
      "execution_count": null,
      "outputs": [
        {
          "output_type": "execute_result",
          "data": {
            "text/html": [
              "<div>\n",
              "<style scoped>\n",
              "    .dataframe tbody tr th:only-of-type {\n",
              "        vertical-align: middle;\n",
              "    }\n",
              "\n",
              "    .dataframe tbody tr th {\n",
              "        vertical-align: top;\n",
              "    }\n",
              "\n",
              "    .dataframe thead th {\n",
              "        text-align: right;\n",
              "    }\n",
              "</style>\n",
              "<table border=\"1\" class=\"dataframe\">\n",
              "  <thead>\n",
              "    <tr style=\"text-align: right;\">\n",
              "      <th></th>\n",
              "      <th>GYEAR</th>\n",
              "      <th>PCODE</th>\n",
              "      <th>NAME</th>\n",
              "      <th>T_ID</th>\n",
              "      <th>POSITION</th>\n",
              "      <th>day</th>\n",
              "      <th>vs</th>\n",
              "      <th>inn</th>\n",
              "      <th>pitcher</th>\n",
              "      <th>batter</th>\n",
              "      <th>P</th>\n",
              "      <th>result</th>\n",
              "      <th>before</th>\n",
              "      <th>after</th>\n",
              "      <th>LEV</th>\n",
              "      <th>REa</th>\n",
              "      <th>WPs</th>\n",
              "      <th>WPe</th>\n",
              "      <th>WPa</th>\n",
              "    </tr>\n",
              "  </thead>\n",
              "  <tbody>\n",
              "    <tr>\n",
              "      <th>0</th>\n",
              "      <td>2018</td>\n",
              "      <td>60100</td>\n",
              "      <td>백창수</td>\n",
              "      <td>HH</td>\n",
              "      <td>외</td>\n",
              "      <td>2018-03-27</td>\n",
              "      <td>NC</td>\n",
              "      <td>8초</td>\n",
              "      <td>이민호</td>\n",
              "      <td>백창수</td>\n",
              "      <td>1-0</td>\n",
              "      <td>유격수 땅볼</td>\n",
              "      <td>무사  6:9</td>\n",
              "      <td>1사  6:9</td>\n",
              "      <td>0.88</td>\n",
              "      <td>-0.258</td>\n",
              "      <td>93.100</td>\n",
              "      <td>95.3</td>\n",
              "      <td>-0.022</td>\n",
              "    </tr>\n",
              "    <tr>\n",
              "      <th>1</th>\n",
              "      <td>2018</td>\n",
              "      <td>60100</td>\n",
              "      <td>백창수</td>\n",
              "      <td>HH</td>\n",
              "      <td>외</td>\n",
              "      <td>2018-03-28</td>\n",
              "      <td>NC</td>\n",
              "      <td>2초</td>\n",
              "      <td>구창모</td>\n",
              "      <td>백창수</td>\n",
              "      <td>2-3</td>\n",
              "      <td>볼넷</td>\n",
              "      <td>2사 2루 0:2</td>\n",
              "      <td>2사 1,2루 0:2</td>\n",
              "      <td>1.10</td>\n",
              "      <td>0.122</td>\n",
              "      <td>71.900</td>\n",
              "      <td>70.7</td>\n",
              "      <td>0.012</td>\n",
              "    </tr>\n",
              "    <tr>\n",
              "      <th>2</th>\n",
              "      <td>2018</td>\n",
              "      <td>60100</td>\n",
              "      <td>백창수</td>\n",
              "      <td>HH</td>\n",
              "      <td>외</td>\n",
              "      <td>2018-03-28</td>\n",
              "      <td>NC</td>\n",
              "      <td>4초</td>\n",
              "      <td>구창모</td>\n",
              "      <td>백창수</td>\n",
              "      <td>0-0</td>\n",
              "      <td>3루수 땅볼</td>\n",
              "      <td>2사  1:2</td>\n",
              "      <td>이닝종료 1:2</td>\n",
              "      <td>0.51</td>\n",
              "      <td>-0.117</td>\n",
              "      <td>67.400</td>\n",
              "      <td>68.8</td>\n",
              "      <td>-0.013</td>\n",
              "    </tr>\n",
              "    <tr>\n",
              "      <th>3</th>\n",
              "      <td>2018</td>\n",
              "      <td>60100</td>\n",
              "      <td>백창수</td>\n",
              "      <td>HH</td>\n",
              "      <td>외</td>\n",
              "      <td>2018-03-28</td>\n",
              "      <td>NC</td>\n",
              "      <td>7초</td>\n",
              "      <td>유원상</td>\n",
              "      <td>백창수</td>\n",
              "      <td>2-3</td>\n",
              "      <td>유격수 땅볼 실책</td>\n",
              "      <td>[실책포함]</td>\n",
              "      <td>무사  2:2</td>\n",
              "      <td>무사 1루 2:2</td>\n",
              "      <td>1.540</td>\n",
              "      <td>0.398</td>\n",
              "      <td>50.0</td>\n",
              "      <td>44.100</td>\n",
              "    </tr>\n",
              "    <tr>\n",
              "      <th>4</th>\n",
              "      <td>2018</td>\n",
              "      <td>60100</td>\n",
              "      <td>백창수</td>\n",
              "      <td>HH</td>\n",
              "      <td>외</td>\n",
              "      <td>2018-03-30</td>\n",
              "      <td>SK</td>\n",
              "      <td>2말</td>\n",
              "      <td>김태훈</td>\n",
              "      <td>백창수</td>\n",
              "      <td>0-1</td>\n",
              "      <td>백창수/10473 : 2루수 직선타 아웃</td>\n",
              "      <td>1사 2,3루 1:1</td>\n",
              "      <td>2사 2,3루 1:1</td>\n",
              "      <td>1.57</td>\n",
              "      <td>-0.833</td>\n",
              "      <td>64.100</td>\n",
              "      <td>56.1</td>\n",
              "      <td>-0.080</td>\n",
              "    </tr>\n",
              "  </tbody>\n",
              "</table>\n",
              "</div>"
            ],
            "text/plain": [
              "   GYEAR  PCODE NAME T_ID POSITION  ...        LEV    REa     WPs   WPe     WPa\n",
              "0   2018  60100  백창수   HH        외  ...       0.88 -0.258  93.100  95.3  -0.022\n",
              "1   2018  60100  백창수   HH        외  ...       1.10  0.122  71.900  70.7   0.012\n",
              "2   2018  60100  백창수   HH        외  ...       0.51 -0.117  67.400  68.8  -0.013\n",
              "3   2018  60100  백창수   HH        외  ...  무사 1루 2:2  1.540   0.398  50.0  44.100\n",
              "4   2018  60100  백창수   HH        외  ...       1.57 -0.833  64.100  56.1  -0.080\n",
              "\n",
              "[5 rows x 19 columns]"
            ]
          },
          "metadata": {},
          "execution_count": 5
        }
      ]
    },
    {
      "cell_type": "markdown",
      "metadata": {
        "id": "gd-34xM0i8Rl"
      },
      "source": [
        "# DATE, INN 칼럼 추가 및 칼럼 정리"
      ]
    },
    {
      "cell_type": "code",
      "metadata": {
        "id": "44ClfjEVRqrm"
      },
      "source": [
        "HTS_df['DATE'] = HTS_df['G_ID'].apply(lambda x: int(x[:8]))\n",
        "Crawl_df['DATE'] = Crawl_df['day'].apply(lambda x: int(x.replace('-', '')))\n",
        "Crawl_df['INN'] = Crawl_df['inn'].apply(lambda x: int(x[0]) if len(x) == 2 else int(x[:2]))\n",
        "\n",
        "HTS_col = ['DATE', 'PCODE', 'INN', 'HIT_VEL', 'HIT_ANG_VER', 'HIT_RESULT', 'PIT_VEL', 'PIT_ID', 'G_ID']\n",
        "Crawl_col = ['DATE', 'PCODE', 'NAME', 'POSITION', 'INN', 'result', 'before', 'after', 'LEV', 'REa', 'WPs', 'WPe', 'WPa', 'P', 'pitcher', 'batter', 'vs']\n",
        "\n",
        "HTS_df = HTS_df[HTS_col]\n",
        "Crawl_df = Crawl_df[Crawl_col]"
      ],
      "execution_count": null,
      "outputs": []
    },
    {
      "cell_type": "code",
      "metadata": {
        "colab": {
          "base_uri": "https://localhost:8080/",
          "height": 204
        },
        "id": "HezOP5bVR6gl",
        "outputId": "0404c144-349b-4d4e-9b22-2c6983342ca8"
      },
      "source": [
        "HTS_df.head()"
      ],
      "execution_count": null,
      "outputs": [
        {
          "output_type": "execute_result",
          "data": {
            "text/html": [
              "<div>\n",
              "<style scoped>\n",
              "    .dataframe tbody tr th:only-of-type {\n",
              "        vertical-align: middle;\n",
              "    }\n",
              "\n",
              "    .dataframe tbody tr th {\n",
              "        vertical-align: top;\n",
              "    }\n",
              "\n",
              "    .dataframe thead th {\n",
              "        text-align: right;\n",
              "    }\n",
              "</style>\n",
              "<table border=\"1\" class=\"dataframe\">\n",
              "  <thead>\n",
              "    <tr style=\"text-align: right;\">\n",
              "      <th></th>\n",
              "      <th>DATE</th>\n",
              "      <th>PCODE</th>\n",
              "      <th>INN</th>\n",
              "      <th>HIT_VEL</th>\n",
              "      <th>HIT_ANG_VER</th>\n",
              "      <th>HIT_RESULT</th>\n",
              "      <th>PIT_VEL</th>\n",
              "      <th>PIT_ID</th>\n",
              "      <th>G_ID</th>\n",
              "    </tr>\n",
              "  </thead>\n",
              "  <tbody>\n",
              "    <tr>\n",
              "      <th>0</th>\n",
              "      <td>20180324</td>\n",
              "      <td>62797</td>\n",
              "      <td>1</td>\n",
              "      <td>131.50</td>\n",
              "      <td>42.7</td>\n",
              "      <td>플라이</td>\n",
              "      <td>149.59</td>\n",
              "      <td>180324_140436</td>\n",
              "      <td>20180324HHWO0</td>\n",
              "    </tr>\n",
              "    <tr>\n",
              "      <th>1</th>\n",
              "      <td>20180324</td>\n",
              "      <td>76753</td>\n",
              "      <td>1</td>\n",
              "      <td>135.18</td>\n",
              "      <td>9.9</td>\n",
              "      <td>1루타</td>\n",
              "      <td>148.78</td>\n",
              "      <td>180324_140514</td>\n",
              "      <td>20180324HHWO0</td>\n",
              "    </tr>\n",
              "    <tr>\n",
              "      <th>2</th>\n",
              "      <td>20180324</td>\n",
              "      <td>71752</td>\n",
              "      <td>1</td>\n",
              "      <td>152.41</td>\n",
              "      <td>2.1</td>\n",
              "      <td>1루타</td>\n",
              "      <td>148.59</td>\n",
              "      <td>180324_140647</td>\n",
              "      <td>20180324HHWO0</td>\n",
              "    </tr>\n",
              "    <tr>\n",
              "      <th>3</th>\n",
              "      <td>20180324</td>\n",
              "      <td>62700</td>\n",
              "      <td>1</td>\n",
              "      <td>113.72</td>\n",
              "      <td>13.5</td>\n",
              "      <td>1루타</td>\n",
              "      <td>139.13</td>\n",
              "      <td>180324_140911</td>\n",
              "      <td>20180324HHWO0</td>\n",
              "    </tr>\n",
              "    <tr>\n",
              "      <th>4</th>\n",
              "      <td>20180324</td>\n",
              "      <td>68730</td>\n",
              "      <td>2</td>\n",
              "      <td>54.11</td>\n",
              "      <td>16.4</td>\n",
              "      <td>번트안타</td>\n",
              "      <td>134.07</td>\n",
              "      <td>180324_142050</td>\n",
              "      <td>20180324HHWO0</td>\n",
              "    </tr>\n",
              "  </tbody>\n",
              "</table>\n",
              "</div>"
            ],
            "text/plain": [
              "       DATE  PCODE  INN  ...  PIT_VEL         PIT_ID           G_ID\n",
              "0  20180324  62797    1  ...   149.59  180324_140436  20180324HHWO0\n",
              "1  20180324  76753    1  ...   148.78  180324_140514  20180324HHWO0\n",
              "2  20180324  71752    1  ...   148.59  180324_140647  20180324HHWO0\n",
              "3  20180324  62700    1  ...   139.13  180324_140911  20180324HHWO0\n",
              "4  20180324  68730    2  ...   134.07  180324_142050  20180324HHWO0\n",
              "\n",
              "[5 rows x 9 columns]"
            ]
          },
          "metadata": {},
          "execution_count": 7
        }
      ]
    },
    {
      "cell_type": "code",
      "metadata": {
        "colab": {
          "base_uri": "https://localhost:8080/",
          "height": 204
        },
        "id": "nm01uzpYR8yF",
        "outputId": "829b3036-566a-4885-f118-e22584b0256e"
      },
      "source": [
        "Crawl_df.head()"
      ],
      "execution_count": null,
      "outputs": [
        {
          "output_type": "execute_result",
          "data": {
            "text/html": [
              "<div>\n",
              "<style scoped>\n",
              "    .dataframe tbody tr th:only-of-type {\n",
              "        vertical-align: middle;\n",
              "    }\n",
              "\n",
              "    .dataframe tbody tr th {\n",
              "        vertical-align: top;\n",
              "    }\n",
              "\n",
              "    .dataframe thead th {\n",
              "        text-align: right;\n",
              "    }\n",
              "</style>\n",
              "<table border=\"1\" class=\"dataframe\">\n",
              "  <thead>\n",
              "    <tr style=\"text-align: right;\">\n",
              "      <th></th>\n",
              "      <th>DATE</th>\n",
              "      <th>PCODE</th>\n",
              "      <th>NAME</th>\n",
              "      <th>POSITION</th>\n",
              "      <th>INN</th>\n",
              "      <th>result</th>\n",
              "      <th>before</th>\n",
              "      <th>after</th>\n",
              "      <th>LEV</th>\n",
              "      <th>REa</th>\n",
              "      <th>WPs</th>\n",
              "      <th>WPe</th>\n",
              "      <th>WPa</th>\n",
              "      <th>P</th>\n",
              "      <th>pitcher</th>\n",
              "      <th>batter</th>\n",
              "      <th>vs</th>\n",
              "    </tr>\n",
              "  </thead>\n",
              "  <tbody>\n",
              "    <tr>\n",
              "      <th>0</th>\n",
              "      <td>20180327</td>\n",
              "      <td>60100</td>\n",
              "      <td>백창수</td>\n",
              "      <td>외</td>\n",
              "      <td>8</td>\n",
              "      <td>유격수 땅볼</td>\n",
              "      <td>무사  6:9</td>\n",
              "      <td>1사  6:9</td>\n",
              "      <td>0.88</td>\n",
              "      <td>-0.258</td>\n",
              "      <td>93.100</td>\n",
              "      <td>95.3</td>\n",
              "      <td>-0.022</td>\n",
              "      <td>1-0</td>\n",
              "      <td>이민호</td>\n",
              "      <td>백창수</td>\n",
              "      <td>NC</td>\n",
              "    </tr>\n",
              "    <tr>\n",
              "      <th>1</th>\n",
              "      <td>20180328</td>\n",
              "      <td>60100</td>\n",
              "      <td>백창수</td>\n",
              "      <td>외</td>\n",
              "      <td>2</td>\n",
              "      <td>볼넷</td>\n",
              "      <td>2사 2루 0:2</td>\n",
              "      <td>2사 1,2루 0:2</td>\n",
              "      <td>1.10</td>\n",
              "      <td>0.122</td>\n",
              "      <td>71.900</td>\n",
              "      <td>70.7</td>\n",
              "      <td>0.012</td>\n",
              "      <td>2-3</td>\n",
              "      <td>구창모</td>\n",
              "      <td>백창수</td>\n",
              "      <td>NC</td>\n",
              "    </tr>\n",
              "    <tr>\n",
              "      <th>2</th>\n",
              "      <td>20180328</td>\n",
              "      <td>60100</td>\n",
              "      <td>백창수</td>\n",
              "      <td>외</td>\n",
              "      <td>4</td>\n",
              "      <td>3루수 땅볼</td>\n",
              "      <td>2사  1:2</td>\n",
              "      <td>이닝종료 1:2</td>\n",
              "      <td>0.51</td>\n",
              "      <td>-0.117</td>\n",
              "      <td>67.400</td>\n",
              "      <td>68.8</td>\n",
              "      <td>-0.013</td>\n",
              "      <td>0-0</td>\n",
              "      <td>구창모</td>\n",
              "      <td>백창수</td>\n",
              "      <td>NC</td>\n",
              "    </tr>\n",
              "    <tr>\n",
              "      <th>3</th>\n",
              "      <td>20180328</td>\n",
              "      <td>60100</td>\n",
              "      <td>백창수</td>\n",
              "      <td>외</td>\n",
              "      <td>7</td>\n",
              "      <td>유격수 땅볼 실책</td>\n",
              "      <td>[실책포함]</td>\n",
              "      <td>무사  2:2</td>\n",
              "      <td>무사 1루 2:2</td>\n",
              "      <td>1.540</td>\n",
              "      <td>0.398</td>\n",
              "      <td>50.0</td>\n",
              "      <td>44.100</td>\n",
              "      <td>2-3</td>\n",
              "      <td>유원상</td>\n",
              "      <td>백창수</td>\n",
              "      <td>NC</td>\n",
              "    </tr>\n",
              "    <tr>\n",
              "      <th>4</th>\n",
              "      <td>20180330</td>\n",
              "      <td>60100</td>\n",
              "      <td>백창수</td>\n",
              "      <td>외</td>\n",
              "      <td>2</td>\n",
              "      <td>백창수/10473 : 2루수 직선타 아웃</td>\n",
              "      <td>1사 2,3루 1:1</td>\n",
              "      <td>2사 2,3루 1:1</td>\n",
              "      <td>1.57</td>\n",
              "      <td>-0.833</td>\n",
              "      <td>64.100</td>\n",
              "      <td>56.1</td>\n",
              "      <td>-0.080</td>\n",
              "      <td>0-1</td>\n",
              "      <td>김태훈</td>\n",
              "      <td>백창수</td>\n",
              "      <td>SK</td>\n",
              "    </tr>\n",
              "  </tbody>\n",
              "</table>\n",
              "</div>"
            ],
            "text/plain": [
              "       DATE  PCODE NAME POSITION  INN  ...     WPa    P pitcher batter  vs\n",
              "0  20180327  60100  백창수        외    8  ...  -0.022  1-0     이민호    백창수  NC\n",
              "1  20180328  60100  백창수        외    2  ...   0.012  2-3     구창모    백창수  NC\n",
              "2  20180328  60100  백창수        외    4  ...  -0.013  0-0     구창모    백창수  NC\n",
              "3  20180328  60100  백창수        외    7  ...  44.100  2-3     유원상    백창수  NC\n",
              "4  20180330  60100  백창수        외    2  ...  -0.080  0-1     김태훈    백창수  SK\n",
              "\n",
              "[5 rows x 17 columns]"
            ]
          },
          "metadata": {},
          "execution_count": 8
        }
      ]
    },
    {
      "cell_type": "markdown",
      "metadata": {
        "id": "jP2ikNDJnD32"
      },
      "source": [
        "# RESULT 통일"
      ]
    },
    {
      "cell_type": "code",
      "metadata": {
        "colab": {
          "base_uri": "https://localhost:8080/"
        },
        "id": "LGhWX4cr-RI_",
        "outputId": "61441a6b-7044-4e5b-a077-d80bd6d4aeaa"
      },
      "source": [
        "HTS_df['HIT_RESULT'].value_counts()"
      ],
      "execution_count": null,
      "outputs": [
        {
          "output_type": "execute_result",
          "data": {
            "text/plain": [
              "플라이          36540\n",
              "1루타          29235\n",
              "땅볼아웃         26507\n",
              "2루타           8146\n",
              "홈런            4732\n",
              "파울플라이         4097\n",
              "직선타           3602\n",
              "병살타           3085\n",
              "내야안타(1루타)     1810\n",
              "희생플라이         1603\n",
              "3루타            672\n",
              "인필드플라이         331\n",
              "희생번트           239\n",
              "야수선택            52\n",
              "번트안타            48\n",
              "번트아웃            44\n",
              "삼중살타             2\n",
              "Name: HIT_RESULT, dtype: int64"
            ]
          },
          "metadata": {},
          "execution_count": 9
        }
      ]
    },
    {
      "cell_type": "code",
      "metadata": {
        "colab": {
          "base_uri": "https://localhost:8080/"
        },
        "id": "8qpxoQQh-yF4",
        "outputId": "0bbb3620-2124-43a7-c2b0-a38b841c283f"
      },
      "source": [
        "Crawl_df['result'].value_counts()"
      ],
      "execution_count": null,
      "outputs": [
        {
          "output_type": "execute_result",
          "data": {
            "text/plain": [
              "볼넷                        18086\n",
              "중견수 뜬공                    11866\n",
              "2루수 땅볼                    11617\n",
              "유격수 땅볼                    11404\n",
              "중견수 안타                    11058\n",
              "                          ...  \n",
              "이대호/10251 : 투수 직선타 아웃         1\n",
              "박정권/10096 : 유격수 직선타 아웃        1\n",
              "오윤석/11397 : 중견수 직선타 아웃        1\n",
              "박기혁/10241 : 우익수 직선타 아웃        1\n",
              "김재현/10111 : 쓰리번트 아웃           1\n",
              "Name: result, Length: 1990, dtype: int64"
            ]
          },
          "metadata": {},
          "execution_count": 10
        }
      ]
    },
    {
      "cell_type": "code",
      "metadata": {
        "id": "adkrl-MIq1Bu"
      },
      "source": [
        "delete_list = ['볼넷', '삼진', '몸에 맞는 볼', '고의4구', '스트라이크낫아웃 출루', '타구맞음', '타격방해', '[실책포함]']\n",
        "\n",
        "HTS_df_clean = HTS_df[HTS_df['HIT_RESULT'].str.contains('번트') == False]\n",
        "HTS_df_clean = HTS_df_clean[HTS_df_clean['HIT_RESULT'].str.contains('야수선택') == False]\n",
        "\n",
        "Crawl_df_clean = Crawl_df[Crawl_df['result'].str.contains('번트') == False]\n",
        "Crawl_df_clean = Crawl_df_clean[Crawl_df_clean['result'].str.contains('야수선택') == False]\n",
        "Crawl_df_clean = Crawl_df_clean[Crawl_df_clean['result'].isin(delete_list) == False]\n",
        "Crawl_df_clean = Crawl_df_clean[Crawl_df_clean['result'].str.contains('삼진') == False]\n",
        "\n",
        "cd_result = Crawl_df_clean['result'].apply(lambda x : x.split(':')[1].strip() if len(x.split(':'))==2 else x.strip())\n",
        "cd_result = cd_result.apply(lambda x : re.sub('1루수|2루수|3루수|유격수|포수|우익수|중견수|좌익수|투수', \"\", x).strip())\n",
        "Crawl_df_clean.loc[:,['result']] = cd_result"
      ],
      "execution_count": null,
      "outputs": []
    },
    {
      "cell_type": "code",
      "metadata": {
        "colab": {
          "base_uri": "https://localhost:8080/"
        },
        "id": "JhblQ6nMsq9B",
        "outputId": "51f6afd5-4dc6-4120-b14e-6566889c29ef"
      },
      "source": [
        "ground_list = ['땅볼아웃', '병살타', '삼중살타']\n",
        "fly_list = ['플라이', '파울플라이', '희생플라이', '인필드플라이']\n",
        "\n",
        "HTS_df_clean['RESULT_MG'] = HTS_df_clean['HIT_RESULT'].apply(lambda x: '땅볼' if x in ground_list else x)\n",
        "HTS_df_clean['RESULT_MG'] = HTS_df_clean['RESULT_MG'].apply(lambda x: '플라이' if x in fly_list else x)\n",
        "HTS_df_clean['RESULT_MG'] = HTS_df_clean['RESULT_MG'].apply(lambda x: '내야안타' if x == '내야안타(1루타)' else x)\n",
        "\n",
        "HTS_df_clean['RESULT_MG'].value_counts()"
      ],
      "execution_count": null,
      "outputs": [
        {
          "output_type": "execute_result",
          "data": {
            "text/plain": [
              "플라이     42571\n",
              "땅볼      29594\n",
              "1루타     29235\n",
              "2루타      8146\n",
              "홈런       4732\n",
              "직선타      3602\n",
              "내야안타     1810\n",
              "3루타       672\n",
              "Name: RESULT_MG, dtype: int64"
            ]
          },
          "metadata": {},
          "execution_count": 12
        }
      ]
    },
    {
      "cell_type": "code",
      "metadata": {
        "colab": {
          "base_uri": "https://localhost:8080/"
        },
        "id": "5Zq4YX8VtYCd",
        "outputId": "3a8109b8-a397-43d9-bb1b-5612a1794ae6"
      },
      "source": [
        "ground_list = ['땅볼', '병살타', '땅볼 실책', '병살타 실책', '삼중살']\n",
        "fly_list = ['뜬공', '파울 뜬공', '희생플라이', '인필드 뜬공', '플라이 실책', '희생플라이 실책']\n",
        "\n",
        "Crawl_df_clean['RESULT_MG'] = Crawl_df_clean['result'].apply(lambda x: '땅볼' if x in ground_list else x)\n",
        "Crawl_df_clean['RESULT_MG'] = Crawl_df_clean['RESULT_MG'].apply(lambda x: '플라이' if x in fly_list else x)\n",
        "Crawl_df_clean['RESULT_MG'] = Crawl_df_clean['RESULT_MG'].apply(lambda x: '1루타' if x == '안타' else x)\n",
        "Crawl_df_clean['RESULT_MG'] = Crawl_df_clean['RESULT_MG'].apply(lambda x: '홈런' if x == '그라운드 홈런' else x)\n",
        "Crawl_df_clean['RESULT_MG'] = Crawl_df_clean['RESULT_MG'].apply(lambda x: '직선타' if '직선타' in x else x)\n",
        "\n",
        "Crawl_df_clean['RESULT_MG'].value_counts()"
      ],
      "execution_count": null,
      "outputs": [
        {
          "output_type": "execute_result",
          "data": {
            "text/plain": [
              "땅볼      46972\n",
              "플라이     44918\n",
              "1루타     31498\n",
              "2루타      8683\n",
              "홈런       4956\n",
              "직선타      3865\n",
              "내야안타     3159\n",
              "3루타       701\n",
              "Name: RESULT_MG, dtype: int64"
            ]
          },
          "metadata": {},
          "execution_count": 13
        }
      ]
    },
    {
      "cell_type": "markdown",
      "metadata": {
        "id": "81x28KntjAKV"
      },
      "source": [
        "# 에러 검사"
      ]
    },
    {
      "cell_type": "code",
      "metadata": {
        "colab": {
          "base_uri": "https://localhost:8080/"
        },
        "id": "eyHGzxpFR92C",
        "outputId": "90b548e6-7d89-4d1b-fe0f-b891f32ec20d"
      },
      "source": [
        "tmp = HTS_df.drop_duplicates(['PCODE'], keep='first')['PCODE'].reset_index(drop=True).to_list()\n",
        "tmp2 = Crawl_df.drop_duplicates(['PCODE'], keep='first')['PCODE'].reset_index(drop=True).to_list()\n",
        "\n",
        "tmp3 = []\n",
        "for i in tmp2:\n",
        "    if i not in tmp:\n",
        "        tmp3.append(i)\n",
        "\n",
        "pitcher_sel_idx = []\n",
        "for i in range(len(Crawl_df)):\n",
        "    if Crawl_df['batter'][i] != Crawl_df['NAME'][i]:\n",
        "        pitcher_sel_idx.append(i)\n",
        "\n",
        "tmp4 = []\n",
        "for i in tmp:\n",
        "    if i not in tmp2:\n",
        "        tmp4.append(i)\n",
        "\n",
        "print('크롤링데이터에는 있고, HTS데이터에는 없는 PCODE: {}개\\n크롤링데이터에는 없고, HTS데이터에는 있는 PCODE: {}개\\nbatter이름이 최종 선택되지 않은 row: {}개'.format(len(tmp3), len(tmp4), len(pitcher_sel_idx)))\n",
        "\n",
        "tmp5 = Player_df[Player_df['PCODE'].isin(tmp4)].drop_duplicates(['PCODE'], keep='first').reset_index(drop=True)\n",
        "except_pcode = list(tmp5.PCODE)\n",
        "\n",
        "print('\\n크롤링데이터에 없고, HTS데이터에만 있는 PCODE 리스트 : {}'.format(except_pcode))\n",
        "\n",
        "del tmp, tmp2, tmp3, tmp4, tmp5"
      ],
      "execution_count": null,
      "outputs": [
        {
          "output_type": "stream",
          "text": [
            "크롤링데이터에는 있고, HTS데이터에는 없는 PCODE: 13개\n",
            "크롤링데이터에는 없고, HTS데이터에는 있는 PCODE: 4개\n",
            "batter이름이 최종 선택되지 않은 row: 0개\n",
            "\n",
            "크롤링데이터에 없고, HTS데이터에만 있는 PCODE 리스트 : [64944, 67539, 77462, 63636]\n"
          ],
          "name": "stdout"
        }
      ]
    },
    {
      "cell_type": "code",
      "metadata": {
        "colab": {
          "base_uri": "https://localhost:8080/",
          "height": 297
        },
        "id": "66Jh3bGx_xgP",
        "outputId": "0768ecc4-ca69-4efb-fe27-66e2df8e487a"
      },
      "source": [
        "Player_df[Player_df['PCODE'].isin(except_pcode)]"
      ],
      "execution_count": null,
      "outputs": [
        {
          "output_type": "execute_result",
          "data": {
            "text/html": [
              "<div>\n",
              "<style scoped>\n",
              "    .dataframe tbody tr th:only-of-type {\n",
              "        vertical-align: middle;\n",
              "    }\n",
              "\n",
              "    .dataframe tbody tr th {\n",
              "        vertical-align: top;\n",
              "    }\n",
              "\n",
              "    .dataframe thead th {\n",
              "        text-align: right;\n",
              "    }\n",
              "</style>\n",
              "<table border=\"1\" class=\"dataframe\">\n",
              "  <thead>\n",
              "    <tr style=\"text-align: right;\">\n",
              "      <th></th>\n",
              "      <th>GYEAR</th>\n",
              "      <th>PCODE</th>\n",
              "      <th>NAME</th>\n",
              "      <th>T_ID</th>\n",
              "      <th>POSITION</th>\n",
              "      <th>AGE_VA</th>\n",
              "      <th>MONEY</th>\n",
              "    </tr>\n",
              "  </thead>\n",
              "  <tbody>\n",
              "    <tr>\n",
              "      <th>214</th>\n",
              "      <td>2018</td>\n",
              "      <td>64944</td>\n",
              "      <td>박광열</td>\n",
              "      <td>NC</td>\n",
              "      <td>포</td>\n",
              "      <td>22</td>\n",
              "      <td>3600만원</td>\n",
              "    </tr>\n",
              "    <tr>\n",
              "      <th>343</th>\n",
              "      <td>2018</td>\n",
              "      <td>67539</td>\n",
              "      <td>나종덕</td>\n",
              "      <td>LT</td>\n",
              "      <td>포</td>\n",
              "      <td>20</td>\n",
              "      <td>2800만원</td>\n",
              "    </tr>\n",
              "    <tr>\n",
              "      <th>571</th>\n",
              "      <td>2018</td>\n",
              "      <td>77462</td>\n",
              "      <td>김동욱</td>\n",
              "      <td>KT</td>\n",
              "      <td>내</td>\n",
              "      <td>30</td>\n",
              "      <td>4000만원</td>\n",
              "    </tr>\n",
              "    <tr>\n",
              "      <th>133</th>\n",
              "      <td>2019</td>\n",
              "      <td>63636</td>\n",
              "      <td>고장혁</td>\n",
              "      <td>HT</td>\n",
              "      <td>내</td>\n",
              "      <td>29</td>\n",
              "      <td>5000만원</td>\n",
              "    </tr>\n",
              "    <tr>\n",
              "      <th>329</th>\n",
              "      <td>2019</td>\n",
              "      <td>67539</td>\n",
              "      <td>나종덕</td>\n",
              "      <td>LT</td>\n",
              "      <td>포</td>\n",
              "      <td>21</td>\n",
              "      <td>4300만원</td>\n",
              "    </tr>\n",
              "    <tr>\n",
              "      <th>197</th>\n",
              "      <td>2020</td>\n",
              "      <td>63636</td>\n",
              "      <td>고장혁</td>\n",
              "      <td>HT</td>\n",
              "      <td>내</td>\n",
              "      <td>30</td>\n",
              "      <td>5000만원</td>\n",
              "    </tr>\n",
              "    <tr>\n",
              "      <th>416</th>\n",
              "      <td>2020</td>\n",
              "      <td>67539</td>\n",
              "      <td>나균안</td>\n",
              "      <td>LT</td>\n",
              "      <td>투</td>\n",
              "      <td>22</td>\n",
              "      <td>4300만원</td>\n",
              "    </tr>\n",
              "    <tr>\n",
              "      <th>437</th>\n",
              "      <td>2021</td>\n",
              "      <td>67539</td>\n",
              "      <td>나균안</td>\n",
              "      <td>LT</td>\n",
              "      <td>투</td>\n",
              "      <td>23</td>\n",
              "      <td>4300만원</td>\n",
              "    </tr>\n",
              "  </tbody>\n",
              "</table>\n",
              "</div>"
            ],
            "text/plain": [
              "     GYEAR  PCODE NAME T_ID POSITION  AGE_VA   MONEY\n",
              "214   2018  64944  박광열   NC        포      22  3600만원\n",
              "343   2018  67539  나종덕   LT        포      20  2800만원\n",
              "571   2018  77462  김동욱   KT        내      30  4000만원\n",
              "133   2019  63636  고장혁   HT        내      29  5000만원\n",
              "329   2019  67539  나종덕   LT        포      21  4300만원\n",
              "197   2020  63636  고장혁   HT        내      30  5000만원\n",
              "416   2020  67539  나균안   LT        투      22  4300만원\n",
              "437   2021  67539  나균안   LT        투      23  4300만원"
            ]
          },
          "metadata": {},
          "execution_count": 15
        }
      ]
    },
    {
      "cell_type": "code",
      "metadata": {
        "colab": {
          "base_uri": "https://localhost:8080/"
        },
        "id": "bNkbzbKrSb74",
        "outputId": "186564b1-7ca3-41fb-f21f-a1cde147fcca"
      },
      "source": [
        "origin_len = len(HTS_df_clean)\n",
        "\n",
        "HTS_df_clean = HTS_df_clean[HTS_df_clean['PCODE'].isin(except_pcode) == False].reset_index(drop=True)\n",
        "print('삭제된 row 개수 : {}개'.format(origin_len - len(HTS_df_clean)))"
      ],
      "execution_count": null,
      "outputs": [
        {
          "output_type": "stream",
          "text": [
            "삭제된 row 개수 : 206개\n"
          ],
          "name": "stdout"
        }
      ]
    },
    {
      "cell_type": "code",
      "metadata": {
        "colab": {
          "base_uri": "https://localhost:8080/"
        },
        "id": "ST0Xd3vlDBKG",
        "outputId": "c333ac0f-8947-4bc2-d2de-aa47d7bec799"
      },
      "source": [
        "len(HTS_df_clean), len(Crawl_df_clean)"
      ],
      "execution_count": null,
      "outputs": [
        {
          "output_type": "execute_result",
          "data": {
            "text/plain": [
              "(120156, 144752)"
            ]
          },
          "metadata": {},
          "execution_count": 17
        }
      ]
    },
    {
      "cell_type": "markdown",
      "metadata": {
        "id": "q4VUADdtjIz8"
      },
      "source": [
        "# 중복 데이터 순서칼럼 추가"
      ]
    },
    {
      "cell_type": "code",
      "metadata": {
        "id": "MVCtqzHaEECF"
      },
      "source": [
        "HTS_dup = HTS_df_clean[HTS_df_clean.duplicated(['DATE', 'INN', 'PCODE', 'RESULT_MG', 'G_ID'], keep=False)].sort_values(['DATE', 'PCODE', 'PIT_ID'])\n",
        "HTS_dup_idx = HTS_dup.index\n",
        "\n",
        "HTS_order_list = [1,2] * int(len(HTS_dup)/2)\n",
        "HTS_dup['order'] = HTS_order_list\n",
        "\n",
        "zero = np.zeros(len(HTS_df_clean))\n",
        "HTS_df_clean['order'] = zero\n",
        "\n",
        "for i in range(len(HTS_dup)):\n",
        "    idx = HTS_dup_idx[i]\n",
        "    HTS_df_clean.loc[idx, 'order'] = HTS_order_list[i]"
      ],
      "execution_count": null,
      "outputs": []
    },
    {
      "cell_type": "code",
      "metadata": {
        "id": "elejWYxjENQL"
      },
      "source": [
        "Crawl_dup = Crawl_df_clean[Crawl_df_clean.duplicated(['DATE', 'INN', 'PCODE', 'RESULT_MG'], keep=False)].sort_values(['DATE', 'PCODE'])\n",
        "Crawl_dup_idx = Crawl_dup.index\n",
        "\n",
        "Crawl_order_list = [1,2] * int(len(Crawl_dup)/2)\n",
        "Crawl_dup['order'] = Crawl_order_list\n",
        "\n",
        "zero = np.zeros(len(Crawl_df_clean))\n",
        "Crawl_df_clean['order'] = zero\n",
        "\n",
        "for i in range(len(Crawl_dup)):\n",
        "    idx = Crawl_dup_idx[i]\n",
        "    Crawl_df_clean.loc[idx, 'order'] = Crawl_order_list[i]"
      ],
      "execution_count": null,
      "outputs": []
    },
    {
      "cell_type": "code",
      "metadata": {
        "id": "P1_O63vUYRjd"
      },
      "source": [
        "test_df = pd.merge(HTS_df_clean, Crawl_df_clean, how='left', on=['DATE', 'INN', 'PCODE', 'RESULT_MG', 'order'])"
      ],
      "execution_count": null,
      "outputs": []
    },
    {
      "cell_type": "code",
      "metadata": {
        "colab": {
          "base_uri": "https://localhost:8080/",
          "height": 360
        },
        "id": "LAGO4dS8Y9yr",
        "outputId": "1e31c6e6-c200-4e6f-c112-898768e9b5b4"
      },
      "source": [
        "test_df.head()"
      ],
      "execution_count": null,
      "outputs": [
        {
          "output_type": "execute_result",
          "data": {
            "text/html": [
              "<div>\n",
              "<style scoped>\n",
              "    .dataframe tbody tr th:only-of-type {\n",
              "        vertical-align: middle;\n",
              "    }\n",
              "\n",
              "    .dataframe tbody tr th {\n",
              "        vertical-align: top;\n",
              "    }\n",
              "\n",
              "    .dataframe thead th {\n",
              "        text-align: right;\n",
              "    }\n",
              "</style>\n",
              "<table border=\"1\" class=\"dataframe\">\n",
              "  <thead>\n",
              "    <tr style=\"text-align: right;\">\n",
              "      <th></th>\n",
              "      <th>DATE</th>\n",
              "      <th>PCODE</th>\n",
              "      <th>INN</th>\n",
              "      <th>HIT_VEL</th>\n",
              "      <th>HIT_ANG_VER</th>\n",
              "      <th>HIT_RESULT</th>\n",
              "      <th>PIT_VEL</th>\n",
              "      <th>PIT_ID</th>\n",
              "      <th>G_ID</th>\n",
              "      <th>RESULT_MG</th>\n",
              "      <th>order</th>\n",
              "      <th>NAME</th>\n",
              "      <th>POSITION</th>\n",
              "      <th>result</th>\n",
              "      <th>before</th>\n",
              "      <th>after</th>\n",
              "      <th>LEV</th>\n",
              "      <th>REa</th>\n",
              "      <th>WPs</th>\n",
              "      <th>WPe</th>\n",
              "      <th>WPa</th>\n",
              "      <th>P</th>\n",
              "      <th>pitcher</th>\n",
              "      <th>batter</th>\n",
              "      <th>vs</th>\n",
              "    </tr>\n",
              "  </thead>\n",
              "  <tbody>\n",
              "    <tr>\n",
              "      <th>0</th>\n",
              "      <td>20180324</td>\n",
              "      <td>62797</td>\n",
              "      <td>1</td>\n",
              "      <td>131.50</td>\n",
              "      <td>42.7</td>\n",
              "      <td>플라이</td>\n",
              "      <td>149.59</td>\n",
              "      <td>180324_140436</td>\n",
              "      <td>20180324HHWO0</td>\n",
              "      <td>플라이</td>\n",
              "      <td>0.0</td>\n",
              "      <td>양성우</td>\n",
              "      <td>외</td>\n",
              "      <td>뜬공</td>\n",
              "      <td>1사  0:0</td>\n",
              "      <td>2사  0:0</td>\n",
              "      <td>0.62</td>\n",
              "      <td>-0.180</td>\n",
              "      <td>52.2</td>\n",
              "      <td>53.8</td>\n",
              "      <td>-0.016</td>\n",
              "      <td>1-2</td>\n",
              "      <td>로저스</td>\n",
              "      <td>양성우</td>\n",
              "      <td>넥센</td>\n",
              "    </tr>\n",
              "    <tr>\n",
              "      <th>1</th>\n",
              "      <td>20180324</td>\n",
              "      <td>76753</td>\n",
              "      <td>1</td>\n",
              "      <td>135.18</td>\n",
              "      <td>9.9</td>\n",
              "      <td>1루타</td>\n",
              "      <td>148.78</td>\n",
              "      <td>180324_140514</td>\n",
              "      <td>20180324HHWO0</td>\n",
              "      <td>1루타</td>\n",
              "      <td>0.0</td>\n",
              "      <td>송광민</td>\n",
              "      <td>내</td>\n",
              "      <td>안타</td>\n",
              "      <td>2사  0:0</td>\n",
              "      <td>2사 1루 0:0</td>\n",
              "      <td>0.40</td>\n",
              "      <td>0.134</td>\n",
              "      <td>53.8</td>\n",
              "      <td>52.6</td>\n",
              "      <td>0.012</td>\n",
              "      <td>0-0</td>\n",
              "      <td>로저스</td>\n",
              "      <td>송광민</td>\n",
              "      <td>넥센</td>\n",
              "    </tr>\n",
              "    <tr>\n",
              "      <th>2</th>\n",
              "      <td>20180324</td>\n",
              "      <td>71752</td>\n",
              "      <td>1</td>\n",
              "      <td>152.41</td>\n",
              "      <td>2.1</td>\n",
              "      <td>1루타</td>\n",
              "      <td>148.59</td>\n",
              "      <td>180324_140647</td>\n",
              "      <td>20180324HHWO0</td>\n",
              "      <td>1루타</td>\n",
              "      <td>0.0</td>\n",
              "      <td>김태균</td>\n",
              "      <td>내</td>\n",
              "      <td>안타</td>\n",
              "      <td>2사 1루 0:0</td>\n",
              "      <td>2사 1,2루 0:0</td>\n",
              "      <td>0.79</td>\n",
              "      <td>0.215</td>\n",
              "      <td>52.6</td>\n",
              "      <td>50.6</td>\n",
              "      <td>0.020</td>\n",
              "      <td>0-2</td>\n",
              "      <td>로저스</td>\n",
              "      <td>김태균</td>\n",
              "      <td>넥센</td>\n",
              "    </tr>\n",
              "    <tr>\n",
              "      <th>3</th>\n",
              "      <td>20180324</td>\n",
              "      <td>62700</td>\n",
              "      <td>1</td>\n",
              "      <td>113.72</td>\n",
              "      <td>13.5</td>\n",
              "      <td>1루타</td>\n",
              "      <td>139.13</td>\n",
              "      <td>180324_140911</td>\n",
              "      <td>20180324HHWO0</td>\n",
              "      <td>1루타</td>\n",
              "      <td>0.0</td>\n",
              "      <td>하주석</td>\n",
              "      <td>내</td>\n",
              "      <td>안타</td>\n",
              "      <td>2사 1,2루 0:0</td>\n",
              "      <td>2사 1,2루 1:0</td>\n",
              "      <td>1.62</td>\n",
              "      <td>1.000</td>\n",
              "      <td>50.6</td>\n",
              "      <td>40.7</td>\n",
              "      <td>0.099</td>\n",
              "      <td>2-1</td>\n",
              "      <td>로저스</td>\n",
              "      <td>하주석</td>\n",
              "      <td>넥센</td>\n",
              "    </tr>\n",
              "    <tr>\n",
              "      <th>4</th>\n",
              "      <td>20180324</td>\n",
              "      <td>78288</td>\n",
              "      <td>2</td>\n",
              "      <td>161.90</td>\n",
              "      <td>3.5</td>\n",
              "      <td>1루타</td>\n",
              "      <td>145.75</td>\n",
              "      <td>180324_142310</td>\n",
              "      <td>20180324HHWO0</td>\n",
              "      <td>1루타</td>\n",
              "      <td>0.0</td>\n",
              "      <td>최재훈</td>\n",
              "      <td>포</td>\n",
              "      <td>안타</td>\n",
              "      <td>무사 2루 1:0</td>\n",
              "      <td>무사 1,3루 1:0</td>\n",
              "      <td>1.13</td>\n",
              "      <td>0.715</td>\n",
              "      <td>33.8</td>\n",
              "      <td>27.9</td>\n",
              "      <td>0.059</td>\n",
              "      <td>0-2</td>\n",
              "      <td>로저스</td>\n",
              "      <td>최재훈</td>\n",
              "      <td>넥센</td>\n",
              "    </tr>\n",
              "  </tbody>\n",
              "</table>\n",
              "</div>"
            ],
            "text/plain": [
              "       DATE  PCODE  INN  HIT_VEL  HIT_ANG_VER  ...    WPa    P pitcher batter  vs\n",
              "0  20180324  62797    1   131.50         42.7  ... -0.016  1-2     로저스    양성우  넥센\n",
              "1  20180324  76753    1   135.18          9.9  ...  0.012  0-0     로저스    송광민  넥센\n",
              "2  20180324  71752    1   152.41          2.1  ...  0.020  0-2     로저스    김태균  넥센\n",
              "3  20180324  62700    1   113.72         13.5  ...  0.099  2-1     로저스    하주석  넥센\n",
              "4  20180324  78288    2   161.90          3.5  ...  0.059  0-2     로저스    최재훈  넥센\n",
              "\n",
              "[5 rows x 25 columns]"
            ]
          },
          "metadata": {},
          "execution_count": 21
        }
      ]
    },
    {
      "cell_type": "markdown",
      "metadata": {
        "id": "ewHLL7KfjSmR"
      },
      "source": [
        "# 결측값 찾기"
      ]
    },
    {
      "cell_type": "code",
      "metadata": {
        "colab": {
          "base_uri": "https://localhost:8080/"
        },
        "id": "g_nTd7mxxP8O",
        "outputId": "317d03d6-bb9d-4409-de45-029d2107e841"
      },
      "source": [
        "test_df.info()"
      ],
      "execution_count": null,
      "outputs": [
        {
          "output_type": "stream",
          "text": [
            "<class 'pandas.core.frame.DataFrame'>\n",
            "Int64Index: 120156 entries, 0 to 120155\n",
            "Data columns (total 25 columns):\n",
            " #   Column       Non-Null Count   Dtype  \n",
            "---  ------       --------------   -----  \n",
            " 0   DATE         120156 non-null  int64  \n",
            " 1   PCODE        120156 non-null  int64  \n",
            " 2   INN          120156 non-null  int64  \n",
            " 3   HIT_VEL      120156 non-null  float64\n",
            " 4   HIT_ANG_VER  120156 non-null  float64\n",
            " 5   HIT_RESULT   120156 non-null  object \n",
            " 6   PIT_VEL      120156 non-null  float64\n",
            " 7   PIT_ID       120156 non-null  object \n",
            " 8   G_ID         120156 non-null  object \n",
            " 9   RESULT_MG    120156 non-null  object \n",
            " 10  order        120156 non-null  float64\n",
            " 11  NAME         119504 non-null  object \n",
            " 12  POSITION     119504 non-null  object \n",
            " 13  result       119504 non-null  object \n",
            " 14  before       119504 non-null  object \n",
            " 15  after        119504 non-null  object \n",
            " 16  LEV          119504 non-null  object \n",
            " 17  REa          119504 non-null  float64\n",
            " 18  WPs          119504 non-null  float64\n",
            " 19  WPe          119504 non-null  float64\n",
            " 20  WPa          119504 non-null  float64\n",
            " 21  P            119504 non-null  object \n",
            " 22  pitcher      119504 non-null  object \n",
            " 23  batter       119504 non-null  object \n",
            " 24  vs           119504 non-null  object \n",
            "dtypes: float64(8), int64(3), object(14)\n",
            "memory usage: 23.8+ MB\n"
          ],
          "name": "stdout"
        }
      ]
    },
    {
      "cell_type": "code",
      "metadata": {
        "id": "SjT5zkgmY-ew"
      },
      "source": [
        "notnull_df = test_df[test_df['P'].isnull() == False].reset_index(drop=True)\n",
        "null_df = test_df[test_df['P'].isnull()].reset_index(drop=True)"
      ],
      "execution_count": null,
      "outputs": []
    },
    {
      "cell_type": "code",
      "metadata": {
        "colab": {
          "base_uri": "https://localhost:8080/"
        },
        "id": "ezbBW9Ueen8t",
        "outputId": "d08daabb-0b03-4a71-dd26-8d0dbe139169"
      },
      "source": [
        "null_df.PCODE.value_counts()\n",
        "\n",
        "# 스탯티즈 및 HTS 누락 데이터 -> 삭제"
      ],
      "execution_count": null,
      "outputs": [
        {
          "output_type": "execute_result",
          "data": {
            "text/plain": [
              "60558    220\n",
              "62537     44\n",
              "67304     10\n",
              "62415     10\n",
              "76267      9\n",
              "        ... \n",
              "63088      1\n",
              "64153      1\n",
              "66203      1\n",
              "66710      1\n",
              "73213      1\n",
              "Name: PCODE, Length: 151, dtype: int64"
            ]
          },
          "metadata": {},
          "execution_count": 24
        }
      ]
    },
    {
      "cell_type": "markdown",
      "metadata": {
        "id": "Eh0mvAG-ZDBS"
      },
      "source": [
        "# 실책포함 row WPa 수정"
      ]
    },
    {
      "cell_type": "code",
      "metadata": {
        "id": "pMccCfc0GvmM"
      },
      "source": [
        "error_df = notnull_df[notnull_df['before'].str.contains('실책')]\n",
        "error_df = error_df.drop('before', axis=1)\n",
        "error_df.rename(columns={'after':'before', 'LEV':'after', 'REa':'LEV', 'WPs':'REa', 'WPe':'WPs', 'WPa':'WPe'}, inplace=True)\n",
        "\n",
        "error_df['WPa'] = (error_df['WPs'] - error_df['WPe'])/100"
      ],
      "execution_count": null,
      "outputs": []
    },
    {
      "cell_type": "code",
      "metadata": {
        "id": "lN1otr3VIuHJ"
      },
      "source": [
        "error_df = error_df[['DATE', 'PCODE', 'INN', 'HIT_VEL', 'HIT_ANG_VER', 'HIT_RESULT',\n",
        "       'PIT_VEL', 'PIT_ID', 'G_ID', 'RESULT_MG', 'order', 'NAME', 'POSITION',\n",
        "       'result', 'before', 'after', 'LEV', 'REa', 'WPs', 'WPe', 'WPa', 'P', 'pitcher',\n",
        "       'batter', 'vs']]"
      ],
      "execution_count": null,
      "outputs": []
    },
    {
      "cell_type": "code",
      "metadata": {
        "colab": {
          "base_uri": "https://localhost:8080/",
          "height": 103,
          "referenced_widgets": [
            "5679d398ee2f4328b8f578432cea1286",
            "acc64313ce214ae6a0429cc32a40031b",
            "76de72b85a63459881630ca3561e93fd",
            "ea5418f5d8b64ce3b1b46094fc13482d",
            "bc5109bb24c041c5918c073fc78bc79d",
            "17319db9d3954972a4348201786d3fb5",
            "0d3a19bc8bdd4248b40fb9f2faa33354",
            "7944030a20684af4b457bfc6a55aabd1",
            "76e4f664891c4726ade0549a4a08e27d",
            "a8cd499ff11b44ee8e84822d41803a4e",
            "dd9fdfda4dce47f3969f15805437c075"
          ]
        },
        "id": "9d2BkFy1JX3i",
        "outputId": "418174a4-3403-4e15-891d-fc4bbb514be3"
      },
      "source": [
        "for i in tqdm_notebook(error_df.index):\n",
        "    notnull_df.loc[i] = error_df.loc[i]"
      ],
      "execution_count": null,
      "outputs": [
        {
          "output_type": "stream",
          "text": [
            "/usr/local/lib/python3.7/dist-packages/ipykernel_launcher.py:1: TqdmDeprecationWarning: This function will be removed in tqdm==5.0.0\n",
            "Please use `tqdm.notebook.tqdm` instead of `tqdm.tqdm_notebook`\n",
            "  \"\"\"Entry point for launching an IPython kernel.\n"
          ],
          "name": "stderr"
        },
        {
          "output_type": "display_data",
          "data": {
            "application/vnd.jupyter.widget-view+json": {
              "model_id": "5679d398ee2f4328b8f578432cea1286",
              "version_minor": 0,
              "version_major": 2
            },
            "text/plain": [
              "  0%|          | 0/2008 [00:00<?, ?it/s]"
            ]
          },
          "metadata": {}
        }
      ]
    },
    {
      "cell_type": "markdown",
      "metadata": {
        "id": "SJOEOXABZTmL"
      },
      "source": [
        "# 최종 저장"
      ]
    },
    {
      "cell_type": "code",
      "metadata": {
        "id": "3e_MJdGUJ3Kz"
      },
      "source": [
        "notnull_df.to_csv('/content/drive/MyDrive/빅콘테스트/Bigcontest_df.csv')"
      ],
      "execution_count": null,
      "outputs": []
    },
    {
      "cell_type": "markdown",
      "metadata": {
        "id": "x4cQ9hCbYvR0"
      },
      "source": [
        "---"
      ]
    }
  ]
}