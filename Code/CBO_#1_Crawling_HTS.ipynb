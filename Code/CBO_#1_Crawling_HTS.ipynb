{
  "nbformat": 4,
  "nbformat_minor": 0,
  "metadata": {
    "colab": {
      "name": "Web_Crawling__Selenium.ipynb",
      "provenance": []
    },
    "kernelspec": {
      "name": "python3",
      "display_name": "Python 3"
    },
    "language_info": {
      "name": "python"
    }
  },
  "cells": [
    {
      "cell_type": "markdown",
      "metadata": {
        "id": "owYS6qArlziO"
      },
      "source": [
        "# 스탯티즈 Playlog 데이터를 크롤링하는 과정 "
      ]
    },
    {
      "cell_type": "code",
      "metadata": {
        "id": "raOSosFq2vTn",
        "colab": {
          "base_uri": "https://localhost:8080/"
        },
        "outputId": "6517dcb1-afab-4534-9e7e-730959552e01"
      },
      "source": [
        "from google.colab import drive\n",
        "drive.mount('/content/drive')"
      ],
      "execution_count": null,
      "outputs": [
        {
          "output_type": "stream",
          "text": [
            "Mounted at /content/drive\n"
          ],
          "name": "stdout"
        }
      ]
    },
    {
      "cell_type": "code",
      "metadata": {
        "id": "Y4BErjLs272U"
      },
      "source": [
        "import pandas as pd\n",
        "import numpy as np\n",
        "\n",
        "hts_2018 = pd.read_csv('/content/drive/MyDrive/bigcontest/2021 빅콘테스트_데이터분석분야_챔피언리그_스포츠테크_HTS_2018.csv', encoding='euc-kr')\n",
        "hts_2019 = pd.read_csv('/content/drive/MyDrive/bigcontest/2021 빅콘테스트_데이터분석분야_챔피언리그_스포츠테크_HTS_2019.csv', encoding='euc-kr')\n",
        "hts_2020 = pd.read_csv('/content/drive/MyDrive/bigcontest/2021 빅콘테스트_데이터분석분야_챔피언리그_스포츠테크_HTS_2020.csv', encoding='euc-kr')\n",
        "hts_2021 = pd.read_csv('/content/drive/MyDrive/bigcontest/2021 빅콘테스트_데이터분석분야_챔피언리그_스포츠테크_HTS_2021.csv', encoding='euc-kr')\n",
        "hts = pd.concat([hts_2018,hts_2019,hts_2020,hts_2021], ignore_index=True)\n",
        "\n",
        "player_2018 = pd.read_csv('/content/drive/MyDrive/bigcontest/2021 빅콘테스트_데이터분석분야_챔피언리그_스포츠테크_선수_2018.csv', encoding='euc-kr')\n",
        "player_2019 = pd.read_csv('/content/drive/MyDrive/bigcontest/2021 빅콘테스트_데이터분석분야_챔피언리그_스포츠테크_선수_2019.csv', encoding='euc-kr')\n",
        "player_2020 = pd.read_csv('/content/drive/MyDrive/bigcontest/2021 빅콘테스트_데이터분석분야_챔피언리그_스포츠테크_선수_2020.csv', encoding='euc-kr')\n",
        "player_2021 = pd.read_csv('/content/drive/MyDrive/bigcontest/2021 빅콘테스트_데이터분석분야_챔피언리그_스포츠테크_선수_2021.csv', encoding='euc-kr')\n",
        "player = pd.concat([player_2018,player_2019,player_2020,player_2021], ignore_index=True)\n",
        "\n",
        "hitter_base_2018 = pd.read_csv('/content/drive/MyDrive/bigcontest/2021 빅콘테스트_데이터분석분야_챔피언리그_스포츠테크_타자 기본_2018.csv', encoding='euc-kr')\n",
        "hitter_base_2019 = pd.read_csv('/content/drive/MyDrive/bigcontest/2021 빅콘테스트_데이터분석분야_챔피언리그_스포츠테크_타자 기본_2019.csv', encoding='euc-kr')\n",
        "hitter_base_2020 = pd.read_csv('/content/drive/MyDrive/bigcontest/2021 빅콘테스트_데이터분석분야_챔피언리그_스포츠테크_타자 기본_2020.csv', encoding='euc-kr')\n",
        "hitter_base_2021 = pd.read_csv('/content/drive/MyDrive/bigcontest/2021 빅콘테스트_데이터분석분야_챔피언리그_스포츠테크_타자 기본_2021.csv', encoding='euc-kr')\n",
        "hitter_base = pd.concat([hitter_base_2018,hitter_base_2019,hitter_base_2020,hitter_base_2021], ignore_index=True)\n",
        "\n",
        "team = pd.read_csv('/content/drive/MyDrive/bigcontest/2021 빅콘테스트_데이터분석분야_챔피언리그_스포츠테크_팀.csv', encoding='euc-kr')\n",
        "schedule_2021 = pd.read_csv('/content/drive/MyDrive/bigcontest/2021 빅콘테스트_데이터분석분야_챔피언리그_스포츠테크_경기일정_2021.csv', encoding='euc-kr')"
      ],
      "execution_count": null,
      "outputs": []
    },
    {
      "cell_type": "code",
      "metadata": {
        "id": "Ra-UhYpeI2tv"
      },
      "source": [
        "# 타자 기록이 있는 선수들과 등록 선수를 pcode와 연도를 기준으로 merge\n",
        "hitter = hitter_base.merge(player, on=['PCODE','GYEAR'])"
      ],
      "execution_count": null,
      "outputs": []
    },
    {
      "cell_type": "code",
      "metadata": {
        "id": "5JpmFHeJnRK8"
      },
      "source": [
        "# 이름을 개명한 선수에 대해서 같은 이름이 쓰이도록 처리\n",
        "hitter.loc[hitter['NAME']=='한동민','NAME'] = '한유섬'\n",
        "hitter.loc[hitter['NAME']=='백민기','NAME'] = '백동훈'\n",
        "hitter.loc[hitter['NAME']=='윤대영','NAME'] = '윤형준'\n",
        "hitter.loc[hitter['NAME']=='이병휘','NAME'] = '이유찬'\n",
        "hitter.loc[hitter['NAME']=='나종덕','NAME'] = '나균안'\n",
        "hitter.loc[hitter['NAME']=='김동욱','NAME'] = '김동명'\n",
        "hitter.loc[hitter['NAME']=='이찬건','NAME'] = '이석훈'\n",
        "hitter.loc[hitter['NAME']=='김지열','NAME'] = '김사연'\n",
        "\n",
        "hitter['BIRTH']=0\n",
        "# 제공받는 hitter와 스탯티즈의 연도별 선수 기록이 달라서 동명이인을 처리 못하는 사람들에 대해 미리 생년월일을 입력\n",
        "# 기록이 다른 선수 명단 : 천성호, 이재원, 이주형, 김주현\n",
        "hitter.loc[hitter['PCODE']==50054,'BIRTH'] = '1997-10-30'\n",
        "hitter.loc[hitter['PCODE']==68106,'BIRTH'] = '1999-07-17'\n",
        "hitter.loc[hitter['PCODE']==50167,'BIRTH'] = '2001-04-02'\n",
        "hitter.loc[hitter['PCODE']==66749,'BIRTH'] = '1993-12-21'"
      ],
      "execution_count": null,
      "outputs": []
    },
    {
      "cell_type": "code",
      "metadata": {
        "id": "t7bFZwQ-AwFW",
        "colab": {
          "base_uri": "https://localhost:8080/"
        },
        "outputId": "be53c141-136f-4318-e108-5253d56b23b0"
      },
      "source": [
        "###############\n",
        "# BeautifulSoup\n",
        "\n",
        "import numpy as np\n",
        "import pandas as pd\n",
        "import requests\n",
        "from bs4 import BeautifulSoup\n",
        "from tqdm import tqdm\n",
        "\n",
        "# 데이터를 모을 dataframe 생성\n",
        "data = pd.DataFrame(columns=['GYEAR','PCODE','NAME','T_ID','POSITION','day', 'vs', 'inn', 'pitcher', 'batter', 'P', 'result', 'before', 'after', 'LEV', 'REa', 'WPs','WPe', 'WPa'])\n",
        "same_name_fail_list = []\n",
        "\n",
        "for hitter_index in tqdm(range(len(hitter))):\n",
        "  year = hitter.loc[hitter_index,'GYEAR']\n",
        "  player_pcode = hitter.loc[hitter_index,'PCODE']\n",
        "  player_name = hitter.loc[hitter_index,'NAME']\n",
        "  player_team = hitter.loc[hitter_index,'T_ID']\n",
        "  player_position = hitter.loc[hitter_index,'POSITION']\n",
        "\n",
        "  # 선수와 연도에 맞는 플레이 로그 페이지\n",
        "  wp = requests.get('http://www.statiz.co.kr/player.php?opt=6&sopt=0&name=' + player_name + '&re=0&da=1&year=' + str(year))\n",
        "  soup = BeautifulSoup(wp.text, \"html.parser\")\n",
        "\n",
        "  # 동명이인 문제로 페이지에 데이터가 없다면\n",
        "  row_data = soup.find_all(class_='table table-striped table-responsive table-condensed table-bordered')\n",
        "  if len(row_data)==0:\n",
        "    print(\"\\n동명이인 존재 : \" + player_name)\n",
        "    if hitter.loc[hitter_index,'BIRTH']!=0:\n",
        "      print(\"생일로 찾음\")\n",
        "      wp = requests.get('http://www.statiz.co.kr/player.php?opt=6&sopt=0&name=' + player_name + '&birth=' + hitter.loc[hitter_index,'BIRTH'] + '&re=0&da=1&year=' + str(year))\n",
        "      soup = BeautifulSoup(wp.text, \"html.parser\")\n",
        "    else:  \n",
        "      same_name_href_list=[]\n",
        "      wp = requests.get('http://www.statiz.co.kr/player.php?name=' + player_name)\n",
        "      soup = BeautifulSoup(wp.text, \"html.parser\")\n",
        "      for same_name_list in soup.find(class_='table table-striped').find_all('a'):\n",
        "        same_name_href_list.append(same_name_list.attrs['href'])\n",
        "      flag=0\n",
        "      for same_name_page in same_name_href_list:\n",
        "        wp = requests.get('http://www.statiz.co.kr/'+same_name_page+'&opt=1&re=0')\n",
        "        soup = BeautifulSoup(wp.text, \"html.parser\")\n",
        "        # 현재 찾고 있는 선수의 기록과 현재 페이지의 선수 기록이 일치하면 같은 선수라는 의미이다. \n",
        "        d = str(hitter.loc[hitter_index,'GAMENUM'].item()) + str(hitter.loc[hitter_index,'PA'].item()) + str(hitter.loc[hitter_index,'AB'].item())\n",
        "        if d in soup.text:\n",
        "          flag=1\n",
        "          # 동명이인의 선수에 대해서 생일을 기록해둔다.\n",
        "          print(player_name+\" 생일 저장\")\n",
        "          player_birth = same_name_page[-10:]\n",
        "          hitter.loc[hitter['PCODE']==player_pcode, 'BIRTH'] = player_birth\n",
        "          break\n",
        "      # 찾은 선수의 페이지로 접근한다.\n",
        "      if flag==1:\n",
        "        print(\"기록과 일치하는 선수 찾음\")\n",
        "      else:\n",
        "        print(\"기록과 일치하는 선수 못찾음\")\n",
        "        same_name_fail_list.append((year,player_pcode,player_name,player_team))\n",
        "        continue\n",
        "      wp = requests.get('http://www.statiz.co.kr/player.php?opt=6&'+same_name_page.split('?')[1]+'&re=0&da=1&year='+str(year))\n",
        "      soup = BeautifulSoup(wp.text, \"html.parser\")\n",
        "\n",
        "  # 데이터 테이블 접근\n",
        "  row_data = soup.find_all(class_='table table-striped table-responsive table-condensed table-bordered')[0]\n",
        "  row_data_tr = row_data.find_all('tr')[1:]\n",
        "\n",
        "  # 행렬만들기\n",
        "  rawdata_day = np.zeros(len(row_data_tr), dtype=object)\n",
        "  rawdata_vs = np.zeros(len(row_data_tr), dtype=object)\n",
        "  rawdata_inn = np.zeros(len(row_data_tr), dtype=object)\n",
        "  rawdata_pitcher = np.zeros(len(row_data_tr),dtype=object)\n",
        "  rawdata_batter = np.zeros(len(row_data_tr), dtype=object)\n",
        "  rawdata_P = np.zeros(len(row_data_tr), dtype=object)\n",
        "  rawdata_result = np.zeros(len(row_data_tr), dtype=object)\n",
        "  rawdata_before = np.zeros(len(row_data_tr), dtype=object)\n",
        "  rawdata_after = np.zeros(len(row_data_tr), dtype=object)\n",
        "  rawdata_LEV = np.zeros(len(row_data_tr), dtype=object)\n",
        "  rawdata_REa = np.zeros(len(row_data_tr), dtype=object)\n",
        "  rawdata_WPs = np.zeros(len(row_data_tr), dtype=object)\n",
        "  rawdata_WPe = np.zeros(len(row_data_tr), dtype=object)\n",
        "  rawdata_WPa = np.zeros(len(row_data_tr), dtype=object)\n",
        "\n",
        "  # 행 하나씩 접근, 헤더 생략\n",
        "  for tr_index in range(len(row_data_tr)):\n",
        "    rawdata_td_element = [text for text in row_data_tr[tr_index].stripped_strings]\n",
        "    # P 칼럼의 값이 없을때도 있음.\n",
        "    if len(rawdata_td_element) == 14:\n",
        "      rawdata_td_element.insert(6,\"\")\n",
        "    \n",
        "    # 데이터 입력\n",
        "    rawdata_day[tr_index] = rawdata_td_element[0]\n",
        "    rawdata_vs[tr_index] = rawdata_td_element[1]\n",
        "    rawdata_inn[tr_index] = rawdata_td_element[2]\n",
        "    rawdata_pitcher[tr_index] = rawdata_td_element[3]\n",
        "    rawdata_batter[tr_index] = rawdata_td_element[5]\n",
        "    rawdata_P[tr_index] = rawdata_td_element[6]\n",
        "    rawdata_result[tr_index] = rawdata_td_element[7]\n",
        "    rawdata_before[tr_index] = rawdata_td_element[8]\n",
        "    rawdata_after[tr_index] = rawdata_td_element[9]\n",
        "    rawdata_LEV[tr_index] = rawdata_td_element[10]\n",
        "    rawdata_REa[tr_index] = rawdata_td_element[11]\n",
        "    rawdata_WPs[tr_index] = rawdata_td_element[12]\n",
        "    rawdata_WPe[tr_index] = rawdata_td_element[13]\n",
        "    rawdata_WPa[tr_index] = rawdata_td_element[14]\n",
        "\n",
        "  tmp_data = pd.DataFrame()\n",
        "\n",
        "  # tmp_data는 각 선수마다 데이터를 모은 후 data에 concat 하기 전 임시로 저장\n",
        "  tmp_data['day'] = rawdata_day\n",
        "  tmp_data['vs'] = rawdata_vs\n",
        "  tmp_data['inn'] = rawdata_inn\n",
        "  tmp_data['pitcher'] = rawdata_pitcher\n",
        "  tmp_data['batter'] = rawdata_batter\n",
        "  tmp_data['P'] = rawdata_P\n",
        "  tmp_data['result'] = rawdata_result\n",
        "  tmp_data['before'] = rawdata_before\n",
        "  tmp_data['after'] = rawdata_after\n",
        "  tmp_data['LEV'] = rawdata_LEV\n",
        "  tmp_data['REa'] = rawdata_REa\n",
        "  tmp_data['WPs'] = rawdata_WPs\n",
        "  tmp_data['WPe'] = rawdata_WPe\n",
        "  tmp_data['WPa'] = rawdata_WPa\n",
        "\n",
        "  tmp_data['GYEAR'] = year\n",
        "  tmp_data['PCODE'] = player_pcode\n",
        "  tmp_data['NAME'] = player_name\n",
        "  tmp_data['T_ID'] = player_team\n",
        "  tmp_data['POSITION'] = player_position\n",
        "\n",
        "  # 데이터 쌓기\n",
        "  data = pd.concat([data,tmp_data], ignore_index=True)"
      ],
      "execution_count": null,
      "outputs": [
        {
          "output_type": "stream",
          "text": [
            "  0%|          | 3/1098 [00:02<16:05,  1.13it/s]"
          ],
          "name": "stderr"
        },
        {
          "output_type": "stream",
          "text": [
            "\n",
            "동명이인 존재 : 이해창\n",
            "이해창 생일 저장\n",
            "기록과 일치하는 선수 찾음\n"
          ],
          "name": "stdout"
        },
        {
          "output_type": "stream",
          "text": [
            "  1%|          | 7/1098 [00:10<27:46,  1.53s/it]"
          ],
          "name": "stderr"
        },
        {
          "output_type": "stream",
          "text": [
            "\n",
            "동명이인 존재 : 이상호\n",
            "이상호 생일 저장\n",
            "기록과 일치하는 선수 찾음\n"
          ],
          "name": "stdout"
        },
        {
          "output_type": "stream",
          "text": [
            "\r  1%|          | 8/1098 [00:15<44:06,  2.43s/it]"
          ],
          "name": "stderr"
        },
        {
          "output_type": "stream",
          "text": [
            "\n",
            "동명이인 존재 : 홍재호\n",
            "홍재호 생일 저장\n",
            "기록과 일치하는 선수 찾음\n"
          ],
          "name": "stdout"
        },
        {
          "output_type": "stream",
          "text": [
            "  2%|▏         | 17/1098 [00:28<22:18,  1.24s/it]"
          ],
          "name": "stderr"
        },
        {
          "output_type": "stream",
          "text": [
            "\n",
            "동명이인 존재 : 정진호\n",
            "정진호 생일 저장\n",
            "기록과 일치하는 선수 찾음\n"
          ],
          "name": "stdout"
        },
        {
          "output_type": "stream",
          "text": [
            "  3%|▎         | 31/1098 [00:47<17:03,  1.04it/s]"
          ],
          "name": "stderr"
        },
        {
          "output_type": "stream",
          "text": [
            "\n",
            "동명이인 존재 : 이원재\n",
            "이원재 생일 저장\n",
            "기록과 일치하는 선수 찾음\n"
          ],
          "name": "stdout"
        },
        {
          "output_type": "stream",
          "text": [
            "  3%|▎         | 36/1098 [00:56<23:57,  1.35s/it]"
          ],
          "name": "stderr"
        },
        {
          "output_type": "stream",
          "text": [
            "\n",
            "동명이인 존재 : 김재현\n",
            "김재현 생일 저장\n",
            "기록과 일치하는 선수 찾음\n"
          ],
          "name": "stdout"
        },
        {
          "output_type": "stream",
          "text": [
            "  5%|▌         | 56/1098 [01:31<19:58,  1.15s/it]"
          ],
          "name": "stderr"
        },
        {
          "output_type": "stream",
          "text": [
            "\n",
            "동명이인 존재 : 이민호\n",
            "이민호 생일 저장\n",
            "기록과 일치하는 선수 찾음\n"
          ],
          "name": "stdout"
        },
        {
          "output_type": "stream",
          "text": [
            "  8%|▊         | 88/1098 [02:13<17:49,  1.06s/it]"
          ],
          "name": "stderr"
        },
        {
          "output_type": "stream",
          "text": [
            "\n",
            "동명이인 존재 : 김재현\n",
            "김재현 생일 저장\n",
            "기록과 일치하는 선수 찾음\n"
          ],
          "name": "stdout"
        },
        {
          "output_type": "stream",
          "text": [
            "  8%|▊         | 92/1098 [02:23<28:33,  1.70s/it]"
          ],
          "name": "stderr"
        },
        {
          "output_type": "stream",
          "text": [
            "\n",
            "동명이인 존재 : 박준태\n",
            "박준태 생일 저장\n",
            "기록과 일치하는 선수 찾음\n"
          ],
          "name": "stdout"
        },
        {
          "output_type": "stream",
          "text": [
            "  9%|▊         | 94/1098 [02:29<34:30,  2.06s/it]"
          ],
          "name": "stderr"
        },
        {
          "output_type": "stream",
          "text": [
            "\n",
            "동명이인 존재 : 박준혁\n",
            "박준혁 생일 저장\n",
            "기록과 일치하는 선수 찾음\n"
          ],
          "name": "stdout"
        },
        {
          "output_type": "stream",
          "text": [
            "\r  9%|▊         | 95/1098 [02:32<42:32,  2.54s/it]"
          ],
          "name": "stderr"
        },
        {
          "output_type": "stream",
          "text": [
            "\n",
            "동명이인 존재 : 김민수\n",
            "김민수 생일 저장\n",
            "기록과 일치하는 선수 찾음\n"
          ],
          "name": "stdout"
        },
        {
          "output_type": "stream",
          "text": [
            "\r  9%|▊         | 96/1098 [02:38<56:53,  3.41s/it]"
          ],
          "name": "stderr"
        },
        {
          "output_type": "stream",
          "text": [
            "\n",
            "동명이인 존재 : 조용호\n",
            "조용호 생일 저장\n",
            "기록과 일치하는 선수 찾음\n"
          ],
          "name": "stdout"
        },
        {
          "output_type": "stream",
          "text": [
            "  9%|▉         | 103/1098 [02:47<19:44,  1.19s/it]"
          ],
          "name": "stderr"
        },
        {
          "output_type": "stream",
          "text": [
            "\n",
            "동명이인 존재 : 김민혁\n",
            "김민혁 생일 저장\n",
            "기록과 일치하는 선수 찾음\n"
          ],
          "name": "stdout"
        },
        {
          "output_type": "stream",
          "text": [
            " 11%|█         | 117/1098 [03:04<16:41,  1.02s/it]"
          ],
          "name": "stderr"
        },
        {
          "output_type": "stream",
          "text": [
            "\n",
            "동명이인 존재 : 김성훈\n",
            "김성훈 생일 저장\n",
            "기록과 일치하는 선수 찾음\n"
          ],
          "name": "stdout"
        },
        {
          "output_type": "stream",
          "text": [
            " 11%|█         | 119/1098 [03:08<23:50,  1.46s/it]"
          ],
          "name": "stderr"
        },
        {
          "output_type": "stream",
          "text": [
            "\n",
            "동명이인 존재 : 최원준\n",
            "최원준 생일 저장\n",
            "기록과 일치하는 선수 찾음\n"
          ],
          "name": "stdout"
        },
        {
          "output_type": "stream",
          "text": [
            " 11%|█         | 123/1098 [03:15<21:00,  1.29s/it]"
          ],
          "name": "stderr"
        },
        {
          "output_type": "stream",
          "text": [
            "\n",
            "동명이인 존재 : 이동훈\n",
            "이동훈 생일 저장\n",
            "기록과 일치하는 선수 찾음\n"
          ],
          "name": "stdout"
        },
        {
          "output_type": "stream",
          "text": [
            " 14%|█▍        | 155/1098 [04:01<21:27,  1.37s/it]"
          ],
          "name": "stderr"
        },
        {
          "output_type": "stream",
          "text": [
            "\n",
            "동명이인 존재 : 가르시아\n",
            "가르시아 생일 저장\n",
            "기록과 일치하는 선수 찾음\n"
          ],
          "name": "stdout"
        },
        {
          "output_type": "stream",
          "text": [
            " 16%|█▌        | 176/1098 [04:30<24:13,  1.58s/it]"
          ],
          "name": "stderr"
        },
        {
          "output_type": "stream",
          "text": [
            "\n",
            "동명이인 존재 : 김태균\n",
            "김태균 생일 저장\n",
            "기록과 일치하는 선수 찾음\n"
          ],
          "name": "stdout"
        },
        {
          "output_type": "stream",
          "text": [
            " 18%|█▊        | 196/1098 [05:02<23:56,  1.59s/it]"
          ],
          "name": "stderr"
        },
        {
          "output_type": "stream",
          "text": [
            "\n",
            "동명이인 존재 : 윤석민\n",
            "윤석민 생일 저장\n",
            "기록과 일치하는 선수 찾음\n"
          ],
          "name": "stdout"
        },
        {
          "output_type": "stream",
          "text": [
            " 18%|█▊        | 200/1098 [05:13<31:18,  2.09s/it]"
          ],
          "name": "stderr"
        },
        {
          "output_type": "stream",
          "text": [
            "\n",
            "동명이인 존재 : 김주형\n",
            "김주형 생일 저장\n",
            "기록과 일치하는 선수 찾음\n"
          ],
          "name": "stdout"
        },
        {
          "output_type": "stream",
          "text": [
            " 19%|█▊        | 204/1098 [05:20<24:25,  1.64s/it]"
          ],
          "name": "stderr"
        },
        {
          "output_type": "stream",
          "text": [
            "\n",
            "동명이인 존재 : 박병호\n",
            "박병호 생일 저장\n",
            "기록과 일치하는 선수 찾음\n"
          ],
          "name": "stdout"
        },
        {
          "output_type": "stream",
          "text": [
            " 19%|█▉        | 207/1098 [05:28<32:12,  2.17s/it]"
          ],
          "name": "stderr"
        },
        {
          "output_type": "stream",
          "text": [
            "\n",
            "동명이인 존재 : 이원석\n",
            "이원석 생일 저장\n",
            "기록과 일치하는 선수 찾음\n"
          ],
          "name": "stdout"
        },
        {
          "output_type": "stream",
          "text": [
            " 19%|█▉        | 210/1098 [05:36<35:16,  2.38s/it]"
          ],
          "name": "stderr"
        },
        {
          "output_type": "stream",
          "text": [
            "\n",
            "동명이인 존재 : 이병규\n",
            "이병규 생일 저장\n",
            "기록과 일치하는 선수 찾음\n"
          ],
          "name": "stdout"
        },
        {
          "output_type": "stream",
          "text": [
            " 20%|█▉        | 215/1098 [05:47<31:55,  2.17s/it]"
          ],
          "name": "stderr"
        },
        {
          "output_type": "stream",
          "text": [
            "\n",
            "동명이인 존재 : 김현수\n",
            "김현수 생일 저장\n",
            "기록과 일치하는 선수 찾음\n"
          ],
          "name": "stdout"
        },
        {
          "output_type": "stream",
          "text": [
            " 20%|██        | 220/1098 [05:57<24:05,  1.65s/it]"
          ],
          "name": "stderr"
        },
        {
          "output_type": "stream",
          "text": [
            "\n",
            "동명이인 존재 : 김태완\n",
            "김태완 생일 저장\n",
            "기록과 일치하는 선수 찾음\n"
          ],
          "name": "stdout"
        },
        {
          "output_type": "stream",
          "text": [
            " 20%|██        | 222/1098 [06:02<30:43,  2.10s/it]"
          ],
          "name": "stderr"
        },
        {
          "output_type": "stream",
          "text": [
            "\n",
            "동명이인 존재 : 김성현\n",
            "김성현 생일 저장\n",
            "기록과 일치하는 선수 찾음\n"
          ],
          "name": "stdout"
        },
        {
          "output_type": "stream",
          "text": [
            "\r 20%|██        | 223/1098 [06:06<38:34,  2.65s/it]"
          ],
          "name": "stderr"
        },
        {
          "output_type": "stream",
          "text": [
            "\n",
            "동명이인 존재 : 이재원\n",
            "이재원 생일 저장\n",
            "기록과 일치하는 선수 찾음\n"
          ],
          "name": "stdout"
        },
        {
          "output_type": "stream",
          "text": [
            "\r 20%|██        | 224/1098 [06:10<44:16,  3.04s/it]"
          ],
          "name": "stderr"
        },
        {
          "output_type": "stream",
          "text": [
            "\n",
            "동명이인 존재 : 이명기\n",
            "이명기 생일 저장\n",
            "기록과 일치하는 선수 찾음\n"
          ],
          "name": "stdout"
        },
        {
          "output_type": "stream",
          "text": [
            "\r 20%|██        | 225/1098 [06:14<47:53,  3.29s/it]"
          ],
          "name": "stderr"
        },
        {
          "output_type": "stream",
          "text": [
            "\n",
            "동명이인 존재 : 김재현\n",
            "김재현 생일 저장\n",
            "기록과 일치하는 선수 찾음\n"
          ],
          "name": "stdout"
        },
        {
          "output_type": "stream",
          "text": [
            " 22%|██▏       | 240/1098 [06:40<20:25,  1.43s/it]"
          ],
          "name": "stderr"
        },
        {
          "output_type": "stream",
          "text": [
            "\n",
            "동명이인 존재 : 이영욱\n",
            "이영욱 생일 저장\n",
            "기록과 일치하는 선수 찾음\n"
          ],
          "name": "stdout"
        },
        {
          "output_type": "stream",
          "text": [
            " 23%|██▎       | 257/1098 [07:05<18:39,  1.33s/it]"
          ],
          "name": "stderr"
        },
        {
          "output_type": "stream",
          "text": [
            "\n",
            "동명이인 존재 : 박건우\n",
            "박건우 생일 저장\n",
            "기록과 일치하는 선수 찾음\n"
          ],
          "name": "stdout"
        },
        {
          "output_type": "stream",
          "text": [
            " 24%|██▍       | 261/1098 [07:13<22:03,  1.58s/it]"
          ],
          "name": "stderr"
        },
        {
          "output_type": "stream",
          "text": [
            "\n",
            "동명이인 존재 : 김지수\n",
            "김지수 생일 저장\n",
            "기록과 일치하는 선수 찾음\n"
          ],
          "name": "stdout"
        },
        {
          "output_type": "stream",
          "text": [
            " 24%|██▍       | 264/1098 [07:19<23:32,  1.69s/it]"
          ],
          "name": "stderr"
        },
        {
          "output_type": "stream",
          "text": [
            "\n",
            "동명이인 존재 : 김종민\n",
            "김종민 생일 저장\n",
            "기록과 일치하는 선수 찾음\n"
          ],
          "name": "stdout"
        },
        {
          "output_type": "stream",
          "text": [
            " 24%|██▍       | 266/1098 [07:24<26:25,  1.91s/it]"
          ],
          "name": "stderr"
        },
        {
          "output_type": "stream",
          "text": [
            "\n",
            "동명이인 존재 : 김상수\n",
            "김상수 생일 저장\n",
            "기록과 일치하는 선수 찾음\n"
          ],
          "name": "stdout"
        },
        {
          "output_type": "stream",
          "text": [
            " 25%|██▍       | 273/1098 [07:35<19:52,  1.45s/it]"
          ],
          "name": "stderr"
        },
        {
          "output_type": "stream",
          "text": [
            "\n",
            "동명이인 존재 : 정성훈\n",
            "정성훈 생일 저장\n",
            "기록과 일치하는 선수 찾음\n"
          ],
          "name": "stdout"
        },
        {
          "output_type": "stream",
          "text": [
            "\r 25%|██▍       | 274/1098 [07:39<27:53,  2.03s/it]"
          ],
          "name": "stderr"
        },
        {
          "output_type": "stream",
          "text": [
            "\n",
            "동명이인 존재 : 이진영\n",
            "이진영 생일 저장\n",
            "기록과 일치하는 선수 찾음\n"
          ],
          "name": "stdout"
        },
        {
          "output_type": "stream",
          "text": [
            " 25%|██▌       | 278/1098 [07:45<19:43,  1.44s/it]"
          ],
          "name": "stderr"
        },
        {
          "output_type": "stream",
          "text": [
            "\n",
            "동명이인 존재 : 이해창\n",
            "생일로 찾음\n"
          ],
          "name": "stdout"
        },
        {
          "output_type": "stream",
          "text": [
            " 26%|██▌       | 281/1098 [07:48<16:53,  1.24s/it]"
          ],
          "name": "stderr"
        },
        {
          "output_type": "stream",
          "text": [
            "\n",
            "동명이인 존재 : 이상호\n",
            "생일로 찾음\n"
          ],
          "name": "stdout"
        },
        {
          "output_type": "stream",
          "text": [
            "\r 26%|██▌       | 282/1098 [07:50<19:32,  1.44s/it]"
          ],
          "name": "stderr"
        },
        {
          "output_type": "stream",
          "text": [
            "\n",
            "동명이인 존재 : 홍재호\n",
            "생일로 찾음\n"
          ],
          "name": "stdout"
        },
        {
          "output_type": "stream",
          "text": [
            " 27%|██▋       | 291/1098 [08:03<18:32,  1.38s/it]"
          ],
          "name": "stderr"
        },
        {
          "output_type": "stream",
          "text": [
            "\n",
            "동명이인 존재 : 정진호\n",
            "생일로 찾음\n"
          ],
          "name": "stdout"
        },
        {
          "output_type": "stream",
          "text": [
            " 27%|██▋       | 300/1098 [08:14<13:33,  1.02s/it]"
          ],
          "name": "stderr"
        },
        {
          "output_type": "stream",
          "text": [
            "\n",
            "동명이인 존재 : 이원재\n",
            "생일로 찾음\n"
          ],
          "name": "stdout"
        },
        {
          "output_type": "stream",
          "text": [
            " 32%|███▏      | 349/1098 [09:15<15:29,  1.24s/it]"
          ],
          "name": "stderr"
        },
        {
          "output_type": "stream",
          "text": [
            "\n",
            "동명이인 존재 : 김민혁\n",
            "김민혁 생일 저장\n",
            "기록과 일치하는 선수 찾음\n"
          ],
          "name": "stdout"
        },
        {
          "output_type": "stream",
          "text": [
            " 33%|███▎      | 359/1098 [09:28<12:55,  1.05s/it]"
          ],
          "name": "stderr"
        },
        {
          "output_type": "stream",
          "text": [
            "\n",
            "동명이인 존재 : 김경호\n",
            "김경호 생일 저장\n",
            "기록과 일치하는 선수 찾음\n"
          ],
          "name": "stdout"
        },
        {
          "output_type": "stream",
          "text": [
            " 34%|███▎      | 369/1098 [09:44<13:22,  1.10s/it]"
          ],
          "name": "stderr"
        },
        {
          "output_type": "stream",
          "text": [
            "\n",
            "동명이인 존재 : 김재현\n",
            "생일로 찾음\n"
          ],
          "name": "stdout"
        },
        {
          "output_type": "stream",
          "text": [
            " 34%|███▍      | 373/1098 [09:49<17:16,  1.43s/it]"
          ],
          "name": "stderr"
        },
        {
          "output_type": "stream",
          "text": [
            "\n",
            "동명이인 존재 : 박찬호\n",
            "박찬호 생일 저장\n",
            "기록과 일치하는 선수 찾음\n"
          ],
          "name": "stdout"
        },
        {
          "output_type": "stream",
          "text": [
            "\r 34%|███▍      | 374/1098 [09:54<28:49,  2.39s/it]"
          ],
          "name": "stderr"
        },
        {
          "output_type": "stream",
          "text": [
            "\n",
            "동명이인 존재 : 박준태\n",
            "생일로 찾음\n"
          ],
          "name": "stdout"
        },
        {
          "output_type": "stream",
          "text": [
            " 34%|███▍      | 377/1098 [09:57<18:27,  1.54s/it]"
          ],
          "name": "stderr"
        },
        {
          "output_type": "stream",
          "text": [
            "\n",
            "동명이인 존재 : 박준혁\n",
            "생일로 찾음\n"
          ],
          "name": "stdout"
        },
        {
          "output_type": "stream",
          "text": [
            "\r 34%|███▍      | 378/1098 [09:59<17:58,  1.50s/it]"
          ],
          "name": "stderr"
        },
        {
          "output_type": "stream",
          "text": [
            "\n",
            "동명이인 존재 : 김민수\n",
            "생일로 찾음\n"
          ],
          "name": "stdout"
        },
        {
          "output_type": "stream",
          "text": [
            " 35%|███▍      | 380/1098 [10:01<17:23,  1.45s/it]"
          ],
          "name": "stderr"
        },
        {
          "output_type": "stream",
          "text": [
            "\n",
            "동명이인 존재 : 조용호\n",
            "생일로 찾음\n"
          ],
          "name": "stdout"
        },
        {
          "output_type": "stream",
          "text": [
            " 35%|███▌      | 385/1098 [10:08<13:54,  1.17s/it]"
          ],
          "name": "stderr"
        },
        {
          "output_type": "stream",
          "text": [
            "\n",
            "동명이인 존재 : 김재성\n",
            "김재성 생일 저장\n",
            "기록과 일치하는 선수 찾음\n"
          ],
          "name": "stdout"
        },
        {
          "output_type": "stream",
          "text": [
            " 36%|███▌      | 398/1098 [10:23<11:05,  1.05it/s]"
          ],
          "name": "stderr"
        },
        {
          "output_type": "stream",
          "text": [
            "\n",
            "동명이인 존재 : 최승민\n",
            "최승민 생일 저장\n",
            "기록과 일치하는 선수 찾음\n"
          ],
          "name": "stdout"
        },
        {
          "output_type": "stream",
          "text": [
            " 37%|███▋      | 404/1098 [10:31<11:36,  1.00s/it]"
          ],
          "name": "stderr"
        },
        {
          "output_type": "stream",
          "text": [
            "\n",
            "동명이인 존재 : 김성훈\n",
            "생일로 찾음\n"
          ],
          "name": "stdout"
        },
        {
          "output_type": "stream",
          "text": [
            " 37%|███▋      | 407/1098 [10:34<11:56,  1.04s/it]"
          ],
          "name": "stderr"
        },
        {
          "output_type": "stream",
          "text": [
            "\n",
            "동명이인 존재 : 최원준\n",
            "생일로 찾음\n"
          ],
          "name": "stdout"
        },
        {
          "output_type": "stream",
          "text": [
            " 37%|███▋      | 409/1098 [10:38<14:28,  1.26s/it]"
          ],
          "name": "stderr"
        },
        {
          "output_type": "stream",
          "text": [
            "\n",
            "동명이인 존재 : 이진영\n",
            "이진영 생일 저장\n",
            "기록과 일치하는 선수 찾음\n"
          ],
          "name": "stdout"
        },
        {
          "output_type": "stream",
          "text": [
            " 37%|███▋      | 411/1098 [10:43<20:27,  1.79s/it]"
          ],
          "name": "stderr"
        },
        {
          "output_type": "stream",
          "text": [
            "\n",
            "동명이인 존재 : 이동훈\n",
            "생일로 찾음\n"
          ],
          "name": "stdout"
        },
        {
          "output_type": "stream",
          "text": [
            " 38%|███▊      | 421/1098 [10:55<15:50,  1.40s/it]"
          ],
          "name": "stderr"
        },
        {
          "output_type": "stream",
          "text": [
            "\n",
            "동명이인 존재 : 전준호\n",
            "전준호 생일 저장\n",
            "기록과 일치하는 선수 찾음\n"
          ],
          "name": "stdout"
        },
        {
          "output_type": "stream",
          "text": [
            " 39%|███▉      | 427/1098 [11:07<21:06,  1.89s/it]"
          ],
          "name": "stderr"
        },
        {
          "output_type": "stream",
          "text": [
            "\n",
            "동명이인 존재 : 김민수\n",
            "김민수 생일 저장\n",
            "기록과 일치하는 선수 찾음\n"
          ],
          "name": "stdout"
        },
        {
          "output_type": "stream",
          "text": [
            " 39%|███▉      | 429/1098 [11:11<20:58,  1.88s/it]"
          ],
          "name": "stderr"
        },
        {
          "output_type": "stream",
          "text": [
            "\n",
            "동명이인 존재 : 이정훈\n",
            "이정훈 생일 저장\n",
            "기록과 일치하는 선수 찾음\n"
          ],
          "name": "stdout"
        },
        {
          "output_type": "stream",
          "text": [
            " 40%|████      | 442/1098 [11:32<11:31,  1.05s/it]"
          ],
          "name": "stderr"
        },
        {
          "output_type": "stream",
          "text": [
            "\n",
            "동명이인 존재 : 이원석\n",
            "이원석 생일 저장\n",
            "기록과 일치하는 선수 찾음\n"
          ],
          "name": "stdout"
        },
        {
          "output_type": "stream",
          "text": [
            " 41%|████      | 450/1098 [11:44<12:13,  1.13s/it]"
          ],
          "name": "stderr"
        },
        {
          "output_type": "stream",
          "text": [
            "\n",
            "동명이인 존재 : 박민석\n",
            "박민석 생일 저장\n",
            "기록과 일치하는 선수 찾음\n"
          ],
          "name": "stdout"
        },
        {
          "output_type": "stream",
          "text": [
            " 41%|████▏     | 455/1098 [11:52<14:05,  1.32s/it]"
          ],
          "name": "stderr"
        },
        {
          "output_type": "stream",
          "text": [
            "\n",
            "동명이인 존재 : 페르난데스\n",
            "페르난데스 생일 저장\n",
            "기록과 일치하는 선수 찾음\n"
          ],
          "name": "stdout"
        },
        {
          "output_type": "stream",
          "text": [
            " 42%|████▏     | 457/1098 [11:57<18:25,  1.73s/it]"
          ],
          "name": "stderr"
        },
        {
          "output_type": "stream",
          "text": [
            "\n",
            "동명이인 존재 : 김주형\n",
            "김주형 생일 저장\n",
            "기록과 일치하는 선수 찾음\n"
          ],
          "name": "stdout"
        },
        {
          "output_type": "stream",
          "text": [
            " 42%|████▏     | 466/1098 [12:09<13:52,  1.32s/it]"
          ],
          "name": "stderr"
        },
        {
          "output_type": "stream",
          "text": [
            "\n",
            "동명이인 존재 : 윌슨\n",
            "윌슨 생일 저장\n",
            "기록과 일치하는 선수 찾음\n"
          ],
          "name": "stdout"
        },
        {
          "output_type": "stream",
          "text": [
            " 43%|████▎     | 476/1098 [12:23<11:15,  1.09s/it]"
          ],
          "name": "stderr"
        },
        {
          "output_type": "stream",
          "text": [
            "\n",
            "동명이인 존재 : 김성민\n",
            "김성민 생일 저장\n",
            "기록과 일치하는 선수 찾음\n"
          ],
          "name": "stdout"
        },
        {
          "output_type": "stream",
          "text": [
            " 44%|████▍     | 484/1098 [12:37<15:26,  1.51s/it]"
          ],
          "name": "stderr"
        },
        {
          "output_type": "stream",
          "text": [
            "\n",
            "동명이인 존재 : 김태균\n",
            "생일로 찾음\n"
          ],
          "name": "stdout"
        },
        {
          "output_type": "stream",
          "text": [
            " 45%|████▌     | 498/1098 [12:59<15:57,  1.60s/it]"
          ],
          "name": "stderr"
        },
        {
          "output_type": "stream",
          "text": [
            "\n",
            "동명이인 존재 : 윤석민\n",
            "생일로 찾음\n"
          ],
          "name": "stdout"
        },
        {
          "output_type": "stream",
          "text": [
            " 46%|████▌     | 504/1098 [13:09<13:56,  1.41s/it]"
          ],
          "name": "stderr"
        },
        {
          "output_type": "stream",
          "text": [
            "\n",
            "동명이인 존재 : 박병호\n",
            "생일로 찾음\n"
          ],
          "name": "stdout"
        },
        {
          "output_type": "stream",
          "text": [
            " 46%|████▌     | 507/1098 [13:15<18:14,  1.85s/it]"
          ],
          "name": "stderr"
        },
        {
          "output_type": "stream",
          "text": [
            "\n",
            "동명이인 존재 : 이원석\n",
            "생일로 찾음\n"
          ],
          "name": "stdout"
        },
        {
          "output_type": "stream",
          "text": [
            " 46%|████▋     | 510/1098 [13:22<20:00,  2.04s/it]"
          ],
          "name": "stderr"
        },
        {
          "output_type": "stream",
          "text": [
            "\n",
            "동명이인 존재 : 이병규\n",
            "생일로 찾음\n"
          ],
          "name": "stdout"
        },
        {
          "output_type": "stream",
          "text": [
            " 47%|████▋     | 515/1098 [13:30<17:08,  1.76s/it]"
          ],
          "name": "stderr"
        },
        {
          "output_type": "stream",
          "text": [
            "\n",
            "동명이인 존재 : 김현수\n",
            "생일로 찾음\n"
          ],
          "name": "stdout"
        },
        {
          "output_type": "stream",
          "text": [
            " 47%|████▋     | 521/1098 [13:43<21:45,  2.26s/it]"
          ],
          "name": "stderr"
        },
        {
          "output_type": "stream",
          "text": [
            "\n",
            "동명이인 존재 : 김성현\n",
            "생일로 찾음\n"
          ],
          "name": "stdout"
        },
        {
          "output_type": "stream",
          "text": [
            "\r 48%|████▊     | 522/1098 [13:46<22:27,  2.34s/it]"
          ],
          "name": "stderr"
        },
        {
          "output_type": "stream",
          "text": [
            "\n",
            "동명이인 존재 : 이재원\n",
            "생일로 찾음\n"
          ],
          "name": "stdout"
        },
        {
          "output_type": "stream",
          "text": [
            "\r 48%|████▊     | 523/1098 [13:48<22:50,  2.38s/it]"
          ],
          "name": "stderr"
        },
        {
          "output_type": "stream",
          "text": [
            "\n",
            "동명이인 존재 : 이명기\n",
            "생일로 찾음\n"
          ],
          "name": "stdout"
        },
        {
          "output_type": "stream",
          "text": [
            "\r 48%|████▊     | 524/1098 [13:51<23:24,  2.45s/it]"
          ],
          "name": "stderr"
        },
        {
          "output_type": "stream",
          "text": [
            "\n",
            "동명이인 존재 : 김재현\n",
            "생일로 찾음\n"
          ],
          "name": "stdout"
        },
        {
          "output_type": "stream",
          "text": [
            " 50%|█████     | 551/1098 [14:35<14:01,  1.54s/it]"
          ],
          "name": "stderr"
        },
        {
          "output_type": "stream",
          "text": [
            "\n",
            "동명이인 존재 : 박건우\n",
            "생일로 찾음\n"
          ],
          "name": "stdout"
        },
        {
          "output_type": "stream",
          "text": [
            " 51%|█████     | 556/1098 [14:43<13:51,  1.53s/it]"
          ],
          "name": "stderr"
        },
        {
          "output_type": "stream",
          "text": [
            "\n",
            "동명이인 존재 : 김지수\n",
            "생일로 찾음\n"
          ],
          "name": "stdout"
        },
        {
          "output_type": "stream",
          "text": [
            " 51%|█████     | 558/1098 [14:47<14:30,  1.61s/it]"
          ],
          "name": "stderr"
        },
        {
          "output_type": "stream",
          "text": [
            "\n",
            "동명이인 존재 : 김종민\n",
            "생일로 찾음\n"
          ],
          "name": "stdout"
        },
        {
          "output_type": "stream",
          "text": [
            " 51%|█████     | 560/1098 [14:50<14:32,  1.62s/it]"
          ],
          "name": "stderr"
        },
        {
          "output_type": "stream",
          "text": [
            "\n",
            "동명이인 존재 : 김상수\n",
            "생일로 찾음\n"
          ],
          "name": "stdout"
        },
        {
          "output_type": "stream",
          "text": [
            " 52%|█████▏    | 566/1098 [15:00<13:16,  1.50s/it]"
          ],
          "name": "stderr"
        },
        {
          "output_type": "stream",
          "text": [
            "\n",
            "동명이인 존재 : 천성호\n",
            "생일로 찾음\n"
          ],
          "name": "stdout"
        },
        {
          "output_type": "stream",
          "text": [
            " 52%|█████▏    | 571/1098 [15:06<11:42,  1.33s/it]"
          ],
          "name": "stderr"
        },
        {
          "output_type": "stream",
          "text": [
            "\n",
            "동명이인 존재 : 박지훈\n",
            "박지훈 생일 저장\n",
            "기록과 일치하는 선수 찾음\n"
          ],
          "name": "stdout"
        },
        {
          "output_type": "stream",
          "text": [
            " 53%|█████▎    | 577/1098 [15:16<14:09,  1.63s/it]"
          ],
          "name": "stderr"
        },
        {
          "output_type": "stream",
          "text": [
            "\n",
            "동명이인 존재 : 박주홍\n",
            "박주홍 생일 저장\n",
            "기록과 일치하는 선수 찾음\n"
          ],
          "name": "stdout"
        },
        {
          "output_type": "stream",
          "text": [
            " 53%|█████▎    | 587/1098 [15:31<11:11,  1.31s/it]"
          ],
          "name": "stderr"
        },
        {
          "output_type": "stream",
          "text": [
            "\n",
            "동명이인 존재 : 박정현\n",
            "박정현 생일 저장\n",
            "기록과 일치하는 선수 찾음\n"
          ],
          "name": "stdout"
        },
        {
          "output_type": "stream",
          "text": [
            " 54%|█████▎    | 589/1098 [15:37<17:36,  2.08s/it]"
          ],
          "name": "stderr"
        },
        {
          "output_type": "stream",
          "text": [
            "\n",
            "동명이인 존재 : 화이트\n",
            "화이트 생일 저장\n",
            "기록과 일치하는 선수 찾음\n"
          ],
          "name": "stdout"
        },
        {
          "output_type": "stream",
          "text": [
            " 54%|█████▍    | 591/1098 [15:41<16:49,  1.99s/it]"
          ],
          "name": "stderr"
        },
        {
          "output_type": "stream",
          "text": [
            "\n",
            "동명이인 존재 : 김성민\n",
            "김성민 생일 저장\n",
            "기록과 일치하는 선수 찾음\n"
          ],
          "name": "stdout"
        },
        {
          "output_type": "stream",
          "text": [
            " 54%|█████▍    | 597/1098 [15:52<12:25,  1.49s/it]"
          ],
          "name": "stderr"
        },
        {
          "output_type": "stream",
          "text": [
            "\n",
            "동명이인 존재 : 이해창\n",
            "생일로 찾음\n"
          ],
          "name": "stdout"
        },
        {
          "output_type": "stream",
          "text": [
            " 55%|█████▍    | 600/1098 [15:57<13:55,  1.68s/it]"
          ],
          "name": "stderr"
        },
        {
          "output_type": "stream",
          "text": [
            "\n",
            "동명이인 존재 : 이상호\n",
            "생일로 찾음\n"
          ],
          "name": "stdout"
        },
        {
          "output_type": "stream",
          "text": [
            " 55%|█████▌    | 605/1098 [16:05<12:11,  1.48s/it]"
          ],
          "name": "stderr"
        },
        {
          "output_type": "stream",
          "text": [
            "\n",
            "동명이인 존재 : 정진호\n",
            "생일로 찾음\n"
          ],
          "name": "stdout"
        },
        {
          "output_type": "stream",
          "text": [
            " 56%|█████▌    | 613/1098 [16:18<11:48,  1.46s/it]"
          ],
          "name": "stderr"
        },
        {
          "output_type": "stream",
          "text": [
            "\n",
            "동명이인 존재 : 이원재\n",
            "생일로 찾음\n"
          ],
          "name": "stdout"
        },
        {
          "output_type": "stream",
          "text": [
            " 56%|█████▌    | 617/1098 [16:25<14:47,  1.84s/it]"
          ],
          "name": "stderr"
        },
        {
          "output_type": "stream",
          "text": [
            "\n",
            "동명이인 존재 : 김재현\n",
            "생일로 찾음\n"
          ],
          "name": "stdout"
        },
        {
          "output_type": "stream",
          "text": [
            " 60%|█████▉    | 658/1098 [17:22<10:18,  1.40s/it]"
          ],
          "name": "stderr"
        },
        {
          "output_type": "stream",
          "text": [
            "\n",
            "동명이인 존재 : 김민혁\n",
            "생일로 찾음\n"
          ],
          "name": "stdout"
        },
        {
          "output_type": "stream",
          "text": [
            " 61%|██████    | 671/1098 [17:39<08:52,  1.25s/it]"
          ],
          "name": "stderr"
        },
        {
          "output_type": "stream",
          "text": [
            "\n",
            "동명이인 존재 : 김경호\n",
            "생일로 찾음\n"
          ],
          "name": "stdout"
        },
        {
          "output_type": "stream",
          "text": [
            " 62%|██████▏   | 680/1098 [17:51<08:27,  1.21s/it]"
          ],
          "name": "stderr"
        },
        {
          "output_type": "stream",
          "text": [
            "\n",
            "동명이인 존재 : 김재현\n",
            "생일로 찾음\n"
          ],
          "name": "stdout"
        },
        {
          "output_type": "stream",
          "text": [
            " 62%|██████▏   | 685/1098 [17:57<08:47,  1.28s/it]"
          ],
          "name": "stderr"
        },
        {
          "output_type": "stream",
          "text": [
            "\n",
            "동명이인 존재 : 박찬호\n",
            "생일로 찾음\n"
          ],
          "name": "stdout"
        },
        {
          "output_type": "stream",
          "text": [
            "\r 62%|██████▏   | 686/1098 [18:00<11:31,  1.68s/it]"
          ],
          "name": "stderr"
        },
        {
          "output_type": "stream",
          "text": [
            "\n",
            "동명이인 존재 : 박준태\n",
            "생일로 찾음\n"
          ],
          "name": "stdout"
        },
        {
          "output_type": "stream",
          "text": [
            " 63%|██████▎   | 689/1098 [18:05<10:37,  1.56s/it]"
          ],
          "name": "stderr"
        },
        {
          "output_type": "stream",
          "text": [
            "\n",
            "동명이인 존재 : 김민수\n",
            "생일로 찾음\n"
          ],
          "name": "stdout"
        },
        {
          "output_type": "stream",
          "text": [
            "\r 63%|██████▎   | 690/1098 [18:07<10:25,  1.53s/it]"
          ],
          "name": "stderr"
        },
        {
          "output_type": "stream",
          "text": [
            "\n",
            "동명이인 존재 : 조용호\n",
            "생일로 찾음\n"
          ],
          "name": "stdout"
        },
        {
          "output_type": "stream",
          "text": [
            " 63%|██████▎   | 694/1098 [18:13<10:22,  1.54s/it]"
          ],
          "name": "stderr"
        },
        {
          "output_type": "stream",
          "text": [
            "\n",
            "동명이인 존재 : 김태훈\n",
            "김태훈 생일 저장\n",
            "기록과 일치하는 선수 찾음\n"
          ],
          "name": "stdout"
        },
        {
          "output_type": "stream",
          "text": [
            " 64%|██████▍   | 702/1098 [18:27<08:37,  1.31s/it]"
          ],
          "name": "stderr"
        },
        {
          "output_type": "stream",
          "text": [
            "\n",
            "동명이인 존재 : 김기환\n",
            "김기환 생일 저장\n",
            "기록과 일치하는 선수 찾음\n"
          ],
          "name": "stdout"
        },
        {
          "output_type": "stream",
          "text": [
            " 64%|██████▍   | 704/1098 [18:31<10:05,  1.54s/it]"
          ],
          "name": "stderr"
        },
        {
          "output_type": "stream",
          "text": [
            "\n",
            "동명이인 존재 : 김지수\n",
            "김지수 생일 저장\n",
            "기록과 일치하는 선수 찾음\n"
          ],
          "name": "stdout"
        },
        {
          "output_type": "stream",
          "text": [
            " 66%|██████▌   | 722/1098 [18:55<08:25,  1.35s/it]"
          ],
          "name": "stderr"
        },
        {
          "output_type": "stream",
          "text": [
            "\n",
            "동명이인 존재 : 최원준\n",
            "생일로 찾음\n"
          ],
          "name": "stdout"
        },
        {
          "output_type": "stream",
          "text": [
            " 66%|██████▌   | 724/1098 [18:59<09:57,  1.60s/it]"
          ],
          "name": "stderr"
        },
        {
          "output_type": "stream",
          "text": [
            "\n",
            "동명이인 존재 : 이진영\n",
            "생일로 찾음\n"
          ],
          "name": "stdout"
        },
        {
          "output_type": "stream",
          "text": [
            "\r 66%|██████▌   | 725/1098 [19:00<09:43,  1.56s/it]"
          ],
          "name": "stderr"
        },
        {
          "output_type": "stream",
          "text": [
            "\n",
            "동명이인 존재 : 이동훈\n",
            "생일로 찾음\n"
          ],
          "name": "stdout"
        },
        {
          "output_type": "stream",
          "text": [
            " 66%|██████▋   | 730/1098 [19:07<08:38,  1.41s/it]"
          ],
          "name": "stderr"
        },
        {
          "output_type": "stream",
          "text": [
            "\n",
            "동명이인 존재 : 박준영\n",
            "박준영 생일 저장\n",
            "기록과 일치하는 선수 찾음\n"
          ],
          "name": "stdout"
        },
        {
          "output_type": "stream",
          "text": [
            " 67%|██████▋   | 740/1098 [19:24<09:16,  1.55s/it]"
          ],
          "name": "stderr"
        },
        {
          "output_type": "stream",
          "text": [
            "\n",
            "동명이인 존재 : 김민수\n",
            "생일로 찾음\n"
          ],
          "name": "stdout"
        },
        {
          "output_type": "stream",
          "text": [
            "\r 67%|██████▋   | 741/1098 [19:25<09:07,  1.53s/it]"
          ],
          "name": "stderr"
        },
        {
          "output_type": "stream",
          "text": [
            "\n",
            "동명이인 존재 : 이정훈\n",
            "생일로 찾음\n"
          ],
          "name": "stdout"
        },
        {
          "output_type": "stream",
          "text": [
            " 68%|██████▊   | 744/1098 [19:30<09:21,  1.59s/it]"
          ],
          "name": "stderr"
        },
        {
          "output_type": "stream",
          "text": [
            "\n",
            "동명이인 존재 : 박준혁\n",
            "박준혁 생일 저장\n",
            "기록과 일치하는 선수 찾음\n"
          ],
          "name": "stdout"
        },
        {
          "output_type": "stream",
          "text": [
            " 68%|██████▊   | 746/1098 [19:35<11:38,  1.98s/it]"
          ],
          "name": "stderr"
        },
        {
          "output_type": "stream",
          "text": [
            "\n",
            "동명이인 존재 : 이재원\n",
            "생일로 찾음\n"
          ],
          "name": "stdout"
        },
        {
          "output_type": "stream",
          "text": [
            " 68%|██████▊   | 748/1098 [19:38<10:16,  1.76s/it]"
          ],
          "name": "stderr"
        },
        {
          "output_type": "stream",
          "text": [
            "\n",
            "동명이인 존재 : 이승민\n",
            "이승민 생일 저장\n",
            "기록과 일치하는 선수 찾음\n"
          ],
          "name": "stdout"
        },
        {
          "output_type": "stream",
          "text": [
            " 69%|██████▉   | 755/1098 [19:48<08:41,  1.52s/it]"
          ],
          "name": "stderr"
        },
        {
          "output_type": "stream",
          "text": [
            "\n",
            "동명이인 존재 : 김진욱\n",
            "김진욱 생일 저장\n",
            "기록과 일치하는 선수 찾음\n"
          ],
          "name": "stdout"
        },
        {
          "output_type": "stream",
          "text": [
            " 69%|██████▉   | 761/1098 [19:58<08:01,  1.43s/it]"
          ],
          "name": "stderr"
        },
        {
          "output_type": "stream",
          "text": [
            "\n",
            "동명이인 존재 : 페르난데스\n",
            "생일로 찾음\n"
          ],
          "name": "stdout"
        },
        {
          "output_type": "stream",
          "text": [
            "\r 69%|██████▉   | 762/1098 [20:00<10:21,  1.85s/it]"
          ],
          "name": "stderr"
        },
        {
          "output_type": "stream",
          "text": [
            "\n",
            "동명이인 존재 : 김주형\n",
            "생일로 찾음\n"
          ],
          "name": "stdout"
        },
        {
          "output_type": "stream",
          "text": [
            " 70%|███████   | 771/1098 [20:13<09:00,  1.65s/it]"
          ],
          "name": "stderr"
        },
        {
          "output_type": "stream",
          "text": [
            "\n",
            "동명이인 존재 : 김현민\n",
            "김현민 생일 저장\n",
            "기록과 일치하는 선수 찾음\n"
          ],
          "name": "stdout"
        },
        {
          "output_type": "stream",
          "text": [
            " 71%|███████▏  | 783/1098 [20:30<07:56,  1.51s/it]"
          ],
          "name": "stderr"
        },
        {
          "output_type": "stream",
          "text": [
            "\n",
            "동명이인 존재 : 김태균\n",
            "생일로 찾음\n"
          ],
          "name": "stdout"
        },
        {
          "output_type": "stream",
          "text": [
            " 72%|███████▏  | 795/1098 [20:52<10:21,  2.05s/it]"
          ],
          "name": "stderr"
        },
        {
          "output_type": "stream",
          "text": [
            "\n",
            "동명이인 존재 : 윤석민\n",
            "생일로 찾음\n"
          ],
          "name": "stdout"
        },
        {
          "output_type": "stream",
          "text": [
            " 73%|███████▎  | 800/1098 [21:01<09:19,  1.88s/it]"
          ],
          "name": "stderr"
        },
        {
          "output_type": "stream",
          "text": [
            "\n",
            "동명이인 존재 : 박병호\n",
            "생일로 찾음\n"
          ],
          "name": "stdout"
        },
        {
          "output_type": "stream",
          "text": [
            " 73%|███████▎  | 803/1098 [21:08<09:52,  2.01s/it]"
          ],
          "name": "stderr"
        },
        {
          "output_type": "stream",
          "text": [
            "\n",
            "동명이인 존재 : 이원석\n",
            "생일로 찾음\n"
          ],
          "name": "stdout"
        },
        {
          "output_type": "stream",
          "text": [
            " 73%|███████▎  | 806/1098 [21:14<10:17,  2.11s/it]"
          ],
          "name": "stderr"
        },
        {
          "output_type": "stream",
          "text": [
            "\n",
            "동명이인 존재 : 이병규\n",
            "생일로 찾음\n"
          ],
          "name": "stdout"
        },
        {
          "output_type": "stream",
          "text": [
            " 74%|███████▍  | 811/1098 [21:23<09:21,  1.95s/it]"
          ],
          "name": "stderr"
        },
        {
          "output_type": "stream",
          "text": [
            "\n",
            "동명이인 존재 : 김현수\n",
            "생일로 찾음\n"
          ],
          "name": "stdout"
        },
        {
          "output_type": "stream",
          "text": [
            " 74%|███████▍  | 815/1098 [21:31<08:49,  1.87s/it]"
          ],
          "name": "stderr"
        },
        {
          "output_type": "stream",
          "text": [
            "\n",
            "동명이인 존재 : 김성현\n",
            "생일로 찾음\n"
          ],
          "name": "stdout"
        },
        {
          "output_type": "stream",
          "text": [
            "\r 74%|███████▍  | 816/1098 [21:34<09:35,  2.04s/it]"
          ],
          "name": "stderr"
        },
        {
          "output_type": "stream",
          "text": [
            "\n",
            "동명이인 존재 : 이재원\n",
            "생일로 찾음\n"
          ],
          "name": "stdout"
        },
        {
          "output_type": "stream",
          "text": [
            "\r 74%|███████▍  | 817/1098 [21:36<09:38,  2.06s/it]"
          ],
          "name": "stderr"
        },
        {
          "output_type": "stream",
          "text": [
            "\n",
            "동명이인 존재 : 이명기\n",
            "생일로 찾음\n"
          ],
          "name": "stdout"
        },
        {
          "output_type": "stream",
          "text": [
            "\r 74%|███████▍  | 818/1098 [21:39<11:07,  2.38s/it]"
          ],
          "name": "stderr"
        },
        {
          "output_type": "stream",
          "text": [
            "\n",
            "동명이인 존재 : 김재현\n",
            "생일로 찾음\n"
          ],
          "name": "stdout"
        },
        {
          "output_type": "stream",
          "text": [
            " 77%|███████▋  | 842/1098 [22:23<07:40,  1.80s/it]"
          ],
          "name": "stderr"
        },
        {
          "output_type": "stream",
          "text": [
            "\n",
            "동명이인 존재 : 박건우\n",
            "생일로 찾음\n"
          ],
          "name": "stdout"
        },
        {
          "output_type": "stream",
          "text": [
            " 77%|███████▋  | 848/1098 [22:34<07:05,  1.70s/it]"
          ],
          "name": "stderr"
        },
        {
          "output_type": "stream",
          "text": [
            "\n",
            "동명이인 존재 : 김상수\n",
            "생일로 찾음\n"
          ],
          "name": "stdout"
        },
        {
          "output_type": "stream",
          "text": [
            " 78%|███████▊  | 852/1098 [22:41<06:43,  1.64s/it]"
          ],
          "name": "stderr"
        },
        {
          "output_type": "stream",
          "text": [
            "\n",
            "동명이인 존재 : 천성호\n",
            "생일로 찾음\n"
          ],
          "name": "stdout"
        },
        {
          "output_type": "stream",
          "text": [
            " 78%|███████▊  | 855/1098 [22:45<05:58,  1.47s/it]"
          ],
          "name": "stderr"
        },
        {
          "output_type": "stream",
          "text": [
            "\n",
            "동명이인 존재 : 이주형\n",
            "생일로 찾음\n"
          ],
          "name": "stdout"
        },
        {
          "output_type": "stream",
          "text": [
            " 78%|███████▊  | 860/1098 [22:51<04:32,  1.15s/it]"
          ],
          "name": "stderr"
        },
        {
          "output_type": "stream",
          "text": [
            "\n",
            "동명이인 존재 : 박주홍\n",
            "생일로 찾음\n"
          ],
          "name": "stdout"
        },
        {
          "output_type": "stream",
          "text": [
            " 79%|███████▉  | 867/1098 [23:01<04:58,  1.29s/it]"
          ],
          "name": "stderr"
        },
        {
          "output_type": "stream",
          "text": [
            "\n",
            "동명이인 존재 : 박정현\n",
            "생일로 찾음\n"
          ],
          "name": "stdout"
        },
        {
          "output_type": "stream",
          "text": [
            " 80%|███████▉  | 875/1098 [23:12<04:51,  1.31s/it]"
          ],
          "name": "stderr"
        },
        {
          "output_type": "stream",
          "text": [
            "\n",
            "동명이인 존재 : 이주형\n",
            "이주형 생일 저장\n",
            "기록과 일치하는 선수 찾음\n"
          ],
          "name": "stdout"
        },
        {
          "output_type": "stream",
          "text": [
            " 81%|████████  | 888/1098 [23:32<04:12,  1.20s/it]"
          ],
          "name": "stderr"
        },
        {
          "output_type": "stream",
          "text": [
            "\n",
            "동명이인 존재 : 이해창\n",
            "생일로 찾음\n"
          ],
          "name": "stdout"
        },
        {
          "output_type": "stream",
          "text": [
            " 81%|████████  | 891/1098 [23:36<05:03,  1.47s/it]"
          ],
          "name": "stderr"
        },
        {
          "output_type": "stream",
          "text": [
            "\n",
            "동명이인 존재 : 이상호\n",
            "생일로 찾음\n"
          ],
          "name": "stdout"
        },
        {
          "output_type": "stream",
          "text": [
            " 82%|████████▏ | 895/1098 [23:42<04:49,  1.43s/it]"
          ],
          "name": "stderr"
        },
        {
          "output_type": "stream",
          "text": [
            "\n",
            "동명이인 존재 : 정진호\n",
            "생일로 찾음\n"
          ],
          "name": "stdout"
        },
        {
          "output_type": "stream",
          "text": [
            " 82%|████████▏ | 903/1098 [23:53<03:57,  1.22s/it]"
          ],
          "name": "stderr"
        },
        {
          "output_type": "stream",
          "text": [
            "\n",
            "동명이인 존재 : 이원재\n",
            "생일로 찾음\n"
          ],
          "name": "stdout"
        },
        {
          "output_type": "stream",
          "text": [
            " 83%|████████▎ | 907/1098 [23:59<04:13,  1.33s/it]"
          ],
          "name": "stderr"
        },
        {
          "output_type": "stream",
          "text": [
            "\n",
            "동명이인 존재 : 김재현\n",
            "생일로 찾음\n"
          ],
          "name": "stdout"
        },
        {
          "output_type": "stream",
          "text": [
            " 86%|████████▌ | 940/1098 [24:48<04:13,  1.61s/it]"
          ],
          "name": "stderr"
        },
        {
          "output_type": "stream",
          "text": [
            "\n",
            "동명이인 존재 : 김민혁\n",
            "생일로 찾음\n"
          ],
          "name": "stdout"
        },
        {
          "output_type": "stream",
          "text": [
            " 87%|████████▋ | 960/1098 [25:15<03:22,  1.47s/it]"
          ],
          "name": "stderr"
        },
        {
          "output_type": "stream",
          "text": [
            "\n",
            "동명이인 존재 : 박찬호\n",
            "생일로 찾음\n"
          ],
          "name": "stdout"
        },
        {
          "output_type": "stream",
          "text": [
            "\r 88%|████████▊ | 961/1098 [25:18<03:53,  1.70s/it]"
          ],
          "name": "stderr"
        },
        {
          "output_type": "stream",
          "text": [
            "\n",
            "동명이인 존재 : 박준태\n",
            "생일로 찾음\n"
          ],
          "name": "stdout"
        },
        {
          "output_type": "stream",
          "text": [
            " 88%|████████▊ | 963/1098 [25:20<03:33,  1.58s/it]"
          ],
          "name": "stderr"
        },
        {
          "output_type": "stream",
          "text": [
            "\n",
            "동명이인 존재 : 김민수\n",
            "생일로 찾음\n"
          ],
          "name": "stdout"
        },
        {
          "output_type": "stream",
          "text": [
            "\r 88%|████████▊ | 964/1098 [25:22<03:44,  1.67s/it]"
          ],
          "name": "stderr"
        },
        {
          "output_type": "stream",
          "text": [
            "\n",
            "동명이인 존재 : 조용호\n",
            "생일로 찾음\n"
          ],
          "name": "stdout"
        },
        {
          "output_type": "stream",
          "text": [
            " 88%|████████▊ | 968/1098 [25:29<03:23,  1.57s/it]"
          ],
          "name": "stderr"
        },
        {
          "output_type": "stream",
          "text": [
            "\n",
            "동명이인 존재 : 김태훈\n",
            "생일로 찾음\n"
          ],
          "name": "stdout"
        },
        {
          "output_type": "stream",
          "text": [
            "\r 88%|████████▊ | 969/1098 [25:30<03:30,  1.64s/it]"
          ],
          "name": "stderr"
        },
        {
          "output_type": "stream",
          "text": [
            "\n",
            "동명이인 존재 : 김재성\n",
            "생일로 찾음\n"
          ],
          "name": "stdout"
        },
        {
          "output_type": "stream",
          "text": [
            " 88%|████████▊ | 971/1098 [25:33<03:05,  1.46s/it]"
          ],
          "name": "stderr"
        },
        {
          "output_type": "stream",
          "text": [
            "\n",
            "동명이인 존재 : 김민혁\n",
            "생일로 찾음\n"
          ],
          "name": "stdout"
        },
        {
          "output_type": "stream",
          "text": [
            " 89%|████████▉ | 977/1098 [25:41<02:32,  1.26s/it]"
          ],
          "name": "stderr"
        },
        {
          "output_type": "stream",
          "text": [
            "\n",
            "동명이인 존재 : 김기환\n",
            "생일로 찾음\n"
          ],
          "name": "stdout"
        },
        {
          "output_type": "stream",
          "text": [
            " 89%|████████▉ | 979/1098 [25:43<02:30,  1.27s/it]"
          ],
          "name": "stderr"
        },
        {
          "output_type": "stream",
          "text": [
            "\n",
            "동명이인 존재 : 김지수\n",
            "생일로 찾음\n"
          ],
          "name": "stdout"
        },
        {
          "output_type": "stream",
          "text": [
            " 90%|████████▉ | 988/1098 [25:55<02:29,  1.36s/it]"
          ],
          "name": "stderr"
        },
        {
          "output_type": "stream",
          "text": [
            "\n",
            "동명이인 존재 : 최승민\n",
            "생일로 찾음\n"
          ],
          "name": "stdout"
        },
        {
          "output_type": "stream",
          "text": [
            " 90%|█████████ | 992/1098 [26:01<02:23,  1.36s/it]"
          ],
          "name": "stderr"
        },
        {
          "output_type": "stream",
          "text": [
            "\n",
            "동명이인 존재 : 김주성\n",
            "김주성 생일 저장\n",
            "기록과 일치하는 선수 찾음\n"
          ],
          "name": "stdout"
        },
        {
          "output_type": "stream",
          "text": [
            " 91%|█████████ | 996/1098 [26:08<02:40,  1.57s/it]"
          ],
          "name": "stderr"
        },
        {
          "output_type": "stream",
          "text": [
            "\n",
            "동명이인 존재 : 최원준\n",
            "생일로 찾음\n"
          ],
          "name": "stdout"
        },
        {
          "output_type": "stream",
          "text": [
            " 91%|█████████ | 998/1098 [26:12<02:44,  1.64s/it]"
          ],
          "name": "stderr"
        },
        {
          "output_type": "stream",
          "text": [
            "\n",
            "동명이인 존재 : 이진영\n",
            "생일로 찾음\n"
          ],
          "name": "stdout"
        },
        {
          "output_type": "stream",
          "text": [
            "\r 91%|█████████ | 999/1098 [26:14<02:41,  1.63s/it]"
          ],
          "name": "stderr"
        },
        {
          "output_type": "stream",
          "text": [
            "\n",
            "동명이인 존재 : 이동훈\n",
            "생일로 찾음\n"
          ],
          "name": "stdout"
        },
        {
          "output_type": "stream",
          "text": [
            " 91%|█████████ | 1001/1098 [26:17<02:25,  1.50s/it]"
          ],
          "name": "stderr"
        },
        {
          "output_type": "stream",
          "text": [
            "\n",
            "동명이인 존재 : 김주현\n",
            "생일로 찾음\n"
          ],
          "name": "stdout"
        },
        {
          "output_type": "stream",
          "text": [
            " 91%|█████████▏| 1004/1098 [26:21<02:14,  1.43s/it]"
          ],
          "name": "stderr"
        },
        {
          "output_type": "stream",
          "text": [
            "\n",
            "동명이인 존재 : 박준영\n",
            "생일로 찾음\n"
          ],
          "name": "stdout"
        },
        {
          "output_type": "stream",
          "text": [
            " 92%|█████████▏| 1011/1098 [26:31<02:05,  1.45s/it]"
          ],
          "name": "stderr"
        },
        {
          "output_type": "stream",
          "text": [
            "\n",
            "동명이인 존재 : 김민수\n",
            "생일로 찾음\n"
          ],
          "name": "stdout"
        },
        {
          "output_type": "stream",
          "text": [
            " 92%|█████████▏| 1013/1098 [26:34<01:59,  1.40s/it]"
          ],
          "name": "stderr"
        },
        {
          "output_type": "stream",
          "text": [
            "\n",
            "동명이인 존재 : 이정훈\n",
            "생일로 찾음\n"
          ],
          "name": "stdout"
        },
        {
          "output_type": "stream",
          "text": [
            " 93%|█████████▎| 1016/1098 [26:39<02:14,  1.64s/it]"
          ],
          "name": "stderr"
        },
        {
          "output_type": "stream",
          "text": [
            "\n",
            "동명이인 존재 : 김민수\n",
            "김민수 생일 저장\n",
            "기록과 일치하는 선수 찾음\n"
          ],
          "name": "stdout"
        },
        {
          "output_type": "stream",
          "text": [
            " 93%|█████████▎| 1018/1098 [26:46<03:04,  2.30s/it]"
          ],
          "name": "stderr"
        },
        {
          "output_type": "stream",
          "text": [
            "\n",
            "동명이인 존재 : 이재원\n",
            "생일로 찾음\n"
          ],
          "name": "stdout"
        },
        {
          "output_type": "stream",
          "text": [
            " 94%|█████████▍| 1030/1098 [27:02<01:39,  1.46s/it]"
          ],
          "name": "stderr"
        },
        {
          "output_type": "stream",
          "text": [
            "\n",
            "동명이인 존재 : 페르난데스\n",
            "생일로 찾음\n"
          ],
          "name": "stdout"
        },
        {
          "output_type": "stream",
          "text": [
            "\r 94%|█████████▍| 1031/1098 [27:04<01:59,  1.78s/it]"
          ],
          "name": "stderr"
        },
        {
          "output_type": "stream",
          "text": [
            "\n",
            "동명이인 존재 : 이명기\n",
            "이명기 생일 저장\n",
            "기록과 일치하는 선수 찾음\n"
          ],
          "name": "stdout"
        },
        {
          "output_type": "stream",
          "text": [
            " 96%|█████████▌| 1055/1098 [27:43<01:13,  1.72s/it]"
          ],
          "name": "stderr"
        },
        {
          "output_type": "stream",
          "text": [
            "\n",
            "동명이인 존재 : 박병호\n",
            "생일로 찾음\n"
          ],
          "name": "stdout"
        },
        {
          "output_type": "stream",
          "text": [
            " 96%|█████████▋| 1058/1098 [27:48<01:10,  1.76s/it]"
          ],
          "name": "stderr"
        },
        {
          "output_type": "stream",
          "text": [
            "\n",
            "동명이인 존재 : 이원석\n",
            "생일로 찾음\n"
          ],
          "name": "stdout"
        },
        {
          "output_type": "stream",
          "text": [
            " 97%|█████████▋| 1060/1098 [27:53<01:14,  1.95s/it]"
          ],
          "name": "stderr"
        },
        {
          "output_type": "stream",
          "text": [
            "\n",
            "동명이인 존재 : 이병규\n",
            "생일로 찾음\n"
          ],
          "name": "stdout"
        },
        {
          "output_type": "stream",
          "text": [
            " 97%|█████████▋| 1064/1098 [27:59<00:56,  1.65s/it]"
          ],
          "name": "stderr"
        },
        {
          "output_type": "stream",
          "text": [
            "\n",
            "동명이인 존재 : 김현수\n",
            "생일로 찾음\n"
          ],
          "name": "stdout"
        },
        {
          "output_type": "stream",
          "text": [
            " 97%|█████████▋| 1067/1098 [28:04<00:49,  1.61s/it]"
          ],
          "name": "stderr"
        },
        {
          "output_type": "stream",
          "text": [
            "\n",
            "동명이인 존재 : 김성현\n",
            "생일로 찾음\n"
          ],
          "name": "stdout"
        },
        {
          "output_type": "stream",
          "text": [
            "\r 97%|█████████▋| 1068/1098 [28:07<00:54,  1.83s/it]"
          ],
          "name": "stderr"
        },
        {
          "output_type": "stream",
          "text": [
            "\n",
            "동명이인 존재 : 이재원\n",
            "생일로 찾음\n"
          ],
          "name": "stdout"
        },
        {
          "output_type": "stream",
          "text": [
            "\r 97%|█████████▋| 1069/1098 [28:09<00:55,  1.92s/it]"
          ],
          "name": "stderr"
        },
        {
          "output_type": "stream",
          "text": [
            "\n",
            "동명이인 존재 : 이명기\n",
            "생일로 찾음\n"
          ],
          "name": "stdout"
        },
        {
          "output_type": "stream",
          "text": [
            " 99%|█████████▉| 1090/1098 [28:44<00:12,  1.61s/it]"
          ],
          "name": "stderr"
        },
        {
          "output_type": "stream",
          "text": [
            "\n",
            "동명이인 존재 : 박건우\n",
            "생일로 찾음\n"
          ],
          "name": "stdout"
        },
        {
          "output_type": "stream",
          "text": [
            "100%|█████████▉| 1095/1098 [28:52<00:04,  1.64s/it]"
          ],
          "name": "stderr"
        },
        {
          "output_type": "stream",
          "text": [
            "\n",
            "동명이인 존재 : 김상수\n",
            "생일로 찾음\n"
          ],
          "name": "stdout"
        },
        {
          "output_type": "stream",
          "text": [
            "100%|██████████| 1098/1098 [28:58<00:00,  1.58s/it]\n"
          ],
          "name": "stderr"
        }
      ]
    },
    {
      "cell_type": "code",
      "metadata": {
        "id": "9S5oVQiHrvJs",
        "colab": {
          "base_uri": "https://localhost:8080/",
          "height": 813
        },
        "outputId": "649621bb-6691-4621-e6fd-b5ae455db1ab"
      },
      "source": [
        "data"
      ],
      "execution_count": null,
      "outputs": [
        {
          "output_type": "execute_result",
          "data": {
            "text/html": [
              "<div>\n",
              "<style scoped>\n",
              "    .dataframe tbody tr th:only-of-type {\n",
              "        vertical-align: middle;\n",
              "    }\n",
              "\n",
              "    .dataframe tbody tr th {\n",
              "        vertical-align: top;\n",
              "    }\n",
              "\n",
              "    .dataframe thead th {\n",
              "        text-align: right;\n",
              "    }\n",
              "</style>\n",
              "<table border=\"1\" class=\"dataframe\">\n",
              "  <thead>\n",
              "    <tr style=\"text-align: right;\">\n",
              "      <th></th>\n",
              "      <th>GYEAR</th>\n",
              "      <th>PCODE</th>\n",
              "      <th>NAME</th>\n",
              "      <th>T_ID</th>\n",
              "      <th>POSITION</th>\n",
              "      <th>day</th>\n",
              "      <th>vs</th>\n",
              "      <th>inn</th>\n",
              "      <th>pitcher</th>\n",
              "      <th>batter</th>\n",
              "      <th>P</th>\n",
              "      <th>result</th>\n",
              "      <th>before</th>\n",
              "      <th>after</th>\n",
              "      <th>LEV</th>\n",
              "      <th>REa</th>\n",
              "      <th>WPs</th>\n",
              "      <th>WPe</th>\n",
              "      <th>WPa</th>\n",
              "    </tr>\n",
              "  </thead>\n",
              "  <tbody>\n",
              "    <tr>\n",
              "      <th>0</th>\n",
              "      <td>2018</td>\n",
              "      <td>60100</td>\n",
              "      <td>백창수</td>\n",
              "      <td>HH</td>\n",
              "      <td>외</td>\n",
              "      <td>2018-03-27</td>\n",
              "      <td>NC</td>\n",
              "      <td>8초</td>\n",
              "      <td>이민호</td>\n",
              "      <td>백창수</td>\n",
              "      <td>1-0</td>\n",
              "      <td>유격수 땅볼</td>\n",
              "      <td>무사  6:9</td>\n",
              "      <td>1사  6:9</td>\n",
              "      <td>0.88</td>\n",
              "      <td>-0.258</td>\n",
              "      <td>93.1</td>\n",
              "      <td>95.3</td>\n",
              "      <td>-0.022</td>\n",
              "    </tr>\n",
              "    <tr>\n",
              "      <th>1</th>\n",
              "      <td>2018</td>\n",
              "      <td>60100</td>\n",
              "      <td>백창수</td>\n",
              "      <td>HH</td>\n",
              "      <td>외</td>\n",
              "      <td>2018-03-28</td>\n",
              "      <td>NC</td>\n",
              "      <td>2초</td>\n",
              "      <td>구창모</td>\n",
              "      <td>백창수</td>\n",
              "      <td>2-3</td>\n",
              "      <td>볼넷</td>\n",
              "      <td>2사 2루 0:2</td>\n",
              "      <td>2사 1,2루 0:2</td>\n",
              "      <td>1.10</td>\n",
              "      <td>0.122</td>\n",
              "      <td>71.9</td>\n",
              "      <td>70.7</td>\n",
              "      <td>0.012</td>\n",
              "    </tr>\n",
              "    <tr>\n",
              "      <th>2</th>\n",
              "      <td>2018</td>\n",
              "      <td>60100</td>\n",
              "      <td>백창수</td>\n",
              "      <td>HH</td>\n",
              "      <td>외</td>\n",
              "      <td>2018-03-28</td>\n",
              "      <td>NC</td>\n",
              "      <td>4초</td>\n",
              "      <td>구창모</td>\n",
              "      <td>백창수</td>\n",
              "      <td>0-0</td>\n",
              "      <td>3루수 땅볼</td>\n",
              "      <td>2사  1:2</td>\n",
              "      <td>이닝종료 1:2</td>\n",
              "      <td>0.51</td>\n",
              "      <td>-0.117</td>\n",
              "      <td>67.4</td>\n",
              "      <td>68.8</td>\n",
              "      <td>-0.013</td>\n",
              "    </tr>\n",
              "    <tr>\n",
              "      <th>3</th>\n",
              "      <td>2018</td>\n",
              "      <td>60100</td>\n",
              "      <td>백창수</td>\n",
              "      <td>HH</td>\n",
              "      <td>외</td>\n",
              "      <td>2018-03-28</td>\n",
              "      <td>NC</td>\n",
              "      <td>7초</td>\n",
              "      <td>유원상</td>\n",
              "      <td>백창수</td>\n",
              "      <td>2-3</td>\n",
              "      <td>유격수 땅볼 실책</td>\n",
              "      <td>[실책포함]</td>\n",
              "      <td>무사  2:2</td>\n",
              "      <td>무사 1루 2:2</td>\n",
              "      <td>1.54</td>\n",
              "      <td>0.398</td>\n",
              "      <td>50.0</td>\n",
              "      <td>44.1</td>\n",
              "    </tr>\n",
              "    <tr>\n",
              "      <th>4</th>\n",
              "      <td>2018</td>\n",
              "      <td>60100</td>\n",
              "      <td>백창수</td>\n",
              "      <td>HH</td>\n",
              "      <td>외</td>\n",
              "      <td>2018-03-30</td>\n",
              "      <td>SK</td>\n",
              "      <td>2말</td>\n",
              "      <td>김태훈</td>\n",
              "      <td>백창수</td>\n",
              "      <td>0-1</td>\n",
              "      <td>백창수/10473 : 2루수 직선타 아웃</td>\n",
              "      <td>1사 2,3루 1:1</td>\n",
              "      <td>2사 2,3루 1:1</td>\n",
              "      <td>1.57</td>\n",
              "      <td>-0.833</td>\n",
              "      <td>64.1</td>\n",
              "      <td>56.1</td>\n",
              "      <td>-0.080</td>\n",
              "    </tr>\n",
              "    <tr>\n",
              "      <th>...</th>\n",
              "      <td>...</td>\n",
              "      <td>...</td>\n",
              "      <td>...</td>\n",
              "      <td>...</td>\n",
              "      <td>...</td>\n",
              "      <td>...</td>\n",
              "      <td>...</td>\n",
              "      <td>...</td>\n",
              "      <td>...</td>\n",
              "      <td>...</td>\n",
              "      <td>...</td>\n",
              "      <td>...</td>\n",
              "      <td>...</td>\n",
              "      <td>...</td>\n",
              "      <td>...</td>\n",
              "      <td>...</td>\n",
              "      <td>...</td>\n",
              "      <td>...</td>\n",
              "      <td>...</td>\n",
              "    </tr>\n",
              "    <tr>\n",
              "      <th>205941</th>\n",
              "      <td>2021</td>\n",
              "      <td>79608</td>\n",
              "      <td>안치홍</td>\n",
              "      <td>LT</td>\n",
              "      <td>내</td>\n",
              "      <td>2021-08-25</td>\n",
              "      <td>KIA</td>\n",
              "      <td>2초</td>\n",
              "      <td>멩덴</td>\n",
              "      <td>안치홍</td>\n",
              "      <td>1-1</td>\n",
              "      <td>2루수 땅볼</td>\n",
              "      <td>1사  0:0</td>\n",
              "      <td>2사  0:0</td>\n",
              "      <td>0.65</td>\n",
              "      <td>-0.180</td>\n",
              "      <td>52.4</td>\n",
              "      <td>54.0</td>\n",
              "      <td>-0.016</td>\n",
              "    </tr>\n",
              "    <tr>\n",
              "      <th>205942</th>\n",
              "      <td>2021</td>\n",
              "      <td>79608</td>\n",
              "      <td>안치홍</td>\n",
              "      <td>LT</td>\n",
              "      <td>내</td>\n",
              "      <td>2021-08-25</td>\n",
              "      <td>KIA</td>\n",
              "      <td>4초</td>\n",
              "      <td>멩덴</td>\n",
              "      <td>안치홍</td>\n",
              "      <td>1-1</td>\n",
              "      <td>유격수 땅볼</td>\n",
              "      <td>무사 1루 1:5</td>\n",
              "      <td>1사 1루 1:5</td>\n",
              "      <td>1.20</td>\n",
              "      <td>-0.380</td>\n",
              "      <td>85.1</td>\n",
              "      <td>87.8</td>\n",
              "      <td>-0.027</td>\n",
              "    </tr>\n",
              "    <tr>\n",
              "      <th>205943</th>\n",
              "      <td>2021</td>\n",
              "      <td>79608</td>\n",
              "      <td>안치홍</td>\n",
              "      <td>LT</td>\n",
              "      <td>내</td>\n",
              "      <td>2021-08-25</td>\n",
              "      <td>KIA</td>\n",
              "      <td>5초</td>\n",
              "      <td>멩덴</td>\n",
              "      <td>안치홍</td>\n",
              "      <td>0-0</td>\n",
              "      <td>포수 땅볼</td>\n",
              "      <td>1사  4:6</td>\n",
              "      <td>2사  4:6</td>\n",
              "      <td>0.79</td>\n",
              "      <td>-0.180</td>\n",
              "      <td>78.4</td>\n",
              "      <td>80.3</td>\n",
              "      <td>-0.019</td>\n",
              "    </tr>\n",
              "    <tr>\n",
              "      <th>205944</th>\n",
              "      <td>2021</td>\n",
              "      <td>79608</td>\n",
              "      <td>안치홍</td>\n",
              "      <td>LT</td>\n",
              "      <td>내</td>\n",
              "      <td>2021-08-25</td>\n",
              "      <td>KIA</td>\n",
              "      <td>7초</td>\n",
              "      <td>박진태</td>\n",
              "      <td>안치홍</td>\n",
              "      <td>1-1</td>\n",
              "      <td>유격수 내야안타</td>\n",
              "      <td>1사 1,2루 4:7</td>\n",
              "      <td>1사 만루 4:7</td>\n",
              "      <td>2.30</td>\n",
              "      <td>0.679</td>\n",
              "      <td>84.9</td>\n",
              "      <td>77.0</td>\n",
              "      <td>0.079</td>\n",
              "    </tr>\n",
              "    <tr>\n",
              "      <th>205945</th>\n",
              "      <td>2021</td>\n",
              "      <td>79608</td>\n",
              "      <td>안치홍</td>\n",
              "      <td>LT</td>\n",
              "      <td>내</td>\n",
              "      <td>2021-08-25</td>\n",
              "      <td>KIA</td>\n",
              "      <td>9초</td>\n",
              "      <td>김재열</td>\n",
              "      <td>안치홍</td>\n",
              "      <td>2-1</td>\n",
              "      <td>유격수 뜬공</td>\n",
              "      <td>무사  6:11</td>\n",
              "      <td>1사  6:11</td>\n",
              "      <td>0.16</td>\n",
              "      <td>-0.258</td>\n",
              "      <td>99.4</td>\n",
              "      <td>99.8</td>\n",
              "      <td>-0.004</td>\n",
              "    </tr>\n",
              "  </tbody>\n",
              "</table>\n",
              "<p>205946 rows × 19 columns</p>\n",
              "</div>"
            ],
            "text/plain": [
              "       GYEAR  PCODE NAME T_ID POSITION  ...        LEV     REa    WPs   WPe     WPa\n",
              "0       2018  60100  백창수   HH        외  ...       0.88  -0.258   93.1  95.3  -0.022\n",
              "1       2018  60100  백창수   HH        외  ...       1.10   0.122   71.9  70.7   0.012\n",
              "2       2018  60100  백창수   HH        외  ...       0.51  -0.117   67.4  68.8  -0.013\n",
              "3       2018  60100  백창수   HH        외  ...  무사 1루 2:2    1.54  0.398  50.0    44.1\n",
              "4       2018  60100  백창수   HH        외  ...       1.57  -0.833   64.1  56.1  -0.080\n",
              "...      ...    ...  ...  ...      ...  ...        ...     ...    ...   ...     ...\n",
              "205941  2021  79608  안치홍   LT        내  ...       0.65  -0.180   52.4  54.0  -0.016\n",
              "205942  2021  79608  안치홍   LT        내  ...       1.20  -0.380   85.1  87.8  -0.027\n",
              "205943  2021  79608  안치홍   LT        내  ...       0.79  -0.180   78.4  80.3  -0.019\n",
              "205944  2021  79608  안치홍   LT        내  ...       2.30   0.679   84.9  77.0   0.079\n",
              "205945  2021  79608  안치홍   LT        내  ...       0.16  -0.258   99.4  99.8  -0.004\n",
              "\n",
              "[205946 rows x 19 columns]"
            ]
          },
          "metadata": {},
          "execution_count": 6
        }
      ]
    },
    {
      "cell_type": "code",
      "metadata": {
        "colab": {
          "base_uri": "https://localhost:8080/"
        },
        "id": "I4H981SyGJhu",
        "outputId": "7d273ae3-bf42-45be-ba9d-e156fc919685"
      },
      "source": [
        "same_name_fail_list"
      ],
      "execution_count": null,
      "outputs": [
        {
          "output_type": "execute_result",
          "data": {
            "text/plain": [
              "[]"
            ]
          },
          "metadata": {},
          "execution_count": 7
        }
      ]
    },
    {
      "cell_type": "code",
      "metadata": {
        "id": "v912jgAUrR4O"
      },
      "source": [
        "data.to_csv('/content/drive/MyDrive/crawling_data.csv')"
      ],
      "execution_count": null,
      "outputs": []
    },
    {
      "cell_type": "code",
      "metadata": {
        "id": "48XqcPBftJm1",
        "colab": {
          "base_uri": "https://localhost:8080/",
          "height": 142
        },
        "outputId": "5a379103-0c85-4bd8-81b9-d9c7dff5a91c"
      },
      "source": [
        "hitter.loc[hitter['PCODE']==62797]"
      ],
      "execution_count": null,
      "outputs": [
        {
          "output_type": "execute_result",
          "data": {
            "text/html": [
              "<div>\n",
              "<style scoped>\n",
              "    .dataframe tbody tr th:only-of-type {\n",
              "        vertical-align: middle;\n",
              "    }\n",
              "\n",
              "    .dataframe tbody tr th {\n",
              "        vertical-align: top;\n",
              "    }\n",
              "\n",
              "    .dataframe thead th {\n",
              "        text-align: right;\n",
              "    }\n",
              "</style>\n",
              "<table border=\"1\" class=\"dataframe\">\n",
              "  <thead>\n",
              "    <tr style=\"text-align: right;\">\n",
              "      <th></th>\n",
              "      <th>GYEAR</th>\n",
              "      <th>PCODE</th>\n",
              "      <th>GAMENUM</th>\n",
              "      <th>PA</th>\n",
              "      <th>AB</th>\n",
              "      <th>BA</th>\n",
              "      <th>HIT</th>\n",
              "      <th>HR</th>\n",
              "      <th>TOTB</th>\n",
              "      <th>SLG</th>\n",
              "      <th>SF</th>\n",
              "      <th>BB</th>\n",
              "      <th>KK</th>\n",
              "      <th>IB</th>\n",
              "      <th>HP</th>\n",
              "      <th>GD</th>\n",
              "      <th>NAME</th>\n",
              "      <th>T_ID</th>\n",
              "      <th>POSITION</th>\n",
              "      <th>AGE_VA</th>\n",
              "      <th>MONEY</th>\n",
              "      <th>BIRTH</th>\n",
              "    </tr>\n",
              "  </thead>\n",
              "  <tbody>\n",
              "    <tr>\n",
              "      <th>45</th>\n",
              "      <td>2018</td>\n",
              "      <td>62797</td>\n",
              "      <td>73</td>\n",
              "      <td>236</td>\n",
              "      <td>209</td>\n",
              "      <td>0.254</td>\n",
              "      <td>53</td>\n",
              "      <td>2</td>\n",
              "      <td>68</td>\n",
              "      <td>0.325</td>\n",
              "      <td>1</td>\n",
              "      <td>22</td>\n",
              "      <td>32</td>\n",
              "      <td>2</td>\n",
              "      <td>4</td>\n",
              "      <td>8</td>\n",
              "      <td>양성우</td>\n",
              "      <td>HH</td>\n",
              "      <td>외</td>\n",
              "      <td>29</td>\n",
              "      <td>10000만원</td>\n",
              "      <td>0</td>\n",
              "    </tr>\n",
              "    <tr>\n",
              "      <th>316</th>\n",
              "      <td>2019</td>\n",
              "      <td>62797</td>\n",
              "      <td>56</td>\n",
              "      <td>129</td>\n",
              "      <td>119</td>\n",
              "      <td>0.168</td>\n",
              "      <td>20</td>\n",
              "      <td>1</td>\n",
              "      <td>26</td>\n",
              "      <td>0.218</td>\n",
              "      <td>0</td>\n",
              "      <td>9</td>\n",
              "      <td>28</td>\n",
              "      <td>0</td>\n",
              "      <td>0</td>\n",
              "      <td>2</td>\n",
              "      <td>양성우</td>\n",
              "      <td>HH</td>\n",
              "      <td>외</td>\n",
              "      <td>30</td>\n",
              "      <td>8500만원</td>\n",
              "      <td>0</td>\n",
              "    </tr>\n",
              "    <tr>\n",
              "      <th>627</th>\n",
              "      <td>2020</td>\n",
              "      <td>62797</td>\n",
              "      <td>5</td>\n",
              "      <td>9</td>\n",
              "      <td>9</td>\n",
              "      <td>0.222</td>\n",
              "      <td>2</td>\n",
              "      <td>0</td>\n",
              "      <td>2</td>\n",
              "      <td>0.222</td>\n",
              "      <td>0</td>\n",
              "      <td>0</td>\n",
              "      <td>3</td>\n",
              "      <td>0</td>\n",
              "      <td>0</td>\n",
              "      <td>0</td>\n",
              "      <td>양성우</td>\n",
              "      <td>HH</td>\n",
              "      <td>외</td>\n",
              "      <td>31</td>\n",
              "      <td>7000만원</td>\n",
              "      <td>0</td>\n",
              "    </tr>\n",
              "  </tbody>\n",
              "</table>\n",
              "</div>"
            ],
            "text/plain": [
              "     GYEAR  PCODE  GAMENUM   PA   AB  ...  T_ID  POSITION  AGE_VA    MONEY  BIRTH\n",
              "45    2018  62797       73  236  209  ...    HH         외      29  10000만원      0\n",
              "316   2019  62797       56  129  119  ...    HH         외      30   8500만원      0\n",
              "627   2020  62797        5    9    9  ...    HH         외      31   7000만원      0\n",
              "\n",
              "[3 rows x 22 columns]"
            ]
          },
          "metadata": {},
          "execution_count": 11
        }
      ]
    },
    {
      "cell_type": "code",
      "metadata": {
        "id": "WdUAno940g6N",
        "colab": {
          "base_uri": "https://localhost:8080/",
          "height": 80
        },
        "outputId": "1f116bb4-c904-4f83-bae7-905d36b53e2a"
      },
      "source": [
        "hts.loc[hts['GYEAR']==2018,:].loc[hts['G_ID']=='20180522LTSS0',:].loc[hts['PCODE']==79465]"
      ],
      "execution_count": null,
      "outputs": [
        {
          "output_type": "execute_result",
          "data": {
            "text/html": [
              "<div>\n",
              "<style scoped>\n",
              "    .dataframe tbody tr th:only-of-type {\n",
              "        vertical-align: middle;\n",
              "    }\n",
              "\n",
              "    .dataframe tbody tr th {\n",
              "        vertical-align: top;\n",
              "    }\n",
              "\n",
              "    .dataframe thead th {\n",
              "        text-align: right;\n",
              "    }\n",
              "</style>\n",
              "<table border=\"1\" class=\"dataframe\">\n",
              "  <thead>\n",
              "    <tr style=\"text-align: right;\">\n",
              "      <th></th>\n",
              "      <th>GYEAR</th>\n",
              "      <th>G_ID</th>\n",
              "      <th>PIT_ID</th>\n",
              "      <th>PCODE</th>\n",
              "      <th>T_ID</th>\n",
              "      <th>INN</th>\n",
              "      <th>HIT_VEL</th>\n",
              "      <th>HIT_ANG_VER</th>\n",
              "      <th>HIT_RESULT</th>\n",
              "      <th>PIT_VEL</th>\n",
              "      <th>STADIUM</th>\n",
              "    </tr>\n",
              "  </thead>\n",
              "  <tbody>\n",
              "    <tr>\n",
              "      <th>11066</th>\n",
              "      <td>2018</td>\n",
              "      <td>20180522LTSS0</td>\n",
              "      <td>180522_151937</td>\n",
              "      <td>79465</td>\n",
              "      <td>SS</td>\n",
              "      <td>4</td>\n",
              "      <td>156.84</td>\n",
              "      <td>3.6</td>\n",
              "      <td>2루타</td>\n",
              "      <td>136.82</td>\n",
              "      <td>대구</td>\n",
              "    </tr>\n",
              "  </tbody>\n",
              "</table>\n",
              "</div>"
            ],
            "text/plain": [
              "       GYEAR           G_ID         PIT_ID  ...  HIT_RESULT PIT_VEL  STADIUM\n",
              "11066   2018  20180522LTSS0  180522_151937  ...         2루타  136.82       대구\n",
              "\n",
              "[1 rows x 11 columns]"
            ]
          },
          "metadata": {},
          "execution_count": 45
        }
      ]
    },
    {
      "cell_type": "code",
      "metadata": {
        "id": "WmffVrKW4pAD",
        "colab": {
          "base_uri": "https://localhost:8080/",
          "height": 111
        },
        "outputId": "3e744f36-0dc1-4a55-9e71-f4dda9af63c9"
      },
      "source": [
        "hitter.loc[hitter['NAME']=='배영섭']"
      ],
      "execution_count": null,
      "outputs": [
        {
          "output_type": "execute_result",
          "data": {
            "text/html": [
              "<div>\n",
              "<style scoped>\n",
              "    .dataframe tbody tr th:only-of-type {\n",
              "        vertical-align: middle;\n",
              "    }\n",
              "\n",
              "    .dataframe tbody tr th {\n",
              "        vertical-align: top;\n",
              "    }\n",
              "\n",
              "    .dataframe thead th {\n",
              "        text-align: right;\n",
              "    }\n",
              "</style>\n",
              "<table border=\"1\" class=\"dataframe\">\n",
              "  <thead>\n",
              "    <tr style=\"text-align: right;\">\n",
              "      <th></th>\n",
              "      <th>GYEAR</th>\n",
              "      <th>PCODE</th>\n",
              "      <th>GAMENUM</th>\n",
              "      <th>PA</th>\n",
              "      <th>AB</th>\n",
              "      <th>BA</th>\n",
              "      <th>HIT</th>\n",
              "      <th>HR</th>\n",
              "      <th>TOTB</th>\n",
              "      <th>SLG</th>\n",
              "      <th>SF</th>\n",
              "      <th>BB</th>\n",
              "      <th>KK</th>\n",
              "      <th>IB</th>\n",
              "      <th>HP</th>\n",
              "      <th>GD</th>\n",
              "      <th>NAME</th>\n",
              "      <th>T_ID</th>\n",
              "      <th>POSITION</th>\n",
              "      <th>AGE_VA</th>\n",
              "      <th>MONEY</th>\n",
              "      <th>BIRTH</th>\n",
              "    </tr>\n",
              "  </thead>\n",
              "  <tbody>\n",
              "    <tr>\n",
              "      <th>269</th>\n",
              "      <td>2018</td>\n",
              "      <td>79465</td>\n",
              "      <td>69</td>\n",
              "      <td>168</td>\n",
              "      <td>147</td>\n",
              "      <td>0.245</td>\n",
              "      <td>36</td>\n",
              "      <td>0</td>\n",
              "      <td>42</td>\n",
              "      <td>0.286</td>\n",
              "      <td>0</td>\n",
              "      <td>16</td>\n",
              "      <td>35</td>\n",
              "      <td>2</td>\n",
              "      <td>3</td>\n",
              "      <td>2</td>\n",
              "      <td>배영섭</td>\n",
              "      <td>SS</td>\n",
              "      <td>외</td>\n",
              "      <td>32</td>\n",
              "      <td>13000만원</td>\n",
              "      <td>0</td>\n",
              "    </tr>\n",
              "    <tr>\n",
              "      <th>562</th>\n",
              "      <td>2019</td>\n",
              "      <td>79465</td>\n",
              "      <td>30</td>\n",
              "      <td>80</td>\n",
              "      <td>71</td>\n",
              "      <td>0.225</td>\n",
              "      <td>16</td>\n",
              "      <td>0</td>\n",
              "      <td>17</td>\n",
              "      <td>0.239</td>\n",
              "      <td>1</td>\n",
              "      <td>6</td>\n",
              "      <td>15</td>\n",
              "      <td>0</td>\n",
              "      <td>2</td>\n",
              "      <td>0</td>\n",
              "      <td>배영섭</td>\n",
              "      <td>SK</td>\n",
              "      <td>외</td>\n",
              "      <td>33</td>\n",
              "      <td>12000만원</td>\n",
              "      <td>0</td>\n",
              "    </tr>\n",
              "  </tbody>\n",
              "</table>\n",
              "</div>"
            ],
            "text/plain": [
              "     GYEAR  PCODE  GAMENUM   PA   AB  ...  T_ID  POSITION  AGE_VA    MONEY  BIRTH\n",
              "269   2018  79465       69  168  147  ...    SS         외      32  13000만원      0\n",
              "562   2019  79465       30   80   71  ...    SK         외      33  12000만원      0\n",
              "\n",
              "[2 rows x 22 columns]"
            ]
          },
          "metadata": {},
          "execution_count": 44
        }
      ]
    },
    {
      "cell_type": "code",
      "metadata": {
        "id": "pTIrXfrBsCQX"
      },
      "source": [
        "crawling_data = pd.read_csv('/content/drive/MyDrive/crawling_data.csv')"
      ],
      "execution_count": null,
      "outputs": []
    },
    {
      "cell_type": "code",
      "metadata": {
        "id": "jZkhb0r4ty2z"
      },
      "source": [
        "cd_result = crawling_data['result'].apply(lambda x : x.split(':')[1].strip() if len(x.split(':'))==2 else x.strip())\n",
        "cd_result = cd_result.apply(lambda x : re.sub('1루수|2루수|3루수|유격수|포수|우익수|중견수|좌익수|투수', \"\", x).strip())\n",
        "crawling_data.loc[:,['result']] = cd_result\n",
        "crawling_data"
      ],
      "execution_count": null,
      "outputs": []
    },
    {
      "cell_type": "code",
      "metadata": {
        "id": "rj2PIR01ucWV",
        "colab": {
          "base_uri": "https://localhost:8080/"
        },
        "outputId": "55cd62cc-57dc-4438-cafa-add7bc1c35b2"
      },
      "source": [
        "set(cd_result)"
      ],
      "execution_count": null,
      "outputs": [
        {
          "output_type": "execute_result",
          "data": {
            "text/plain": [
              "{'2루타',\n",
              " '3루타',\n",
              " '[실책포함]',\n",
              " '고의4구',\n",
              " '그라운드 홈런',\n",
              " '내야안타',\n",
              " '땅볼',\n",
              " '땅볼 실책',\n",
              " '뜬공',\n",
              " '몸에 맞는 볼',\n",
              " '번트 땅볼',\n",
              " '번트 실책',\n",
              " '번트 아웃',\n",
              " '번트 야수선택',\n",
              " '번트 파울 뜬공',\n",
              " '번트병살타',\n",
              " '번트안타',\n",
              " '병살타',\n",
              " '병살타 실책',\n",
              " '볼넷',\n",
              " '삼중살',\n",
              " '삼진',\n",
              " '삼진 아웃',\n",
              " '스트라이크낫아웃 출루',\n",
              " '쓰리번트 아웃',\n",
              " '안타',\n",
              " '야수선택',\n",
              " '야수선택(희번)',\n",
              " '인필드 뜬공',\n",
              " '직선타 실책',\n",
              " '직선타 아웃',\n",
              " '타격방해',\n",
              " '타구맞음',\n",
              " '파울 뜬공',\n",
              " '플라이 실책',\n",
              " '홈런',\n",
              " '희생번트',\n",
              " '희생번트 실책',\n",
              " '희생플라이',\n",
              " '희생플라이 실책'}"
            ]
          },
          "metadata": {},
          "execution_count": 25
        }
      ]
    },
    {
      "cell_type": "code",
      "metadata": {
        "id": "02EuBpHkyuAC",
        "colab": {
          "base_uri": "https://localhost:8080/"
        },
        "outputId": "d3b67e1e-ca20-47b7-efe1-0171f35302d2"
      },
      "source": [
        "result_list = ['2루타','3루타','그라운드 홈런','내야안타','땅볼','뜬공','번트 땅볼','번트 아웃','번트 야수선택','번드 파울 뜬공','번트병살타','번트안타','병살타','삼중살','쓰리번트 아웃','안타','야수선택','야수선택(희번)','인필드 뜬공','직선타 아웃','파울 뜬공','홈런','희생번트','희생플라이']\n",
        "\n",
        "\n",
        "result_list"
      ],
      "execution_count": null,
      "outputs": [
        {
          "output_type": "execute_result",
          "data": {
            "text/plain": [
              "['2루타',\n",
              " '3루타',\n",
              " '그라운드 홈런',\n",
              " '내야안타',\n",
              " '땅볼',\n",
              " '뜬공',\n",
              " '번트 땅볼',\n",
              " '번트 아웃',\n",
              " '번트 야수선택',\n",
              " '번드 파울 뜬공',\n",
              " '번트병살타',\n",
              " '번트안타',\n",
              " '병살타',\n",
              " '삼중살',\n",
              " '쓰리번트 아웃',\n",
              " '안타',\n",
              " '야수선택',\n",
              " '야수선택(희번)',\n",
              " '인필드 뜬공',\n",
              " '직선타 아웃',\n",
              " '파울 뜬공',\n",
              " '홈런',\n",
              " '희생번트',\n",
              " '희생플라이']"
            ]
          },
          "metadata": {},
          "execution_count": 49
        }
      ]
    },
    {
      "cell_type": "code",
      "metadata": {
        "id": "6ervjVaFv3Q5",
        "colab": {
          "base_uri": "https://localhost:8080/"
        },
        "outputId": "c1963f63-13d7-4ea1-c301-f5d61a86fd45"
      },
      "source": [
        "set(hts['HIT_RESULT'])"
      ],
      "execution_count": null,
      "outputs": [
        {
          "output_type": "execute_result",
          "data": {
            "text/plain": [
              "{'1루타',\n",
              " '2루타',\n",
              " '3루타',\n",
              " '내야안타(1루타)',\n",
              " '땅볼아웃',\n",
              " '번트아웃',\n",
              " '번트안타',\n",
              " '병살타',\n",
              " '삼중살타',\n",
              " '야수선택',\n",
              " '인필드플라이',\n",
              " '직선타',\n",
              " '파울플라이',\n",
              " '플라이',\n",
              " '홈런',\n",
              " '희생번트',\n",
              " '희생플라이'}"
            ]
          },
          "metadata": {},
          "execution_count": 26
        }
      ]
    },
    {
      "cell_type": "code",
      "metadata": {
        "id": "wXv80zphAWK3"
      },
      "source": [
        "hit_1 = ['']\n",
        "hit_2 = ['2루타']\n",
        "hit_3 = ['3루타']\n",
        "homerun = ['홈런', '그라운드 홈런']\n",
        "hit_infield = []\n",
        "hit_bunt\n",
        "out_ground\n",
        "out_bunt\n",
        "out_double\n",
        "out_triple\n",
        "out_fly_infield\n",
        "out_fly_linedrive\n",
        "out_fly_foul\n",
        "out_fly\n",
        "sacrifice_bunt\n",
        "sacrifice_fly"
      ],
      "execution_count": null,
      "outputs": []
    },
    {
      "cell_type": "code",
      "metadata": {
        "id": "g3knkfU-yCKg",
        "colab": {
          "base_uri": "https://localhost:8080/",
          "height": 419
        },
        "outputId": "31a49a1b-debb-4ad9-e4c7-13a3791323fd"
      },
      "source": [
        "crawling_data.loc[crawling_data['result'].apply(lambda x : x in result_list),:]"
      ],
      "execution_count": null,
      "outputs": [
        {
          "output_type": "execute_result",
          "data": {
            "text/html": [
              "<div>\n",
              "<style scoped>\n",
              "    .dataframe tbody tr th:only-of-type {\n",
              "        vertical-align: middle;\n",
              "    }\n",
              "\n",
              "    .dataframe tbody tr th {\n",
              "        vertical-align: top;\n",
              "    }\n",
              "\n",
              "    .dataframe thead th {\n",
              "        text-align: right;\n",
              "    }\n",
              "</style>\n",
              "<table border=\"1\" class=\"dataframe\">\n",
              "  <thead>\n",
              "    <tr style=\"text-align: right;\">\n",
              "      <th></th>\n",
              "      <th>Unnamed: 0</th>\n",
              "      <th>GYEAR</th>\n",
              "      <th>PCODE</th>\n",
              "      <th>NAME</th>\n",
              "      <th>T_ID</th>\n",
              "      <th>POSITION</th>\n",
              "      <th>day</th>\n",
              "      <th>vs</th>\n",
              "      <th>inn</th>\n",
              "      <th>pitcher</th>\n",
              "      <th>batter</th>\n",
              "      <th>P</th>\n",
              "      <th>result</th>\n",
              "      <th>before</th>\n",
              "      <th>after</th>\n",
              "      <th>LEV</th>\n",
              "      <th>REa</th>\n",
              "      <th>WPs</th>\n",
              "      <th>WPe</th>\n",
              "      <th>WPa</th>\n",
              "    </tr>\n",
              "  </thead>\n",
              "  <tbody>\n",
              "    <tr>\n",
              "      <th>0</th>\n",
              "      <td>0</td>\n",
              "      <td>2018</td>\n",
              "      <td>60100</td>\n",
              "      <td>백창수</td>\n",
              "      <td>HH</td>\n",
              "      <td>외</td>\n",
              "      <td>2018-03-27</td>\n",
              "      <td>NC</td>\n",
              "      <td>8초</td>\n",
              "      <td>이민호</td>\n",
              "      <td>백창수</td>\n",
              "      <td>1-0</td>\n",
              "      <td>땅볼</td>\n",
              "      <td>무사  6:9</td>\n",
              "      <td>1사  6:9</td>\n",
              "      <td>0.88</td>\n",
              "      <td>-0.258</td>\n",
              "      <td>93.1</td>\n",
              "      <td>95.3</td>\n",
              "      <td>-0.022</td>\n",
              "    </tr>\n",
              "    <tr>\n",
              "      <th>2</th>\n",
              "      <td>2</td>\n",
              "      <td>2018</td>\n",
              "      <td>60100</td>\n",
              "      <td>백창수</td>\n",
              "      <td>HH</td>\n",
              "      <td>외</td>\n",
              "      <td>2018-03-28</td>\n",
              "      <td>NC</td>\n",
              "      <td>4초</td>\n",
              "      <td>구창모</td>\n",
              "      <td>백창수</td>\n",
              "      <td>0-0</td>\n",
              "      <td>땅볼</td>\n",
              "      <td>2사  1:2</td>\n",
              "      <td>이닝종료 1:2</td>\n",
              "      <td>0.51</td>\n",
              "      <td>-0.117</td>\n",
              "      <td>67.4</td>\n",
              "      <td>68.8</td>\n",
              "      <td>-0.013</td>\n",
              "    </tr>\n",
              "    <tr>\n",
              "      <th>4</th>\n",
              "      <td>4</td>\n",
              "      <td>2018</td>\n",
              "      <td>60100</td>\n",
              "      <td>백창수</td>\n",
              "      <td>HH</td>\n",
              "      <td>외</td>\n",
              "      <td>2018-03-30</td>\n",
              "      <td>SK</td>\n",
              "      <td>2말</td>\n",
              "      <td>김태훈</td>\n",
              "      <td>백창수</td>\n",
              "      <td>0-1</td>\n",
              "      <td>직선타 아웃</td>\n",
              "      <td>1사 2,3루 1:1</td>\n",
              "      <td>2사 2,3루 1:1</td>\n",
              "      <td>1.57</td>\n",
              "      <td>-0.833</td>\n",
              "      <td>64.1</td>\n",
              "      <td>56.1</td>\n",
              "      <td>-0.080</td>\n",
              "    </tr>\n",
              "    <tr>\n",
              "      <th>8</th>\n",
              "      <td>8</td>\n",
              "      <td>2018</td>\n",
              "      <td>60100</td>\n",
              "      <td>백창수</td>\n",
              "      <td>HH</td>\n",
              "      <td>외</td>\n",
              "      <td>2018-03-31</td>\n",
              "      <td>SK</td>\n",
              "      <td>2말</td>\n",
              "      <td>김광현</td>\n",
              "      <td>백창수</td>\n",
              "      <td>2-2</td>\n",
              "      <td>땅볼</td>\n",
              "      <td>1사  3:0</td>\n",
              "      <td>2사  3:0</td>\n",
              "      <td>0.60</td>\n",
              "      <td>-0.180</td>\n",
              "      <td>22.6</td>\n",
              "      <td>21.1</td>\n",
              "      <td>-0.015</td>\n",
              "    </tr>\n",
              "    <tr>\n",
              "      <th>9</th>\n",
              "      <td>9</td>\n",
              "      <td>2018</td>\n",
              "      <td>60100</td>\n",
              "      <td>백창수</td>\n",
              "      <td>HH</td>\n",
              "      <td>외</td>\n",
              "      <td>2018-03-31</td>\n",
              "      <td>SK</td>\n",
              "      <td>5말</td>\n",
              "      <td>김광현</td>\n",
              "      <td>백창수</td>\n",
              "      <td>2-1</td>\n",
              "      <td>땅볼</td>\n",
              "      <td>무사  7:0</td>\n",
              "      <td>1사  7:0</td>\n",
              "      <td>0.23</td>\n",
              "      <td>-0.258</td>\n",
              "      <td>2.5</td>\n",
              "      <td>1.9</td>\n",
              "      <td>-0.006</td>\n",
              "    </tr>\n",
              "    <tr>\n",
              "      <th>...</th>\n",
              "      <td>...</td>\n",
              "      <td>...</td>\n",
              "      <td>...</td>\n",
              "      <td>...</td>\n",
              "      <td>...</td>\n",
              "      <td>...</td>\n",
              "      <td>...</td>\n",
              "      <td>...</td>\n",
              "      <td>...</td>\n",
              "      <td>...</td>\n",
              "      <td>...</td>\n",
              "      <td>...</td>\n",
              "      <td>...</td>\n",
              "      <td>...</td>\n",
              "      <td>...</td>\n",
              "      <td>...</td>\n",
              "      <td>...</td>\n",
              "      <td>...</td>\n",
              "      <td>...</td>\n",
              "      <td>...</td>\n",
              "    </tr>\n",
              "    <tr>\n",
              "      <th>205941</th>\n",
              "      <td>205941</td>\n",
              "      <td>2021</td>\n",
              "      <td>79608</td>\n",
              "      <td>안치홍</td>\n",
              "      <td>LT</td>\n",
              "      <td>내</td>\n",
              "      <td>2021-08-25</td>\n",
              "      <td>KIA</td>\n",
              "      <td>2초</td>\n",
              "      <td>멩덴</td>\n",
              "      <td>안치홍</td>\n",
              "      <td>1-1</td>\n",
              "      <td>땅볼</td>\n",
              "      <td>1사  0:0</td>\n",
              "      <td>2사  0:0</td>\n",
              "      <td>0.65</td>\n",
              "      <td>-0.180</td>\n",
              "      <td>52.4</td>\n",
              "      <td>54.0</td>\n",
              "      <td>-0.016</td>\n",
              "    </tr>\n",
              "    <tr>\n",
              "      <th>205942</th>\n",
              "      <td>205942</td>\n",
              "      <td>2021</td>\n",
              "      <td>79608</td>\n",
              "      <td>안치홍</td>\n",
              "      <td>LT</td>\n",
              "      <td>내</td>\n",
              "      <td>2021-08-25</td>\n",
              "      <td>KIA</td>\n",
              "      <td>4초</td>\n",
              "      <td>멩덴</td>\n",
              "      <td>안치홍</td>\n",
              "      <td>1-1</td>\n",
              "      <td>땅볼</td>\n",
              "      <td>무사 1루 1:5</td>\n",
              "      <td>1사 1루 1:5</td>\n",
              "      <td>1.20</td>\n",
              "      <td>-0.380</td>\n",
              "      <td>85.1</td>\n",
              "      <td>87.8</td>\n",
              "      <td>-0.027</td>\n",
              "    </tr>\n",
              "    <tr>\n",
              "      <th>205943</th>\n",
              "      <td>205943</td>\n",
              "      <td>2021</td>\n",
              "      <td>79608</td>\n",
              "      <td>안치홍</td>\n",
              "      <td>LT</td>\n",
              "      <td>내</td>\n",
              "      <td>2021-08-25</td>\n",
              "      <td>KIA</td>\n",
              "      <td>5초</td>\n",
              "      <td>멩덴</td>\n",
              "      <td>안치홍</td>\n",
              "      <td>0-0</td>\n",
              "      <td>땅볼</td>\n",
              "      <td>1사  4:6</td>\n",
              "      <td>2사  4:6</td>\n",
              "      <td>0.79</td>\n",
              "      <td>-0.180</td>\n",
              "      <td>78.4</td>\n",
              "      <td>80.3</td>\n",
              "      <td>-0.019</td>\n",
              "    </tr>\n",
              "    <tr>\n",
              "      <th>205944</th>\n",
              "      <td>205944</td>\n",
              "      <td>2021</td>\n",
              "      <td>79608</td>\n",
              "      <td>안치홍</td>\n",
              "      <td>LT</td>\n",
              "      <td>내</td>\n",
              "      <td>2021-08-25</td>\n",
              "      <td>KIA</td>\n",
              "      <td>7초</td>\n",
              "      <td>박진태</td>\n",
              "      <td>안치홍</td>\n",
              "      <td>1-1</td>\n",
              "      <td>내야안타</td>\n",
              "      <td>1사 1,2루 4:7</td>\n",
              "      <td>1사 만루 4:7</td>\n",
              "      <td>2.30</td>\n",
              "      <td>0.679</td>\n",
              "      <td>84.9</td>\n",
              "      <td>77.0</td>\n",
              "      <td>0.079</td>\n",
              "    </tr>\n",
              "    <tr>\n",
              "      <th>205945</th>\n",
              "      <td>205945</td>\n",
              "      <td>2021</td>\n",
              "      <td>79608</td>\n",
              "      <td>안치홍</td>\n",
              "      <td>LT</td>\n",
              "      <td>내</td>\n",
              "      <td>2021-08-25</td>\n",
              "      <td>KIA</td>\n",
              "      <td>9초</td>\n",
              "      <td>김재열</td>\n",
              "      <td>안치홍</td>\n",
              "      <td>2-1</td>\n",
              "      <td>뜬공</td>\n",
              "      <td>무사  6:11</td>\n",
              "      <td>1사  6:11</td>\n",
              "      <td>0.16</td>\n",
              "      <td>-0.258</td>\n",
              "      <td>99.4</td>\n",
              "      <td>99.8</td>\n",
              "      <td>-0.004</td>\n",
              "    </tr>\n",
              "  </tbody>\n",
              "</table>\n",
              "<p>145341 rows × 20 columns</p>\n",
              "</div>"
            ],
            "text/plain": [
              "        Unnamed: 0  GYEAR  PCODE NAME T_ID  ...   LEV    REa   WPs   WPe    WPa\n",
              "0                0   2018  60100  백창수   HH  ...  0.88 -0.258  93.1  95.3 -0.022\n",
              "2                2   2018  60100  백창수   HH  ...  0.51 -0.117  67.4  68.8 -0.013\n",
              "4                4   2018  60100  백창수   HH  ...  1.57 -0.833  64.1  56.1 -0.080\n",
              "8                8   2018  60100  백창수   HH  ...  0.60 -0.180  22.6  21.1 -0.015\n",
              "9                9   2018  60100  백창수   HH  ...  0.23 -0.258   2.5   1.9 -0.006\n",
              "...            ...    ...    ...  ...  ...  ...   ...    ...   ...   ...    ...\n",
              "205941      205941   2021  79608  안치홍   LT  ...  0.65 -0.180  52.4  54.0 -0.016\n",
              "205942      205942   2021  79608  안치홍   LT  ...  1.20 -0.380  85.1  87.8 -0.027\n",
              "205943      205943   2021  79608  안치홍   LT  ...  0.79 -0.180  78.4  80.3 -0.019\n",
              "205944      205944   2021  79608  안치홍   LT  ...  2.30  0.679  84.9  77.0  0.079\n",
              "205945      205945   2021  79608  안치홍   LT  ...  0.16 -0.258  99.4  99.8 -0.004\n",
              "\n",
              "[145341 rows x 20 columns]"
            ]
          },
          "metadata": {},
          "execution_count": 58
        }
      ]
    },
    {
      "cell_type": "code",
      "metadata": {
        "id": "HDX4tA7B7jLy",
        "colab": {
          "base_uri": "https://localhost:8080/",
          "height": 419
        },
        "outputId": "9dd999d3-46f0-446e-e7f5-c7a6c8b61aa5"
      },
      "source": [
        "crawling_data"
      ],
      "execution_count": null,
      "outputs": [
        {
          "output_type": "execute_result",
          "data": {
            "text/html": [
              "<div>\n",
              "<style scoped>\n",
              "    .dataframe tbody tr th:only-of-type {\n",
              "        vertical-align: middle;\n",
              "    }\n",
              "\n",
              "    .dataframe tbody tr th {\n",
              "        vertical-align: top;\n",
              "    }\n",
              "\n",
              "    .dataframe thead th {\n",
              "        text-align: right;\n",
              "    }\n",
              "</style>\n",
              "<table border=\"1\" class=\"dataframe\">\n",
              "  <thead>\n",
              "    <tr style=\"text-align: right;\">\n",
              "      <th></th>\n",
              "      <th>Unnamed: 0</th>\n",
              "      <th>GYEAR</th>\n",
              "      <th>PCODE</th>\n",
              "      <th>NAME</th>\n",
              "      <th>T_ID</th>\n",
              "      <th>POSITION</th>\n",
              "      <th>day</th>\n",
              "      <th>vs</th>\n",
              "      <th>inn</th>\n",
              "      <th>pitcher</th>\n",
              "      <th>batter</th>\n",
              "      <th>P</th>\n",
              "      <th>result</th>\n",
              "      <th>before</th>\n",
              "      <th>after</th>\n",
              "      <th>LEV</th>\n",
              "      <th>REa</th>\n",
              "      <th>WPs</th>\n",
              "      <th>WPe</th>\n",
              "      <th>WPa</th>\n",
              "    </tr>\n",
              "  </thead>\n",
              "  <tbody>\n",
              "    <tr>\n",
              "      <th>0</th>\n",
              "      <td>0</td>\n",
              "      <td>2018</td>\n",
              "      <td>60100</td>\n",
              "      <td>백창수</td>\n",
              "      <td>HH</td>\n",
              "      <td>외</td>\n",
              "      <td>2018-03-27</td>\n",
              "      <td>NC</td>\n",
              "      <td>8초</td>\n",
              "      <td>이민호</td>\n",
              "      <td>백창수</td>\n",
              "      <td>1-0</td>\n",
              "      <td>땅볼</td>\n",
              "      <td>무사  6:9</td>\n",
              "      <td>1사  6:9</td>\n",
              "      <td>0.88</td>\n",
              "      <td>-0.258</td>\n",
              "      <td>93.100</td>\n",
              "      <td>95.3</td>\n",
              "      <td>-0.022</td>\n",
              "    </tr>\n",
              "    <tr>\n",
              "      <th>1</th>\n",
              "      <td>1</td>\n",
              "      <td>2018</td>\n",
              "      <td>60100</td>\n",
              "      <td>백창수</td>\n",
              "      <td>HH</td>\n",
              "      <td>외</td>\n",
              "      <td>2018-03-28</td>\n",
              "      <td>NC</td>\n",
              "      <td>2초</td>\n",
              "      <td>구창모</td>\n",
              "      <td>백창수</td>\n",
              "      <td>2-3</td>\n",
              "      <td>볼넷</td>\n",
              "      <td>2사 2루 0:2</td>\n",
              "      <td>2사 1,2루 0:2</td>\n",
              "      <td>1.10</td>\n",
              "      <td>0.122</td>\n",
              "      <td>71.900</td>\n",
              "      <td>70.7</td>\n",
              "      <td>0.012</td>\n",
              "    </tr>\n",
              "    <tr>\n",
              "      <th>2</th>\n",
              "      <td>2</td>\n",
              "      <td>2018</td>\n",
              "      <td>60100</td>\n",
              "      <td>백창수</td>\n",
              "      <td>HH</td>\n",
              "      <td>외</td>\n",
              "      <td>2018-03-28</td>\n",
              "      <td>NC</td>\n",
              "      <td>4초</td>\n",
              "      <td>구창모</td>\n",
              "      <td>백창수</td>\n",
              "      <td>0-0</td>\n",
              "      <td>땅볼</td>\n",
              "      <td>2사  1:2</td>\n",
              "      <td>이닝종료 1:2</td>\n",
              "      <td>0.51</td>\n",
              "      <td>-0.117</td>\n",
              "      <td>67.400</td>\n",
              "      <td>68.8</td>\n",
              "      <td>-0.013</td>\n",
              "    </tr>\n",
              "    <tr>\n",
              "      <th>3</th>\n",
              "      <td>3</td>\n",
              "      <td>2018</td>\n",
              "      <td>60100</td>\n",
              "      <td>백창수</td>\n",
              "      <td>HH</td>\n",
              "      <td>외</td>\n",
              "      <td>2018-03-28</td>\n",
              "      <td>NC</td>\n",
              "      <td>7초</td>\n",
              "      <td>유원상</td>\n",
              "      <td>백창수</td>\n",
              "      <td>2-3</td>\n",
              "      <td>땅볼 실책</td>\n",
              "      <td>[실책포함]</td>\n",
              "      <td>무사  2:2</td>\n",
              "      <td>무사 1루 2:2</td>\n",
              "      <td>1.540</td>\n",
              "      <td>0.398</td>\n",
              "      <td>50.0</td>\n",
              "      <td>44.100</td>\n",
              "    </tr>\n",
              "    <tr>\n",
              "      <th>4</th>\n",
              "      <td>4</td>\n",
              "      <td>2018</td>\n",
              "      <td>60100</td>\n",
              "      <td>백창수</td>\n",
              "      <td>HH</td>\n",
              "      <td>외</td>\n",
              "      <td>2018-03-30</td>\n",
              "      <td>SK</td>\n",
              "      <td>2말</td>\n",
              "      <td>김태훈</td>\n",
              "      <td>백창수</td>\n",
              "      <td>0-1</td>\n",
              "      <td>직선타 아웃</td>\n",
              "      <td>1사 2,3루 1:1</td>\n",
              "      <td>2사 2,3루 1:1</td>\n",
              "      <td>1.57</td>\n",
              "      <td>-0.833</td>\n",
              "      <td>64.100</td>\n",
              "      <td>56.1</td>\n",
              "      <td>-0.080</td>\n",
              "    </tr>\n",
              "    <tr>\n",
              "      <th>...</th>\n",
              "      <td>...</td>\n",
              "      <td>...</td>\n",
              "      <td>...</td>\n",
              "      <td>...</td>\n",
              "      <td>...</td>\n",
              "      <td>...</td>\n",
              "      <td>...</td>\n",
              "      <td>...</td>\n",
              "      <td>...</td>\n",
              "      <td>...</td>\n",
              "      <td>...</td>\n",
              "      <td>...</td>\n",
              "      <td>...</td>\n",
              "      <td>...</td>\n",
              "      <td>...</td>\n",
              "      <td>...</td>\n",
              "      <td>...</td>\n",
              "      <td>...</td>\n",
              "      <td>...</td>\n",
              "      <td>...</td>\n",
              "    </tr>\n",
              "    <tr>\n",
              "      <th>205941</th>\n",
              "      <td>205941</td>\n",
              "      <td>2021</td>\n",
              "      <td>79608</td>\n",
              "      <td>안치홍</td>\n",
              "      <td>LT</td>\n",
              "      <td>내</td>\n",
              "      <td>2021-08-25</td>\n",
              "      <td>KIA</td>\n",
              "      <td>2초</td>\n",
              "      <td>멩덴</td>\n",
              "      <td>안치홍</td>\n",
              "      <td>1-1</td>\n",
              "      <td>땅볼</td>\n",
              "      <td>1사  0:0</td>\n",
              "      <td>2사  0:0</td>\n",
              "      <td>0.65</td>\n",
              "      <td>-0.180</td>\n",
              "      <td>52.400</td>\n",
              "      <td>54.0</td>\n",
              "      <td>-0.016</td>\n",
              "    </tr>\n",
              "    <tr>\n",
              "      <th>205942</th>\n",
              "      <td>205942</td>\n",
              "      <td>2021</td>\n",
              "      <td>79608</td>\n",
              "      <td>안치홍</td>\n",
              "      <td>LT</td>\n",
              "      <td>내</td>\n",
              "      <td>2021-08-25</td>\n",
              "      <td>KIA</td>\n",
              "      <td>4초</td>\n",
              "      <td>멩덴</td>\n",
              "      <td>안치홍</td>\n",
              "      <td>1-1</td>\n",
              "      <td>땅볼</td>\n",
              "      <td>무사 1루 1:5</td>\n",
              "      <td>1사 1루 1:5</td>\n",
              "      <td>1.20</td>\n",
              "      <td>-0.380</td>\n",
              "      <td>85.100</td>\n",
              "      <td>87.8</td>\n",
              "      <td>-0.027</td>\n",
              "    </tr>\n",
              "    <tr>\n",
              "      <th>205943</th>\n",
              "      <td>205943</td>\n",
              "      <td>2021</td>\n",
              "      <td>79608</td>\n",
              "      <td>안치홍</td>\n",
              "      <td>LT</td>\n",
              "      <td>내</td>\n",
              "      <td>2021-08-25</td>\n",
              "      <td>KIA</td>\n",
              "      <td>5초</td>\n",
              "      <td>멩덴</td>\n",
              "      <td>안치홍</td>\n",
              "      <td>0-0</td>\n",
              "      <td>땅볼</td>\n",
              "      <td>1사  4:6</td>\n",
              "      <td>2사  4:6</td>\n",
              "      <td>0.79</td>\n",
              "      <td>-0.180</td>\n",
              "      <td>78.400</td>\n",
              "      <td>80.3</td>\n",
              "      <td>-0.019</td>\n",
              "    </tr>\n",
              "    <tr>\n",
              "      <th>205944</th>\n",
              "      <td>205944</td>\n",
              "      <td>2021</td>\n",
              "      <td>79608</td>\n",
              "      <td>안치홍</td>\n",
              "      <td>LT</td>\n",
              "      <td>내</td>\n",
              "      <td>2021-08-25</td>\n",
              "      <td>KIA</td>\n",
              "      <td>7초</td>\n",
              "      <td>박진태</td>\n",
              "      <td>안치홍</td>\n",
              "      <td>1-1</td>\n",
              "      <td>내야안타</td>\n",
              "      <td>1사 1,2루 4:7</td>\n",
              "      <td>1사 만루 4:7</td>\n",
              "      <td>2.30</td>\n",
              "      <td>0.679</td>\n",
              "      <td>84.900</td>\n",
              "      <td>77.0</td>\n",
              "      <td>0.079</td>\n",
              "    </tr>\n",
              "    <tr>\n",
              "      <th>205945</th>\n",
              "      <td>205945</td>\n",
              "      <td>2021</td>\n",
              "      <td>79608</td>\n",
              "      <td>안치홍</td>\n",
              "      <td>LT</td>\n",
              "      <td>내</td>\n",
              "      <td>2021-08-25</td>\n",
              "      <td>KIA</td>\n",
              "      <td>9초</td>\n",
              "      <td>김재열</td>\n",
              "      <td>안치홍</td>\n",
              "      <td>2-1</td>\n",
              "      <td>뜬공</td>\n",
              "      <td>무사  6:11</td>\n",
              "      <td>1사  6:11</td>\n",
              "      <td>0.16</td>\n",
              "      <td>-0.258</td>\n",
              "      <td>99.400</td>\n",
              "      <td>99.8</td>\n",
              "      <td>-0.004</td>\n",
              "    </tr>\n",
              "  </tbody>\n",
              "</table>\n",
              "<p>205946 rows × 20 columns</p>\n",
              "</div>"
            ],
            "text/plain": [
              "        Unnamed: 0  GYEAR  PCODE NAME  ...    REa     WPs   WPe     WPa\n",
              "0                0   2018  60100  백창수  ... -0.258  93.100  95.3  -0.022\n",
              "1                1   2018  60100  백창수  ...  0.122  71.900  70.7   0.012\n",
              "2                2   2018  60100  백창수  ... -0.117  67.400  68.8  -0.013\n",
              "3                3   2018  60100  백창수  ...  1.540   0.398  50.0  44.100\n",
              "4                4   2018  60100  백창수  ... -0.833  64.100  56.1  -0.080\n",
              "...            ...    ...    ...  ...  ...    ...     ...   ...     ...\n",
              "205941      205941   2021  79608  안치홍  ... -0.180  52.400  54.0  -0.016\n",
              "205942      205942   2021  79608  안치홍  ... -0.380  85.100  87.8  -0.027\n",
              "205943      205943   2021  79608  안치홍  ... -0.180  78.400  80.3  -0.019\n",
              "205944      205944   2021  79608  안치홍  ...  0.679  84.900  77.0   0.079\n",
              "205945      205945   2021  79608  안치홍  ... -0.258  99.400  99.8  -0.004\n",
              "\n",
              "[205946 rows x 20 columns]"
            ]
          },
          "metadata": {},
          "execution_count": 59
        }
      ]
    },
    {
      "cell_type": "code",
      "metadata": {
        "id": "CSmq_K_Jsfr2",
        "colab": {
          "base_uri": "https://localhost:8080/",
          "height": 419
        },
        "outputId": "af787a9f-e51e-4e86-8ac9-f9193bdd7abe"
      },
      "source": [
        "crawling_data.loc[:,['in']]=\n",
        "# 뒤에 초말 없애고 숫자로만 표현"
      ],
      "execution_count": null,
      "outputs": [
        {
          "output_type": "execute_result",
          "data": {
            "text/html": [
              "<div>\n",
              "<style scoped>\n",
              "    .dataframe tbody tr th:only-of-type {\n",
              "        vertical-align: middle;\n",
              "    }\n",
              "\n",
              "    .dataframe tbody tr th {\n",
              "        vertical-align: top;\n",
              "    }\n",
              "\n",
              "    .dataframe thead th {\n",
              "        text-align: right;\n",
              "    }\n",
              "</style>\n",
              "<table border=\"1\" class=\"dataframe\">\n",
              "  <thead>\n",
              "    <tr style=\"text-align: right;\">\n",
              "      <th></th>\n",
              "      <th>Unnamed: 0</th>\n",
              "      <th>GYEAR</th>\n",
              "      <th>PCODE</th>\n",
              "      <th>NAME</th>\n",
              "      <th>T_ID</th>\n",
              "      <th>POSITION</th>\n",
              "      <th>day</th>\n",
              "      <th>vs</th>\n",
              "      <th>inn</th>\n",
              "      <th>pitcher</th>\n",
              "      <th>batter</th>\n",
              "      <th>P</th>\n",
              "      <th>result</th>\n",
              "      <th>before</th>\n",
              "      <th>after</th>\n",
              "      <th>LEV</th>\n",
              "      <th>REa</th>\n",
              "      <th>WPs</th>\n",
              "      <th>WPe</th>\n",
              "      <th>WPa</th>\n",
              "    </tr>\n",
              "  </thead>\n",
              "  <tbody>\n",
              "    <tr>\n",
              "      <th>0</th>\n",
              "      <td>0</td>\n",
              "      <td>2018</td>\n",
              "      <td>60100</td>\n",
              "      <td>백창수</td>\n",
              "      <td>HH</td>\n",
              "      <td>외</td>\n",
              "      <td>2018-03-27</td>\n",
              "      <td>NC</td>\n",
              "      <td>8초</td>\n",
              "      <td>이민호</td>\n",
              "      <td>백창수</td>\n",
              "      <td>1-0</td>\n",
              "      <td>유격수 땅볼</td>\n",
              "      <td>무사  6:9</td>\n",
              "      <td>1사  6:9</td>\n",
              "      <td>0.88</td>\n",
              "      <td>-0.258</td>\n",
              "      <td>93.100</td>\n",
              "      <td>95.3</td>\n",
              "      <td>-0.022</td>\n",
              "    </tr>\n",
              "    <tr>\n",
              "      <th>1</th>\n",
              "      <td>1</td>\n",
              "      <td>2018</td>\n",
              "      <td>60100</td>\n",
              "      <td>백창수</td>\n",
              "      <td>HH</td>\n",
              "      <td>외</td>\n",
              "      <td>2018-03-28</td>\n",
              "      <td>NC</td>\n",
              "      <td>2초</td>\n",
              "      <td>구창모</td>\n",
              "      <td>백창수</td>\n",
              "      <td>2-3</td>\n",
              "      <td>볼넷</td>\n",
              "      <td>2사 2루 0:2</td>\n",
              "      <td>2사 1,2루 0:2</td>\n",
              "      <td>1.10</td>\n",
              "      <td>0.122</td>\n",
              "      <td>71.900</td>\n",
              "      <td>70.7</td>\n",
              "      <td>0.012</td>\n",
              "    </tr>\n",
              "    <tr>\n",
              "      <th>2</th>\n",
              "      <td>2</td>\n",
              "      <td>2018</td>\n",
              "      <td>60100</td>\n",
              "      <td>백창수</td>\n",
              "      <td>HH</td>\n",
              "      <td>외</td>\n",
              "      <td>2018-03-28</td>\n",
              "      <td>NC</td>\n",
              "      <td>4초</td>\n",
              "      <td>구창모</td>\n",
              "      <td>백창수</td>\n",
              "      <td>0-0</td>\n",
              "      <td>3루수 땅볼</td>\n",
              "      <td>2사  1:2</td>\n",
              "      <td>이닝종료 1:2</td>\n",
              "      <td>0.51</td>\n",
              "      <td>-0.117</td>\n",
              "      <td>67.400</td>\n",
              "      <td>68.8</td>\n",
              "      <td>-0.013</td>\n",
              "    </tr>\n",
              "    <tr>\n",
              "      <th>3</th>\n",
              "      <td>3</td>\n",
              "      <td>2018</td>\n",
              "      <td>60100</td>\n",
              "      <td>백창수</td>\n",
              "      <td>HH</td>\n",
              "      <td>외</td>\n",
              "      <td>2018-03-28</td>\n",
              "      <td>NC</td>\n",
              "      <td>7초</td>\n",
              "      <td>유원상</td>\n",
              "      <td>백창수</td>\n",
              "      <td>2-3</td>\n",
              "      <td>유격수 땅볼 실책</td>\n",
              "      <td>[실책포함]</td>\n",
              "      <td>무사  2:2</td>\n",
              "      <td>무사 1루 2:2</td>\n",
              "      <td>1.540</td>\n",
              "      <td>0.398</td>\n",
              "      <td>50.0</td>\n",
              "      <td>44.100</td>\n",
              "    </tr>\n",
              "    <tr>\n",
              "      <th>4</th>\n",
              "      <td>4</td>\n",
              "      <td>2018</td>\n",
              "      <td>60100</td>\n",
              "      <td>백창수</td>\n",
              "      <td>HH</td>\n",
              "      <td>외</td>\n",
              "      <td>2018-03-30</td>\n",
              "      <td>SK</td>\n",
              "      <td>2말</td>\n",
              "      <td>김태훈</td>\n",
              "      <td>백창수</td>\n",
              "      <td>0-1</td>\n",
              "      <td>백창수/10473 : 2루수 직선타 아웃</td>\n",
              "      <td>1사 2,3루 1:1</td>\n",
              "      <td>2사 2,3루 1:1</td>\n",
              "      <td>1.57</td>\n",
              "      <td>-0.833</td>\n",
              "      <td>64.100</td>\n",
              "      <td>56.1</td>\n",
              "      <td>-0.080</td>\n",
              "    </tr>\n",
              "    <tr>\n",
              "      <th>...</th>\n",
              "      <td>...</td>\n",
              "      <td>...</td>\n",
              "      <td>...</td>\n",
              "      <td>...</td>\n",
              "      <td>...</td>\n",
              "      <td>...</td>\n",
              "      <td>...</td>\n",
              "      <td>...</td>\n",
              "      <td>...</td>\n",
              "      <td>...</td>\n",
              "      <td>...</td>\n",
              "      <td>...</td>\n",
              "      <td>...</td>\n",
              "      <td>...</td>\n",
              "      <td>...</td>\n",
              "      <td>...</td>\n",
              "      <td>...</td>\n",
              "      <td>...</td>\n",
              "      <td>...</td>\n",
              "      <td>...</td>\n",
              "    </tr>\n",
              "    <tr>\n",
              "      <th>205941</th>\n",
              "      <td>205941</td>\n",
              "      <td>2021</td>\n",
              "      <td>79608</td>\n",
              "      <td>안치홍</td>\n",
              "      <td>LT</td>\n",
              "      <td>내</td>\n",
              "      <td>2021-08-25</td>\n",
              "      <td>KIA</td>\n",
              "      <td>2초</td>\n",
              "      <td>멩덴</td>\n",
              "      <td>안치홍</td>\n",
              "      <td>1-1</td>\n",
              "      <td>2루수 땅볼</td>\n",
              "      <td>1사  0:0</td>\n",
              "      <td>2사  0:0</td>\n",
              "      <td>0.65</td>\n",
              "      <td>-0.180</td>\n",
              "      <td>52.400</td>\n",
              "      <td>54.0</td>\n",
              "      <td>-0.016</td>\n",
              "    </tr>\n",
              "    <tr>\n",
              "      <th>205942</th>\n",
              "      <td>205942</td>\n",
              "      <td>2021</td>\n",
              "      <td>79608</td>\n",
              "      <td>안치홍</td>\n",
              "      <td>LT</td>\n",
              "      <td>내</td>\n",
              "      <td>2021-08-25</td>\n",
              "      <td>KIA</td>\n",
              "      <td>4초</td>\n",
              "      <td>멩덴</td>\n",
              "      <td>안치홍</td>\n",
              "      <td>1-1</td>\n",
              "      <td>유격수 땅볼</td>\n",
              "      <td>무사 1루 1:5</td>\n",
              "      <td>1사 1루 1:5</td>\n",
              "      <td>1.20</td>\n",
              "      <td>-0.380</td>\n",
              "      <td>85.100</td>\n",
              "      <td>87.8</td>\n",
              "      <td>-0.027</td>\n",
              "    </tr>\n",
              "    <tr>\n",
              "      <th>205943</th>\n",
              "      <td>205943</td>\n",
              "      <td>2021</td>\n",
              "      <td>79608</td>\n",
              "      <td>안치홍</td>\n",
              "      <td>LT</td>\n",
              "      <td>내</td>\n",
              "      <td>2021-08-25</td>\n",
              "      <td>KIA</td>\n",
              "      <td>5초</td>\n",
              "      <td>멩덴</td>\n",
              "      <td>안치홍</td>\n",
              "      <td>0-0</td>\n",
              "      <td>포수 땅볼</td>\n",
              "      <td>1사  4:6</td>\n",
              "      <td>2사  4:6</td>\n",
              "      <td>0.79</td>\n",
              "      <td>-0.180</td>\n",
              "      <td>78.400</td>\n",
              "      <td>80.3</td>\n",
              "      <td>-0.019</td>\n",
              "    </tr>\n",
              "    <tr>\n",
              "      <th>205944</th>\n",
              "      <td>205944</td>\n",
              "      <td>2021</td>\n",
              "      <td>79608</td>\n",
              "      <td>안치홍</td>\n",
              "      <td>LT</td>\n",
              "      <td>내</td>\n",
              "      <td>2021-08-25</td>\n",
              "      <td>KIA</td>\n",
              "      <td>7초</td>\n",
              "      <td>박진태</td>\n",
              "      <td>안치홍</td>\n",
              "      <td>1-1</td>\n",
              "      <td>유격수 내야안타</td>\n",
              "      <td>1사 1,2루 4:7</td>\n",
              "      <td>1사 만루 4:7</td>\n",
              "      <td>2.30</td>\n",
              "      <td>0.679</td>\n",
              "      <td>84.900</td>\n",
              "      <td>77.0</td>\n",
              "      <td>0.079</td>\n",
              "    </tr>\n",
              "    <tr>\n",
              "      <th>205945</th>\n",
              "      <td>205945</td>\n",
              "      <td>2021</td>\n",
              "      <td>79608</td>\n",
              "      <td>안치홍</td>\n",
              "      <td>LT</td>\n",
              "      <td>내</td>\n",
              "      <td>2021-08-25</td>\n",
              "      <td>KIA</td>\n",
              "      <td>9초</td>\n",
              "      <td>김재열</td>\n",
              "      <td>안치홍</td>\n",
              "      <td>2-1</td>\n",
              "      <td>유격수 뜬공</td>\n",
              "      <td>무사  6:11</td>\n",
              "      <td>1사  6:11</td>\n",
              "      <td>0.16</td>\n",
              "      <td>-0.258</td>\n",
              "      <td>99.400</td>\n",
              "      <td>99.8</td>\n",
              "      <td>-0.004</td>\n",
              "    </tr>\n",
              "  </tbody>\n",
              "</table>\n",
              "<p>205946 rows × 20 columns</p>\n",
              "</div>"
            ],
            "text/plain": [
              "        Unnamed: 0  GYEAR  PCODE NAME  ...    REa     WPs   WPe     WPa\n",
              "0                0   2018  60100  백창수  ... -0.258  93.100  95.3  -0.022\n",
              "1                1   2018  60100  백창수  ...  0.122  71.900  70.7   0.012\n",
              "2                2   2018  60100  백창수  ... -0.117  67.400  68.8  -0.013\n",
              "3                3   2018  60100  백창수  ...  1.540   0.398  50.0  44.100\n",
              "4                4   2018  60100  백창수  ... -0.833  64.100  56.1  -0.080\n",
              "...            ...    ...    ...  ...  ...    ...     ...   ...     ...\n",
              "205941      205941   2021  79608  안치홍  ... -0.180  52.400  54.0  -0.016\n",
              "205942      205942   2021  79608  안치홍  ... -0.380  85.100  87.8  -0.027\n",
              "205943      205943   2021  79608  안치홍  ... -0.180  78.400  80.3  -0.019\n",
              "205944      205944   2021  79608  안치홍  ...  0.679  84.900  77.0   0.079\n",
              "205945      205945   2021  79608  안치홍  ... -0.258  99.400  99.8  -0.004\n",
              "\n",
              "[205946 rows x 20 columns]"
            ]
          },
          "metadata": {},
          "execution_count": 5
        }
      ]
    },
    {
      "cell_type": "code",
      "metadata": {
        "id": "Ot4kuoo_shI0"
      },
      "source": [
        "# merge 기준 : PCODE, G_ID(더블헤더 분류 가능), INN -> 같은 이닝에 같은 타자가 한번 더 들어올 수 있음 -> 그럼 결국 RESULT도 이용해야하네 -> 결과도 같으면 우짜지.....:( (방법이 없어) -> 그런 경우가 없길 바랄뿐\n",
        "# 그런 경우가 생긴다면 -> 순서대로 넣어야함 크롤링 데이터 기준으로 진행 되어야하는데..\n",
        "# 그런 경우가 생기면 -> 원래 2개의 데이터가 4개가 만들어짐 그중에서 2개를 빼는 작업이 필요 -> 순서 둘다 시간순이라 상관 없을듯(그렇게 믿고 싶음(hts도 같은 이닝에서 시간 순서여라..))\n",
        "# PIT_ID : 날짜_시간 : 시간이면 매우 좋음:)"
      ],
      "execution_count": null,
      "outputs": []
    },
    {
      "cell_type": "code",
      "metadata": {
        "id": "sC1QWs6jE4tk"
      },
      "source": [
        ""
      ],
      "execution_count": null,
      "outputs": []
    }
  ]
}