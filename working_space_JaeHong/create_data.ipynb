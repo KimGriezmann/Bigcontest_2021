{
  "nbformat": 4,
  "nbformat_minor": 0,
  "metadata": {
    "colab": {
      "name": "create_data.ipynb",
      "provenance": [],
      "authorship_tag": "ABX9TyP2nRSr7eFx9LC+7neu79Jo",
      "include_colab_link": true
    },
    "kernelspec": {
      "name": "python3",
      "display_name": "Python 3"
    },
    "language_info": {
      "name": "python"
    }
  },
  "cells": [
    {
      "cell_type": "markdown",
      "metadata": {
        "id": "view-in-github",
        "colab_type": "text"
      },
      "source": [
        "<a href=\"https://colab.research.google.com/github/KimGriezmann/Bigcontest_2021/blob/master/working_space_JaeHong/create_data.ipynb\" target=\"_parent\"><img src=\"https://colab.research.google.com/assets/colab-badge.svg\" alt=\"Open In Colab\"/></a>"
      ]
    },
    {
      "cell_type": "code",
      "metadata": {
        "colab": {
          "base_uri": "https://localhost:8080/"
        },
        "id": "Pwt8I8Ol_jJV",
        "outputId": "f0e74b17-10e9-46f2-f100-83b292ce4005"
      },
      "source": [
        "from google.colab import drive\n",
        "drive.mount('/content/drive')"
      ],
      "execution_count": 1,
      "outputs": [
        {
          "output_type": "stream",
          "name": "stdout",
          "text": [
            "Mounted at /content/drive\n"
          ]
        }
      ]
    },
    {
      "cell_type": "code",
      "metadata": {
        "id": "oYbYjwZc_nka"
      },
      "source": [
        "import pandas as pd\n",
        "import numpy as np\n",
        "\n",
        "ops_2018 = pd.read_csv('/content/drive/MyDrive/bigcontest/final_ops_data_2018.csv', encoding='euc-kr')\n",
        "ops_2019 = pd.read_csv('/content/drive/MyDrive/bigcontest/final_ops_data_2019.csv', encoding='euc-kr')\n",
        "ops_2020 = pd.read_csv('/content/drive/MyDrive/bigcontest/final_ops_data_2020.csv', encoding='euc-kr')\n",
        "ops_2021 = pd.read_csv('/content/drive/MyDrive/bigcontest/final_ops_data_2021.csv', encoding='euc-kr')\n",
        "barrel_df = pd.read_csv('/content/drive/MyDrive/bigcontest/barrel_df.csv', encoding='euc-kr')"
      ],
      "execution_count": 115,
      "outputs": []
    },
    {
      "cell_type": "code",
      "metadata": {
        "colab": {
          "base_uri": "https://localhost:8080/",
          "height": 419
        },
        "id": "tfB2lVdDBCZ7",
        "outputId": "b9357867-326b-4694-ee0b-daf0f435b7af"
      },
      "source": [
        "barrel_df"
      ],
      "execution_count": 116,
      "outputs": [
        {
          "output_type": "execute_result",
          "data": {
            "text/html": [
              "<div>\n",
              "<style scoped>\n",
              "    .dataframe tbody tr th:only-of-type {\n",
              "        vertical-align: middle;\n",
              "    }\n",
              "\n",
              "    .dataframe tbody tr th {\n",
              "        vertical-align: top;\n",
              "    }\n",
              "\n",
              "    .dataframe thead th {\n",
              "        text-align: right;\n",
              "    }\n",
              "</style>\n",
              "<table border=\"1\" class=\"dataframe\">\n",
              "  <thead>\n",
              "    <tr style=\"text-align: right;\">\n",
              "      <th></th>\n",
              "      <th>PCODE</th>\n",
              "      <th>DATE</th>\n",
              "      <th>G_ID</th>\n",
              "      <th>power_barrel</th>\n",
              "      <th>contact_barrel</th>\n",
              "      <th>clutch_barrel</th>\n",
              "    </tr>\n",
              "  </thead>\n",
              "  <tbody>\n",
              "    <tr>\n",
              "      <th>0</th>\n",
              "      <td>50054</td>\n",
              "      <td>20200603</td>\n",
              "      <td>0</td>\n",
              "      <td>0.0</td>\n",
              "      <td>2.0</td>\n",
              "      <td>0.0</td>\n",
              "    </tr>\n",
              "    <tr>\n",
              "      <th>1</th>\n",
              "      <td>50054</td>\n",
              "      <td>20200604</td>\n",
              "      <td>0</td>\n",
              "      <td>0.0</td>\n",
              "      <td>0.0</td>\n",
              "      <td>0.0</td>\n",
              "    </tr>\n",
              "    <tr>\n",
              "      <th>2</th>\n",
              "      <td>50054</td>\n",
              "      <td>20200607</td>\n",
              "      <td>0</td>\n",
              "      <td>0.0</td>\n",
              "      <td>1.0</td>\n",
              "      <td>0.0</td>\n",
              "    </tr>\n",
              "    <tr>\n",
              "      <th>3</th>\n",
              "      <td>50054</td>\n",
              "      <td>20200611</td>\n",
              "      <td>0</td>\n",
              "      <td>0.0</td>\n",
              "      <td>0.0</td>\n",
              "      <td>0.0</td>\n",
              "    </tr>\n",
              "    <tr>\n",
              "      <th>4</th>\n",
              "      <td>50054</td>\n",
              "      <td>20200613</td>\n",
              "      <td>1</td>\n",
              "      <td>0.0</td>\n",
              "      <td>1.0</td>\n",
              "      <td>0.0</td>\n",
              "    </tr>\n",
              "    <tr>\n",
              "      <th>...</th>\n",
              "      <td>...</td>\n",
              "      <td>...</td>\n",
              "      <td>...</td>\n",
              "      <td>...</td>\n",
              "      <td>...</td>\n",
              "      <td>...</td>\n",
              "    </tr>\n",
              "    <tr>\n",
              "      <th>49772</th>\n",
              "      <td>99810</td>\n",
              "      <td>20181006</td>\n",
              "      <td>0</td>\n",
              "      <td>0.0</td>\n",
              "      <td>1.0</td>\n",
              "      <td>0.0</td>\n",
              "    </tr>\n",
              "    <tr>\n",
              "      <th>49773</th>\n",
              "      <td>99810</td>\n",
              "      <td>20181009</td>\n",
              "      <td>0</td>\n",
              "      <td>0.0</td>\n",
              "      <td>1.0</td>\n",
              "      <td>0.0</td>\n",
              "    </tr>\n",
              "    <tr>\n",
              "      <th>49774</th>\n",
              "      <td>99810</td>\n",
              "      <td>20181010</td>\n",
              "      <td>1</td>\n",
              "      <td>0.0</td>\n",
              "      <td>0.0</td>\n",
              "      <td>0.0</td>\n",
              "    </tr>\n",
              "    <tr>\n",
              "      <th>49775</th>\n",
              "      <td>99810</td>\n",
              "      <td>20181012</td>\n",
              "      <td>0</td>\n",
              "      <td>2.0</td>\n",
              "      <td>0.0</td>\n",
              "      <td>0.0</td>\n",
              "    </tr>\n",
              "    <tr>\n",
              "      <th>49776</th>\n",
              "      <td>99810</td>\n",
              "      <td>20181013</td>\n",
              "      <td>0</td>\n",
              "      <td>0.0</td>\n",
              "      <td>0.0</td>\n",
              "      <td>0.0</td>\n",
              "    </tr>\n",
              "  </tbody>\n",
              "</table>\n",
              "<p>49777 rows × 6 columns</p>\n",
              "</div>"
            ],
            "text/plain": [
              "       PCODE      DATE  G_ID  power_barrel  contact_barrel  clutch_barrel\n",
              "0      50054  20200603     0           0.0             2.0            0.0\n",
              "1      50054  20200604     0           0.0             0.0            0.0\n",
              "2      50054  20200607     0           0.0             1.0            0.0\n",
              "3      50054  20200611     0           0.0             0.0            0.0\n",
              "4      50054  20200613     1           0.0             1.0            0.0\n",
              "...      ...       ...   ...           ...             ...            ...\n",
              "49772  99810  20181006     0           0.0             1.0            0.0\n",
              "49773  99810  20181009     0           0.0             1.0            0.0\n",
              "49774  99810  20181010     1           0.0             0.0            0.0\n",
              "49775  99810  20181012     0           2.0             0.0            0.0\n",
              "49776  99810  20181013     0           0.0             0.0            0.0\n",
              "\n",
              "[49777 rows x 6 columns]"
            ]
          },
          "metadata": {},
          "execution_count": 116
        }
      ]
    },
    {
      "cell_type": "code",
      "metadata": {
        "id": "R1x10l_7L3Hx"
      },
      "source": [
        "# 날짜 데이터 값, 형식 변경\n",
        "def day_to_int(data):\n",
        "  data['day'] = pd.to_numeric(data['day'].str.replace(\"-\",\"\"))\n",
        "  return data"
      ],
      "execution_count": 117,
      "outputs": []
    },
    {
      "cell_type": "code",
      "metadata": {
        "id": "4u4SH1VVL40_"
      },
      "source": [
        "ops_2021 = day_to_int(ops_2021)\n",
        "ops_2020 = day_to_int(ops_2020)\n",
        "ops_2019 = day_to_int(ops_2019)\n",
        "ops_2018 = day_to_int(ops_2018)"
      ],
      "execution_count": 118,
      "outputs": []
    },
    {
      "cell_type": "code",
      "metadata": {
        "id": "tnc3zW_3BHLx"
      },
      "source": [
        "#ops 데이터에 더블헤더(order) 처리\n",
        "# 더블헤더 처리\n",
        "def order_double(data):\n",
        "  temp = np.zeros(len(data))\n",
        "\n",
        "  # day, name이 같은 값이 있다는 것은 더블헤더 경기가 있다는것\n",
        "  # keep=False 옵션은 중복 값에 해당하는 튜플들을 모두 True로 리턴, 그 외 옵션 : 'first', 'last' 의 경우 둘 중 하나만 True\n",
        "  dup = data.loc[:,['day','name']].duplicated(keep=False) \n",
        "\n",
        "  for i in range(len(data)):\n",
        "    if dup[i]==False:\n",
        "      temp[i]=0\n",
        "    elif dup[i]==True:\n",
        "      temp[i]=1\n",
        "\n",
        "  # 중복의 첫번째 행은 더블헤더 1차전\n",
        "  # 중복인 두번째 행이 더블헤더 2차전이다.\n",
        "  for i in range(1,len(temp)):\n",
        "    if temp[i]==1 and temp[i-1]==1:\n",
        "      temp[i]=2\n",
        "\n",
        "  data['G_ID']=temp\n",
        "\n",
        "  return data"
      ],
      "execution_count": 119,
      "outputs": []
    },
    {
      "cell_type": "code",
      "metadata": {
        "id": "N_wZC6TkMd-X"
      },
      "source": [
        "ops_2021 = order_double(ops_2021)\n",
        "ops_2020 = order_double(ops_2020)\n",
        "ops_2019 = order_double(ops_2019)\n",
        "ops_2018 = order_double(ops_2018)"
      ],
      "execution_count": 120,
      "outputs": []
    },
    {
      "cell_type": "code",
      "metadata": {
        "id": "g4eMr08ATZ7f"
      },
      "source": [
        "ops_2021.rename(columns={'day':'DATE'}, inplace=True)\n",
        "ops_2020.rename(columns={'day':'DATE'}, inplace=True)\n",
        "ops_2019.rename(columns={'day':'DATE'}, inplace=True)\n",
        "ops_2018.rename(columns={'day':'DATE'}, inplace=True)"
      ],
      "execution_count": 123,
      "outputs": []
    },
    {
      "cell_type": "code",
      "metadata": {
        "id": "xa8ACFKoS4em"
      },
      "source": [
        "add_hts_2021 = ops_2021.merge(barrel_df, on=['PCODE', 'DATE', 'G_ID'])\n",
        "add_hts_2020 = ops_2020.merge(barrel_df, on=['PCODE', 'DATE', 'G_ID'])\n",
        "add_hts_2019 = ops_2019.merge(barrel_df, on=['PCODE', 'DATE', 'G_ID'])\n",
        "add_hts_2018 = ops_2018.merge(barrel_df, on=['PCODE', 'DATE', 'G_ID'])"
      ],
      "execution_count": 125,
      "outputs": []
    },
    {
      "cell_type": "code",
      "metadata": {
        "id": "1trGFldEVkn-"
      },
      "source": [
        "add_hts_2021.to_csv(\"add_hts_2021.csv\", encoding='euc-kr', index=False)\n",
        "add_hts_2020.to_csv(\"add_hts_2020.csv\", encoding='euc-kr', index=False)\n",
        "add_hts_2019.to_csv(\"add_hts_2019.csv\", encoding='euc-kr', index=False)\n",
        "add_hts_2018.to_csv(\"add_hts_2018.csv\", encoding='euc-kr', index=False)"
      ],
      "execution_count": 139,
      "outputs": []
    }
  ]
}