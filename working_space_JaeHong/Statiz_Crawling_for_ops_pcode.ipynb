{
  "nbformat": 4,
  "nbformat_minor": 0,
  "metadata": {
    "colab": {
      "name": "Web_Crawling__Selenium.ipynb",
      "provenance": []
    },
    "kernelspec": {
      "name": "python3",
      "display_name": "Python 3"
    },
    "language_info": {
      "name": "python"
    }
  },
  "cells": [
    {
      "cell_type": "markdown",
      "metadata": {
        "id": "X1Tk1MTB0Bva"
      },
      "source": [
        "### **OPS 예측을 위한 크롤링**"
      ]
    },
    {
      "cell_type": "markdown",
      "metadata": {
        "id": "aL1-XatdzsKR"
      },
      "source": [
        "*2018~2021년 4시즌간의 타자 날짜별 데이터를 수집* </br>\n",
        "*팀당 30명씩 타자를 선정했으며 투수가 타석에 들어선 경우는 제외* \n"
      ]
    },
    {
      "cell_type": "code",
      "metadata": {
        "colab": {
          "base_uri": "https://localhost:8080/"
        },
        "id": "bLmAzz0wAVn9",
        "outputId": "c29f64cd-3de0-4abb-c39c-0168fb6bc193"
      },
      "source": [
        "from google.colab import drive\n",
        "drive.mount('/content/drive')"
      ],
      "execution_count": 1,
      "outputs": [
        {
          "output_type": "stream",
          "name": "stdout",
          "text": [
            "Mounted at /content/drive\n"
          ]
        }
      ]
    },
    {
      "cell_type": "code",
      "metadata": {
        "id": "-t1j4uRGAlO2"
      },
      "source": [
        "import pandas as pd\n",
        "import numpy as np\n",
        "\n",
        "player_2018 = pd.read_csv('/content/drive/MyDrive/bigcontest/2021 빅콘테스트_데이터분석분야_챔피언리그_스포츠테크_선수_2018.csv', encoding='euc-kr')\n",
        "player_2019 = pd.read_csv('/content/drive/MyDrive/bigcontest/2021 빅콘테스트_데이터분석분야_챔피언리그_스포츠테크_선수_2019.csv', encoding='euc-kr')\n",
        "player_2020 = pd.read_csv('/content/drive/MyDrive/bigcontest/2021 빅콘테스트_데이터분석분야_챔피언리그_스포츠테크_선수_2020.csv', encoding='euc-kr')\n",
        "player_2021 = pd.read_csv('/content/drive/MyDrive/bigcontest/2021 빅콘테스트_데이터분석분야_챔피언리그_스포츠테크_선수_2021.csv', encoding='euc-kr')\n",
        "player = pd.concat([player_2018,player_2019,player_2020,player_2021], ignore_index=True)"
      ],
      "execution_count": 39,
      "outputs": []
    },
    {
      "cell_type": "code",
      "metadata": {
        "id": "dib2J8mRGXP-"
      },
      "source": [
        "player_2021.loc[(player_2021['T_ID'] == 'HH'), 'T_ID'] = '한화'\n",
        "player_2021.loc[(player_2021['T_ID'] == 'LT'), 'T_ID'] = '롯데'\n",
        "player_2021.loc[(player_2021['T_ID'] == 'SS'), 'T_ID'] = '삼성'\n",
        "player_2021.loc[(player_2021['T_ID'] == 'HT'), 'T_ID'] = 'KIA'\n",
        "player_2021.loc[(player_2021['T_ID'] == 'SK'), 'T_ID'] = 'SSG'\n",
        "player_2021.loc[(player_2021['T_ID'] == 'LG'), 'T_ID'] = 'LG'\n",
        "player_2021.loc[(player_2021['T_ID'] == 'KT'), 'T_ID'] = 'kt'\n",
        "player_2021.loc[(player_2021['T_ID'] == 'WO'), 'T_ID'] = '키움'\n",
        "player_2021.loc[(player_2021['T_ID'] == 'OB'), 'T_ID'] = '두산'\n",
        "player_2021.loc[(player_2021['T_ID'] == 'NC'), 'T_ID'] = 'NC'"
      ],
      "execution_count": 41,
      "outputs": []
    },
    {
      "cell_type": "code",
      "metadata": {
        "id": "Jj9wUD7jHfkc"
      },
      "source": [
        "player_2020.loc[(player_2020['T_ID'] == 'HH'), 'T_ID'] = '한화'\n",
        "player_2020.loc[(player_2020['T_ID'] == 'LT'), 'T_ID'] = '롯데'\n",
        "player_2020.loc[(player_2020['T_ID'] == 'SS'), 'T_ID'] = '삼성'\n",
        "player_2020.loc[(player_2020['T_ID'] == 'HT'), 'T_ID'] = 'KIA'\n",
        "player_2020.loc[(player_2020['T_ID'] == 'SK'), 'T_ID'] = 'SK'\n",
        "player_2020.loc[(player_2020['T_ID'] == 'LG'), 'T_ID'] = 'LG'\n",
        "player_2020.loc[(player_2020['T_ID'] == 'KT'), 'T_ID'] = 'kt'\n",
        "player_2020.loc[(player_2020['T_ID'] == 'WO'), 'T_ID'] = '키움'\n",
        "player_2020.loc[(player_2020['T_ID'] == 'OB'), 'T_ID'] = '두산'\n",
        "player_2020.loc[(player_2020['T_ID'] == 'NC'), 'T_ID'] = 'NC'"
      ],
      "execution_count": 42,
      "outputs": []
    },
    {
      "cell_type": "code",
      "metadata": {
        "id": "5u4RcpgFH8sl"
      },
      "source": [
        "player_2019.loc[(player_2019['T_ID'] == 'HH'), 'T_ID'] = '한화'\n",
        "player_2019.loc[(player_2019['T_ID'] == 'LT'), 'T_ID'] = '롯데'\n",
        "player_2019.loc[(player_2019['T_ID'] == 'SS'), 'T_ID'] = '삼성'\n",
        "player_2019.loc[(player_2019['T_ID'] == 'HT'), 'T_ID'] = 'KIA'\n",
        "player_2019.loc[(player_2019['T_ID'] == 'SK'), 'T_ID'] = 'SK'\n",
        "player_2019.loc[(player_2019['T_ID'] == 'LG'), 'T_ID'] = 'LG'\n",
        "player_2019.loc[(player_2019['T_ID'] == 'KT'), 'T_ID'] = 'kt'\n",
        "player_2019.loc[(player_2019['T_ID'] == 'WO'), 'T_ID'] = '키움'\n",
        "player_2019.loc[(player_2019['T_ID'] == 'OB'), 'T_ID'] = '두산'\n",
        "player_2019.loc[(player_2019['T_ID'] == 'NC'), 'T_ID'] = 'NC'"
      ],
      "execution_count": 43,
      "outputs": []
    },
    {
      "cell_type": "code",
      "metadata": {
        "id": "ORn-gatLIHdk"
      },
      "source": [
        "player_2018.loc[(player_2018['T_ID'] == 'HH'), 'T_ID'] = '한화'\n",
        "player_2018.loc[(player_2018['T_ID'] == 'LT'), 'T_ID'] = '롯데'\n",
        "player_2018.loc[(player_2018['T_ID'] == 'SS'), 'T_ID'] = '삼성'\n",
        "player_2018.loc[(player_2018['T_ID'] == 'HT'), 'T_ID'] = 'KIA'\n",
        "player_2018.loc[(player_2018['T_ID'] == 'SK'), 'T_ID'] = 'SK'\n",
        "player_2018.loc[(player_2018['T_ID'] == 'LG'), 'T_ID'] = 'LG'\n",
        "player_2018.loc[(player_2018['T_ID'] == 'KT'), 'T_ID'] = 'kt'\n",
        "player_2018.loc[(player_2018['T_ID'] == 'WO'), 'T_ID'] = '히어로즈'\n",
        "player_2018.loc[(player_2018['T_ID'] == 'OB'), 'T_ID'] = '두산'\n",
        "player_2018.loc[(player_2018['T_ID'] == 'NC'), 'T_ID'] = 'NC'"
      ],
      "execution_count": 44,
      "outputs": []
    },
    {
      "cell_type": "code",
      "metadata": {
        "id": "Pegj9G-UImex"
      },
      "source": [
        "player_2021.rename(columns={'NAME':'name', 'T_ID':'Team'}, inplace=True)\n",
        "player_2020.rename(columns={'NAME':'name', 'T_ID':'Team'}, inplace=True)\n",
        "player_2019.rename(columns={'NAME':'name', 'T_ID':'Team'}, inplace=True)\n",
        "player_2018.rename(columns={'NAME':'name', 'T_ID':'Team'}, inplace=True)"
      ],
      "execution_count": 49,
      "outputs": []
    },
    {
      "cell_type": "code",
      "metadata": {
        "id": "4JnFSzWR0GKP"
      },
      "source": [
        "def data_crawling(year):\n",
        "  # Parameter\n",
        "  # 원하는 연도 입력\n",
        "  year = year\n",
        "  # 데이터를 수집할 타자 중 타석 수 상위 명수\n",
        "  num_top_batter = 30\n",
        "\n",
        "  # Team List\n",
        "  # 원하는 연도에 등록된 팀을 미리 넣어두어야함 (추가 가능)\n",
        "  Team_2016 = ['NC','kt','LG','두산','히어로즈','KIA','롯데','삼성','SK','한화']\n",
        "  Team_2017 = ['NC','kt','LG','두산','히어로즈','KIA','롯데','삼성','SK','한화']\n",
        "  Team_2018 = ['NC','kt','LG','두산','히어로즈','KIA','롯데','삼성','SK','한화']\n",
        "  Team_2019 = ['NC','kt','LG','두산','키움','KIA','롯데','삼성','SK','한화']\n",
        "  Team_2020 = ['NC','kt','LG','두산','키움','KIA','롯데','삼성','SK','한화']\n",
        "  Team_2021 = ['kt','삼성','LG','SSG','NC','키움','두산','롯데','KIA','한화']\n",
        "\n",
        "  # Team Dictionary\n",
        "  # Team List를 딕셔너리에 넣음 (추가 가능)\n",
        "  TeamDic = {'2016':Team_2016, '2017':Team_2017, '2018':Team_2018, '2019':Team_2019, '2020':Team_2020, '2021':Team_2021}\n",
        "\n",
        "  ###############\n",
        "  # BeautifulSoup\n",
        "\n",
        "  import numpy as np\n",
        "  import pandas as pd\n",
        "  import requests\n",
        "  from bs4 import BeautifulSoup\n",
        "  from tqdm import tqdm\n",
        "\n",
        "  # 데이터를 모을 dataframe 생성\n",
        "  data = pd.DataFrame(columns=['name','Team', 'day', 'vs', 'result', 'bat_order', 'position', 'start_member', 'ab', 'score', 'hit', '2_hit', '3_hit', 'homerun', 'tb', 'rbi', 'sb', 'cs',\n",
        "                              'bb', 'hpp', 'ibb', 'so', 'gdp', 'sh', 'sf', 'avg', 'obp', 'slg', 'ops', 'pitch', 'avLI', 'RE24', 'WPA'])\n",
        "  batter_data = pd.DataFrame(columns=['Team','name', 'gyear', 'pcode'])\n",
        "\n",
        "  for Team in tqdm(TeamDic[str(year)]): # 선택한 연도의 팀을 하나씩 가져옴\n",
        "    # 스탯티즈 시즌기록실 페이지에서 연도, 팀 선택하고, 타석순으로 정렬\n",
        "    wp = requests.get(\"http://www.statiz.co.kr/stat.php?opt=0&sopt=0&re=0&ys=\" + str(year) + \"&ye=\" + str(year) + \"&se=0&te=\" + Team + \"&tm=&ty=0&qu=auto&po=0&as=&ae=&hi=&un=&pl=&da=1&o1=TPA&o2=TPA&de=1&lr=0&tr=&cv=&ml=1&sn=30&si=&cn=\")\n",
        "    soup = BeautifulSoup(wp.text, \"html.parser\")\n",
        "    \n",
        "    # 현재 팀의 타석 수 상위 num_top_batter 명\n",
        "    tmp_batter_list = np.empty(num_top_batter,dtype=object)\n",
        "    tmp_team = np.array([Team]*num_top_batter) # 타석 수 상위 타자 팀명 저장\n",
        "    tmp_batter_list_href = np.empty(num_top_batter,dtype=object)\n",
        "    tmp_batter_ps=0\n",
        "    \n",
        "    for batter in soup.find_all('tr')[2:12]:\n",
        "      tmp_batter_list[tmp_batter_ps] = batter.find_all('td')[1].text # 타석 수 상위 타자 이름 저장\n",
        "      tmp_team[tmp_batter_ps] = Team\n",
        "      tmp_batter_list_href[tmp_batter_ps] = batter.find_all('a')[0].attrs['href'] # 타석 수 상위 타자 주소 저장\n",
        "      tmp_batter_ps+=1\n",
        "\n",
        "    for batter in soup.find_all('tr')[14:24]:\n",
        "      tmp_batter_list[tmp_batter_ps] = batter.find_all('td')[1].text # 타석 수 상위 타자 이름 저장\n",
        "      tmp_team[tmp_batter_ps] = Team\n",
        "      tmp_batter_list_href[tmp_batter_ps] = batter.find_all('a')[0].attrs['href'] # 타석 수 상위 타자 주소 저장\n",
        "      tmp_batter_ps+=1\n",
        "\n",
        "    for batter in soup.find_all('tr')[26:36]:\n",
        "      if '|' in batter.find_all('td')[1].text:\n",
        "        break;\n",
        "      else:\n",
        "        tmp_batter_list[tmp_batter_ps] = batter.find_all('td')[1].text # 타석 수 상위 타자 이름 저장\n",
        "        tmp_team[tmp_batter_ps] = Team\n",
        "        tmp_batter_list_href[tmp_batter_ps] = batter.find_all('a')[0].attrs['href'] # 타석 수 상위 타자 주소 저장\n",
        "        tmp_batter_ps+=1\n",
        "\n",
        "    batter_data = pd.concat([batter_data, pd.DataFrame({'Team':tmp_team, 'name':tmp_batter_list})])\n",
        "\n",
        "    # 타석 수 상위 타자들 중 한명씩 데이터를 모으는 과정\n",
        "    for top_batter in range(num_top_batter):\n",
        "      if tmp_batter_list[top_batter] is None:\n",
        "        continue\n",
        "\n",
        "      wp=requests.get(\"http://www.statiz.co.kr/\"+tmp_batter_list_href[top_batter]) # 타자 주소로 접근\n",
        "      soup=BeautifulSoup(wp.text, \"html.parser\")\n",
        "\n",
        "      # 날짜별 데이터로 접근\n",
        "      href_byDate = soup.select('body > div > div.content-wrapper > div > section.content > div > div:nth-of-type(1) > div > div.col-xs-12.col-sm-8.col-md-8.col-lg-12 > div > div.table-responsive.no-padding.box > table')[0].find_all('a')[3].attrs['href']\n",
        "      wp=requests.get(\"http://www.statiz.co.kr/\"+href_byDate)\n",
        "      soup=BeautifulSoup(wp.text,\"html.parser\")\n",
        "\n",
        "      # 타자/투수 : 타자로 접근\n",
        "      href_by_batter=soup.select('body > div.wrapper > div.content-wrapper > div > section.content > div > div:nth-of-type(2) > div > div:nth-of-type(1) > div:nth-of-type(1)')[0].find_all('a')[0].attrs['href']\n",
        "      wp=requests.get(\"http://www.statiz.co.kr/\"+href_by_batter)\n",
        "      soup=BeautifulSoup(wp.text,\"html.parser\")\n",
        "      \n",
        "      # year : 원하는 연도로 접근\n",
        "      try:\n",
        "        href_byDate_year=soup.select('body > div.wrapper > div.content-wrapper > div > section.content > div > div:nth-of-type(2) > div > div:nth-of-type(2) > div')[0].find('a', text=str(year)).attrs['href']\n",
        "        wp=requests.get(\"http://www.statiz.co.kr/\"+href_byDate_year)\n",
        "        soup=BeautifulSoup(wp.text,\"html.parser\")\n",
        "      except:\n",
        "        pass\n",
        "\n",
        "      ## 데이터가 있는 페이지로 이동 완료\n",
        "      ## 이제 실질적인 데이터를 모을 차례\n",
        "      rawdata=soup.select('body > div > div.content-wrapper > div > section.content > div > div:nth-of-type(2) > div > div:nth-of-type(3) > div > div > table')[0]\n",
        "      # rawdata : 전체 테이블\n",
        "\n",
        "      # th를 제외한 순수한 경기 데이터 / th는 컬럼명 행이다.\n",
        "      rawdata_not_th = rawdata.find_all('tr',{'class':['oddrow_stz0','evenrow_stz0']})\n",
        "\n",
        "      # 행렬만들기\n",
        "      rawdata_name = np.array([tmp_batter_list[top_batter]]*len(rawdata_not_th))\n",
        "      rawdata_Team = np.array([tmp_team[top_batter]]*len(rawdata_not_th))\n",
        "      rawdata_day = np.zeros(len(rawdata_not_th), dtype=object)\n",
        "      rawdata_vs = np.zeros(len(rawdata_not_th), dtype=object)\n",
        "      rawdata_result = np.zeros(len(rawdata_not_th), dtype=object)\n",
        "      rawdata_bat_order = np.zeros(len(rawdata_not_th),dtype=np.int_)\n",
        "      rawdata_position = np.zeros(len(rawdata_not_th), dtype=object)\n",
        "      rawdata_start_memeber = np.zeros(len(rawdata_not_th), dtype=np.int_)\n",
        "      rawdata_ab = np.zeros(len(rawdata_not_th), dtype=np.int_)\n",
        "      rawdata_score = np.zeros(len(rawdata_not_th), dtype=np.int_)\n",
        "      rawdata_hit = np.zeros(len(rawdata_not_th), dtype=np.int_)\n",
        "      rawdata_2_hit = np.zeros(len(rawdata_not_th), dtype=np.int_)\n",
        "      rawdata_3_hit = np.zeros(len(rawdata_not_th), dtype=np.int_)\n",
        "      rawdata_homerun = np.zeros(len(rawdata_not_th), dtype=np.int_)\n",
        "      rawdata_tb = np.zeros(len(rawdata_not_th), dtype=np.int_)\n",
        "      rawdata_rbi = np.zeros(len(rawdata_not_th), dtype=np.int_)\n",
        "      rawdata_sb = np.zeros(len(rawdata_not_th), dtype=np.int_)\n",
        "      rawdata_cs = np.zeros(len(rawdata_not_th), dtype=np.int_)\n",
        "      rawdata_bb = np.zeros(len(rawdata_not_th), dtype=np.int_)\n",
        "      rawdata_hpp = np.zeros(len(rawdata_not_th), dtype=np.int_)\n",
        "      rawdata_ibb = np.zeros(len(rawdata_not_th), dtype=np.int_)\n",
        "      rawdata_so = np.zeros(len(rawdata_not_th), dtype=np.int_)\n",
        "      rawdata_gdp = np.zeros(len(rawdata_not_th), dtype=np.int_)\n",
        "      rawdata_sh = np.zeros(len(rawdata_not_th), dtype=np.int_)\n",
        "      rewdata_sf = np.zeros(len(rawdata_not_th), dtype=np.int_)\n",
        "      rawdata_avg = np.zeros(len(rawdata_not_th), dtype=np.float)\n",
        "      rawdata_obp = np.zeros(len(rawdata_not_th), dtype=np.float)\n",
        "      rawdata_slg = np.zeros(len(rawdata_not_th), dtype=np.float)\n",
        "      rawdata_ops = np.zeros(len(rawdata_not_th), dtype=np.float)\n",
        "      rawdata_pitch = np.zeros(len(rawdata_not_th), dtype=np.int_)\n",
        "      rawdata_avLI = np.zeros(len(rawdata_not_th), dtype=np.float)\n",
        "      rawdata_RE24 = np.zeros(len(rawdata_not_th), dtype=np.float)\n",
        "      rawdata_WPA = np.zeros(len(rawdata_not_th), dtype=np.float)\n",
        "\n",
        "      for rawdata_not_th_tr_index in range(len(rawdata_not_th)):\n",
        "        # 한 행 : rawdata_not_th_tr_index\n",
        "        rawdata_not_th_td = [text for text in rawdata_not_th[rawdata_not_th_tr_index].stripped_strings]\n",
        "        # 현재 행의 하나의 값 : rawdata_not_th_td[index]\n",
        "        # 데이터 입력\n",
        "        rawdata_day[rawdata_not_th_tr_index] = rawdata_not_th_td[1]\n",
        "        rawdata_vs[rawdata_not_th_tr_index] = rawdata_not_th_td[2]\n",
        "        rawdata_result[rawdata_not_th_tr_index] = rawdata_not_th_td[3]+\" \"+rawdata_not_th_td[4]\n",
        "        rawdata_bat_order[rawdata_not_th_tr_index] = rawdata_not_th_td[5]\n",
        "        rawdata_position[rawdata_not_th_tr_index] = rawdata_not_th_td[6]\n",
        "        rawdata_start_memeber[rawdata_not_th_tr_index] = rawdata_not_th_td[7]\n",
        "        rawdata_ab[rawdata_not_th_tr_index] = rawdata_not_th_td[8]\n",
        "        rawdata_score[rawdata_not_th_tr_index] = rawdata_not_th_td[9]\n",
        "        rawdata_hit[rawdata_not_th_tr_index] = rawdata_not_th_td[10]\n",
        "        rawdata_2_hit[rawdata_not_th_tr_index] = rawdata_not_th_td[11]\n",
        "        rawdata_3_hit[rawdata_not_th_tr_index] = rawdata_not_th_td[12]\n",
        "        rawdata_homerun[rawdata_not_th_tr_index] = rawdata_not_th_td[13]\n",
        "        rawdata_tb[rawdata_not_th_tr_index] = rawdata_not_th_td[14]\n",
        "        rawdata_rbi[rawdata_not_th_tr_index] = rawdata_not_th_td[15]\n",
        "        rawdata_sb[rawdata_not_th_tr_index] = rawdata_not_th_td[16]\n",
        "        rawdata_cs[rawdata_not_th_tr_index] = rawdata_not_th_td[17]\n",
        "        rawdata_bb[rawdata_not_th_tr_index] = rawdata_not_th_td[18]\n",
        "        rawdata_hpp[rawdata_not_th_tr_index] = rawdata_not_th_td[19]\n",
        "        rawdata_ibb[rawdata_not_th_tr_index] = rawdata_not_th_td[20]\n",
        "        rawdata_so[rawdata_not_th_tr_index] = rawdata_not_th_td[21]\n",
        "        rawdata_gdp[rawdata_not_th_tr_index] = rawdata_not_th_td[22]\n",
        "        rawdata_sh[rawdata_not_th_tr_index] = rawdata_not_th_td[23]\n",
        "        rewdata_sf[rawdata_not_th_tr_index] = rawdata_not_th_td[24]\n",
        "        rawdata_avg[rawdata_not_th_tr_index] = rawdata_not_th_td[25]\n",
        "        rawdata_obp[rawdata_not_th_tr_index] = rawdata_not_th_td[26]\n",
        "        rawdata_slg[rawdata_not_th_tr_index] = rawdata_not_th_td[27]\n",
        "        rawdata_ops[rawdata_not_th_tr_index] = rawdata_not_th_td[28]\n",
        "        rawdata_pitch[rawdata_not_th_tr_index] = rawdata_not_th_td[29]\n",
        "        rawdata_avLI[rawdata_not_th_tr_index] = rawdata_not_th_td[30]\n",
        "        rawdata_RE24[rawdata_not_th_tr_index] = rawdata_not_th_td[31]\n",
        "        rawdata_WPA[rawdata_not_th_tr_index] = rawdata_not_th_td[32]\n",
        "\n",
        "      tmp_data = pd.DataFrame()\n",
        "      # tmp_data는 각 선수마다 데이터를 모은 후 data에 머지하기 전에 존재\n",
        "      tmp_data['name'] = rawdata_name\n",
        "      tmp_data['Team'] = rawdata_Team\n",
        "      tmp_data['day'] = rawdata_day\n",
        "      tmp_data['vs'] = rawdata_vs\n",
        "      tmp_data['result'] = rawdata_result\n",
        "      tmp_data['bat_order'] = rawdata_bat_order\n",
        "      tmp_data['position'] = rawdata_position\n",
        "      tmp_data['start_member'] = rawdata_start_memeber\n",
        "      tmp_data['ab'] = rawdata_ab\n",
        "      tmp_data['score'] = rawdata_score\n",
        "      tmp_data['hit'] = rawdata_hit\n",
        "      tmp_data['2_hit'] = rawdata_2_hit\n",
        "      tmp_data['3_hit'] = rawdata_3_hit\n",
        "      tmp_data['homerun'] = rawdata_homerun\n",
        "      tmp_data['tb'] = rawdata_tb\n",
        "      tmp_data['rbi'] = rawdata_rbi\n",
        "      tmp_data['sb'] = rawdata_sb\n",
        "      tmp_data['cs'] = rawdata_cs\n",
        "      tmp_data['bb'] = rawdata_bb\n",
        "      tmp_data['hpp'] = rawdata_hpp\n",
        "      tmp_data['ibb'] = rawdata_ibb\n",
        "      tmp_data['so'] = rawdata_so\n",
        "      tmp_data['gdp'] = rawdata_gdp\n",
        "      tmp_data['sh'] = rawdata_sh\n",
        "      tmp_data['sf'] = rewdata_sf\n",
        "      tmp_data['avg'] = rawdata_avg\n",
        "      tmp_data['ops'] = rawdata_ops\n",
        "      tmp_data['slg'] = rawdata_slg\n",
        "      tmp_data['ops'] = rawdata_ops\n",
        "      tmp_data['pitch'] = rawdata_pitch\n",
        "      tmp_data['avLI'] = rawdata_avLI\n",
        "      tmp_data['RE24'] = rawdata_RE24\n",
        "      tmp_data['WPA'] = rawdata_WPA\n",
        "\n",
        "      # 데이터 쌓기\n",
        "      data = pd.concat([data,tmp_data])\n",
        "\n",
        "  return data, batter_data"
      ],
      "execution_count": 61,
      "outputs": []
    },
    {
      "cell_type": "markdown",
      "metadata": {
        "id": "xUCImE4Tljdy"
      },
      "source": [
        "### **2021 season**"
      ]
    },
    {
      "cell_type": "code",
      "metadata": {
        "id": "cF268fTNlmKw"
      },
      "source": [
        "ops_data_2021, ops_batter_data_2021 = data_crawling(2021)"
      ],
      "execution_count": null,
      "outputs": []
    },
    {
      "cell_type": "code",
      "metadata": {
        "id": "QpET-Q1slmNC"
      },
      "source": [
        "name_list_2021 = ops_data_2021['name'].values.tolist()\n",
        "name_set_2021 = set(name_list_2021)\n",
        "name_list_2021 = list(name_set_2021)"
      ],
      "execution_count": null,
      "outputs": []
    },
    {
      "cell_type": "code",
      "metadata": {
        "id": "-kwaYsvilmPb"
      },
      "source": [
        "len(name_list_2021)"
      ],
      "execution_count": null,
      "outputs": []
    },
    {
      "cell_type": "code",
      "metadata": {
        "id": "TWEW4iiklmSW"
      },
      "source": [
        "new_ops_data_2021 = ops_data_2021.merge(player_2021, on=['Team','name'])"
      ],
      "execution_count": null,
      "outputs": []
    },
    {
      "cell_type": "code",
      "metadata": {
        "id": "YdcYj6jjlmUA"
      },
      "source": [
        "name_list_2021_2 = new_ops_data_2021['name'].values.tolist()\n",
        "name_set_2021_2 = set(name_list_2021_2)\n",
        "name_list_2021_2 = list(name_set_2021_2)"
      ],
      "execution_count": null,
      "outputs": []
    },
    {
      "cell_type": "code",
      "metadata": {
        "id": "cgAzQNVQlmWc"
      },
      "source": [
        "diff_2021 = list(set(name_list_2021) - set(name_list_2021_2))\n",
        "diff_2021"
      ],
      "execution_count": null,
      "outputs": []
    },
    {
      "cell_type": "code",
      "metadata": {
        "id": "lRV66_OulmY7"
      },
      "source": [
        "player_2021.loc[player_2021['name']=='한동민']"
      ],
      "execution_count": null,
      "outputs": []
    },
    {
      "cell_type": "code",
      "metadata": {
        "id": "p3mrFpWjlmcA"
      },
      "source": [
        "ops_data_2021.loc[ops_data_2021['name']=='한유섬']"
      ],
      "execution_count": null,
      "outputs": []
    },
    {
      "cell_type": "code",
      "metadata": {
        "id": "KEOf01i4lmdu"
      },
      "source": [
        "#임동휘, 윤여운, 백진우, 한유섬\n",
        "#개명하여 PCODE를 불러올 수 없음\n",
        "#따라서 PCODE가 저장된 선수 파일에서 개명한 이름을 최신화\n",
        "player_2021.loc[(player_2021['name'] == '임지열'), 'name'] = '임동휘'\n",
        "player_2021.loc[(player_2021['name'] == '윤수강'), 'name'] = '윤여운'\n",
        "player_2021.loc[(player_2021['name'] == '백창수'), 'name'] = '백진우'\n",
        "player_2021.loc[(player_2021['name'] == '한동민'), 'name'] = '한유섬'"
      ],
      "execution_count": null,
      "outputs": []
    },
    {
      "cell_type": "code",
      "metadata": {
        "id": "RfQgp1jjlmgR"
      },
      "source": [
        "final_ops_data_2021 = ops_data_2021.merge(player_2021, on=['Team','name'])"
      ],
      "execution_count": null,
      "outputs": []
    },
    {
      "cell_type": "code",
      "metadata": {
        "id": "GpG_CfgNlmih"
      },
      "source": [
        "final_ops_data_2021['name'].value_counts()"
      ],
      "execution_count": null,
      "outputs": []
    },
    {
      "cell_type": "code",
      "metadata": {
        "id": "J5AUEh3Tly4p"
      },
      "source": [
        "final_ops_data_2021.to_csv(\"final_ops_data_2021.csv\", encoding='euc-kr', index=False)\n",
        "ops_batter_data_2021.to_csv(\"final_ops_batter_data_2021.csv\", encoding='euc-kr', index=False)"
      ],
      "execution_count": null,
      "outputs": []
    },
    {
      "cell_type": "markdown",
      "metadata": {
        "id": "GTJR_F3NhOgp"
      },
      "source": [
        "### **2020 season**"
      ]
    },
    {
      "cell_type": "code",
      "metadata": {
        "id": "VlVgc44whRnB",
        "outputId": "a14e242e-df48-4b9d-b13f-4e95927daebf",
        "colab": {
          "base_uri": "https://localhost:8080/"
        }
      },
      "source": [
        "ops_data_2020, ops_batter_data_2020 = data_crawling(2020)"
      ],
      "execution_count": 159,
      "outputs": [
        {
          "output_type": "stream",
          "name": "stderr",
          "text": [
            "100%|██████████| 10/10 [51:40<00:00, 310.03s/it]\n"
          ]
        }
      ]
    },
    {
      "cell_type": "code",
      "metadata": {
        "id": "Fy-WvNYLhRpS"
      },
      "source": [
        "name_list_2020 = ops_data_2020['name'].values.tolist()\n",
        "name_set_2020 = set(name_list_2020)\n",
        "name_list_2020 = list(name_set_2020)"
      ],
      "execution_count": 160,
      "outputs": []
    },
    {
      "cell_type": "code",
      "metadata": {
        "id": "rEkf0xDxhRrn",
        "outputId": "bcdbf97e-e782-41af-e976-50f832c94b66",
        "colab": {
          "base_uri": "https://localhost:8080/"
        }
      },
      "source": [
        "len(name_list_2020)"
      ],
      "execution_count": 161,
      "outputs": [
        {
          "output_type": "execute_result",
          "data": {
            "text/plain": [
              "288"
            ]
          },
          "metadata": {},
          "execution_count": 161
        }
      ]
    },
    {
      "cell_type": "code",
      "metadata": {
        "id": "4A4JOlRfhRuT"
      },
      "source": [
        "new_ops_data_2020 = ops_data_2020.merge(player_2020, on=['Team','name'])"
      ],
      "execution_count": 162,
      "outputs": []
    },
    {
      "cell_type": "code",
      "metadata": {
        "id": "meajYgzehRwV"
      },
      "source": [
        "name_list_2020_2 = new_ops_data_2020['name'].values.tolist()\n",
        "name_set_2020_2 = set(name_list_2020_2)\n",
        "name_list_2020_2 = list(name_set_2020_2)"
      ],
      "execution_count": 163,
      "outputs": []
    },
    {
      "cell_type": "code",
      "metadata": {
        "id": "zwI2hz6YhRyY",
        "outputId": "f479b902-6071-40b2-e3a6-1387eb708e6a",
        "colab": {
          "base_uri": "https://localhost:8080/"
        }
      },
      "source": [
        "diff_2020 = list(set(name_list_2020) - set(name_list_2020_2))\n",
        "diff_2020"
      ],
      "execution_count": 164,
      "outputs": [
        {
          "output_type": "execute_result",
          "data": {
            "text/plain": [
              "['장현식', '한유섬']"
            ]
          },
          "metadata": {},
          "execution_count": 164
        }
      ]
    },
    {
      "cell_type": "code",
      "metadata": {
        "id": "j0KWu6TChR0p",
        "outputId": "2eb2b213-d7e3-41fc-be09-5baff9908631",
        "colab": {
          "base_uri": "https://localhost:8080/",
          "height": 80
        }
      },
      "source": [
        "player_2020.loc[player_2020['name']=='장현식']"
      ],
      "execution_count": 166,
      "outputs": [
        {
          "output_type": "execute_result",
          "data": {
            "text/html": [
              "<div>\n",
              "<style scoped>\n",
              "    .dataframe tbody tr th:only-of-type {\n",
              "        vertical-align: middle;\n",
              "    }\n",
              "\n",
              "    .dataframe tbody tr th {\n",
              "        vertical-align: top;\n",
              "    }\n",
              "\n",
              "    .dataframe thead th {\n",
              "        text-align: right;\n",
              "    }\n",
              "</style>\n",
              "<table border=\"1\" class=\"dataframe\">\n",
              "  <thead>\n",
              "    <tr style=\"text-align: right;\">\n",
              "      <th></th>\n",
              "      <th>GYEAR</th>\n",
              "      <th>PCODE</th>\n",
              "      <th>name</th>\n",
              "      <th>Team</th>\n",
              "      <th>POSITION</th>\n",
              "      <th>AGE_VA</th>\n",
              "      <th>MONEY</th>\n",
              "    </tr>\n",
              "  </thead>\n",
              "  <tbody>\n",
              "    <tr>\n",
              "      <th>213</th>\n",
              "      <td>2020</td>\n",
              "      <td>63950</td>\n",
              "      <td>장현식</td>\n",
              "      <td>KIA</td>\n",
              "      <td>투</td>\n",
              "      <td>25</td>\n",
              "      <td>11000만원</td>\n",
              "    </tr>\n",
              "  </tbody>\n",
              "</table>\n",
              "</div>"
            ],
            "text/plain": [
              "     GYEAR  PCODE name Team POSITION  AGE_VA    MONEY\n",
              "213   2020  63950  장현식  KIA        투      25  11000만원"
            ]
          },
          "metadata": {},
          "execution_count": 166
        }
      ]
    },
    {
      "cell_type": "code",
      "metadata": {
        "id": "S3gXxbpQhR3E",
        "outputId": "1b3664c8-cb05-4822-bf6d-2225b87981df",
        "colab": {
          "base_uri": "https://localhost:8080/",
          "height": 134
        }
      },
      "source": [
        "ops_data_2020.loc[ops_data_2020['name']=='장현식']"
      ],
      "execution_count": 167,
      "outputs": [
        {
          "output_type": "execute_result",
          "data": {
            "text/html": [
              "<div>\n",
              "<style scoped>\n",
              "    .dataframe tbody tr th:only-of-type {\n",
              "        vertical-align: middle;\n",
              "    }\n",
              "\n",
              "    .dataframe tbody tr th {\n",
              "        vertical-align: top;\n",
              "    }\n",
              "\n",
              "    .dataframe thead th {\n",
              "        text-align: right;\n",
              "    }\n",
              "</style>\n",
              "<table border=\"1\" class=\"dataframe\">\n",
              "  <thead>\n",
              "    <tr style=\"text-align: right;\">\n",
              "      <th></th>\n",
              "      <th>name</th>\n",
              "      <th>Team</th>\n",
              "      <th>day</th>\n",
              "      <th>vs</th>\n",
              "      <th>result</th>\n",
              "      <th>bat_order</th>\n",
              "      <th>position</th>\n",
              "      <th>start_member</th>\n",
              "      <th>ab</th>\n",
              "      <th>score</th>\n",
              "      <th>hit</th>\n",
              "      <th>2_hit</th>\n",
              "      <th>3_hit</th>\n",
              "      <th>homerun</th>\n",
              "      <th>tb</th>\n",
              "      <th>rbi</th>\n",
              "      <th>sb</th>\n",
              "      <th>cs</th>\n",
              "      <th>bb</th>\n",
              "      <th>hpp</th>\n",
              "      <th>ibb</th>\n",
              "      <th>so</th>\n",
              "      <th>gdp</th>\n",
              "      <th>sh</th>\n",
              "      <th>sf</th>\n",
              "      <th>avg</th>\n",
              "      <th>obp</th>\n",
              "      <th>slg</th>\n",
              "      <th>ops</th>\n",
              "      <th>pitch</th>\n",
              "      <th>avLI</th>\n",
              "      <th>RE24</th>\n",
              "      <th>WPA</th>\n",
              "    </tr>\n",
              "  </thead>\n",
              "  <tbody>\n",
              "    <tr>\n",
              "      <th>0</th>\n",
              "      <td>장현식</td>\n",
              "      <td>NC</td>\n",
              "      <td>05-21</td>\n",
              "      <td>@두산</td>\n",
              "      <td>W 12:6</td>\n",
              "      <td>5</td>\n",
              "      <td>P</td>\n",
              "      <td>0</td>\n",
              "      <td>0</td>\n",
              "      <td>0</td>\n",
              "      <td>0</td>\n",
              "      <td>0</td>\n",
              "      <td>0</td>\n",
              "      <td>0</td>\n",
              "      <td>0</td>\n",
              "      <td>0</td>\n",
              "      <td>0</td>\n",
              "      <td>0</td>\n",
              "      <td>0</td>\n",
              "      <td>0</td>\n",
              "      <td>0</td>\n",
              "      <td>0</td>\n",
              "      <td>0</td>\n",
              "      <td>0</td>\n",
              "      <td>0</td>\n",
              "      <td>0.0</td>\n",
              "      <td>NaN</td>\n",
              "      <td>0.0</td>\n",
              "      <td>0.0</td>\n",
              "      <td>0</td>\n",
              "      <td>0.0</td>\n",
              "      <td>0.0</td>\n",
              "      <td>0.0</td>\n",
              "    </tr>\n",
              "  </tbody>\n",
              "</table>\n",
              "</div>"
            ],
            "text/plain": [
              "  name Team    day   vs  result bat_order  ...  slg  ops pitch avLI RE24  WPA\n",
              "0  장현식   NC  05-21  @두산  W 12:6         5  ...  0.0  0.0     0  0.0  0.0  0.0\n",
              "\n",
              "[1 rows x 33 columns]"
            ]
          },
          "metadata": {},
          "execution_count": 167
        }
      ]
    },
    {
      "cell_type": "code",
      "metadata": {
        "id": "qADvQWo7hR5n"
      },
      "source": [
        "#한유섬\n",
        "#개명하여 PCODE를 불러올 수 없음\n",
        "#따라서 PCODE가 저장된 선수 파일에서 개명한 이름을 최신화\n",
        "player_2020.loc[(player_2020['name'] == '한동민'), 'name'] = '한유섬'"
      ],
      "execution_count": 168,
      "outputs": []
    },
    {
      "cell_type": "code",
      "metadata": {
        "id": "oKLW-UTjhdKR"
      },
      "source": [
        "final_ops_data_2020 = ops_data_2020.merge(player_2020, on=['Team','name'])"
      ],
      "execution_count": 169,
      "outputs": []
    },
    {
      "cell_type": "code",
      "metadata": {
        "id": "QnD33rfUhdMu",
        "outputId": "8a4b1f15-6b23-4d8a-ae70-0a7db448304f",
        "colab": {
          "base_uri": "https://localhost:8080/"
        }
      },
      "source": [
        "final_ops_data_2020['name'].value_counts()"
      ],
      "execution_count": 170,
      "outputs": [
        {
          "output_type": "execute_result",
          "data": {
            "text/plain": [
              "페르난데스    156\n",
              "정수빈      153\n",
              "김재환      152\n",
              "최주환      150\n",
              "심우준      148\n",
              "        ... \n",
              "이호연        1\n",
              "라이블리       1\n",
              "조병욱        1\n",
              "권휘         1\n",
              "김대우        1\n",
              "Name: name, Length: 287, dtype: int64"
            ]
          },
          "metadata": {},
          "execution_count": 170
        }
      ]
    },
    {
      "cell_type": "code",
      "metadata": {
        "id": "drdACq7IhdPA"
      },
      "source": [
        "final_ops_data_2020.to_csv(\"final_ops_data_2020.csv\", encoding='euc-kr', index=False)\n",
        "ops_batter_data_2020.to_csv(\"final_ops_batter_data_2020.csv\", encoding='euc-kr', index=False)"
      ],
      "execution_count": 171,
      "outputs": []
    },
    {
      "cell_type": "markdown",
      "metadata": {
        "id": "zTAu_4GYU0y5"
      },
      "source": [
        "### **2019 season**"
      ]
    },
    {
      "cell_type": "code",
      "metadata": {
        "id": "qU3SqeA9U2y6",
        "outputId": "567031f6-f32e-4492-b74e-6d1870e6c3aa",
        "colab": {
          "base_uri": "https://localhost:8080/"
        }
      },
      "source": [
        "ops_data_2019, ops_batter_data_2019 = data_crawling(2019)"
      ],
      "execution_count": 131,
      "outputs": [
        {
          "output_type": "stream",
          "name": "stderr",
          "text": [
            "100%|██████████| 10/10 [41:25<00:00, 248.52s/it]\n"
          ]
        }
      ]
    },
    {
      "cell_type": "code",
      "metadata": {
        "id": "VY6lwAYXU21N"
      },
      "source": [
        "name_list_2019 = ops_data_2019['name'].values.tolist()\n",
        "name_set_2019 = set(name_list_2019)\n",
        "name_list_2019 = list(name_set_2019)"
      ],
      "execution_count": 132,
      "outputs": []
    },
    {
      "cell_type": "code",
      "metadata": {
        "id": "9O0EX_HoVayq",
        "outputId": "cc3754ab-a755-42fe-dfd4-93ea3434e64a",
        "colab": {
          "base_uri": "https://localhost:8080/"
        }
      },
      "source": [
        "len(name_list_2019)"
      ],
      "execution_count": 133,
      "outputs": [
        {
          "output_type": "execute_result",
          "data": {
            "text/plain": [
              "284"
            ]
          },
          "metadata": {},
          "execution_count": 133
        }
      ]
    },
    {
      "cell_type": "code",
      "metadata": {
        "id": "n4iYgZ-dU23U"
      },
      "source": [
        "new_ops_data_2019 = ops_data_2019.merge(player_2019, on=['Team','name'])"
      ],
      "execution_count": 134,
      "outputs": []
    },
    {
      "cell_type": "code",
      "metadata": {
        "id": "nM0Cwu2zU258"
      },
      "source": [
        "name_list_2019_2 = new_ops_data_2019['name'].values.tolist()\n",
        "name_set_2019_2 = set(name_list_2019_2)\n",
        "name_list_2019_2 = list(name_set_2019_2)"
      ],
      "execution_count": 135,
      "outputs": []
    },
    {
      "cell_type": "code",
      "metadata": {
        "id": "M30Z0o0IU270",
        "outputId": "ab59ed55-f560-4742-b471-0fd5dc3ca465",
        "colab": {
          "base_uri": "https://localhost:8080/"
        }
      },
      "source": [
        "diff_2019 = list(set(name_list_2019) - set(name_list_2019_2))\n",
        "diff_2019"
      ],
      "execution_count": 136,
      "outputs": [
        {
          "output_type": "execute_result",
          "data": {
            "text/plain": [
              "['임동휘', '신정락', '오승택', '윤여운', '백진우', '한유섬']"
            ]
          },
          "metadata": {},
          "execution_count": 136
        }
      ]
    },
    {
      "cell_type": "code",
      "metadata": {
        "id": "25-lyh0pU2-Q",
        "outputId": "7de9e29e-b196-4a1b-9942-a4f8e7fd6e53",
        "colab": {
          "base_uri": "https://localhost:8080/",
          "height": 80
        }
      },
      "source": [
        "player_2019.loc[player_2019['name']=='한동민']"
      ],
      "execution_count": 152,
      "outputs": [
        {
          "output_type": "execute_result",
          "data": {
            "text/html": [
              "<div>\n",
              "<style scoped>\n",
              "    .dataframe tbody tr th:only-of-type {\n",
              "        vertical-align: middle;\n",
              "    }\n",
              "\n",
              "    .dataframe tbody tr th {\n",
              "        vertical-align: top;\n",
              "    }\n",
              "\n",
              "    .dataframe thead th {\n",
              "        text-align: right;\n",
              "    }\n",
              "</style>\n",
              "<table border=\"1\" class=\"dataframe\">\n",
              "  <thead>\n",
              "    <tr style=\"text-align: right;\">\n",
              "      <th></th>\n",
              "      <th>GYEAR</th>\n",
              "      <th>PCODE</th>\n",
              "      <th>name</th>\n",
              "      <th>Team</th>\n",
              "      <th>POSITION</th>\n",
              "      <th>AGE_VA</th>\n",
              "      <th>MONEY</th>\n",
              "    </tr>\n",
              "  </thead>\n",
              "  <tbody>\n",
              "    <tr>\n",
              "      <th>97</th>\n",
              "      <td>2019</td>\n",
              "      <td>62895</td>\n",
              "      <td>한동민</td>\n",
              "      <td>SK</td>\n",
              "      <td>외</td>\n",
              "      <td>29</td>\n",
              "      <td>33000만원</td>\n",
              "    </tr>\n",
              "  </tbody>\n",
              "</table>\n",
              "</div>"
            ],
            "text/plain": [
              "    GYEAR  PCODE name Team POSITION  AGE_VA    MONEY\n",
              "97   2019  62895  한동민   SK        외      29  33000만원"
            ]
          },
          "metadata": {},
          "execution_count": 152
        }
      ]
    },
    {
      "cell_type": "code",
      "metadata": {
        "id": "jhnyUsrZU3Ad"
      },
      "source": [
        "ops_data_2019.loc[ops_data_2019['name']=='한유섬']"
      ],
      "execution_count": null,
      "outputs": []
    },
    {
      "cell_type": "code",
      "metadata": {
        "id": "ncu47zI3U3Ck"
      },
      "source": [
        "#임동휘, 윤여운, 백진우, 한유섬\n",
        "#개명하여 PCODE를 불러올 수 없음\n",
        "#따라서 PCODE가 저장된 선수 파일에서 개명한 이름을 최신화\n",
        "player_2019.loc[(player_2019['name'] == '임지열'), 'name'] = '임동휘'\n",
        "player_2019.loc[(player_2019['name'] == '윤수강'), 'name'] = '윤여운'\n",
        "player_2019.loc[(player_2019['name'] == '백창수'), 'name'] = '백진우'\n",
        "player_2019.loc[(player_2019['name'] == '한동민'), 'name'] = '한유섬'"
      ],
      "execution_count": 155,
      "outputs": []
    },
    {
      "cell_type": "code",
      "metadata": {
        "id": "omnfUvu5U3E3"
      },
      "source": [
        "final_ops_data_2019 = ops_data_2019.merge(player_2019, on=['Team','name'])"
      ],
      "execution_count": 156,
      "outputs": []
    },
    {
      "cell_type": "code",
      "metadata": {
        "id": "d4dL-zwqVD3K",
        "outputId": "cd63c28e-aa7f-40ae-caff-4bf786822f75",
        "colab": {
          "base_uri": "https://localhost:8080/"
        }
      },
      "source": [
        "final_ops_data_2019['name'].value_counts()"
      ],
      "execution_count": 157,
      "outputs": [
        {
          "output_type": "execute_result",
          "data": {
            "text/plain": [
              "이정후      151\n",
              "샌즈       150\n",
              "김하성      150\n",
              "페르난데스    148\n",
              "김성현      147\n",
              "        ... \n",
              "이영하        1\n",
              "양우현        1\n",
              "양원혁        1\n",
              "권혁         1\n",
              "추재현        1\n",
              "Name: name, Length: 282, dtype: int64"
            ]
          },
          "metadata": {},
          "execution_count": 157
        }
      ]
    },
    {
      "cell_type": "code",
      "metadata": {
        "id": "L1zRym5wVD5u"
      },
      "source": [
        "final_ops_data_2019.to_csv(\"final_ops_data_2019.csv\", encoding='euc-kr', index=False)\n",
        "ops_batter_data_2019.to_csv(\"final_ops_batter_data_2019.csv\", encoding='euc-kr', index=False)"
      ],
      "execution_count": 158,
      "outputs": []
    },
    {
      "cell_type": "markdown",
      "metadata": {
        "id": "BbBCNqkYQTSK"
      },
      "source": [
        "### **2018 season**"
      ]
    },
    {
      "cell_type": "code",
      "metadata": {
        "id": "lREmtMHg-UZL",
        "outputId": "b6fc1ef5-68eb-4f40-e879-a20fdc32c68d",
        "colab": {
          "base_uri": "https://localhost:8080/"
        }
      },
      "source": [
        "ops_data_2018, ops_batter_data_2018 = data_crawling(2018)"
      ],
      "execution_count": 76,
      "outputs": [
        {
          "output_type": "stream",
          "name": "stderr",
          "text": [
            "100%|██████████| 10/10 [42:07<00:00, 252.80s/it]\n"
          ]
        }
      ]
    },
    {
      "cell_type": "code",
      "metadata": {
        "id": "vuRa8UyYL2xR"
      },
      "source": [
        "name_list_2018 = ops_data_2018['name'].values.tolist()\n",
        "name_set_2018 = set(name_list_2018)\n",
        "name_list_2018 = list(name_set_2018)"
      ],
      "execution_count": 104,
      "outputs": []
    },
    {
      "cell_type": "code",
      "metadata": {
        "id": "TB1ntJgwJkwC"
      },
      "source": [
        "new_ops_data_2018 = ops_data_2018.merge(player_2018, on=['Team','name'])"
      ],
      "execution_count": 105,
      "outputs": []
    },
    {
      "cell_type": "code",
      "metadata": {
        "id": "EGqHZs1wQkd5"
      },
      "source": [
        "name_list_2018_2 = new_ops_data_2018['name'].values.tolist()\n",
        "name_set_2018_2 = set(name_list_2018_2)\n",
        "name_list_2018_2 = list(name_set_2018_2)"
      ],
      "execution_count": 106,
      "outputs": []
    },
    {
      "cell_type": "code",
      "metadata": {
        "id": "2aNpcCW2M-eE",
        "outputId": "6f5d80ea-9d3d-4eac-f681-d5a84bdd2765",
        "colab": {
          "base_uri": "https://localhost:8080/"
        }
      },
      "source": [
        "diff_2018 = list(set(name_list_2018) - set(name_list_2018_2))\n",
        "diff_2018"
      ],
      "execution_count": 107,
      "outputs": [
        {
          "output_type": "execute_result",
          "data": {
            "text/plain": [
              "['백동훈', '박대온', '윤여운', '백진우', '윤형준', '한유섬', '이유찬']"
            ]
          },
          "metadata": {},
          "execution_count": 107
        }
      ]
    },
    {
      "cell_type": "code",
      "metadata": {
        "id": "kTNx80S-NuOl",
        "outputId": "5d0c6431-aa4f-4bdc-e44b-ee0615ccf219",
        "colab": {
          "base_uri": "https://localhost:8080/",
          "height": 80
        }
      },
      "source": [
        "player_2018.loc[player_2018['name']=='백진우']"
      ],
      "execution_count": 123,
      "outputs": [
        {
          "output_type": "execute_result",
          "data": {
            "text/html": [
              "<div>\n",
              "<style scoped>\n",
              "    .dataframe tbody tr th:only-of-type {\n",
              "        vertical-align: middle;\n",
              "    }\n",
              "\n",
              "    .dataframe tbody tr th {\n",
              "        vertical-align: top;\n",
              "    }\n",
              "\n",
              "    .dataframe thead th {\n",
              "        text-align: right;\n",
              "    }\n",
              "</style>\n",
              "<table border=\"1\" class=\"dataframe\">\n",
              "  <thead>\n",
              "    <tr style=\"text-align: right;\">\n",
              "      <th></th>\n",
              "      <th>GYEAR</th>\n",
              "      <th>PCODE</th>\n",
              "      <th>name</th>\n",
              "      <th>Team</th>\n",
              "      <th>POSITION</th>\n",
              "      <th>AGE_VA</th>\n",
              "      <th>MONEY</th>\n",
              "    </tr>\n",
              "  </thead>\n",
              "  <tbody>\n",
              "    <tr>\n",
              "      <th>0</th>\n",
              "      <td>2018</td>\n",
              "      <td>60100</td>\n",
              "      <td>백진우</td>\n",
              "      <td>한화</td>\n",
              "      <td>외</td>\n",
              "      <td>30</td>\n",
              "      <td>5000만원</td>\n",
              "    </tr>\n",
              "  </tbody>\n",
              "</table>\n",
              "</div>"
            ],
            "text/plain": [
              "   GYEAR  PCODE name Team POSITION  AGE_VA   MONEY\n",
              "0   2018  60100  백진우   한화        외      30  5000만원"
            ]
          },
          "metadata": {},
          "execution_count": 123
        }
      ]
    },
    {
      "cell_type": "code",
      "metadata": {
        "id": "XHIgvFWHNuMJ"
      },
      "source": [
        "ops_data_2018.loc[ops_data_2018['name']=='백진우']"
      ],
      "execution_count": null,
      "outputs": []
    },
    {
      "cell_type": "code",
      "metadata": {
        "id": "Qa9vbrlJQ7L6"
      },
      "source": [
        "#백동훈, 박대온, 윤여운, 백진우, 윤형준, 한유섬, 이유찬\n",
        "#개명하여 PCODE를 불러올 수 없음\n",
        "#따라서 PCODE가 저장된 선수 파일에서 개명한 이름을 최신화\n",
        "player_2018.loc[(player_2018['name'] == '백민기'), 'name'] = '백동훈'\n",
        "player_2018.loc[(player_2018['name'] == '박광열'), 'name'] = '박대온'\n",
        "player_2018.loc[(player_2018['name'] == '윤수강'), 'name'] = '윤여운'\n",
        "player_2018.loc[(player_2018['name'] == '백창수'), 'name'] = '백진우'\n",
        "player_2018.loc[(player_2018['name'] == '윤대영'), 'name'] = '윤형준'\n",
        "player_2018.loc[(player_2018['name'] == '한동민'), 'name'] = '한유섬'\n",
        "player_2018.loc[(player_2018['name'] == '이병휘'), 'name'] = '이유찬'"
      ],
      "execution_count": 121,
      "outputs": []
    },
    {
      "cell_type": "code",
      "metadata": {
        "id": "0azj_dxvQ7OW"
      },
      "source": [
        "final_ops_data_2018 = ops_data_2018.merge(player_2018, on=['Team','name'])"
      ],
      "execution_count": 124,
      "outputs": []
    },
    {
      "cell_type": "code",
      "metadata": {
        "id": "7hBKwysYNuRV",
        "outputId": "51882e56-67c1-4dd6-ab2c-6a57c3acac3e",
        "colab": {
          "base_uri": "https://localhost:8080/"
        }
      },
      "source": [
        "final_ops_data_2018['name'].value_counts()"
      ],
      "execution_count": 127,
      "outputs": [
        {
          "output_type": "execute_result",
          "data": {
            "text/plain": [
              "김재현    191\n",
              "로맥     152\n",
              "한유섬    147\n",
              "호잉     146\n",
              "김성현    146\n",
              "      ... \n",
              "구승민      1\n",
              "이윤재      1\n",
              "김성민      1\n",
              "손승락      1\n",
              "송창식      1\n",
              "Name: name, Length: 285, dtype: int64"
            ]
          },
          "metadata": {},
          "execution_count": 127
        }
      ]
    },
    {
      "cell_type": "code",
      "metadata": {
        "id": "e_xmA2nRTTXT"
      },
      "source": [
        "final_ops_data_2018.to_csv(\"final_ops_data_2018.csv\", encoding='euc-kr', index=False)\n",
        "ops_batter_data_2018.to_csv(\"final_ops_batter_data_2018.csv\", encoding='euc-kr', index=False)"
      ],
      "execution_count": 130,
      "outputs": []
    },
    {
      "cell_type": "markdown",
      "metadata": {
        "id": "C_xZnt7DrEu5"
      },
      "source": [
        "### **2017 season**"
      ]
    },
    {
      "cell_type": "code",
      "metadata": {
        "id": "x0yuFikzrHMT"
      },
      "source": [
        "ops_data_2017, ops_batter_data_2017 = data_crawling(2017)"
      ],
      "execution_count": null,
      "outputs": []
    },
    {
      "cell_type": "code",
      "metadata": {
        "id": "QVbJFLBdrHPl"
      },
      "source": [
        "name_list_2017 = ops_data_2017['name'].values.tolist()\n",
        "name_set_2017 = set(name_list_2017)\n",
        "name_list_2017 = list(name_set_2017)"
      ],
      "execution_count": null,
      "outputs": []
    },
    {
      "cell_type": "code",
      "metadata": {
        "id": "4Da1aCVErbbx"
      },
      "source": [
        "len(name_list_2017)"
      ],
      "execution_count": null,
      "outputs": []
    },
    {
      "cell_type": "code",
      "metadata": {
        "id": "8HBMij6RrHSh"
      },
      "source": [
        "new_ops_data_2017 = ops_data_2017.merge(player_2018, on=['Team','name'])"
      ],
      "execution_count": null,
      "outputs": []
    },
    {
      "cell_type": "code",
      "metadata": {
        "id": "o7QT4vQ8rHVN"
      },
      "source": [
        "name_list_2017_2 = new_ops_data_2017['name'].values.tolist()\n",
        "name_set_2017_2 = set(name_list_2017_2)\n",
        "name_list_2017_2 = list(name_set_2017_2)"
      ],
      "execution_count": null,
      "outputs": []
    },
    {
      "cell_type": "code",
      "metadata": {
        "id": "CwwUHl5mrHX3"
      },
      "source": [
        "diff_2017 = list(set(name_list_2017) - set(name_list_2017_2))\n",
        "diff_2017"
      ],
      "execution_count": null,
      "outputs": []
    },
    {
      "cell_type": "code",
      "metadata": {
        "id": "gMM50-SYrHaT"
      },
      "source": [
        "player_2018.loc[player_2018['name']=='백진우']"
      ],
      "execution_count": null,
      "outputs": []
    },
    {
      "cell_type": "code",
      "metadata": {
        "id": "eYDyR8w6rHdB"
      },
      "source": [
        "ops_data_2017.loc[ops_data_2017['name']=='백진우']"
      ],
      "execution_count": null,
      "outputs": []
    },
    {
      "cell_type": "code",
      "metadata": {
        "id": "ylshk0sorHfw"
      },
      "source": [
        "#백동훈, 박대온, 윤여운, 백진우, 윤형준, 한유섬, 이유찬\n",
        "#개명하여 PCODE를 불러올 수 없음\n",
        "#따라서 PCODE가 저장된 선수 파일에서 개명한 이름을 최신화\n",
        "player_2018.loc[(player_2018['name'] == '백민기'), 'name'] = '백동훈'\n",
        "player_2018.loc[(player_2018['name'] == '박광열'), 'name'] = '박대온'\n",
        "player_2018.loc[(player_2018['name'] == '윤수강'), 'name'] = '윤여운'\n",
        "player_2018.loc[(player_2018['name'] == '백창수'), 'name'] = '백진우'\n",
        "player_2018.loc[(player_2018['name'] == '윤대영'), 'name'] = '윤형준'\n",
        "player_2018.loc[(player_2018['name'] == '한동민'), 'name'] = '한유섬'\n",
        "player_2018.loc[(player_2018['name'] == '이병휘'), 'name'] = '이유찬'"
      ],
      "execution_count": null,
      "outputs": []
    },
    {
      "cell_type": "code",
      "metadata": {
        "id": "kiMFvfKmrHi0"
      },
      "source": [
        "final_ops_data_2017 = ops_data_2017.merge(player_2018, on=['Team','name'])"
      ],
      "execution_count": null,
      "outputs": []
    },
    {
      "cell_type": "code",
      "metadata": {
        "id": "sh6Ze10IrHl6"
      },
      "source": [
        "final_ops_data_2017['name'].value_counts()"
      ],
      "execution_count": null,
      "outputs": []
    },
    {
      "cell_type": "code",
      "metadata": {
        "id": "2Ivyu3hGrHol"
      },
      "source": [
        "final_ops_data_2017.to_csv(\"final_ops_data_2017.csv\", encoding='euc-kr', index=False)\n",
        "ops_batter_data_2017.to_csv(\"final_ops_batter_data_2017.csv\", encoding='euc-kr', index=False)"
      ],
      "execution_count": null,
      "outputs": []
    },
    {
      "cell_type": "markdown",
      "metadata": {
        "id": "NdY7nyver4Hh"
      },
      "source": [
        "### **2016 season**"
      ]
    },
    {
      "cell_type": "code",
      "metadata": {
        "id": "JcURXmSFr5TL"
      },
      "source": [
        "ops_data_2016, ops_batter_data_2016 = data_crawling(2016)"
      ],
      "execution_count": null,
      "outputs": []
    },
    {
      "cell_type": "code",
      "metadata": {
        "id": "Jkp-4Akvr5av"
      },
      "source": [
        "name_list_2016 = ops_data_2016['name'].values.tolist()\n",
        "name_set_2016 = set(name_list_2016)\n",
        "name_list_2016 = list(name_set_2016)"
      ],
      "execution_count": null,
      "outputs": []
    },
    {
      "cell_type": "code",
      "metadata": {
        "id": "Kxt5RjXYr5iK"
      },
      "source": [
        "len(name_list_2016)"
      ],
      "execution_count": null,
      "outputs": []
    },
    {
      "cell_type": "code",
      "metadata": {
        "id": "fa_RAYEir5pI"
      },
      "source": [
        "new_ops_data_2016 = ops_data_2016.merge(player_2018, on=['Team','name'])"
      ],
      "execution_count": null,
      "outputs": []
    },
    {
      "cell_type": "code",
      "metadata": {
        "id": "kmytzFMbr5yl"
      },
      "source": [
        "name_list_2016_2 = new_ops_data_2016['name'].values.tolist()\n",
        "name_set_2016_2 = set(name_list_2016_2)\n",
        "name_list_2016_2 = list(name_set_2016_2)"
      ],
      "execution_count": null,
      "outputs": []
    },
    {
      "cell_type": "code",
      "metadata": {
        "id": "hOFFSp2fr55f"
      },
      "source": [
        "diff_2016 = list(set(name_list_2016) - set(name_list_2016_2))\n",
        "diff_2016"
      ],
      "execution_count": null,
      "outputs": []
    },
    {
      "cell_type": "code",
      "metadata": {
        "id": "-5EVW2EQr6AK"
      },
      "source": [
        "player_2018.loc[player_2018['name']=='백진우']"
      ],
      "execution_count": null,
      "outputs": []
    },
    {
      "cell_type": "code",
      "metadata": {
        "id": "ZJ1z1nAYr6G4"
      },
      "source": [
        "ops_data_2016.loc[ops_data_2016['name']=='백진우']"
      ],
      "execution_count": null,
      "outputs": []
    },
    {
      "cell_type": "code",
      "metadata": {
        "id": "J-5ELN11r6NZ"
      },
      "source": [
        "#백동훈, 박대온, 윤여운, 백진우, 윤형준, 한유섬, 이유찬\n",
        "#개명하여 PCODE를 불러올 수 없음\n",
        "#따라서 PCODE가 저장된 선수 파일에서 개명한 이름을 최신화\n",
        "player_2018.loc[(player_2018['name'] == '백민기'), 'name'] = '백동훈'\n",
        "player_2018.loc[(player_2018['name'] == '박광열'), 'name'] = '박대온'\n",
        "player_2018.loc[(player_2018['name'] == '윤수강'), 'name'] = '윤여운'\n",
        "player_2018.loc[(player_2018['name'] == '백창수'), 'name'] = '백진우'\n",
        "player_2018.loc[(player_2018['name'] == '윤대영'), 'name'] = '윤형준'\n",
        "player_2018.loc[(player_2018['name'] == '한동민'), 'name'] = '한유섬'\n",
        "player_2018.loc[(player_2018['name'] == '이병휘'), 'name'] = '이유찬'"
      ],
      "execution_count": null,
      "outputs": []
    },
    {
      "cell_type": "code",
      "metadata": {
        "id": "7iYH0YNLr6UI"
      },
      "source": [
        "final_ops_data_2016 = ops_data_2016.merge(player_2018, on=['Team','name'])"
      ],
      "execution_count": null,
      "outputs": []
    },
    {
      "cell_type": "code",
      "metadata": {
        "id": "vwrg55JOr6ar"
      },
      "source": [
        "final_ops_data_2016['name'].value_counts()"
      ],
      "execution_count": null,
      "outputs": []
    },
    {
      "cell_type": "code",
      "metadata": {
        "id": "TAdge6SGr6h5"
      },
      "source": [
        "final_ops_data_2016.to_csv(\"final_ops_data_2016.csv\", encoding='euc-kr', index=False)\n",
        "ops_batter_data_2016.to_csv(\"final_ops_batter_data_2016.csv\", encoding='euc-kr', index=False)"
      ],
      "execution_count": null,
      "outputs": []
    }
  ]
}