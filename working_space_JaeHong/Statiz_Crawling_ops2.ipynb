{
  "nbformat": 4,
  "nbformat_minor": 0,
  "metadata": {
    "colab": {
      "name": "Web_Crawling__Selenium.ipynb",
      "provenance": []
    },
    "kernelspec": {
      "name": "python3",
      "display_name": "Python 3"
    },
    "language_info": {
      "name": "python"
    },
    "accelerator": "GPU"
  },
  "cells": [
    {
      "cell_type": "markdown",
      "metadata": {
        "id": "X1Tk1MTB0Bva"
      },
      "source": [
        "### **OPS 예측을 위한 크롤링**"
      ]
    },
    {
      "cell_type": "code",
      "metadata": {
        "id": "4JnFSzWR0GKP"
      },
      "source": [
        "def data_crawling(year):\n",
        "  # Parameter\n",
        "  # 원하는 연도 입력\n",
        "  year = year\n",
        "  # 데이터를 수집할 타자 중 타석 수 상위 명수\n",
        "  num_top_batter = 30\n",
        "\n",
        "  # Team List\n",
        "  # 원하는 연도에 등록된 팀을 미리 넣어두어야함 (추가 가능)\n",
        "  Team_2018 = ['NC','kt','LG','두산','히어로즈','KIA','롯데','삼성','SK','한화']\n",
        "  Team_2019 = ['NC','kt','LG','두산','키움','KIA','롯데','삼성','SK','한화']\n",
        "  Team_2020 = ['NC','kt','LG','두산','키움','KIA','롯데','삼성','SK','한화']\n",
        "  Team_2021 = ['kt','삼성','LG','SSG','NC','키움','두산','롯데','KIA','한화']\n",
        "\n",
        "  # Team Dictionary\n",
        "  # Team List를 딕셔너리에 넣음 (추가 가능)\n",
        "  TeamDic = {'2018':Team_2018, '2019':Team_2019, '2020':Team_2020, '2021':Team_2021}\n",
        "\n",
        "  ###############\n",
        "  # BeautifulSoup\n",
        "\n",
        "  import numpy as np\n",
        "  import pandas as pd\n",
        "  import requests\n",
        "  from bs4 import BeautifulSoup\n",
        "  from tqdm import tqdm\n",
        "\n",
        "  # 데이터를 모을 dataframe 생성\n",
        "  data = pd.DataFrame(columns=['name','day', 'vs', 'result', 'bat_order', 'position', 'start_member', 'ab', 'score', 'hit', '2_hit', '3_hit', 'homerun', 'tb', 'rbi', 'sb', 'cs',\n",
        "                              'bb', 'hpp', 'ibb', 'so', 'gdp', 'sh', 'sf', 'avg', 'obp', 'slg', 'ops', 'pitch', 'avLI', 'RE24', 'WPA'])\n",
        "  batter_data = pd.DataFrame(columns=['Team','name'])\n",
        "\n",
        "  for Team in tqdm(TeamDic[str(year)]): # 선택한 연도의 팀을 하나씩 가져옴\n",
        "    # 스탯티즈 시즌기록실 페이지에서 연도, 팀 선택하고, 타석순으로 정렬\n",
        "    wp = requests.get(\"http://www.statiz.co.kr/stat.php?opt=0&sopt=0&re=0&ys=\" + str(year) + \"&ye=\" + str(year) + \"&se=0&te=\" + Team + \"&tm=&ty=0&qu=auto&po=0&as=&ae=&hi=&un=&pl=&da=1&o1=TPA&o2=TPA&de=1&lr=0&tr=&cv=&ml=1&sn=30&si=&cn=\")\n",
        "    soup = BeautifulSoup(wp.text, \"html.parser\")\n",
        "    \n",
        "    # 현재 팀의 타석 수 상위 num_top_batter 명\n",
        "    tmp_batter_list = np.empty(num_top_batter,dtype=object)\n",
        "    tmp_team = np.array([Team]*num_top_batter) # 타석 수 상위 타자 팀명 저장\n",
        "    tmp_batter_list_href = np.empty(num_top_batter,dtype=object)\n",
        "    tmp_batter_ps=0\n",
        "    \n",
        "    for batter in soup.find_all('tr')[2:12]:\n",
        "      tmp_batter_list[tmp_batter_ps] = batter.find_all('td')[1].text # 타석 수 상위 타자 이름 저장\n",
        "      tmp_team[tmp_batter_ps] = Team\n",
        "      tmp_batter_list_href[tmp_batter_ps] = batter.find_all('a')[0].attrs['href'] # 타석 수 상위 타자 주소 저장\n",
        "      tmp_batter_ps+=1\n",
        "\n",
        "    for batter in soup.find_all('tr')[14:24]:\n",
        "      tmp_batter_list[tmp_batter_ps] = batter.find_all('td')[1].text # 타석 수 상위 타자 이름 저장\n",
        "      tmp_team[tmp_batter_ps] = Team\n",
        "      tmp_batter_list_href[tmp_batter_ps] = batter.find_all('a')[0].attrs['href'] # 타석 수 상위 타자 주소 저장\n",
        "      tmp_batter_ps+=1\n",
        "\n",
        "    for batter in soup.find_all('tr')[26:36]:\n",
        "      if '|' in batter.find_all('td')[1].text:\n",
        "        break;\n",
        "      else:\n",
        "        tmp_batter_list[tmp_batter_ps] = batter.find_all('td')[1].text # 타석 수 상위 타자 이름 저장\n",
        "        tmp_team[tmp_batter_ps] = Team\n",
        "        tmp_batter_list_href[tmp_batter_ps] = batter.find_all('a')[0].attrs['href'] # 타석 수 상위 타자 주소 저장\n",
        "        tmp_batter_ps+=1\n",
        "\n",
        "    batter_data = pd.concat([batter_data, pd.DataFrame({'Team':tmp_team, 'name':tmp_batter_list})])\n",
        "\n",
        "    # 타석 수 상위 타자들 중 한명씩 데이터를 모으는 과정\n",
        "    for top_batter in range(num_top_batter):\n",
        "      if tmp_batter_list[top_batter] is None:\n",
        "        continue\n",
        "\n",
        "      wp=requests.get(\"http://www.statiz.co.kr/\"+tmp_batter_list_href[top_batter]) # 타자 주소로 접근\n",
        "      soup=BeautifulSoup(wp.text, \"html.parser\")\n",
        "\n",
        "      # 날짜별 데이터로 접근\n",
        "      href_byDate = soup.select('body > div > div.content-wrapper > div > section.content > div > div:nth-of-type(1) > div > div.col-xs-12.col-sm-8.col-md-8.col-lg-12 > div > div.table-responsive.no-padding.box > table')[0].find_all('a')[3].attrs['href']\n",
        "      wp=requests.get(\"http://www.statiz.co.kr/\"+href_byDate)\n",
        "      soup=BeautifulSoup(wp.text,\"html.parser\")\n",
        "\n",
        "      # 타자/투수 : 타자로 접근\n",
        "      href_by_batter=soup.select('body > div.wrapper > div.content-wrapper > div > section.content > div > div:nth-of-type(2) > div > div:nth-of-type(1) > div:nth-of-type(1)')[0].find_all('a')[0].attrs['href']\n",
        "      wp=requests.get(\"http://www.statiz.co.kr/\"+href_by_batter)\n",
        "      soup=BeautifulSoup(wp.text,\"html.parser\")\n",
        "      \n",
        "      # year : 원하는 연도로 접근\n",
        "      href_byDate_year=soup.select('body > div.wrapper > div.content-wrapper > div > section.content > div > div:nth-of-type(2) > div > div:nth-of-type(2) > div')[0].find('a', text=str(year)).attrs['href']\n",
        "      wp=requests.get(\"http://www.statiz.co.kr/\"+href_byDate_year)\n",
        "      soup=BeautifulSoup(wp.text,\"html.parser\")\n",
        "\n",
        "      ## 데이터가 있는 페이지로 이동 완료\n",
        "      ## 이제 실질적인 데이터를 모을 차례\n",
        "      rawdata=soup.select('body > div > div.content-wrapper > div > section.content > div > div:nth-of-type(2) > div > div:nth-of-type(3) > div > div > table')[0]\n",
        "      # rawdata : 전체 테이블\n",
        "\n",
        "      # th를 제외한 순수한 경기 데이터 / th는 컬럼명 행이다.\n",
        "      rawdata_not_th = rawdata.find_all('tr',{'class':['oddrow_stz0','evenrow_stz0']})\n",
        "\n",
        "      # 행렬만들기\n",
        "      rawdata_name = np.array([tmp_batter_list[top_batter]]*len(rawdata_not_th))\n",
        "      rawdata_day = np.zeros(len(rawdata_not_th), dtype=object)\n",
        "      rawdata_vs = np.zeros(len(rawdata_not_th), dtype=object)\n",
        "      rawdata_result = np.zeros(len(rawdata_not_th), dtype=object)\n",
        "      rawdata_bat_order = np.zeros(len(rawdata_not_th),dtype=np.int_)\n",
        "      rawdata_position = np.zeros(len(rawdata_not_th), dtype=object)\n",
        "      rawdata_start_memeber = np.zeros(len(rawdata_not_th), dtype=np.int_)\n",
        "      rawdata_ab = np.zeros(len(rawdata_not_th), dtype=np.int_)\n",
        "      rawdata_score = np.zeros(len(rawdata_not_th), dtype=np.int_)\n",
        "      rawdata_hit = np.zeros(len(rawdata_not_th), dtype=np.int_)\n",
        "      rawdata_2_hit = np.zeros(len(rawdata_not_th), dtype=np.int_)\n",
        "      rawdata_3_hit = np.zeros(len(rawdata_not_th), dtype=np.int_)\n",
        "      rawdata_homerun = np.zeros(len(rawdata_not_th), dtype=np.int_)\n",
        "      rawdata_tb = np.zeros(len(rawdata_not_th), dtype=np.int_)\n",
        "      rawdata_rbi = np.zeros(len(rawdata_not_th), dtype=np.int_)\n",
        "      rawdata_sb = np.zeros(len(rawdata_not_th), dtype=np.int_)\n",
        "      rawdata_cs = np.zeros(len(rawdata_not_th), dtype=np.int_)\n",
        "      rawdata_bb = np.zeros(len(rawdata_not_th), dtype=np.int_)\n",
        "      rawdata_hpp = np.zeros(len(rawdata_not_th), dtype=np.int_)\n",
        "      rawdata_ibb = np.zeros(len(rawdata_not_th), dtype=np.int_)\n",
        "      rawdata_so = np.zeros(len(rawdata_not_th), dtype=np.int_)\n",
        "      rawdata_gdp = np.zeros(len(rawdata_not_th), dtype=np.int_)\n",
        "      rawdata_sh = np.zeros(len(rawdata_not_th), dtype=np.int_)\n",
        "      rewdata_sf = np.zeros(len(rawdata_not_th), dtype=np.int_)\n",
        "      rawdata_avg = np.zeros(len(rawdata_not_th), dtype=np.float)\n",
        "      rawdata_obp = np.zeros(len(rawdata_not_th), dtype=np.float)\n",
        "      rawdata_slg = np.zeros(len(rawdata_not_th), dtype=np.float)\n",
        "      rawdata_ops = np.zeros(len(rawdata_not_th), dtype=np.float)\n",
        "      rawdata_pitch = np.zeros(len(rawdata_not_th), dtype=np.int_)\n",
        "      rawdata_avLI = np.zeros(len(rawdata_not_th), dtype=np.float)\n",
        "      rawdata_RE24 = np.zeros(len(rawdata_not_th), dtype=np.float)\n",
        "      rawdata_WPA = np.zeros(len(rawdata_not_th), dtype=np.float)\n",
        "\n",
        "      for rawdata_not_th_tr_index in range(len(rawdata_not_th)):\n",
        "        # 한 행 : rawdata_not_th_tr_index\n",
        "        rawdata_not_th_td = [text for text in rawdata_not_th[rawdata_not_th_tr_index].stripped_strings]\n",
        "        # 현재 행의 하나의 값 : rawdata_not_th_td[index]\n",
        "        # 데이터 입력\n",
        "        rawdata_day[rawdata_not_th_tr_index] = rawdata_not_th_td[1]\n",
        "        rawdata_vs[rawdata_not_th_tr_index] = rawdata_not_th_td[2]\n",
        "        rawdata_result[rawdata_not_th_tr_index] = rawdata_not_th_td[3]+\" \"+rawdata_not_th_td[4]\n",
        "        rawdata_bat_order[rawdata_not_th_tr_index] = rawdata_not_th_td[5]\n",
        "        rawdata_position[rawdata_not_th_tr_index] = rawdata_not_th_td[6]\n",
        "        rawdata_start_memeber[rawdata_not_th_tr_index] = rawdata_not_th_td[7]\n",
        "        rawdata_ab[rawdata_not_th_tr_index] = rawdata_not_th_td[8]\n",
        "        rawdata_score[rawdata_not_th_tr_index] = rawdata_not_th_td[9]\n",
        "        rawdata_hit[rawdata_not_th_tr_index] = rawdata_not_th_td[10]\n",
        "        rawdata_2_hit[rawdata_not_th_tr_index] = rawdata_not_th_td[11]\n",
        "        rawdata_3_hit[rawdata_not_th_tr_index] = rawdata_not_th_td[12]\n",
        "        rawdata_homerun[rawdata_not_th_tr_index] = rawdata_not_th_td[13]\n",
        "        rawdata_tb[rawdata_not_th_tr_index] = rawdata_not_th_td[14]\n",
        "        rawdata_rbi[rawdata_not_th_tr_index] = rawdata_not_th_td[15]\n",
        "        rawdata_sb[rawdata_not_th_tr_index] = rawdata_not_th_td[16]\n",
        "        rawdata_cs[rawdata_not_th_tr_index] = rawdata_not_th_td[17]\n",
        "        rawdata_bb[rawdata_not_th_tr_index] = rawdata_not_th_td[18]\n",
        "        rawdata_hpp[rawdata_not_th_tr_index] = rawdata_not_th_td[19]\n",
        "        rawdata_ibb[rawdata_not_th_tr_index] = rawdata_not_th_td[20]\n",
        "        rawdata_so[rawdata_not_th_tr_index] = rawdata_not_th_td[21]\n",
        "        rawdata_gdp[rawdata_not_th_tr_index] = rawdata_not_th_td[22]\n",
        "        rawdata_sh[rawdata_not_th_tr_index] = rawdata_not_th_td[23]\n",
        "        rewdata_sf[rawdata_not_th_tr_index] = rawdata_not_th_td[24]\n",
        "        rawdata_avg[rawdata_not_th_tr_index] = rawdata_not_th_td[25]\n",
        "        rawdata_obp[rawdata_not_th_tr_index] = rawdata_not_th_td[26]\n",
        "        rawdata_slg[rawdata_not_th_tr_index] = rawdata_not_th_td[27]\n",
        "        rawdata_ops[rawdata_not_th_tr_index] = rawdata_not_th_td[28]\n",
        "        rawdata_pitch[rawdata_not_th_tr_index] = rawdata_not_th_td[29]\n",
        "        rawdata_avLI[rawdata_not_th_tr_index] = rawdata_not_th_td[30]\n",
        "        rawdata_RE24[rawdata_not_th_tr_index] = rawdata_not_th_td[31]\n",
        "        rawdata_WPA[rawdata_not_th_tr_index] = rawdata_not_th_td[32]\n",
        "\n",
        "      tmp_data = pd.DataFrame()\n",
        "      # tmp_data는 각 선수마다 데이터를 모은 후 data에 머지하기 전에 존재\n",
        "      tmp_data['name'] = rawdata_name\n",
        "      tmp_data['day'] = rawdata_day\n",
        "      tmp_data['vs'] = rawdata_vs\n",
        "      tmp_data['result'] = rawdata_result\n",
        "      tmp_data['bat_order'] = rawdata_bat_order\n",
        "      tmp_data['position'] = rawdata_position\n",
        "      tmp_data['start_member'] = rawdata_start_memeber\n",
        "      tmp_data['ab'] = rawdata_ab\n",
        "      tmp_data['score'] = rawdata_score\n",
        "      tmp_data['hit'] = rawdata_hit\n",
        "      tmp_data['2_hit'] = rawdata_2_hit\n",
        "      tmp_data['3_hit'] = rawdata_3_hit\n",
        "      tmp_data['homerun'] = rawdata_homerun\n",
        "      tmp_data['tb'] = rawdata_tb\n",
        "      tmp_data['rbi'] = rawdata_rbi\n",
        "      tmp_data['sb'] = rawdata_sb\n",
        "      tmp_data['cs'] = rawdata_cs\n",
        "      tmp_data['bb'] = rawdata_bb\n",
        "      tmp_data['hpp'] = rawdata_hpp\n",
        "      tmp_data['ibb'] = rawdata_ibb\n",
        "      tmp_data['so'] = rawdata_so\n",
        "      tmp_data['gdp'] = rawdata_gdp\n",
        "      tmp_data['sh'] = rawdata_sh\n",
        "      tmp_data['sf'] = rewdata_sf\n",
        "      tmp_data['avg'] = rawdata_avg\n",
        "      tmp_data['ops'] = rawdata_ops\n",
        "      tmp_data['slg'] = rawdata_slg\n",
        "      tmp_data['ops'] = rawdata_ops\n",
        "      tmp_data['pitch'] = rawdata_pitch\n",
        "      tmp_data['avLI'] = rawdata_avLI\n",
        "      tmp_data['RE24'] = rawdata_RE24\n",
        "      tmp_data['WPA'] = rawdata_WPA\n",
        "\n",
        "      # 데이터 쌓기\n",
        "      data = pd.concat([data,tmp_data])\n",
        "\n",
        "  return data, batter_data"
      ],
      "execution_count": 2,
      "outputs": []
    },
    {
      "cell_type": "code",
      "metadata": {
        "id": "mqOBfgAU1e8Q",
        "outputId": "0a3a8b7a-77de-454f-f187-e66c08578476",
        "colab": {
          "base_uri": "https://localhost:8080/"
        }
      },
      "source": [
        "ops_data_2021, ops_batter_data_2021 = data_crawling(2021)"
      ],
      "execution_count": 3,
      "outputs": [
        {
          "output_type": "stream",
          "name": "stderr",
          "text": [
            "100%|██████████| 10/10 [42:04<00:00, 252.43s/it]\n"
          ]
        }
      ]
    },
    {
      "cell_type": "code",
      "metadata": {
        "id": "7XhCUjMN2umo",
        "outputId": "edc8a2b3-4879-4832-c47f-f283a80a2785",
        "colab": {
          "base_uri": "https://localhost:8080/",
          "height": 316
        }
      },
      "source": [
        "ops_data_2020, ops_batter_data_2020 = data_crawling(2020)"
      ],
      "execution_count": 4,
      "outputs": [
        {
          "output_type": "stream",
          "name": "stderr",
          "text": [
            " 50%|█████     | 5/10 [28:26<28:26, 341.32s/it]\n"
          ]
        },
        {
          "output_type": "error",
          "ename": "AttributeError",
          "evalue": "ignored",
          "traceback": [
            "\u001b[0;31m---------------------------------------------------------------------------\u001b[0m",
            "\u001b[0;31mAttributeError\u001b[0m                            Traceback (most recent call last)",
            "\u001b[0;32m<ipython-input-4-497a8d521950>\u001b[0m in \u001b[0;36m<module>\u001b[0;34m()\u001b[0m\n\u001b[0;32m----> 1\u001b[0;31m \u001b[0mops_data_2020\u001b[0m\u001b[0;34m,\u001b[0m \u001b[0mops_batter_data_2020\u001b[0m \u001b[0;34m=\u001b[0m \u001b[0mdata_crawling\u001b[0m\u001b[0;34m(\u001b[0m\u001b[0;36m2020\u001b[0m\u001b[0;34m)\u001b[0m\u001b[0;34m\u001b[0m\u001b[0;34m\u001b[0m\u001b[0m\n\u001b[0m",
            "\u001b[0;32m<ipython-input-2-1e244b5b6882>\u001b[0m in \u001b[0;36mdata_crawling\u001b[0;34m(year)\u001b[0m\n\u001b[1;32m     84\u001b[0m \u001b[0;34m\u001b[0m\u001b[0m\n\u001b[1;32m     85\u001b[0m       \u001b[0;31m# year : 원하는 연도로 접근\u001b[0m\u001b[0;34m\u001b[0m\u001b[0;34m\u001b[0m\u001b[0;34m\u001b[0m\u001b[0m\n\u001b[0;32m---> 86\u001b[0;31m       \u001b[0mhref_byDate_year\u001b[0m\u001b[0;34m=\u001b[0m\u001b[0msoup\u001b[0m\u001b[0;34m.\u001b[0m\u001b[0mselect\u001b[0m\u001b[0;34m(\u001b[0m\u001b[0;34m'body > div.wrapper > div.content-wrapper > div > section.content > div > div:nth-of-type(2) > div > div:nth-of-type(2) > div'\u001b[0m\u001b[0;34m)\u001b[0m\u001b[0;34m[\u001b[0m\u001b[0;36m0\u001b[0m\u001b[0;34m]\u001b[0m\u001b[0;34m.\u001b[0m\u001b[0mfind\u001b[0m\u001b[0;34m(\u001b[0m\u001b[0;34m'a'\u001b[0m\u001b[0;34m,\u001b[0m \u001b[0mtext\u001b[0m\u001b[0;34m=\u001b[0m\u001b[0mstr\u001b[0m\u001b[0;34m(\u001b[0m\u001b[0myear\u001b[0m\u001b[0;34m)\u001b[0m\u001b[0;34m)\u001b[0m\u001b[0;34m.\u001b[0m\u001b[0mattrs\u001b[0m\u001b[0;34m[\u001b[0m\u001b[0;34m'href'\u001b[0m\u001b[0;34m]\u001b[0m\u001b[0;34m\u001b[0m\u001b[0;34m\u001b[0m\u001b[0m\n\u001b[0m\u001b[1;32m     87\u001b[0m       \u001b[0mwp\u001b[0m\u001b[0;34m=\u001b[0m\u001b[0mrequests\u001b[0m\u001b[0;34m.\u001b[0m\u001b[0mget\u001b[0m\u001b[0;34m(\u001b[0m\u001b[0;34m\"http://www.statiz.co.kr/\"\u001b[0m\u001b[0;34m+\u001b[0m\u001b[0mhref_byDate_year\u001b[0m\u001b[0;34m)\u001b[0m\u001b[0;34m\u001b[0m\u001b[0;34m\u001b[0m\u001b[0m\n\u001b[1;32m     88\u001b[0m       \u001b[0msoup\u001b[0m\u001b[0;34m=\u001b[0m\u001b[0mBeautifulSoup\u001b[0m\u001b[0;34m(\u001b[0m\u001b[0mwp\u001b[0m\u001b[0;34m.\u001b[0m\u001b[0mtext\u001b[0m\u001b[0;34m,\u001b[0m\u001b[0;34m\"html.parser\"\u001b[0m\u001b[0;34m)\u001b[0m\u001b[0;34m\u001b[0m\u001b[0;34m\u001b[0m\u001b[0m\n",
            "\u001b[0;31mAttributeError\u001b[0m: 'NoneType' object has no attribute 'attrs'"
          ]
        }
      ]
    },
    {
      "cell_type": "code",
      "metadata": {
        "id": "zHhuY_6F61En"
      },
      "source": [
        "ops_data_2019, ops_batter_data_2019 = data_crawling(2019)"
      ],
      "execution_count": null,
      "outputs": []
    },
    {
      "cell_type": "code",
      "metadata": {
        "id": "oqSbYvUC61G_"
      },
      "source": [
        "ops_data_2018, ops_batter_data_2018 = data_crawling(2018)"
      ],
      "execution_count": null,
      "outputs": []
    },
    {
      "cell_type": "code",
      "metadata": {
        "id": "JgvdFE0T61JX",
        "outputId": "0b90ebb6-2ab5-4844-cefa-3ecc711b59f9",
        "colab": {
          "base_uri": "https://localhost:8080/",
          "height": 244
        }
      },
      "source": [
        "ops_data_2021.to_csv('/content/drive/MyDrive/bigcontest/ops_data_2021.csv')\n",
        "# ops_data_2020.to_csv('/content/drive/MyDrive/bigcontest/ops_data_2020.csv')\n",
        "# ops_data_2019.to_csv('/content/drive/MyDrive/bigcontest/ops_data_2019.csv')\n",
        "# ops_data_2018.to_csv('/content/drive/MyDrive/bigcontest/ops_data_2018.csv')\n",
        "\n",
        "ops_batter_data_2021.to_csv('/content/drive/MyDrive/bigcontest/ops_batter_data_2021.csv')\n",
        "# ops_batter_data_2020.to_csv('/content/drive/MyDrive/bigcontest/ops_batter_data_2020.csv')\n",
        "# ops_batter_data_2019.to_csv('/content/drive/MyDrive/bigcontest/ops_batter_data_2019.csv')\n",
        "# ops_batter_data_2018.to_csv('/content/drive/MyDrive/bigcontest/ops_batter_data_2018.csv')"
      ],
      "execution_count": 1,
      "outputs": [
        {
          "output_type": "error",
          "ename": "NameError",
          "evalue": "ignored",
          "traceback": [
            "\u001b[0;31m---------------------------------------------------------------------------\u001b[0m",
            "\u001b[0;31mNameError\u001b[0m                                 Traceback (most recent call last)",
            "\u001b[0;32m<ipython-input-1-f5e5a20899c0>\u001b[0m in \u001b[0;36m<module>\u001b[0;34m()\u001b[0m\n\u001b[0;32m----> 1\u001b[0;31m \u001b[0mops_data_2021\u001b[0m\u001b[0;34m.\u001b[0m\u001b[0mto_csv\u001b[0m\u001b[0;34m(\u001b[0m\u001b[0;34m'/content/drive/MyDrive/bigcontest/ops_data_2021.csv'\u001b[0m\u001b[0;34m)\u001b[0m\u001b[0;34m\u001b[0m\u001b[0;34m\u001b[0m\u001b[0m\n\u001b[0m\u001b[1;32m      2\u001b[0m \u001b[0;31m# ops_data_2020.to_csv('/content/drive/MyDrive/bigcontest/ops_data_2020.csv')\u001b[0m\u001b[0;34m\u001b[0m\u001b[0;34m\u001b[0m\u001b[0;34m\u001b[0m\u001b[0m\n\u001b[1;32m      3\u001b[0m \u001b[0;31m# ops_data_2019.to_csv('/content/drive/MyDrive/bigcontest/ops_data_2019.csv')\u001b[0m\u001b[0;34m\u001b[0m\u001b[0;34m\u001b[0m\u001b[0;34m\u001b[0m\u001b[0m\n\u001b[1;32m      4\u001b[0m \u001b[0;31m# ops_data_2018.to_csv('/content/drive/MyDrive/bigcontest/ops_data_2018.csv')\u001b[0m\u001b[0;34m\u001b[0m\u001b[0;34m\u001b[0m\u001b[0;34m\u001b[0m\u001b[0m\n\u001b[1;32m      5\u001b[0m \u001b[0;34m\u001b[0m\u001b[0m\n",
            "\u001b[0;31mNameError\u001b[0m: name 'ops_data_2021' is not defined"
          ]
        }
      ]
    },
    {
      "cell_type": "code",
      "metadata": {
        "id": "fw-H8fF_8Nju"
      },
      "source": [
        ""
      ],
      "execution_count": null,
      "outputs": []
    }
  ]
}