{
  "nbformat": 4,
  "nbformat_minor": 0,
  "metadata": {
    "colab": {
      "name": "BigContest_Barrel_Pred.ipynb",
      "provenance": [],
      "collapsed_sections": [],
      "authorship_tag": "ABX9TyO5vzxT3ex/I6Vm+iSZfxqx",
      "include_colab_link": true
    },
    "kernelspec": {
      "name": "python3",
      "display_name": "Python 3"
    },
    "language_info": {
      "name": "python"
    }
  },
  "cells": [
    {
      "cell_type": "markdown",
      "metadata": {
        "id": "view-in-github",
        "colab_type": "text"
      },
      "source": [
        "<a href=\"https://colab.research.google.com/github/KimGriezmann/Bigcontest_2021/blob/master/working_space_SeongGwan/BigContest_Barrel_Pred.ipynb\" target=\"_parent\"><img src=\"https://colab.research.google.com/assets/colab-badge.svg\" alt=\"Open In Colab\"/></a>"
      ]
    },
    {
      "cell_type": "code",
      "metadata": {
        "id": "pqm1hbHE6DV5"
      },
      "source": [
        "import pandas as pd\n",
        "import numpy as np\n",
        "from matplotlib import pyplot as plt"
      ],
      "execution_count": null,
      "outputs": []
    },
    {
      "cell_type": "markdown",
      "metadata": {
        "id": "zauGOTPUL5ho"
      },
      "source": [
        "# 2021 배럴 예측"
      ]
    },
    {
      "cell_type": "code",
      "metadata": {
        "id": "5dQLveqDKWWc"
      },
      "source": [
        "df_2018 = pd.read_csv('/content/drive/MyDrive/빅콘테스트/add_hts_2018.csv', encoding='CP949')\n",
        "df_2019 = pd.read_csv('/content/drive/MyDrive/빅콘테스트/add_hts_2019.csv', encoding='CP949')\n",
        "df_2020 = pd.read_csv('/content/drive/MyDrive/빅콘테스트/add_hts_2020.csv', encoding='CP949')\n",
        "df_2021 = pd.read_csv('/content/drive/MyDrive/빅콘테스트/add_hts_2021.csv', encoding='CP949')"
      ],
      "execution_count": null,
      "outputs": []
    },
    {
      "cell_type": "code",
      "metadata": {
        "id": "9zmoVatMAQcU"
      },
      "source": [
        "df_full = pd.concat([df_2018, df_2019, df_2020, df_2021])"
      ],
      "execution_count": null,
      "outputs": []
    },
    {
      "cell_type": "code",
      "metadata": {
        "id": "VKCnsSLDAVdL"
      },
      "source": [
        "df_full = df_full[['score', 'hit', '2_hit', '3_hit', 'homerun', 'tb', 'rbi', 'sb', 'cs', 'bb', 'hpp', 'ibb', 'so', 'gdp', 'sh', 'sf', 'avg', 'slg', 'ops', 'WPA', 'power_barrel', 'contact_barrel', 'clutch_barrel']]"
      ],
      "execution_count": null,
      "outputs": []
    },
    {
      "cell_type": "code",
      "metadata": {
        "id": "aOuTsxXnAYSc"
      },
      "source": [
        "test_df = df_full[df_full['power_barrel'].isnull()]\n",
        "train_df = df_full[df_full['power_barrel'].isnull() == False]"
      ],
      "execution_count": null,
      "outputs": []
    },
    {
      "cell_type": "code",
      "metadata": {
        "id": "HeZe-hRKBwUb"
      },
      "source": [
        "X = train_df[['score', 'hit', '2_hit', '3_hit', 'homerun', 'tb', 'rbi', 'sb', 'cs', 'bb', 'hpp', 'ibb', 'so', 'gdp', 'sh', 'sf', 'avg', 'slg', 'ops', 'WPA']]\n",
        "y1 = train_df['power_barrel']\n",
        "y2 = train_df['contact_barrel']\n",
        "y3 = train_df['clutch_barrel']"
      ],
      "execution_count": null,
      "outputs": []
    },
    {
      "cell_type": "code",
      "metadata": {
        "id": "rdtqZplqUPGJ",
        "colab": {
          "base_uri": "https://localhost:8080/"
        },
        "outputId": "26232a9c-146f-4fe6-8fd1-d740e812b859"
      },
      "source": [
        "from sklearn.linear_model import LogisticRegression\n",
        "from sklearn.model_selection import train_test_split\n",
        "from sklearn.metrics import f1_score\n",
        "\n",
        "train_X, test_X, train_y, test_y1 = train_test_split(X, y1, test_size = 0.2, random_state = 42)\n",
        "print(len(train_X), len(test_X))\n",
        "\n",
        "lr1 = LogisticRegression(random_state = 42)\n",
        "lr1.fit(train_X, train_y)\n",
        "\n",
        "pred_y1 = lr1.predict(test_X)\n",
        "score = f1_score(test_y1, pred_y1, average='micro')\n",
        "print(score)"
      ],
      "execution_count": null,
      "outputs": [
        {
          "output_type": "stream",
          "name": "stdout",
          "text": [
            "39524 9882\n",
            "0.8511434932199959\n"
          ]
        },
        {
          "output_type": "stream",
          "name": "stderr",
          "text": [
            "/usr/local/lib/python3.7/dist-packages/sklearn/linear_model/_logistic.py:764: ConvergenceWarning: lbfgs failed to converge (status=1):\n",
            "STOP: TOTAL NO. of ITERATIONS REACHED LIMIT.\n",
            "\n",
            "Increase the number of iterations (max_iter) or scale the data as shown in:\n",
            "    https://scikit-learn.org/stable/modules/preprocessing.html\n",
            "Please also refer to the documentation for alternative solver options:\n",
            "    https://scikit-learn.org/stable/modules/linear_model.html#logistic-regression\n",
            "  extra_warning_msg=_LOGISTIC_SOLVER_CONVERGENCE_MSG)\n"
          ]
        }
      ]
    },
    {
      "cell_type": "code",
      "metadata": {
        "colab": {
          "base_uri": "https://localhost:8080/"
        },
        "id": "eu2sd6zLWErb",
        "outputId": "0f702023-8e65-4408-af9f-567afed46373"
      },
      "source": [
        "train_X, test_X, train_y, test_y2 = train_test_split(X, y2, test_size = 0.2, random_state = 42)\n",
        "print(len(train_X), len(test_X))\n",
        "\n",
        "lr2 = LogisticRegression(random_state = 42)\n",
        "lr2.fit(train_X, train_y)\n",
        "\n",
        "pred_y2 = lr2.predict(test_X)\n",
        "score = f1_score(test_y2, pred_y2, average='micro')\n",
        "print(score)"
      ],
      "execution_count": null,
      "outputs": [
        {
          "output_type": "stream",
          "name": "stdout",
          "text": [
            "39524 9882\n",
            "0.7159481886257844\n"
          ]
        },
        {
          "output_type": "stream",
          "name": "stderr",
          "text": [
            "/usr/local/lib/python3.7/dist-packages/sklearn/linear_model/_logistic.py:764: ConvergenceWarning: lbfgs failed to converge (status=1):\n",
            "STOP: TOTAL NO. of ITERATIONS REACHED LIMIT.\n",
            "\n",
            "Increase the number of iterations (max_iter) or scale the data as shown in:\n",
            "    https://scikit-learn.org/stable/modules/preprocessing.html\n",
            "Please also refer to the documentation for alternative solver options:\n",
            "    https://scikit-learn.org/stable/modules/linear_model.html#logistic-regression\n",
            "  extra_warning_msg=_LOGISTIC_SOLVER_CONVERGENCE_MSG)\n"
          ]
        }
      ]
    },
    {
      "cell_type": "code",
      "metadata": {
        "colab": {
          "base_uri": "https://localhost:8080/"
        },
        "id": "h8QWEIFvWtAJ",
        "outputId": "b1876a03-0c04-4e2d-931f-ecd7a7fb7c2e"
      },
      "source": [
        "train_X, test_X, train_y, test_y3 = train_test_split(X, y3, test_size = 0.2, random_state = 42)\n",
        "print(len(train_X), len(test_X))\n",
        "\n",
        "lr3 = LogisticRegression(random_state = 42)\n",
        "lr3.fit(train_X, train_y)\n",
        "\n",
        "pred_y3 = lr3.predict(test_X)\n",
        "score = f1_score(test_y3, pred_y3, average='micro')\n",
        "print(score)"
      ],
      "execution_count": null,
      "outputs": [
        {
          "output_type": "stream",
          "name": "stdout",
          "text": [
            "39524 9882\n",
            "0.9554746002833435\n"
          ]
        },
        {
          "output_type": "stream",
          "name": "stderr",
          "text": [
            "/usr/local/lib/python3.7/dist-packages/sklearn/linear_model/_logistic.py:764: ConvergenceWarning: lbfgs failed to converge (status=1):\n",
            "STOP: TOTAL NO. of ITERATIONS REACHED LIMIT.\n",
            "\n",
            "Increase the number of iterations (max_iter) or scale the data as shown in:\n",
            "    https://scikit-learn.org/stable/modules/preprocessing.html\n",
            "Please also refer to the documentation for alternative solver options:\n",
            "    https://scikit-learn.org/stable/modules/linear_model.html#logistic-regression\n",
            "  extra_warning_msg=_LOGISTIC_SOLVER_CONVERGENCE_MSG)\n"
          ]
        }
      ]
    },
    {
      "cell_type": "code",
      "metadata": {
        "colab": {
          "base_uri": "https://localhost:8080/"
        },
        "id": "FR0GvwEGW2PN",
        "outputId": "c96db22a-2c74-4301-f80b-8d0c0180b65f"
      },
      "source": [
        "print('power_barrel')\n",
        "print(list(test_y1).count(0), list(pred_y1).count(0))\n",
        "print(list(test_y1).count(1), list(pred_y1).count(1))\n",
        "print(list(test_y1).count(2), list(pred_y1).count(2))\n",
        "\n",
        "print('contact_barrel')\n",
        "print(list(test_y2).count(0), list(pred_y2).count(0))\n",
        "print(list(test_y2).count(1), list(pred_y2).count(1))\n",
        "print(list(test_y2).count(2), list(pred_y2).count(2))\n",
        "\n",
        "print('clutch_barrel')\n",
        "print(list(test_y3).count(0), list(pred_y2).count(0))\n",
        "print(list(test_y3).count(1), list(pred_y2).count(1))\n",
        "print(list(test_y3).count(2), list(pred_y2).count(2))"
      ],
      "execution_count": null,
      "outputs": [
        {
          "output_type": "stream",
          "name": "stdout",
          "text": [
            "power_barrel\n",
            "7854 8870\n",
            "1755 980\n",
            "249 29\n",
            "contact_barrel\n",
            "6841 8362\n",
            "2582 1481\n",
            "420 37\n",
            "clutch_barrel\n",
            "9445 8362\n",
            "411 1481\n",
            "26 37\n"
          ]
        }
      ]
    },
    {
      "cell_type": "code",
      "metadata": {
        "id": "FMS9t-i5tYL1"
      },
      "source": [
        "test_X = test_df[['score', 'hit', '2_hit', '3_hit', 'homerun', 'tb', 'rbi', 'sb', 'cs', 'bb', 'hpp', 'ibb', 'so', 'gdp', 'sh', 'sf', 'avg', 'slg', 'ops', 'WPA']]"
      ],
      "execution_count": null,
      "outputs": []
    },
    {
      "cell_type": "code",
      "metadata": {
        "id": "0gyBN7qGtCRi"
      },
      "source": [
        "test_power = lr1.predict(test_X)\n",
        "test_contact = lr2.predict(test_X)\n",
        "test_clutch = lr3.predict(test_X)"
      ],
      "execution_count": null,
      "outputs": []
    },
    {
      "cell_type": "code",
      "metadata": {
        "id": "P-RnPpext5AC"
      },
      "source": [
        "nan_df = df_2021[df_2021['power_barrel'].isnull()]\n",
        "no_nan_df = df_2021[df_2021['power_barrel'].isnull() == False]"
      ],
      "execution_count": null,
      "outputs": []
    },
    {
      "cell_type": "code",
      "metadata": {
        "colab": {
          "base_uri": "https://localhost:8080/"
        },
        "id": "8V3VviMntTG0",
        "outputId": "40827d3f-a565-4140-c640-e81acce41eb0"
      },
      "source": [
        "nan_df['power_barrel'] = test_power\n",
        "nan_df['contact_barrel'] = test_contact\n",
        "nan_df['clutch_barrel'] = test_clutch"
      ],
      "execution_count": null,
      "outputs": [
        {
          "output_type": "stream",
          "name": "stderr",
          "text": [
            "/usr/local/lib/python3.7/dist-packages/ipykernel_launcher.py:1: SettingWithCopyWarning: \n",
            "A value is trying to be set on a copy of a slice from a DataFrame.\n",
            "Try using .loc[row_indexer,col_indexer] = value instead\n",
            "\n",
            "See the caveats in the documentation: https://pandas.pydata.org/pandas-docs/stable/user_guide/indexing.html#returning-a-view-versus-a-copy\n",
            "  \"\"\"Entry point for launching an IPython kernel.\n",
            "/usr/local/lib/python3.7/dist-packages/ipykernel_launcher.py:2: SettingWithCopyWarning: \n",
            "A value is trying to be set on a copy of a slice from a DataFrame.\n",
            "Try using .loc[row_indexer,col_indexer] = value instead\n",
            "\n",
            "See the caveats in the documentation: https://pandas.pydata.org/pandas-docs/stable/user_guide/indexing.html#returning-a-view-versus-a-copy\n",
            "  \n",
            "/usr/local/lib/python3.7/dist-packages/ipykernel_launcher.py:3: SettingWithCopyWarning: \n",
            "A value is trying to be set on a copy of a slice from a DataFrame.\n",
            "Try using .loc[row_indexer,col_indexer] = value instead\n",
            "\n",
            "See the caveats in the documentation: https://pandas.pydata.org/pandas-docs/stable/user_guide/indexing.html#returning-a-view-versus-a-copy\n",
            "  This is separate from the ipykernel package so we can avoid doing imports until\n"
          ]
        }
      ]
    },
    {
      "cell_type": "code",
      "metadata": {
        "id": "TppDIGwNtpK5"
      },
      "source": [
        "new_df_2021 = pd.concat([no_nan_df,nan_df])"
      ],
      "execution_count": null,
      "outputs": []
    },
    {
      "cell_type": "code",
      "metadata": {
        "id": "PemV55jsOVMQ"
      },
      "source": [
        "new_df_2021.to_csv('/content/drive/MyDrive/빅콘테스트/new_add_hts_2021.csv.csv')"
      ],
      "execution_count": null,
      "outputs": []
    }
  ]
}