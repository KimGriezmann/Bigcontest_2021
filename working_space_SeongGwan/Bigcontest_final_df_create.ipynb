{
  "nbformat": 4,
  "nbformat_minor": 0,
  "metadata": {
    "colab": {
      "name": "Bigcontest_final_df_create.ipynb",
      "provenance": [],
      "collapsed_sections": [],
      "mount_file_id": "16tcx4Pg-H4TokEXIeqUy4Iy0RoKMsrH-",
      "authorship_tag": "ABX9TyMoVyb+whyu70y5reKyw6O4",
      "include_colab_link": true
    },
    "kernelspec": {
      "name": "python3",
      "display_name": "Python 3"
    },
    "language_info": {
      "name": "python"
    }
  },
  "cells": [
    {
      "cell_type": "markdown",
      "metadata": {
        "id": "view-in-github",
        "colab_type": "text"
      },
      "source": [
        "<a href=\"https://colab.research.google.com/github/KimGriezmann/Bigcontest_2021/blob/master/working_space_SeongGwan/Bigcontest_final_df_create.ipynb\" target=\"_parent\"><img src=\"https://colab.research.google.com/assets/colab-badge.svg\" alt=\"Open In Colab\"/></a>"
      ]
    },
    {
      "cell_type": "code",
      "metadata": {
        "colab": {
          "base_uri": "https://localhost:8080/"
        },
        "id": "icC4WA0rMgH2",
        "outputId": "0f4fba1d-ba79-4768-9159-b32f3ff53242"
      },
      "source": [
        "from google.colab import drive\n",
        "drive.mount('/content/drive')"
      ],
      "execution_count": null,
      "outputs": [
        {
          "output_type": "stream",
          "name": "stdout",
          "text": [
            "Drive already mounted at /content/drive; to attempt to forcibly remount, call drive.mount(\"/content/drive\", force_remount=True).\n"
          ]
        }
      ]
    },
    {
      "cell_type": "code",
      "metadata": {
        "id": "xyDC50-sMWeA"
      },
      "source": [
        "import pandas as pd\n",
        "import numpy as np\n",
        "from matplotlib import pyplot as plt \n",
        "import datetime\n",
        "\n",
        "\n",
        "plt.rc('font', family='NanumBarunGothic')"
      ],
      "execution_count": null,
      "outputs": []
    },
    {
      "cell_type": "code",
      "metadata": {
        "colab": {
          "base_uri": "https://localhost:8080/"
        },
        "id": "vHvCuLLiqbm1",
        "outputId": "868d128d-b846-470a-f33c-b44e58ec09f3"
      },
      "source": [
        "def create_df():\n",
        "\n",
        "  #연도별 데이터 경로\n",
        "  HTS_dir = '/content/drive/MyDrive/빅콘테스트/01_제공데이터/2021 빅콘테스트_데이터분석분야_챔피언리그_스포츠테크_HTS'\n",
        "  Player_dir = '/content/drive/MyDrive/빅콘테스트/01_제공데이터/2021 빅콘테스트_데이터분석분야_챔피언리그_스포츠테크_선수'\n",
        "  Hitter_dir = '/content/drive/MyDrive/빅콘테스트/01_제공데이터/2021 빅콘테스트_데이터분석분야_챔피언리그_스포츠테크_타자 기본'\n",
        "  #단일 데이터 경로\n",
        "  Team_dir = '/content/drive/MyDrive/빅콘테스트/01_제공데이터/2021 빅콘테스트_데이터분석분야_챔피언리그_스포츠테크_팀.csv'\n",
        "  Schedule_dir = '/content/drive/MyDrive/빅콘테스트/01_제공데이터/2021 빅콘테스트_데이터분석분야_챔피언리그_스포츠테크_경기일정_2021.csv'\n",
        "  val_dir = '/content/drive/MyDrive/빅콘테스트/02_평가데이터/2021 빅콘테스트_데이터분석분야_챔피언리그_스포츠테크_평가데이터.xlsx'\n",
        "\n",
        "  year = [2018, 2019, 2020, 2021]\n",
        "\n",
        "  for i in year:\n",
        "    globals()['HTS_{}'.format(i)]     = pd.read_csv(HTS_dir + '_' + str(i) + '.csv', encoding='CP949')\n",
        "    globals()['Player_{}'.format(i)]  = pd.read_csv(Player_dir + '_' + str(i) + '.csv', encoding='CP949')\n",
        "    globals()['Hitter_{}'.format(i)]  = pd.read_csv(Hitter_dir + '_' + str(i) + '.csv', encoding='CP949')\n",
        "\n",
        "  global Team_df, Schedule_df, val_df\n",
        "  Team_df = pd.read_csv(Team_dir, encoding='CP949')\n",
        "  Schedule_df = pd.read_csv(Schedule_dir, encoding='CP949')\n",
        "  val_df = pd.read_excel(val_dir)\n",
        "\n",
        "######################\n",
        "\n",
        "#연도별 데이터 하나로 통합\n",
        "def concat_df():\n",
        "  df_list = ['HTS', 'Player', 'Hitter']\n",
        "\n",
        "#각 칼럼이 모두 같은지 검사 후 통합\n",
        "  for i in df_list:\n",
        "    if ((globals()['{}_2018'.format(i)].columns == globals()['{}_2019'.format(i)].columns).all()) and ((globals()['{}_2019'.format(i)].columns == globals()['{}_2020'.format(i)].columns).all()) and \\\n",
        "    ((globals()['{}_2020'.format(i)].columns == globals()['{}_2021'.format(i)].columns).all()):\n",
        "      globals()['{}_df'.format(i)] = pd.concat( [ globals()['{}_2018'.format(i)], globals()['{}_2019'.format(i)], globals()['{}_2020'.format(i)], globals()['{}_2021'.format(i) ] ] )\n",
        "\n",
        "#연도별 길이의 합이 통합된 데이터의 길이와 같은지 검사\n",
        "  for i in df_list:\n",
        "    if len(globals()['{}_2018'.format(i)]) + len(globals()['{}_2019'.format(i)]) + len(globals()['{}_2020'.format(i)]) + len(globals()['{}_2021'.format(i)]) == len(globals()['{}_df'.format(i)]):\n",
        "      print('{} is complete!'.format(i))\n",
        "\n",
        "######################\n",
        "\n",
        "create_df()\n",
        "concat_df()"
      ],
      "execution_count": null,
      "outputs": [
        {
          "output_type": "stream",
          "name": "stdout",
          "text": [
            "HTS is complete!\n",
            "Player is complete!\n",
            "Hitter is complete!\n"
          ]
        }
      ]
    },
    {
      "cell_type": "code",
      "metadata": {
        "id": "mKJnVFP4WReM"
      },
      "source": [
        "df_2018 = pd.read_csv('/content/drive/MyDrive/빅콘테스트/add_hts_2018.csv', encoding='CP949')\n",
        "df_2019 = pd.read_csv('/content/drive/MyDrive/빅콘테스트/add_hts_2019.csv', encoding='CP949')\n",
        "df_2020 = pd.read_csv('/content/drive/MyDrive/빅콘테스트/add_hts_2020.csv', encoding='CP949')\n",
        "df_2021 = pd.read_csv('/content/drive/MyDrive/빅콘테스트/add_hts_2021.csv', encoding='CP949')"
      ],
      "execution_count": null,
      "outputs": []
    },
    {
      "cell_type": "code",
      "metadata": {
        "id": "5pvc6KDntfno"
      },
      "source": [
        "hitter_list = list(set(df_2021['PCODE']))\n",
        "target_col = ['ab', 'score', 'hit', '2_hit', '3_hit', 'homerun', 'tb', 'rbi', 'sb', 'cs', 'bb', 'hpp', 'ibb', 'so', 'gdp', 'sh', 'sf', 'pitch', 'WPA', 'power_barrel', 'contact_barrel', 'clutch_barrel']\n",
        "\n",
        "home_split = pd.DataFrame()\n",
        "away_split = pd.DataFrame()\n",
        "\n",
        "for player in hitter_list:\n",
        "\n",
        "    tmp = df_2021[df_2021['PCODE'] == player]\n",
        "    home = tmp[ tmp['vs'].str.contains('@') == False ]\n",
        "    away = tmp[ tmp['vs'].str.contains('@') ]\n",
        "\n",
        "    if (len(away) < 10) | (len(home) < 10)  :\n",
        "        print('{}은/는 경기 수가 {}개보다 작기 때문에 삭제'.format(player, 10))\n",
        "        continue\n",
        "\n",
        "    else:\n",
        "        # tr_data의 타겟 칼럼을 모두 합해서 저장\n",
        "        home_sum = home.loc[:, target_col].sum()\n",
        "        away_sum = away.loc[:, target_col].sum()\n",
        "        # 어떤 선수인지 저장 (name -> pcode)\n",
        "        home_sum['PCODE'] = player\n",
        "        away_sum['PCODE'] = player\n",
        "\n",
        "        home_sum['NAME'] = tmp.iloc[0,0]\n",
        "        away_sum['NAME'] = tmp.iloc[0,0]\n",
        "\n",
        "        # Series 데이터를 DataFrame 형식으로 변환\n",
        "        home_result = home_sum.to_frame().transpose()\n",
        "        away_result = away_sum.to_frame().transpose()\n",
        "            \n",
        "        # 이 선수 데이터를 전체 데이터셋에 추가\n",
        "        home_split = pd.concat([home_split, home_result])\n",
        "        away_split = pd.concat([away_split, away_result])"
      ],
      "execution_count": null,
      "outputs": []
    },
    {
      "cell_type": "code",
      "metadata": {
        "id": "BJdBvadBZkZW"
      },
      "source": [
        "# 공백기간 삭제 함수\n",
        "\n",
        "def del_empty(df):\n",
        "    before = df[df['DATE'] < 20210801].reset_index(drop=True)\n",
        "    tmp = df[df['DATE'] >= 20210810].reset_index(drop=True)\n",
        "\n",
        "    date_list = []\n",
        "    for i in range(len(tmp)):\n",
        "        date = datetime.datetime.strptime(str(tmp['DATE'][i]), '%Y%m%d')\n",
        "        date = date + datetime.timedelta(days=-28)\n",
        "        date = date.strftime('%Y%m%d')\n",
        "        date_list.append(int(date))\n",
        "\n",
        "    tmp['DATE'] = date_list\n",
        "\n",
        "    new_df = pd.concat([before, tmp])\n",
        "    return new_df"
      ],
      "execution_count": null,
      "outputs": []
    },
    {
      "cell_type": "code",
      "metadata": {
        "id": "aY5TdJpBLUDE"
      },
      "source": [
        "# 홈 원정 분할 생성 함수\n",
        "\n",
        "\n",
        "def HA_split(df, period, interval, del_cri):\n",
        "    \n",
        "    first_date = df.sort_values('DATE').reset_index(drop=True).loc[0,'DATE']\n",
        "\n",
        "    last_date = df.sort_values('DATE').reset_index(drop=True).loc[len(df)-1, 'DATE']\n",
        "    print('개막 날짜 : {}, 마지막 날짜 : {}'.format(first_date, last_date))\n",
        "\n",
        "    # 결과값 저장할 데이터프레임 생성\n",
        "    home_split = pd.DataFrame()\n",
        "    away_split = pd.DataFrame()\n",
        "\n",
        "    while True:\n",
        "        \n",
        "        start_date = str(first_date)\n",
        "\n",
        "        end_date = datetime.datetime.strptime(start_date, '%Y%m%d')\n",
        "        end_date = end_date + datetime.timedelta(days=period)\n",
        "        end_date = end_date.strftime('%Y%m%d')\n",
        "\n",
        "        pred_date = datetime.datetime.strptime(end_date, '%Y%m%d')\n",
        "        pred_date = pred_date + datetime.timedelta(days=24)\n",
        "        pred_date = pred_date.strftime('%Y%m%d')\n",
        "\n",
        "        if int(pred_date) >= last_date:\n",
        "            print('가져오는 날짜{}가 마지막 날짜{} 이후의 데이터입니다.'.format(pred_date, last_date))\n",
        "            break\n",
        "\n",
        "        # 해당 시즌 타자 목록 (name -> pcode)\n",
        "        hitter_list = list(set(df['PCODE']))\n",
        "\n",
        "        # 더해줄 칼럼 목록 (avg, obp, slg, ops, avLI, RE24 제외)\n",
        "        target_col = ['ab', 'score', 'hit', '2_hit', '3_hit', 'homerun', 'tb', 'rbi', 'sb', 'cs', 'bb', 'hpp', 'ibb', 'so', 'gdp', 'sh', 'sf', 'pitch', 'WPA', 'power_barrel', 'contact_barrel', 'clutch_barrel']\n",
        "\n",
        "        # start_date 이후의 경기만 추출\n",
        "        tr_df = df[ (df['DATE'] >= int(start_date)) & (df['DATE'] <= int(end_date)) ]\n",
        "        ts_df = df[ (df['DATE'] > int(end_date)) & (df['DATE'] <= int(pred_date)) ]\n",
        "\n",
        "        # first_date + interval\n",
        "        first_date = datetime.datetime.strptime(start_date, '%Y%m%d')\n",
        "        first_date = first_date + datetime.timedelta(days=interval)\n",
        "        first_date = first_date.strftime('%Y%m%d')\n",
        "\n",
        "        # 타자 한명씩 추출\n",
        "        for player in hitter_list:\n",
        "\n",
        "            tr_pl_data = tr_df[tr_df['PCODE'] == player]\n",
        "            ts_pl_data = ts_df[ts_df['PCODE'] == player]\n",
        "\n",
        "            away_tr = tr_pl_data[ tr_pl_data['vs'].str.contains('@') ]\n",
        "            home_tr = tr_pl_data[ tr_pl_data['vs'].str.contains('@')  == False ]\n",
        "\n",
        "            away_ts = ts_pl_data[ ts_pl_data['vs'].str.contains('@') ]\n",
        "            home_ts = ts_pl_data[ ts_pl_data['vs'].str.contains('@')  == False ]\n",
        "\n",
        "            if (len(away_tr) < del_cri) | (len(home_tr) < del_cri) | (len(away_ts) < 3.5) | (len(home_ts) < 3.5) :\n",
        "                continue\n",
        "\n",
        "            else:\n",
        "\n",
        "                # tr_data의 타겟 칼럼을 모두 합해서 저장\n",
        "                home_sum = home_tr.loc[:, target_col].sum()\n",
        "                away_sum = away_tr.loc[:, target_col].sum()\n",
        "                # 어떤 선수인지 저장 (name -> pcode)\n",
        "                home_sum['PCODE'] = player\n",
        "                away_sum['PCODE'] = player\n",
        "\n",
        "                home_sum['NAME'] = tr_pl_data.iloc[0,0]\n",
        "                away_sum['NAME'] = tr_pl_data.iloc[0,0]\n",
        "\n",
        "                # ts_data의 성적들로 avg, slg, obp, ops 라벨 생성\n",
        "                home_ts_sum = home_ts.loc[:, target_col].sum()\n",
        "                away_ts_sum = away_ts.loc[:, target_col].sum()\n",
        "\n",
        "                home_sum['avg_label'] = home_ts_sum['hit'] / home_ts_sum['ab'] if home_ts_sum['ab'] != 0 else 0\n",
        "                home_sum['slg_label'] = home_ts_sum['tb'] / home_ts_sum['ab'] if home_ts_sum['ab'] != 0 else 0\n",
        "                home_sum['obp_label'] = (home_ts_sum['hit'] + home_ts_sum['bb'] + home_ts_sum['hpp']) / (home_ts_sum['ab'] +  home_ts_sum['bb'] + home_ts_sum['hpp'] + home_ts_sum['sf'])\n",
        "                home_sum['ops_label'] = home_sum['slg_label'] + home_sum['obp_label']\n",
        "\n",
        "                away_sum['avg_label'] = away_ts_sum['hit'] / away_ts_sum['ab'] if away_ts_sum['ab'] != 0 else 0\n",
        "                away_sum['slg_label'] = away_ts_sum['tb'] / away_ts_sum['ab'] if away_ts_sum['ab'] != 0 else 0\n",
        "                away_sum['obp_label'] = (away_ts_sum['hit'] + away_ts_sum['bb'] + away_ts_sum['hpp']) / (away_ts_sum['ab'] +  away_ts_sum['bb'] + away_ts_sum['hpp'] + away_ts_sum['sf'])\n",
        "                away_sum['ops_label'] = away_sum['slg_label'] + away_sum['obp_label']\n",
        "\n",
        "                # Series 데이터를 DataFrame 형식으로 변환\n",
        "                home_result = home_sum.to_frame().transpose()\n",
        "                away_result = away_sum.to_frame().transpose()\n",
        "                    \n",
        "                # 이 선수 데이터를 전체 데이터셋에 추가\n",
        "                home_split = pd.concat([home_split, home_result])\n",
        "                away_split = pd.concat([away_split, away_result])\n",
        "            \n",
        "    # 데이터셋 인덱스 초기화\n",
        "    home_split = home_split.reset_index(drop=True)\n",
        "    away_split = away_split.reset_index(drop=True)\n",
        "            \n",
        "    return home_split, away_split"
      ],
      "execution_count": null,
      "outputs": []
    },
    {
      "cell_type": "code",
      "metadata": {
        "id": "SsdIwebqS7DU"
      },
      "source": [
        "# 2021년 이전, 홈 원정 구분하지 않은 생성 함수\n",
        "\n",
        "\n",
        "def total_split(df, period, interval, del_cri):\n",
        "\n",
        "    first_date = df.sort_values('DATE').reset_index(drop=True).loc[0,'DATE']\n",
        "\n",
        "    last_date = df.sort_values('DATE').reset_index(drop=True).loc[len(df)-1, 'DATE']\n",
        "    print('개막 날짜 : {}, 마지막 날짜 : {}'.format(first_date, last_date))\n",
        "\n",
        "    # 결과값 저장할 데이터프레임 생성\n",
        "    total_split = pd.DataFrame()\n",
        "\n",
        "    while True:\n",
        "        \n",
        "        start_date = str(first_date)\n",
        "\n",
        "        end_date = datetime.datetime.strptime(start_date, '%Y%m%d')\n",
        "        end_date = end_date + datetime.timedelta(days=period)\n",
        "        end_date = end_date.strftime('%Y%m%d')\n",
        "\n",
        "        pred_date = datetime.datetime.strptime(end_date, '%Y%m%d')\n",
        "        pred_date = pred_date + datetime.timedelta(days=24)\n",
        "        pred_date = pred_date.strftime('%Y%m%d')\n",
        "\n",
        "        if int(pred_date) >= last_date:\n",
        "            print('가져오는 날짜{}가 마지막 날짜{} 이후의 데이터입니다.'.format(pred_date, last_date))\n",
        "            break\n",
        "\n",
        "        # 해당 시즌 타자 목록 (name -> pcode)\n",
        "        hitter_list = list(set(df['PCODE']))\n",
        "\n",
        "        # 더해줄 칼럼 목록 (avg, obp, slg, ops, avLI, RE24 제외)\n",
        "        target_col = ['ab', 'score', 'hit', '2_hit', '3_hit', 'homerun', 'tb', 'rbi', 'sb', 'cs', 'bb', 'hpp', 'ibb', 'so', 'gdp', 'sh', 'sf', 'pitch', 'WPA', 'power_barrel', 'contact_barrel', 'clutch_barrel']\n",
        "\n",
        "        # start_date 이후의 경기만 추출\n",
        "        tr_df = df[ (df['DATE'] >= int(start_date)) & (df['DATE'] <= int(end_date)) ]\n",
        "        ts_df = df[ (df['DATE'] > int(end_date)) & (df['DATE'] <= int(pred_date)) ]\n",
        "\n",
        "        # first_date + interval\n",
        "        first_date = datetime.datetime.strptime(start_date, '%Y%m%d')\n",
        "        first_date = first_date + datetime.timedelta(days=interval)\n",
        "        first_date = first_date.strftime('%Y%m%d')\n",
        "\n",
        "        # 타자 한명씩 추출\n",
        "        for player in hitter_list:\n",
        "\n",
        "            tr_pl_data = tr_df[tr_df['PCODE'] == player]\n",
        "            ts_pl_data = ts_df[ts_df['PCODE'] == player]\n",
        "\n",
        "            if (len(tr_pl_data) < del_cri) | (len(ts_pl_data) < 3.5) :\n",
        "                continue\n",
        "\n",
        "            else:\n",
        "\n",
        "                # tr_data의 타겟 칼럼을 모두 합해서 저장\n",
        "                tr_sum = tr_pl_data.loc[:, target_col].sum()\n",
        "\n",
        "                # 어떤 선수인지 저장 (name -> pcode)\n",
        "                tr_sum['PCODE'] = player\n",
        "\n",
        "\n",
        "                tr_sum['NAME'] = tr_pl_data.iloc[0,0]\n",
        "\n",
        "\n",
        "                # ts_data의 성적들로 avg, slg, obp, ops 라벨 생성\n",
        "                ts_sum = ts_pl_data.loc[:, target_col].sum()\n",
        "\n",
        "\n",
        "                tr_sum['avg_label'] = ts_sum['hit'] / ts_sum['ab'] if ts_sum['ab'] != 0 else 0\n",
        "                tr_sum['slg_label'] = ts_sum['tb'] / ts_sum['ab'] if ts_sum['ab'] != 0 else 0\n",
        "                tr_sum['obp_label'] = (ts_sum['hit'] + ts_sum['bb'] + ts_sum['hpp']) / (ts_sum['ab'] +  ts_sum['bb'] + ts_sum['hpp'] + ts_sum['sf'])\n",
        "                tr_sum['ops_label'] = ts_sum['slg_label'] + ts_sum['obp_label']\n",
        "\n",
        "                # Series 데이터를 DataFrame 형식으로 변환\n",
        "                tmp_result = tr_sum.to_frame().transpose()\n",
        "                    \n",
        "                # 이 선수 데이터를 전체 데이터셋에 추가\n",
        "                total_split = pd.concat([total_split, tmp_result])\n",
        "            \n",
        "    # 데이터셋 인덱스 초기화\n",
        "    total_split = total_split.reset_index(drop=True)\n",
        "            \n",
        "    return total_split"
      ],
      "execution_count": null,
      "outputs": []
    },
    {
      "cell_type": "code",
      "metadata": {
        "id": "NytiqhOxUQSh"
      },
      "source": [
        "# 결과 도출용 데이터셋 생성\n",
        "\n",
        "\n",
        "def HA_final(df, period, del_cri):\n",
        "\n",
        "    # 결과값 저장할 데이터프레임 생성\n",
        "    home_split = pd.DataFrame()\n",
        "    away_split = pd.DataFrame()\n",
        "\n",
        "    start_date = datetime.datetime.strptime('20210815', '%Y%m%d')\n",
        "    start_date = date + datetime.timedelta(days=-period)\n",
        "    start_date = date.strftime('%Y%m%d')\n",
        "\n",
        "    # 해당 시즌 타자 목록 (name -> pcode)\n",
        "    hitter_list = list(set(df['PCODE']))\n",
        "\n",
        "    # 더해줄 칼럼 목록 (avg, obp, slg, ops, avLI, RE24 제외)\n",
        "    target_col = ['ab', 'score', 'hit', '2_hit', '3_hit', 'homerun', 'tb', 'rbi', 'sb', 'cs', 'bb', 'hpp', 'ibb', 'so', 'gdp', 'sh', 'sf', 'pitch', 'WPA', 'power_barrel', 'contact_barrel', 'clutch_barrel']\n",
        "\n",
        "    # start_date 이후의 경기만 추출\n",
        "    final_df = df[ (df['DATE'] >= int(start_date)) ]\n",
        "\n",
        "    # 타자 한명씩 추출\n",
        "    for player in hitter_list:\n",
        "\n",
        "        final_pl_df = final_df[final_df['PCODE'] == player]\n",
        "\n",
        "        away_pl = final_pl_df[ final_pl_df['vs'].str.contains('@') ]\n",
        "        home_pl = final_pl_df[ final_pl_df['vs'].str.contains('@')  == False ]\n",
        "\n",
        "\n",
        "        if (len(away_pl) < del_cri) | (len(home_pl) < del_cri) :\n",
        "            continue\n",
        "\n",
        "        else:\n",
        "\n",
        "            # tr_data의 타겟 칼럼을 모두 합해서 저장\n",
        "            home_sum = home_pl.loc[:, target_col].sum()\n",
        "            away_sum = away_pl.loc[:, target_col].sum()\n",
        "            # 어떤 선수인지 저장 (name -> pcode)\n",
        "            home_sum['PCODE'] = player\n",
        "            away_sum['PCODE'] = player\n",
        "\n",
        "            home_sum['NAME'] = final_pl_df.iloc[0,0]\n",
        "            away_sum['NAME'] = final_pl_df.iloc[0,0]\n",
        "\n",
        "            # Series 데이터를 DataFrame 형식으로 변환\n",
        "            home_result = home_sum.to_frame().transpose()\n",
        "            away_result = away_sum.to_frame().transpose()\n",
        "                \n",
        "            # 이 선수 데이터를 전체 데이터셋에 추가\n",
        "            home_split = pd.concat([home_split, home_result])\n",
        "            away_split = pd.concat([away_split, away_result])\n",
        "            \n",
        "    # 데이터셋 인덱스 초기화\n",
        "    home_split = home_split.reset_index(drop=True)\n",
        "    away_split = away_split.reset_index(drop=True)\n",
        "            \n",
        "    return home_split, away_split"
      ],
      "execution_count": null,
      "outputs": []
    },
    {
      "cell_type": "code",
      "metadata": {
        "id": "KD0lE3pSchY_"
      },
      "source": [
        "# 결과 도출용 데이터셋 생성\n",
        "\n",
        "\n",
        "def total_final(df, period, del_cri):\n",
        "\n",
        "    # 결과값 저장할 데이터프레임 생성\n",
        "    total_split = pd.DataFrame()\n",
        "\n",
        "    start_date = datetime.datetime.strptime('20210815', '%Y%m%d')\n",
        "    start_date = date + datetime.timedelta(days=-period)\n",
        "    start_date = date.strftime('%Y%m%d')\n",
        "\n",
        "    # 해당 시즌 타자 목록 (name -> pcode)\n",
        "    hitter_list = list(set(df['PCODE']))\n",
        "\n",
        "    # 더해줄 칼럼 목록 (avg, obp, slg, ops, avLI, RE24 제외)\n",
        "    target_col = ['ab', 'score', 'hit', '2_hit', '3_hit', 'homerun', 'tb', 'rbi', 'sb', 'cs', 'bb', 'hpp', 'ibb', 'so', 'gdp', 'sh', 'sf', 'pitch', 'WPA', 'power_barrel', 'contact_barrel', 'clutch_barrel']\n",
        "\n",
        "    # start_date 이후의 경기만 추출\n",
        "    final_df = df[ (df['DATE'] >= int(start_date)) ]\n",
        "\n",
        "    # 타자 한명씩 추출\n",
        "    for player in hitter_list:\n",
        "\n",
        "        final_pl_df = final_df[final_df['PCODE'] == player]\n",
        "\n",
        "        if (len(final_pl_df) < del_cri) :\n",
        "            continue\n",
        "\n",
        "        else:\n",
        "\n",
        "            # tr_data의 타겟 칼럼을 모두 합해서 저장\n",
        "            total_sum = final_pl_df.loc[:, target_col].sum()\n",
        "\n",
        "            # 어떤 선수인지 저장 (name -> pcode)\n",
        "            total_sum['PCODE'] = player\n",
        "\n",
        "\n",
        "            total_sum['NAME'] = final_pl_df.iloc[0,0]\n",
        "\n",
        "            # Series 데이터를 DataFrame 형식으로 변환\n",
        "            total_result = total_sum.to_frame().transpose()\n",
        "                \n",
        "            # 이 선수 데이터를 전체 데이터셋에 추가\n",
        "            total_split = pd.concat([total_split, total_result])\n",
        "            \n",
        "    # 데이터셋 인덱스 초기화\n",
        "    total_split = total_split.reset_index(drop=True)\n",
        "            \n",
        "    return total_split"
      ],
      "execution_count": null,
      "outputs": []
    },
    {
      "cell_type": "code",
      "metadata": {
        "colab": {
          "base_uri": "https://localhost:8080/"
        },
        "id": "aVD9r6NXM_cr",
        "outputId": "03754756-06de-4d1c-e92f-d988aa62a115"
      },
      "source": [
        "df_2021 = del_empty(df_2021)\n",
        "\n",
        "home_2018, away_2018 = HA_split(df = df_2018, period = 30 , interval = 7, del_cri= 3)\n",
        "home_2019, away_2019 = HA_split(df = df_2019, period = 30, interval = 7, del_cri= 3)\n",
        "home_2020, away_2020 = HA_split(df = df_2020, period = 30, interval = 7, del_cri= 3)\n",
        "home_2021, away_2021 = HA_split(df = df_2021, period = 30, interval = 7, del_cri= 3)\n",
        "\n",
        "home_final, away_final = HA_final(df = df_2021, period = 30, del_cri = 3)"
      ],
      "execution_count": null,
      "outputs": [
        {
          "output_type": "stream",
          "name": "stdout",
          "text": [
            "개막 날짜 : 20180324, 마지막 날짜 : 20181014\n",
            "가져오는 날짜20181018가 마지막 날짜20181014 이후의 데이터입니다.\n"
          ]
        }
      ]
    },
    {
      "cell_type": "code",
      "metadata": {
        "colab": {
          "base_uri": "https://localhost:8080/"
        },
        "id": "IjiAfkM2PGnu",
        "outputId": "b4521c6b-5297-46c3-91a1-237fc3c9ca4a"
      },
      "source": [
        "total_2018 = total_split(df = df_2018, period = 30 , interval = 7, del_cri= 3)\n",
        "total_2019 = total_split(df = df_2019, period = 30, interval = 7, del_cri= 3)\n",
        "total_2020 = total_split(df = df_2020, period = 30, interval = 7, del_cri= 3)\n",
        "total_2021 = total_split(df = df_2021, period = 30, interval = 7, del_cri= 3)\n",
        "\n",
        "total_final = total_final(df = df_2021, period = 30, del_cri = 3)"
      ],
      "execution_count": null,
      "outputs": [
        {
          "output_type": "stream",
          "name": "stdout",
          "text": [
            "개막 날짜 : 20190323, 마지막 날짜 : 20191001\n",
            "가져오는 날짜20191003가 마지막 날짜20191001 이후의 데이터입니다.\n",
            "개막 날짜 : 20200505, 마지막 날짜 : 20201031\n",
            "가져오는 날짜20201101가 마지막 날짜20201031 이후의 데이터입니다.\n",
            "개막 날짜 : 20210403, 마지막 날짜 : 20210711\n",
            "가져오는 날짜20210715가 마지막 날짜20210711 이후의 데이터입니다.\n"
          ]
        }
      ]
    },
    {
      "cell_type": "code",
      "metadata": {
        "colab": {
          "base_uri": "https://localhost:8080/"
        },
        "id": "3f5E5ea9NSYh",
        "outputId": "eb5e1415-36d9-4c98-c2ac-58aa28d5e566"
      },
      "source": [
        "print('홈 경기 row 개수\\n2018 : {}, 2019 : {}, 2020 : {}, 2021 : {}'.format(home_2018.shape[0], home_2019.shape[0], home_2020.shape[0], home_2021.shape[0]))\n",
        "print('원정 경기 row 개수\\n2018 : {}, 2019 : {}, 2020 : {}, 2021 : {}'.format(away_2018.shape[0], away_2019.shape[0], away_2020.shape[0], away_2021.shape[0]))\n",
        "print('전체 경기 row 개수\\n2018 : {}, 2019 : {}, 2020 : {}, 2021 : {}'.format(total_2018.shape[0], total_2019.shape[0], total_2020.shape[0], total_2021.shape[0]))\n",
        "print('결과용 경기 row 개수\\n홈 : {}, 원정 : {}, 전체 : {}'.format(home_final.shape[0], away_final.shape[0], total_final.shape[0]))"
      ],
      "execution_count": null,
      "outputs": [
        {
          "output_type": "stream",
          "name": "stdout",
          "text": [
            "홈 경기 row 개수\n",
            "2018 : 1556, 2019 : 1502, 2020 : 1575, 2021 : 576\n",
            "원정 경기 row 개수\n",
            "2018 : 1556, 2019 : 1502, 2020 : 1575, 2021 : 576\n"
          ]
        }
      ]
    },
    {
      "cell_type": "code",
      "metadata": {
        "id": "PCMyncM9dW-j"
      },
      "source": [
        "def cal_feature(data):\n",
        "\n",
        "    new_data = data.copy()\n",
        "\n",
        "    new_data['avg'] = new_data.apply(lambda x: round(x['hit'] / x['ab'], 3) if x['ab'] != 0 else 0, axis=1)\n",
        "    new_data['obp'] = new_data.apply(lambda x: round((x['hit'] + x['bb'] + x['hpp']) / (x['ab'] + x['bb'] + x['hpp'] + x['sf']), 3) if (x['ab'] + x['bb'] + x['hpp'] + x['sf']) != 0 else 0, axis=1)\n",
        "    new_data['slg'] = new_data.apply(lambda x: round(x['tb'] / x['ab'], 3) if x['ab'] != 0 else 0, axis=1)\n",
        "    new_data['ops'] = new_data['obp'] + new_data['slg']\n",
        "    new_data['pa'] = new_data['ab'] + new_data['bb'] + new_data['sf']\n",
        "    new_data['1_hit'] = new_data['hit'] - new_data['2_hit'] - new_data['3_hit'] - new_data['homerun']\n",
        "    new_data['xh'] = new_data['2_hit'] + new_data['3_hit'] + new_data['homerun']\n",
        "\n",
        "\n",
        "    new_data['babib'] = new_data.apply(lambda x: round((x['hit'] - x['homerun']) / (x['ab'] - x['so'] - x['homerun'] + x['sf']), 3) if (x['ab'] - x['so'] - x['homerun'] + x['sf']) != 0 else 0, axis=1)\n",
        "    new_data['pitch/pa'] = new_data.apply(lambda x: round(x['pitch'] / x['pa'], 2) if x['pa'] != 0 else 0, axis=1)\n",
        "    new_data['cq'] = new_data.apply(lambda x: round((0.5 * x['hit'] + 0.3 * x['tb']) / (x['ab'] - x['so']), 3) if (x['ab'] - x['so']) != 0 else 0, axis=1)\n",
        "    new_data['b/k'] = new_data.apply(lambda x: round(x['bb'] / x['so'], 3) if x['so'] != 0 else 0, axis=1)\n",
        "    new_data['IsoP'] = new_data['slg'] - new_data['avg']\n",
        "    new_data['IsoD'] = new_data['obp'] - new_data['avg']\n",
        "    new_data['psn'] = new_data.apply(lambda x: round((2 * x['homerun'] * x['sb']) / (x['homerun'] + x['sb']), 3) if (x['homerun'] + x['sb']) != 0 else 0, axis=1)\n",
        "    new_data['hr%'] = new_data.apply(lambda x: round(x['homerun'] / x['pa'], 3) if x['pa'] != 0 else 0, axis=1)\n",
        "    new_data['kk%'] = new_data.apply(lambda x: round(x['so'] / x['pa'], 3) if x['pa'] != 0 else 0, axis=1)\n",
        "    new_data['bb%'] = new_data.apply(lambda x: round(x['bb'] / x['pa'], 3) if x['pa'] != 0 else 0, axis=1)\n",
        "    new_data['xh/ab'] = new_data.apply(lambda x: round(x['xh'] / x['pa'], 3) if x['pa'] != 0 else 0, axis=1)\n",
        "    new_data['xh/h'] = new_data.apply(lambda x: round(x['xh'] / x['hit'], 3) if x['hit'] != 0 else 0, axis=1)\n",
        "    new_data['hr/xh'] = new_data.apply(lambda x: round(x['homerun'] / x['xh'], 3) if x['xh'] != 0 else 0, axis=1)\n",
        "    new_data['pa/hr'] = new_data.apply(lambda x: round(x['pa'] / x['homerun'], 3) if x['homerun'] != 0 else 0, axis=1)\n",
        "    new_data['ab/hr'] = new_data.apply(lambda x: round(x['ab'] / x['homerun'], 3) if x['homerun'] != 0 else 0, axis=1)\n",
        "    new_data['ueqr'] = new_data.apply(lambda x: round((x['hit'] + x['tb'] + 1.5*(x['bb'] + x['hpp'] + x['sb']) + x['sh'] + x['sf'] - x['ibb']/2) / (x['ab'] + x['bb'] + x['hpp'] + x['sh'] + x['sf'] + x['cs'] + x['sb']), 3) if (x['ab'] + x['bb'] + x['hpp'] + x['sh'] + x['sf'] + x['cs'] + x['sb']) != 0 else 0, axis=1)\n",
        "    new_data['wOBA'] = new_data.apply(lambda x: round((0.72 * x['bb'] + 0.75 * x['hpp'] + 0.9 * x['1_hit'] + 1.24 * x['2_hit'] + 1.56 * x['3_hit'] + 1.95 * x['homerun']) / (x['pa'] - x['ibb']), 3) if (x['pa'] - x['ibb']) != 0 else 0, axis=1)\n",
        "\n",
        "\n",
        "    new_data['score'] = round((new_data['score'] / new_data['pa']).astype(float), 3)\n",
        "    new_data['hit'] = round((new_data['hit'] / new_data['pa']).astype(float), 3)\n",
        "    new_data['1_hit'] = round((new_data['1_hit'] / new_data['pa']).astype(float), 3)\n",
        "    new_data['xh'] = round((new_data['xh'] / new_data['pa']).astype(float), 3)\n",
        "    new_data['2_hit'] = round((new_data['2_hit'] / new_data['pa']).astype(float), 3)\n",
        "    new_data['3_hit'] = round((new_data['3_hit'] / new_data['pa']).astype(float), 3)\n",
        "    new_data['homerun'] = round((new_data['homerun'] / new_data['pa']).astype(float), 3)\n",
        "    new_data['tb'] = round((new_data['tb'] / new_data['pa']).astype(float), 3)\n",
        "    new_data['rbi'] = round((new_data['rbi'] / new_data['pa']).astype(float), 3)\n",
        "    new_data['sb'] = round((new_data['sb'] / new_data['pa']).astype(float), 3)\n",
        "    new_data['cs'] = round((new_data['cs'] / new_data['pa']).astype(float), 3)\n",
        "    new_data['bb'] = round((new_data['bb'] / new_data['pa']).astype(float), 3)\n",
        "    new_data['hpp'] = round((new_data['hpp'] / new_data['pa']).astype(float), 3)\n",
        "    new_data['ibb'] = round((new_data['ibb'] / new_data['pa']).astype(float), 3)\n",
        "    new_data['so'] = round((new_data['so'] / new_data['pa']).astype(float), 3)\n",
        "    new_data['gdp'] = round((new_data['gdp'] / new_data['pa']).astype(float), 3)\n",
        "    new_data['sh'] = round((new_data['sh'] / new_data['pa']).astype(float), 3)\n",
        "    new_data['sf'] = round((new_data['sf'] / new_data['pa']).astype(float), 3)\n",
        "    new_data['WPA'] = round((new_data['WPA'] / new_data['pa']).astype(float), 3)\n",
        "    new_data['power_barrel'] = round((new_data['power_barrel'] / new_data['pa']).astype(float), 3)\n",
        "    new_data['contact_barrel'] = round((new_data['contact_barrel'] / new_data['pa']).astype(float), 3)\n",
        "    new_data['clutch_barrel'] = round((new_data['clutch_barrel'] / new_data['pa']).astype(float), 3)\n",
        "\n",
        "\n",
        "    clean_col = ['PCODE', 'NAME', 'ab', 'pa', 'score', 'hit', '1_hit', '2_hit', '3_hit', 'homerun', 'xh', 'tb', 'rbi', 'sb', 'cs', 'bb', 'hpp', 'ibb', 'so', 'gdp', 'sh', 'sf', 'avg', 'obp', 'slg', 'ops', 'WPA', 'babib',\n",
        "             'pitch/pa', 'cq', 'b/k', 'IsoP', 'IsoD', 'psn', 'hr%', 'kk%', 'bb%', 'xh/ab', 'xh/h', 'hr/xh', 'pa/hr','ab/hr', 'ueqr', 'wOBA', 'power_barrel', 'contact_barrel', 'clutch_barrel', 'avg_label', 'slg_label', 'obp_label', 'ops_label']\n",
        "\n",
        "    new_data = new_data[clean_col]\n",
        "\n",
        "    return new_data"
      ],
      "execution_count": null,
      "outputs": []
    },
    {
      "cell_type": "code",
      "metadata": {
        "id": "qUnOfu0Xfqts"
      },
      "source": [
        "home_df = [home_2018, home_2019, home_2020, home_2021]\n",
        "away_df = [away_2018, away_2019, away_2020, away_2021]\n",
        "years = [2018, 2019, 2020, 2021]\n",
        "\n",
        "for i in range(4):\n",
        "\n",
        "    globals()['final_home_{}'.format(years[i])] = cal_feature(home_df[i])\n",
        "    globals()['final_away_{}'.format(years[i])] = cal_feature(away_df[i])"
      ],
      "execution_count": null,
      "outputs": []
    },
    {
      "cell_type": "code",
      "metadata": {
        "id": "fDzd27SedVLs"
      },
      "source": [
        "total_df = [total_2018, total_2019, total_2020, total_2021]\n",
        "years = [2018, 2019, 2020, 2021]\n",
        "\n",
        "for i in range(4):\n",
        "\n",
        "    globals()['final_total_{}'.format(years[i])] = cal_feature(total_df[i])"
      ],
      "execution_count": null,
      "outputs": []
    },
    {
      "cell_type": "code",
      "metadata": {
        "id": "ojo2Q0uFnWSW"
      },
      "source": [
        "final_home_2018.to_csv('home_2018.csv')\n",
        "final_home_2019.to_csv('home_2019.csv')\n",
        "final_home_2020.to_csv('home_2020.csv')\n",
        "final_home_2021.to_csv('home_2021.csv')\n",
        "\n",
        "final_away_2018.to_csv('away_2018.csv')\n",
        "final_away_2019.to_csv('away_2019.csv')\n",
        "final_away_2020.to_csv('away_2020.csv')\n",
        "final_away_2021.to_csv('away_2021.csv')\n",
        "\n",
        "fianl_total_2018.to_csv('final_2018.csv')\n",
        "fianl_total_2019.to_csv('final_2019.csv')\n",
        "fianl_total_2020.to_csv('final_2020.csv')\n",
        "fianl_total_2021.to_csv('final_2021.csv')"
      ],
      "execution_count": null,
      "outputs": []
    }
  ]
}