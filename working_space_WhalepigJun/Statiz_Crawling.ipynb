{
  "nbformat": 4,
  "nbformat_minor": 0,
  "metadata": {
    "colab": {
      "name": "Web_Crawling__Selenium.ipynb",
      "provenance": []
    },
    "kernelspec": {
      "name": "python3",
      "display_name": "Python 3"
    },
    "language_info": {
      "name": "python"
    }
  },
  "cells": [
    {
      "cell_type": "code",
      "metadata": {
        "id": "raOSosFq2vTn",
        "colab": {
          "base_uri": "https://localhost:8080/"
        },
        "outputId": "a65b82de-569d-4030-868f-1fd90effcb70"
      },
      "source": [
        "from google.colab import drive\n",
        "drive.mount('/content/drive')"
      ],
      "execution_count": 1,
      "outputs": [
        {
          "output_type": "stream",
          "text": [
            "Mounted at /content/drive\n"
          ],
          "name": "stdout"
        }
      ]
    },
    {
      "cell_type": "code",
      "metadata": {
        "id": "Y4BErjLs272U"
      },
      "source": [
        "import pandas as pd\n",
        "import numpy as np\n",
        "\n",
        "hts_2018 = pd.read_csv('/content/drive/MyDrive/bigcontest/2021 빅콘테스트_데이터분석분야_챔피언리그_스포츠테크_HTS_2018.csv', encoding='euc-kr')\n",
        "hts_2019 = pd.read_csv('/content/drive/MyDrive/bigcontest/2021 빅콘테스트_데이터분석분야_챔피언리그_스포츠테크_HTS_2019.csv', encoding='euc-kr')\n",
        "hts_2020 = pd.read_csv('/content/drive/MyDrive/bigcontest/2021 빅콘테스트_데이터분석분야_챔피언리그_스포츠테크_HTS_2020.csv', encoding='euc-kr')\n",
        "hts_2021 = pd.read_csv('/content/drive/MyDrive/bigcontest/2021 빅콘테스트_데이터분석분야_챔피언리그_스포츠테크_HTS_2021.csv', encoding='euc-kr')\n",
        "hts = pd.concat([hts_2018,hts_2019,hts_2020,hts_2021], ignore_index=True)\n",
        "\n",
        "player_2018 = pd.read_csv('/content/drive/MyDrive/bigcontest/2021 빅콘테스트_데이터분석분야_챔피언리그_스포츠테크_선수_2018.csv', encoding='euc-kr')\n",
        "player_2019 = pd.read_csv('/content/drive/MyDrive/bigcontest/2021 빅콘테스트_데이터분석분야_챔피언리그_스포츠테크_선수_2019.csv', encoding='euc-kr')\n",
        "player_2020 = pd.read_csv('/content/drive/MyDrive/bigcontest/2021 빅콘테스트_데이터분석분야_챔피언리그_스포츠테크_선수_2020.csv', encoding='euc-kr')\n",
        "player_2021 = pd.read_csv('/content/drive/MyDrive/bigcontest/2021 빅콘테스트_데이터분석분야_챔피언리그_스포츠테크_선수_2021.csv', encoding='euc-kr')\n",
        "player = pd.concat([player_2018,player_2019,player_2020,player_2021], ignore_index=True)\n",
        "\n",
        "hitter_base_2018 = pd.read_csv('/content/drive/MyDrive/bigcontest/2021 빅콘테스트_데이터분석분야_챔피언리그_스포츠테크_타자 기본_2018.csv', encoding='euc-kr')\n",
        "hitter_base_2019 = pd.read_csv('/content/drive/MyDrive/bigcontest/2021 빅콘테스트_데이터분석분야_챔피언리그_스포츠테크_타자 기본_2019.csv', encoding='euc-kr')\n",
        "hitter_base_2020 = pd.read_csv('/content/drive/MyDrive/bigcontest/2021 빅콘테스트_데이터분석분야_챔피언리그_스포츠테크_타자 기본_2020.csv', encoding='euc-kr')\n",
        "hitter_base_2021 = pd.read_csv('/content/drive/MyDrive/bigcontest/2021 빅콘테스트_데이터분석분야_챔피언리그_스포츠테크_타자 기본_2021.csv', encoding='euc-kr')\n",
        "hitter_base = pd.concat([hitter_base_2018,hitter_base_2019,hitter_base_2020,hitter_base_2021], ignore_index=True)\n",
        "\n",
        "team = pd.read_csv('/content/drive/MyDrive/bigcontest/2021 빅콘테스트_데이터분석분야_챔피언리그_스포츠테크_팀.csv', encoding='euc-kr')\n",
        "schedule_2021 = pd.read_csv('/content/drive/MyDrive/bigcontest/2021 빅콘테스트_데이터분석분야_챔피언리그_스포츠테크_경기일정_2021.csv', encoding='euc-kr')"
      ],
      "execution_count": 54,
      "outputs": []
    },
    {
      "cell_type": "code",
      "metadata": {
        "id": "Ra-UhYpeI2tv"
      },
      "source": [
        "# 타자 기록이 있는 선수들과 등록 선수를 pcode와 연도를 기준으로 merge\n",
        "hitter = hitter_base.merge(player, on=['PCODE','GYEAR'])"
      ],
      "execution_count": 55,
      "outputs": []
    },
    {
      "cell_type": "code",
      "metadata": {
        "id": "5JpmFHeJnRK8"
      },
      "source": [
        "# 이름을 개명한 선수에 대해서 같은 이름이 쓰이도록 처리\n",
        "hitter.loc[hitter['NAME']=='한동민','NAME'] = '한유섬'\n",
        "hitter.loc[hitter['NAME']=='백민기','NAME'] = '백동훈'\n",
        "hitter.loc[hitter['NAME']=='윤대영','NAME'] = '윤형준'\n",
        "hitter.loc[hitter['NAME']=='이병휘','NAME'] = '이유찬'\n",
        "hitter.loc[hitter['NAME']=='나종덕','NAME'] = '나균안'\n",
        "hitter.loc[hitter['NAME']=='김동욱','NAME'] = '김동명'\n",
        "hitter.loc[hitter['NAME']=='이찬건','NAME'] = '이석훈'\n",
        "hitter.loc[hitter['NAME']=='김지열','NAME'] = '김사연'"
      ],
      "execution_count": 56,
      "outputs": []
    },
    {
      "cell_type": "code",
      "metadata": {
        "id": "t7bFZwQ-AwFW",
        "colab": {
          "base_uri": "https://localhost:8080/"
        },
        "outputId": "3f01cc48-9a22-4f8a-fdcb-539f0c7b52b6"
      },
      "source": [
        "###############\n",
        "# BeautifulSoup\n",
        "\n",
        "import numpy as np\n",
        "import pandas as pd\n",
        "import requests\n",
        "from bs4 import BeautifulSoup\n",
        "from tqdm import tqdm\n",
        "\n",
        "# 데이터를 모을 dataframe 생성\n",
        "data = pd.DataFrame(columns=['GYEAR','PCODE','NAME','T_ID','POSITION','day', 'vs', 'inn', 'pitcher', 'batter', 'P', 'result', 'before', 'after', 'LEV', 'REa', 'WPs','WPe', 'WPa'])\n",
        "hitter['BIRTH']=0\n",
        "same_name_fail_list = []\n",
        "\n",
        "for hitter_index in tqdm(range(len(hitter))):\n",
        "  year = hitter.loc[hitter_index,'GYEAR']\n",
        "  player_pcode = hitter.loc[hitter_index,'PCODE']\n",
        "  player_name = hitter.loc[hitter_index,'NAME']\n",
        "  player_team = hitter.loc[hitter_index,'T_ID']\n",
        "  player_position = hitter.loc[hitter_index,'POSITION']\n",
        "\n",
        "  # 선수와 연도에 맞는 플레이 로그 페이지\n",
        "  wp = requests.get('http://www.statiz.co.kr/player.php?opt=6&sopt=0&name=' + player_name + '&re=0&da=1&year=' + str(year))\n",
        "  soup = BeautifulSoup(wp.text, \"html.parser\")\n",
        "\n",
        "  # 동명이인 문제로 페이지에 데이터가 없다면\n",
        "  row_data = soup.find_all(class_='table table-striped table-responsive table-condensed table-bordered')\n",
        "  if len(row_data)==0:\n",
        "    print(\"\\n동명이인 존재 : \" + player_name)\n",
        "    if hitter.loc[hitter_index,'BIRTH']!=0:\n",
        "      print(\"생일로 찾음\")\n",
        "      wp = requests.get('http://www.statiz.co.kr/player.php?opt=6&sopt=0&name=' + player_name + '&birth=' + hitter.loc[hitter_index,'BIRTH'] + '&re=0&da=1&year=' + str(year))\n",
        "      soup = BeautifulSoup(wp.text, \"html.parser\")\n",
        "    else:  \n",
        "      same_name_href_list=[]\n",
        "      wp = requests.get('http://www.statiz.co.kr/player.php?name=' + player_name)\n",
        "      soup = BeautifulSoup(wp.text, \"html.parser\")\n",
        "      for same_name_list in soup.find(class_='table table-striped').find_all('a'):\n",
        "        same_name_href_list.append(same_name_list.attrs['href'])\n",
        "      flag=0\n",
        "      for same_name_page in same_name_href_list:\n",
        "        wp = requests.get('http://www.statiz.co.kr/'+same_name_page+'&opt=1')\n",
        "        soup = BeautifulSoup(wp.text, \"html.parser\")\n",
        "        # 현재 찾고 있는 선수의 기록과 현재 페이지의 선수 기록이 일치하면 같은 선수라는 의미이다. \n",
        "        d = str(hitter.loc[hitter_index,'GAMENUM'].item()) + str(hitter.loc[hitter_index,'PA'].item()) + str(hitter.loc[hitter_index,'AB'].item())\n",
        "        if d in soup.text:\n",
        "          flag=1\n",
        "          # 동명이인의 선수에 대해서 생일을 기록해둔다.\n",
        "          print(player_name+\" 생일 저장\")\n",
        "          player_birth = same_name_page[-10:]\n",
        "          hitter.loc[hitter['PCODE']==player_pcode, 'BIRTH'] = player_birth\n",
        "          break\n",
        "      # 찾은 선수의 페이지로 접근한다.\n",
        "      if flag==1:\n",
        "        print(\"기록과 일치하는 선수 찾음\")\n",
        "      else:\n",
        "        print(\"기록과 일치하는 선수 못찾음\")\n",
        "        same_name_fail_list.append((year,player_pcode,player_name,player_team))\n",
        "        continue\n",
        "      wp = requests.get('http://www.statiz.co.kr/player.php?opt=6&'+same_name_page.split('?')[1]+'&re=0&da=1&year='+str(year))\n",
        "      soup = BeautifulSoup(wp.text, \"html.parser\")\n",
        "\n",
        "  # 데이터 테이블 접근\n",
        "  row_data = soup.find_all(class_='table table-striped table-responsive table-condensed table-bordered')[0]\n",
        "  row_data_tr = row_data.find_all('tr')[1:]\n",
        "\n",
        "  # 행렬만들기\n",
        "  rawdata_day = np.zeros(len(row_data_tr), dtype=object)\n",
        "  rawdata_vs = np.zeros(len(row_data_tr), dtype=object)\n",
        "  rawdata_inn = np.zeros(len(row_data_tr), dtype=object)\n",
        "  rawdata_pitcher = np.zeros(len(row_data_tr),dtype=object)\n",
        "  rawdata_batter = np.zeros(len(row_data_tr), dtype=object)\n",
        "  rawdata_P = np.zeros(len(row_data_tr), dtype=object)\n",
        "  rawdata_result = np.zeros(len(row_data_tr), dtype=object)\n",
        "  rawdata_before = np.zeros(len(row_data_tr), dtype=object)\n",
        "  rawdata_after = np.zeros(len(row_data_tr), dtype=object)\n",
        "  rawdata_LEV = np.zeros(len(row_data_tr), dtype=object)\n",
        "  rawdata_REa = np.zeros(len(row_data_tr), dtype=object)\n",
        "  rawdata_WPs = np.zeros(len(row_data_tr), dtype=object)\n",
        "  rawdata_WPe = np.zeros(len(row_data_tr), dtype=object)\n",
        "  rawdata_WPa = np.zeros(len(row_data_tr), dtype=object)\n",
        "\n",
        "  # 행 하나씩 접근, 헤더 생략\n",
        "  for tr_index in range(len(row_data_tr)):\n",
        "    rawdata_td_element = [text for text in row_data_tr[tr_index].stripped_strings]\n",
        "    # P 칼럼의 값이 없을때도 있음.\n",
        "    if len(rawdata_td_element) == 14:\n",
        "      rawdata_td_element.insert(6,\"\")\n",
        "    \n",
        "    # 데이터 입력\n",
        "    rawdata_day[tr_index] = rawdata_td_element[0]\n",
        "    rawdata_vs[tr_index] = rawdata_td_element[1]\n",
        "    rawdata_inn[tr_index] = rawdata_td_element[2]\n",
        "    rawdata_pitcher[tr_index] = rawdata_td_element[3]\n",
        "    rawdata_batter[tr_index] = rawdata_td_element[5]\n",
        "    rawdata_P[tr_index] = rawdata_td_element[6]\n",
        "    rawdata_result[tr_index] = rawdata_td_element[7]\n",
        "    rawdata_before[tr_index] = rawdata_td_element[8]\n",
        "    rawdata_after[tr_index] = rawdata_td_element[9]\n",
        "    rawdata_LEV[tr_index] = rawdata_td_element[10]\n",
        "    rawdata_REa[tr_index] = rawdata_td_element[11]\n",
        "    rawdata_WPs[tr_index] = rawdata_td_element[12]\n",
        "    rawdata_WPe[tr_index] = rawdata_td_element[13]\n",
        "    rawdata_WPa[tr_index] = rawdata_td_element[14]\n",
        "\n",
        "  tmp_data = pd.DataFrame()\n",
        "\n",
        "  # tmp_data는 각 선수마다 데이터를 모은 후 data에 concat 하기 전 임시로 저장\n",
        "  tmp_data['day'] = rawdata_day\n",
        "  tmp_data['vs'] = rawdata_vs\n",
        "  tmp_data['inn'] = rawdata_inn\n",
        "  tmp_data['pitcher'] = rawdata_pitcher\n",
        "  tmp_data['batter'] = rawdata_batter\n",
        "  tmp_data['P'] = rawdata_P\n",
        "  tmp_data['result'] = rawdata_result\n",
        "  tmp_data['before'] = rawdata_before\n",
        "  tmp_data['after'] = rawdata_after\n",
        "  tmp_data['LEV'] = rawdata_LEV\n",
        "  tmp_data['REa'] = rawdata_REa\n",
        "  tmp_data['WPs'] = rawdata_WPs\n",
        "  tmp_data['WPe'] = rawdata_WPe\n",
        "  tmp_data['WPa'] = rawdata_WPa\n",
        "\n",
        "  tmp_data['GYEAR'] = year\n",
        "  tmp_data['PCODE'] = player_pcode\n",
        "  tmp_data['NAME'] = player_name\n",
        "  tmp_data['T_ID'] = player_team\n",
        "  tmp_data['POSITION'] = player_position\n",
        "\n",
        "  # 데이터 쌓기\n",
        "  data = pd.concat([data,tmp_data], ignore_index=True)"
      ],
      "execution_count": 57,
      "outputs": [
        {
          "output_type": "stream",
          "text": [
            "  1%|▏         | 12/870 [00:14<16:41,  1.17s/it]"
          ],
          "name": "stderr"
        },
        {
          "output_type": "stream",
          "text": [
            "\n",
            "동명이인 존재 : 이영욱\n",
            "이영욱 생일 저장\n",
            "기록과 일치하는 선수 찾음\n"
          ],
          "name": "stdout"
        },
        {
          "output_type": "stream",
          "text": [
            "  3%|▎         | 29/870 [00:36<16:23,  1.17s/it]"
          ],
          "name": "stderr"
        },
        {
          "output_type": "stream",
          "text": [
            "\n",
            "동명이인 존재 : 박건우\n",
            "박건우 생일 저장\n",
            "기록과 일치하는 선수 찾음\n"
          ],
          "name": "stdout"
        },
        {
          "output_type": "stream",
          "text": [
            "  4%|▍         | 33/870 [00:43<19:11,  1.38s/it]"
          ],
          "name": "stderr"
        },
        {
          "output_type": "stream",
          "text": [
            "\n",
            "동명이인 존재 : 김지수\n",
            "김지수 생일 저장\n",
            "기록과 일치하는 선수 찾음\n"
          ],
          "name": "stdout"
        },
        {
          "output_type": "stream",
          "text": [
            "  4%|▍         | 36/870 [00:48<19:23,  1.40s/it]"
          ],
          "name": "stderr"
        },
        {
          "output_type": "stream",
          "text": [
            "\n",
            "동명이인 존재 : 김종민\n",
            "김종민 생일 저장\n",
            "기록과 일치하는 선수 찾음\n"
          ],
          "name": "stdout"
        },
        {
          "output_type": "stream",
          "text": [
            "  4%|▍         | 38/870 [00:52<22:36,  1.63s/it]"
          ],
          "name": "stderr"
        },
        {
          "output_type": "stream",
          "text": [
            "\n",
            "동명이인 존재 : 김상수\n",
            "김상수 생일 저장\n",
            "기록과 일치하는 선수 찾음\n"
          ],
          "name": "stdout"
        },
        {
          "output_type": "stream",
          "text": [
            "  5%|▌         | 45/870 [01:02<16:36,  1.21s/it]"
          ],
          "name": "stderr"
        },
        {
          "output_type": "stream",
          "text": [
            "\n",
            "동명이인 존재 : 정성훈\n",
            "정성훈 생일 저장\n",
            "기록과 일치하는 선수 찾음\n"
          ],
          "name": "stdout"
        },
        {
          "output_type": "stream",
          "text": [
            "\r  5%|▌         | 46/870 [01:05<23:38,  1.72s/it]"
          ],
          "name": "stderr"
        },
        {
          "output_type": "stream",
          "text": [
            "\n",
            "동명이인 존재 : 이진영\n",
            "이진영 생일 저장\n",
            "기록과 일치하는 선수 찾음\n"
          ],
          "name": "stdout"
        },
        {
          "output_type": "stream",
          "text": [
            "  6%|▌         | 50/870 [01:10<15:58,  1.17s/it]"
          ],
          "name": "stderr"
        },
        {
          "output_type": "stream",
          "text": [
            "\n",
            "동명이인 존재 : 이해창\n",
            "이해창 생일 저장\n",
            "기록과 일치하는 선수 찾음\n"
          ],
          "name": "stdout"
        },
        {
          "output_type": "stream",
          "text": [
            "  6%|▌         | 53/870 [01:15<17:43,  1.30s/it]"
          ],
          "name": "stderr"
        },
        {
          "output_type": "stream",
          "text": [
            "\n",
            "동명이인 존재 : 이상호\n",
            "이상호 생일 저장\n",
            "기록과 일치하는 선수 찾음\n"
          ],
          "name": "stdout"
        },
        {
          "output_type": "stream",
          "text": [
            "\r  6%|▌         | 54/870 [01:18<26:27,  1.95s/it]"
          ],
          "name": "stderr"
        },
        {
          "output_type": "stream",
          "text": [
            "\n",
            "동명이인 존재 : 홍재호\n",
            "홍재호 생일 저장\n",
            "기록과 일치하는 선수 찾음\n"
          ],
          "name": "stdout"
        },
        {
          "output_type": "stream",
          "text": [
            "  7%|▋         | 63/870 [01:30<15:25,  1.15s/it]"
          ],
          "name": "stderr"
        },
        {
          "output_type": "stream",
          "text": [
            "\n",
            "동명이인 존재 : 정진호\n",
            "정진호 생일 저장\n",
            "기록과 일치하는 선수 찾음\n"
          ],
          "name": "stdout"
        },
        {
          "output_type": "stream",
          "text": [
            "  8%|▊         | 72/870 [01:41<11:24,  1.17it/s]"
          ],
          "name": "stderr"
        },
        {
          "output_type": "stream",
          "text": [
            "\n",
            "동명이인 존재 : 이원재\n",
            "이원재 생일 저장\n",
            "기록과 일치하는 선수 찾음\n"
          ],
          "name": "stdout"
        },
        {
          "output_type": "stream",
          "text": [
            " 14%|█▍        | 121/870 [02:33<12:39,  1.01s/it]"
          ],
          "name": "stderr"
        },
        {
          "output_type": "stream",
          "text": [
            "\n",
            "동명이인 존재 : 김민혁\n",
            "김민혁 생일 저장\n",
            "기록과 일치하는 선수 찾음\n"
          ],
          "name": "stdout"
        },
        {
          "output_type": "stream",
          "text": [
            " 15%|█▌        | 131/870 [02:44<10:20,  1.19it/s]"
          ],
          "name": "stderr"
        },
        {
          "output_type": "stream",
          "text": [
            "\n",
            "동명이인 존재 : 김경호\n",
            "김경호 생일 저장\n",
            "기록과 일치하는 선수 찾음\n"
          ],
          "name": "stdout"
        },
        {
          "output_type": "stream",
          "text": [
            " 16%|█▌        | 141/870 [02:56<10:44,  1.13it/s]"
          ],
          "name": "stderr"
        },
        {
          "output_type": "stream",
          "text": [
            "\n",
            "동명이인 존재 : 김재현\n",
            "김재현 생일 저장\n",
            "기록과 일치하는 선수 찾음\n"
          ],
          "name": "stdout"
        },
        {
          "output_type": "stream",
          "text": [
            " 17%|█▋        | 145/870 [03:02<15:54,  1.32s/it]"
          ],
          "name": "stderr"
        },
        {
          "output_type": "stream",
          "text": [
            "\n",
            "동명이인 존재 : 박찬호\n",
            "박찬호 생일 저장\n",
            "기록과 일치하는 선수 찾음\n"
          ],
          "name": "stdout"
        },
        {
          "output_type": "stream",
          "text": [
            "\r 17%|█▋        | 146/870 [03:06<25:34,  2.12s/it]"
          ],
          "name": "stderr"
        },
        {
          "output_type": "stream",
          "text": [
            "\n",
            "동명이인 존재 : 박준태\n",
            "박준태 생일 저장\n",
            "기록과 일치하는 선수 찾음\n"
          ],
          "name": "stdout"
        },
        {
          "output_type": "stream",
          "text": [
            " 17%|█▋        | 149/870 [03:11<19:56,  1.66s/it]"
          ],
          "name": "stderr"
        },
        {
          "output_type": "stream",
          "text": [
            "\n",
            "동명이인 존재 : 박준혁\n",
            "박준혁 생일 저장\n",
            "기록과 일치하는 선수 찾음\n"
          ],
          "name": "stdout"
        },
        {
          "output_type": "stream",
          "text": [
            "\r 17%|█▋        | 150/870 [03:14<24:30,  2.04s/it]"
          ],
          "name": "stderr"
        },
        {
          "output_type": "stream",
          "text": [
            "\n",
            "동명이인 존재 : 김민수\n",
            "김민수 생일 저장\n",
            "기록과 일치하는 선수 찾음\n"
          ],
          "name": "stdout"
        },
        {
          "output_type": "stream",
          "text": [
            " 17%|█▋        | 152/870 [03:19<25:33,  2.14s/it]"
          ],
          "name": "stderr"
        },
        {
          "output_type": "stream",
          "text": [
            "\n",
            "동명이인 존재 : 조용호\n",
            "조용호 생일 저장\n",
            "기록과 일치하는 선수 찾음\n"
          ],
          "name": "stdout"
        },
        {
          "output_type": "stream",
          "text": [
            " 18%|█▊        | 157/870 [03:27<15:25,  1.30s/it]"
          ],
          "name": "stderr"
        },
        {
          "output_type": "stream",
          "text": [
            "\n",
            "동명이인 존재 : 김재성\n",
            "김재성 생일 저장\n",
            "기록과 일치하는 선수 찾음\n"
          ],
          "name": "stdout"
        },
        {
          "output_type": "stream",
          "text": [
            " 20%|█▉        | 170/870 [03:41<12:00,  1.03s/it]"
          ],
          "name": "stderr"
        },
        {
          "output_type": "stream",
          "text": [
            "\n",
            "동명이인 존재 : 최승민\n",
            "최승민 생일 저장\n",
            "기록과 일치하는 선수 찾음\n"
          ],
          "name": "stdout"
        },
        {
          "output_type": "stream",
          "text": [
            " 20%|██        | 176/870 [03:48<09:47,  1.18it/s]"
          ],
          "name": "stderr"
        },
        {
          "output_type": "stream",
          "text": [
            "\n",
            "동명이인 존재 : 김성훈\n",
            "김성훈 생일 저장\n",
            "기록과 일치하는 선수 찾음\n"
          ],
          "name": "stdout"
        },
        {
          "output_type": "stream",
          "text": [
            " 21%|██        | 179/870 [03:51<11:26,  1.01it/s]"
          ],
          "name": "stderr"
        },
        {
          "output_type": "stream",
          "text": [
            "\n",
            "동명이인 존재 : 최원준\n",
            "최원준 생일 저장\n",
            "기록과 일치하는 선수 찾음\n"
          ],
          "name": "stdout"
        },
        {
          "output_type": "stream",
          "text": [
            " 21%|██        | 181/870 [03:56<17:56,  1.56s/it]"
          ],
          "name": "stderr"
        },
        {
          "output_type": "stream",
          "text": [
            "\n",
            "동명이인 존재 : 이진영\n",
            "이진영 생일 저장\n",
            "기록과 일치하는 선수 찾음\n"
          ],
          "name": "stdout"
        },
        {
          "output_type": "stream",
          "text": [
            " 21%|██        | 183/870 [04:00<18:51,  1.65s/it]"
          ],
          "name": "stderr"
        },
        {
          "output_type": "stream",
          "text": [
            "\n",
            "동명이인 존재 : 이동훈\n",
            "이동훈 생일 저장\n",
            "기록과 일치하는 선수 찾음\n"
          ],
          "name": "stdout"
        },
        {
          "output_type": "stream",
          "text": [
            " 22%|██▏       | 193/870 [04:13<13:36,  1.21s/it]"
          ],
          "name": "stderr"
        },
        {
          "output_type": "stream",
          "text": [
            "\n",
            "동명이인 존재 : 전준호\n",
            "전준호 생일 저장\n",
            "기록과 일치하는 선수 찾음\n"
          ],
          "name": "stdout"
        },
        {
          "output_type": "stream",
          "text": [
            " 23%|██▎       | 199/870 [04:24<18:50,  1.69s/it]"
          ],
          "name": "stderr"
        },
        {
          "output_type": "stream",
          "text": [
            "\n",
            "동명이인 존재 : 김민수\n",
            "김민수 생일 저장\n",
            "기록과 일치하는 선수 찾음\n"
          ],
          "name": "stdout"
        },
        {
          "output_type": "stream",
          "text": [
            " 23%|██▎       | 201/870 [04:28<18:31,  1.66s/it]"
          ],
          "name": "stderr"
        },
        {
          "output_type": "stream",
          "text": [
            "\n",
            "동명이인 존재 : 이정훈\n",
            "이정훈 생일 저장\n",
            "기록과 일치하는 선수 찾음\n"
          ],
          "name": "stdout"
        },
        {
          "output_type": "stream",
          "text": [
            " 25%|██▍       | 214/870 [04:44<08:54,  1.23it/s]"
          ],
          "name": "stderr"
        },
        {
          "output_type": "stream",
          "text": [
            "\n",
            "동명이인 존재 : 이원석\n",
            "이원석 생일 저장\n",
            "기록과 일치하는 선수 찾음\n"
          ],
          "name": "stdout"
        },
        {
          "output_type": "stream",
          "text": [
            " 26%|██▌       | 222/870 [04:54<10:13,  1.06it/s]"
          ],
          "name": "stderr"
        },
        {
          "output_type": "stream",
          "text": [
            "\n",
            "동명이인 존재 : 박민석\n",
            "박민석 생일 저장\n",
            "기록과 일치하는 선수 찾음\n"
          ],
          "name": "stdout"
        },
        {
          "output_type": "stream",
          "text": [
            " 26%|██▌       | 227/870 [05:01<11:52,  1.11s/it]"
          ],
          "name": "stderr"
        },
        {
          "output_type": "stream",
          "text": [
            "\n",
            "동명이인 존재 : 페르난데스\n",
            "페르난데스 생일 저장\n",
            "기록과 일치하는 선수 찾음\n"
          ],
          "name": "stdout"
        },
        {
          "output_type": "stream",
          "text": [
            " 26%|██▋       | 229/870 [05:06<15:43,  1.47s/it]"
          ],
          "name": "stderr"
        },
        {
          "output_type": "stream",
          "text": [
            "\n",
            "동명이인 존재 : 김주형\n",
            "김주형 생일 저장\n",
            "기록과 일치하는 선수 찾음\n"
          ],
          "name": "stdout"
        },
        {
          "output_type": "stream",
          "text": [
            " 27%|██▋       | 238/870 [05:16<11:35,  1.10s/it]"
          ],
          "name": "stderr"
        },
        {
          "output_type": "stream",
          "text": [
            "\n",
            "동명이인 존재 : 윌슨\n",
            "윌슨 생일 저장\n",
            "기록과 일치하는 선수 찾음\n"
          ],
          "name": "stdout"
        },
        {
          "output_type": "stream",
          "text": [
            " 29%|██▊       | 248/870 [05:27<08:26,  1.23it/s]"
          ],
          "name": "stderr"
        },
        {
          "output_type": "stream",
          "text": [
            "\n",
            "동명이인 존재 : 김성민\n",
            "김성민 생일 저장\n",
            "기록과 일치하는 선수 찾음\n"
          ],
          "name": "stdout"
        },
        {
          "output_type": "stream",
          "text": [
            " 29%|██▉       | 256/870 [05:38<13:02,  1.27s/it]"
          ],
          "name": "stderr"
        },
        {
          "output_type": "stream",
          "text": [
            "\n",
            "동명이인 존재 : 김태균\n"
          ],
          "name": "stdout"
        },
        {
          "output_type": "stream",
          "text": [
            "\r 30%|██▉       | 257/870 [05:40<16:06,  1.58s/it]"
          ],
          "name": "stderr"
        },
        {
          "output_type": "stream",
          "text": [
            "기록과 일치하는 선수 못찾음\n"
          ],
          "name": "stdout"
        },
        {
          "output_type": "stream",
          "text": [
            " 31%|███       | 270/870 [05:59<17:27,  1.75s/it]"
          ],
          "name": "stderr"
        },
        {
          "output_type": "stream",
          "text": [
            "\n",
            "동명이인 존재 : 윤석민\n",
            "윤석민 생일 저장\n",
            "기록과 일치하는 선수 찾음\n"
          ],
          "name": "stdout"
        },
        {
          "output_type": "stream",
          "text": [
            " 32%|███▏      | 276/870 [06:09<13:55,  1.41s/it]"
          ],
          "name": "stderr"
        },
        {
          "output_type": "stream",
          "text": [
            "\n",
            "동명이인 존재 : 박병호\n",
            "박병호 생일 저장\n",
            "기록과 일치하는 선수 찾음\n"
          ],
          "name": "stdout"
        },
        {
          "output_type": "stream",
          "text": [
            " 32%|███▏      | 279/870 [06:16<18:42,  1.90s/it]"
          ],
          "name": "stderr"
        },
        {
          "output_type": "stream",
          "text": [
            "\n",
            "동명이인 존재 : 이원석\n",
            "이원석 생일 저장\n",
            "기록과 일치하는 선수 찾음\n"
          ],
          "name": "stdout"
        },
        {
          "output_type": "stream",
          "text": [
            " 32%|███▏      | 282/870 [06:23<20:07,  2.05s/it]"
          ],
          "name": "stderr"
        },
        {
          "output_type": "stream",
          "text": [
            "\n",
            "동명이인 존재 : 이병규\n",
            "이병규 생일 저장\n",
            "기록과 일치하는 선수 찾음\n"
          ],
          "name": "stdout"
        },
        {
          "output_type": "stream",
          "text": [
            " 33%|███▎      | 287/870 [06:32<16:35,  1.71s/it]"
          ],
          "name": "stderr"
        },
        {
          "output_type": "stream",
          "text": [
            "\n",
            "동명이인 존재 : 김현수\n",
            "김현수 생일 저장\n",
            "기록과 일치하는 선수 찾음\n"
          ],
          "name": "stdout"
        },
        {
          "output_type": "stream",
          "text": [
            " 34%|███▎      | 293/870 [06:42<14:14,  1.48s/it]"
          ],
          "name": "stderr"
        },
        {
          "output_type": "stream",
          "text": [
            "\n",
            "동명이인 존재 : 김성현\n",
            "김성현 생일 저장\n",
            "기록과 일치하는 선수 찾음\n"
          ],
          "name": "stdout"
        },
        {
          "output_type": "stream",
          "text": [
            "\r 34%|███▍      | 294/870 [06:45<19:39,  2.05s/it]"
          ],
          "name": "stderr"
        },
        {
          "output_type": "stream",
          "text": [
            "\n",
            "동명이인 존재 : 이재원\n",
            "이재원 생일 저장\n",
            "기록과 일치하는 선수 찾음\n"
          ],
          "name": "stdout"
        },
        {
          "output_type": "stream",
          "text": [
            "\r 34%|███▍      | 295/870 [06:49<24:11,  2.53s/it]"
          ],
          "name": "stderr"
        },
        {
          "output_type": "stream",
          "text": [
            "\n",
            "동명이인 존재 : 이명기\n",
            "이명기 생일 저장\n",
            "기록과 일치하는 선수 찾음\n"
          ],
          "name": "stdout"
        },
        {
          "output_type": "stream",
          "text": [
            "\r 34%|███▍      | 296/870 [06:53<27:49,  2.91s/it]"
          ],
          "name": "stderr"
        },
        {
          "output_type": "stream",
          "text": [
            "\n",
            "동명이인 존재 : 김재현\n",
            "김재현 생일 저장\n",
            "기록과 일치하는 선수 찾음\n"
          ],
          "name": "stdout"
        },
        {
          "output_type": "stream",
          "text": [
            " 37%|███▋      | 323/870 [07:34<12:13,  1.34s/it]"
          ],
          "name": "stderr"
        },
        {
          "output_type": "stream",
          "text": [
            "\n",
            "동명이인 존재 : 박건우\n",
            "생일로 찾음\n"
          ],
          "name": "stdout"
        },
        {
          "output_type": "stream",
          "text": [
            " 38%|███▊      | 328/870 [07:42<12:14,  1.36s/it]"
          ],
          "name": "stderr"
        },
        {
          "output_type": "stream",
          "text": [
            "\n",
            "동명이인 존재 : 김지수\n",
            "생일로 찾음\n"
          ],
          "name": "stdout"
        },
        {
          "output_type": "stream",
          "text": [
            " 38%|███▊      | 330/870 [07:45<13:05,  1.45s/it]"
          ],
          "name": "stderr"
        },
        {
          "output_type": "stream",
          "text": [
            "\n",
            "동명이인 존재 : 김종민\n",
            "생일로 찾음\n"
          ],
          "name": "stdout"
        },
        {
          "output_type": "stream",
          "text": [
            " 38%|███▊      | 332/870 [07:47<13:05,  1.46s/it]"
          ],
          "name": "stderr"
        },
        {
          "output_type": "stream",
          "text": [
            "\n",
            "동명이인 존재 : 김상수\n",
            "생일로 찾음\n"
          ],
          "name": "stdout"
        },
        {
          "output_type": "stream",
          "text": [
            " 39%|███▉      | 338/870 [07:56<11:15,  1.27s/it]"
          ],
          "name": "stderr"
        },
        {
          "output_type": "stream",
          "text": [
            "\n",
            "동명이인 존재 : 천성호\n"
          ],
          "name": "stdout"
        },
        {
          "output_type": "stream",
          "text": [
            "\r 39%|███▉      | 339/870 [07:58<13:35,  1.54s/it]"
          ],
          "name": "stderr"
        },
        {
          "output_type": "stream",
          "text": [
            "기록과 일치하는 선수 못찾음\n"
          ],
          "name": "stdout"
        },
        {
          "output_type": "stream",
          "text": [
            " 39%|███▉      | 343/870 [08:02<10:19,  1.18s/it]"
          ],
          "name": "stderr"
        },
        {
          "output_type": "stream",
          "text": [
            "\n",
            "동명이인 존재 : 박지훈\n",
            "박지훈 생일 저장\n",
            "기록과 일치하는 선수 찾음\n"
          ],
          "name": "stdout"
        },
        {
          "output_type": "stream",
          "text": [
            " 40%|████      | 349/870 [08:11<10:17,  1.18s/it]"
          ],
          "name": "stderr"
        },
        {
          "output_type": "stream",
          "text": [
            "\n",
            "동명이인 존재 : 박주홍\n",
            "박주홍 생일 저장\n",
            "기록과 일치하는 선수 찾음\n"
          ],
          "name": "stdout"
        },
        {
          "output_type": "stream",
          "text": [
            " 41%|████▏     | 359/870 [08:23<08:59,  1.06s/it]"
          ],
          "name": "stderr"
        },
        {
          "output_type": "stream",
          "text": [
            "\n",
            "동명이인 존재 : 박정현\n",
            "박정현 생일 저장\n",
            "기록과 일치하는 선수 찾음\n"
          ],
          "name": "stdout"
        },
        {
          "output_type": "stream",
          "text": [
            " 41%|████▏     | 361/870 [08:27<13:33,  1.60s/it]"
          ],
          "name": "stderr"
        },
        {
          "output_type": "stream",
          "text": [
            "\n",
            "동명이인 존재 : 화이트\n",
            "화이트 생일 저장\n",
            "기록과 일치하는 선수 찾음\n"
          ],
          "name": "stdout"
        },
        {
          "output_type": "stream",
          "text": [
            " 42%|████▏     | 363/870 [08:31<13:33,  1.60s/it]"
          ],
          "name": "stderr"
        },
        {
          "output_type": "stream",
          "text": [
            "\n",
            "동명이인 존재 : 김성민\n",
            "김성민 생일 저장\n",
            "기록과 일치하는 선수 찾음\n"
          ],
          "name": "stdout"
        },
        {
          "output_type": "stream",
          "text": [
            " 42%|████▏     | 369/870 [08:40<10:33,  1.26s/it]"
          ],
          "name": "stderr"
        },
        {
          "output_type": "stream",
          "text": [
            "\n",
            "동명이인 존재 : 이해창\n",
            "생일로 찾음\n"
          ],
          "name": "stdout"
        },
        {
          "output_type": "stream",
          "text": [
            " 43%|████▎     | 372/870 [08:45<11:46,  1.42s/it]"
          ],
          "name": "stderr"
        },
        {
          "output_type": "stream",
          "text": [
            "\n",
            "동명이인 존재 : 이상호\n",
            "생일로 찾음\n"
          ],
          "name": "stdout"
        },
        {
          "output_type": "stream",
          "text": [
            " 43%|████▎     | 377/870 [08:51<10:05,  1.23s/it]"
          ],
          "name": "stderr"
        },
        {
          "output_type": "stream",
          "text": [
            "\n",
            "동명이인 존재 : 정진호\n",
            "생일로 찾음\n"
          ],
          "name": "stdout"
        },
        {
          "output_type": "stream",
          "text": [
            " 44%|████▍     | 385/870 [09:01<09:09,  1.13s/it]"
          ],
          "name": "stderr"
        },
        {
          "output_type": "stream",
          "text": [
            "\n",
            "동명이인 존재 : 이원재\n",
            "생일로 찾음\n"
          ],
          "name": "stdout"
        },
        {
          "output_type": "stream",
          "text": [
            " 45%|████▍     | 389/870 [09:07<10:48,  1.35s/it]"
          ],
          "name": "stderr"
        },
        {
          "output_type": "stream",
          "text": [
            "\n",
            "동명이인 존재 : 김재현\n",
            "김재현 생일 저장\n",
            "기록과 일치하는 선수 찾음\n"
          ],
          "name": "stdout"
        },
        {
          "output_type": "stream",
          "text": [
            " 49%|████▉     | 430/870 [09:55<09:00,  1.23s/it]"
          ],
          "name": "stderr"
        },
        {
          "output_type": "stream",
          "text": [
            "\n",
            "동명이인 존재 : 김민혁\n",
            "생일로 찾음\n"
          ],
          "name": "stdout"
        },
        {
          "output_type": "stream",
          "text": [
            " 51%|█████     | 443/870 [10:10<07:49,  1.10s/it]"
          ],
          "name": "stderr"
        },
        {
          "output_type": "stream",
          "text": [
            "\n",
            "동명이인 존재 : 김경호\n",
            "생일로 찾음\n"
          ],
          "name": "stdout"
        },
        {
          "output_type": "stream",
          "text": [
            " 52%|█████▏    | 452/870 [10:20<07:03,  1.01s/it]"
          ],
          "name": "stderr"
        },
        {
          "output_type": "stream",
          "text": [
            "\n",
            "동명이인 존재 : 김재현\n",
            "생일로 찾음\n"
          ],
          "name": "stdout"
        },
        {
          "output_type": "stream",
          "text": [
            " 53%|█████▎    | 457/870 [10:25<07:31,  1.09s/it]"
          ],
          "name": "stderr"
        },
        {
          "output_type": "stream",
          "text": [
            "\n",
            "동명이인 존재 : 박찬호\n",
            "생일로 찾음\n"
          ],
          "name": "stdout"
        },
        {
          "output_type": "stream",
          "text": [
            "\r 53%|█████▎    | 458/870 [10:27<09:31,  1.39s/it]"
          ],
          "name": "stderr"
        },
        {
          "output_type": "stream",
          "text": [
            "\n",
            "동명이인 존재 : 박준태\n",
            "생일로 찾음\n"
          ],
          "name": "stdout"
        },
        {
          "output_type": "stream",
          "text": [
            " 53%|█████▎    | 461/870 [10:31<08:17,  1.22s/it]"
          ],
          "name": "stderr"
        },
        {
          "output_type": "stream",
          "text": [
            "\n",
            "동명이인 존재 : 김민수\n",
            "생일로 찾음\n"
          ],
          "name": "stdout"
        },
        {
          "output_type": "stream",
          "text": [
            "\r 53%|█████▎    | 462/870 [10:32<08:14,  1.21s/it]"
          ],
          "name": "stderr"
        },
        {
          "output_type": "stream",
          "text": [
            "\n",
            "동명이인 존재 : 조용호\n",
            "생일로 찾음\n"
          ],
          "name": "stdout"
        },
        {
          "output_type": "stream",
          "text": [
            " 54%|█████▎    | 466/870 [10:38<08:29,  1.26s/it]"
          ],
          "name": "stderr"
        },
        {
          "output_type": "stream",
          "text": [
            "\n",
            "동명이인 존재 : 김태훈\n",
            "김태훈 생일 저장\n",
            "기록과 일치하는 선수 찾음\n"
          ],
          "name": "stdout"
        },
        {
          "output_type": "stream",
          "text": [
            " 54%|█████▍    | 474/870 [10:47<06:32,  1.01it/s]"
          ],
          "name": "stderr"
        },
        {
          "output_type": "stream",
          "text": [
            "\n",
            "동명이인 존재 : 김기환\n",
            "김기환 생일 저장\n",
            "기록과 일치하는 선수 찾음\n"
          ],
          "name": "stdout"
        },
        {
          "output_type": "stream",
          "text": [
            " 55%|█████▍    | 476/870 [10:50<08:31,  1.30s/it]"
          ],
          "name": "stderr"
        },
        {
          "output_type": "stream",
          "text": [
            "\n",
            "동명이인 존재 : 김지수\n",
            "김지수 생일 저장\n",
            "기록과 일치하는 선수 찾음\n"
          ],
          "name": "stdout"
        },
        {
          "output_type": "stream",
          "text": [
            " 57%|█████▋    | 494/870 [11:11<06:57,  1.11s/it]"
          ],
          "name": "stderr"
        },
        {
          "output_type": "stream",
          "text": [
            "\n",
            "동명이인 존재 : 최원준\n",
            "생일로 찾음\n"
          ],
          "name": "stdout"
        },
        {
          "output_type": "stream",
          "text": [
            " 57%|█████▋    | 496/870 [11:14<08:46,  1.41s/it]"
          ],
          "name": "stderr"
        },
        {
          "output_type": "stream",
          "text": [
            "\n",
            "동명이인 존재 : 이진영\n",
            "생일로 찾음\n"
          ],
          "name": "stdout"
        },
        {
          "output_type": "stream",
          "text": [
            "\r 57%|█████▋    | 497/870 [11:16<08:23,  1.35s/it]"
          ],
          "name": "stderr"
        },
        {
          "output_type": "stream",
          "text": [
            "\n",
            "동명이인 존재 : 이동훈\n",
            "생일로 찾음\n"
          ],
          "name": "stdout"
        },
        {
          "output_type": "stream",
          "text": [
            " 58%|█████▊    | 502/870 [11:21<07:12,  1.17s/it]"
          ],
          "name": "stderr"
        },
        {
          "output_type": "stream",
          "text": [
            "\n",
            "동명이인 존재 : 박준영\n",
            "박준영 생일 저장\n",
            "기록과 일치하는 선수 찾음\n"
          ],
          "name": "stdout"
        },
        {
          "output_type": "stream",
          "text": [
            " 59%|█████▉    | 512/870 [11:35<07:47,  1.30s/it]"
          ],
          "name": "stderr"
        },
        {
          "output_type": "stream",
          "text": [
            "\n",
            "동명이인 존재 : 김민수\n",
            "생일로 찾음\n"
          ],
          "name": "stdout"
        },
        {
          "output_type": "stream",
          "text": [
            "\r 59%|█████▉    | 513/870 [11:36<07:39,  1.29s/it]"
          ],
          "name": "stderr"
        },
        {
          "output_type": "stream",
          "text": [
            "\n",
            "동명이인 존재 : 이정훈\n",
            "생일로 찾음\n"
          ],
          "name": "stdout"
        },
        {
          "output_type": "stream",
          "text": [
            " 59%|█████▉    | 516/870 [11:40<07:49,  1.33s/it]"
          ],
          "name": "stderr"
        },
        {
          "output_type": "stream",
          "text": [
            "\n",
            "동명이인 존재 : 박준혁\n",
            "박준혁 생일 저장\n",
            "기록과 일치하는 선수 찾음\n"
          ],
          "name": "stdout"
        },
        {
          "output_type": "stream",
          "text": [
            " 60%|█████▉    | 518/870 [11:44<09:55,  1.69s/it]"
          ],
          "name": "stderr"
        },
        {
          "output_type": "stream",
          "text": [
            "\n",
            "동명이인 존재 : 이재원\n"
          ],
          "name": "stdout"
        },
        {
          "output_type": "stream",
          "text": [
            "\r 60%|█████▉    | 519/870 [11:47<10:57,  1.87s/it]"
          ],
          "name": "stderr"
        },
        {
          "output_type": "stream",
          "text": [
            "기록과 일치하는 선수 못찾음\n"
          ],
          "name": "stdout"
        },
        {
          "output_type": "stream",
          "text": [
            "\r 60%|█████▉    | 520/870 [11:47<09:08,  1.57s/it]"
          ],
          "name": "stderr"
        },
        {
          "output_type": "stream",
          "text": [
            "\n",
            "동명이인 존재 : 이승민\n",
            "이승민 생일 저장\n",
            "기록과 일치하는 선수 찾음\n"
          ],
          "name": "stdout"
        },
        {
          "output_type": "stream",
          "text": [
            " 61%|██████    | 527/870 [11:56<07:20,  1.28s/it]"
          ],
          "name": "stderr"
        },
        {
          "output_type": "stream",
          "text": [
            "\n",
            "동명이인 존재 : 김진욱\n",
            "김진욱 생일 저장\n",
            "기록과 일치하는 선수 찾음\n"
          ],
          "name": "stdout"
        },
        {
          "output_type": "stream",
          "text": [
            " 61%|██████▏   | 533/870 [12:04<06:47,  1.21s/it]"
          ],
          "name": "stderr"
        },
        {
          "output_type": "stream",
          "text": [
            "\n",
            "동명이인 존재 : 페르난데스\n",
            "생일로 찾음\n"
          ],
          "name": "stdout"
        },
        {
          "output_type": "stream",
          "text": [
            "\r 61%|██████▏   | 534/870 [12:07<09:02,  1.61s/it]"
          ],
          "name": "stderr"
        },
        {
          "output_type": "stream",
          "text": [
            "\n",
            "동명이인 존재 : 김주형\n",
            "생일로 찾음\n"
          ],
          "name": "stdout"
        },
        {
          "output_type": "stream",
          "text": [
            " 62%|██████▏   | 543/870 [12:16<07:00,  1.29s/it]"
          ],
          "name": "stderr"
        },
        {
          "output_type": "stream",
          "text": [
            "\n",
            "동명이인 존재 : 김현민\n",
            "김현민 생일 저장\n",
            "기록과 일치하는 선수 찾음\n"
          ],
          "name": "stdout"
        },
        {
          "output_type": "stream",
          "text": [
            " 64%|██████▍   | 555/870 [12:30<06:20,  1.21s/it]"
          ],
          "name": "stderr"
        },
        {
          "output_type": "stream",
          "text": [
            "\n",
            "동명이인 존재 : 김태균\n"
          ],
          "name": "stdout"
        },
        {
          "output_type": "stream",
          "text": [
            "\r 64%|██████▍   | 556/870 [12:32<08:14,  1.57s/it]"
          ],
          "name": "stderr"
        },
        {
          "output_type": "stream",
          "text": [
            "기록과 일치하는 선수 못찾음\n"
          ],
          "name": "stdout"
        },
        {
          "output_type": "stream",
          "text": [
            " 65%|██████▌   | 567/870 [12:49<07:56,  1.57s/it]"
          ],
          "name": "stderr"
        },
        {
          "output_type": "stream",
          "text": [
            "\n",
            "동명이인 존재 : 윤석민\n",
            "생일로 찾음\n"
          ],
          "name": "stdout"
        },
        {
          "output_type": "stream",
          "text": [
            " 66%|██████▌   | 572/870 [12:57<08:00,  1.61s/it]"
          ],
          "name": "stderr"
        },
        {
          "output_type": "stream",
          "text": [
            "\n",
            "동명이인 존재 : 박병호\n",
            "생일로 찾음\n"
          ],
          "name": "stdout"
        },
        {
          "output_type": "stream",
          "text": [
            " 66%|██████▌   | 575/870 [13:02<08:31,  1.73s/it]"
          ],
          "name": "stderr"
        },
        {
          "output_type": "stream",
          "text": [
            "\n",
            "동명이인 존재 : 이원석\n",
            "생일로 찾음\n"
          ],
          "name": "stdout"
        },
        {
          "output_type": "stream",
          "text": [
            " 66%|██████▋   | 578/870 [13:08<08:50,  1.82s/it]"
          ],
          "name": "stderr"
        },
        {
          "output_type": "stream",
          "text": [
            "\n",
            "동명이인 존재 : 이병규\n",
            "생일로 찾음\n"
          ],
          "name": "stdout"
        },
        {
          "output_type": "stream",
          "text": [
            " 67%|██████▋   | 583/870 [13:16<08:18,  1.74s/it]"
          ],
          "name": "stderr"
        },
        {
          "output_type": "stream",
          "text": [
            "\n",
            "동명이인 존재 : 김현수\n",
            "생일로 찾음\n"
          ],
          "name": "stdout"
        },
        {
          "output_type": "stream",
          "text": [
            " 67%|██████▋   | 587/870 [13:23<07:47,  1.65s/it]"
          ],
          "name": "stderr"
        },
        {
          "output_type": "stream",
          "text": [
            "\n",
            "동명이인 존재 : 김성현\n",
            "생일로 찾음\n"
          ],
          "name": "stdout"
        },
        {
          "output_type": "stream",
          "text": [
            "\r 68%|██████▊   | 588/870 [13:26<08:39,  1.84s/it]"
          ],
          "name": "stderr"
        },
        {
          "output_type": "stream",
          "text": [
            "\n",
            "동명이인 존재 : 이재원\n",
            "생일로 찾음\n"
          ],
          "name": "stdout"
        },
        {
          "output_type": "stream",
          "text": [
            "\r 68%|██████▊   | 589/870 [13:27<08:36,  1.84s/it]"
          ],
          "name": "stderr"
        },
        {
          "output_type": "stream",
          "text": [
            "\n",
            "동명이인 존재 : 이명기\n",
            "생일로 찾음\n"
          ],
          "name": "stdout"
        },
        {
          "output_type": "stream",
          "text": [
            "\r 68%|██████▊   | 590/870 [13:30<09:21,  2.01s/it]"
          ],
          "name": "stderr"
        },
        {
          "output_type": "stream",
          "text": [
            "\n",
            "동명이인 존재 : 김재현\n",
            "생일로 찾음\n"
          ],
          "name": "stdout"
        },
        {
          "output_type": "stream",
          "text": [
            " 71%|███████   | 614/870 [14:07<06:43,  1.58s/it]"
          ],
          "name": "stderr"
        },
        {
          "output_type": "stream",
          "text": [
            "\n",
            "동명이인 존재 : 박건우\n",
            "생일로 찾음\n"
          ],
          "name": "stdout"
        },
        {
          "output_type": "stream",
          "text": [
            " 71%|███████▏  | 620/870 [14:18<06:59,  1.68s/it]"
          ],
          "name": "stderr"
        },
        {
          "output_type": "stream",
          "text": [
            "\n",
            "동명이인 존재 : 김상수\n",
            "생일로 찾음\n"
          ],
          "name": "stdout"
        },
        {
          "output_type": "stream",
          "text": [
            " 72%|███████▏  | 624/870 [14:24<06:06,  1.49s/it]"
          ],
          "name": "stderr"
        },
        {
          "output_type": "stream",
          "text": [
            "\n",
            "동명이인 존재 : 천성호\n",
            "천성호 생일 저장\n",
            "기록과 일치하는 선수 찾음\n"
          ],
          "name": "stdout"
        },
        {
          "output_type": "stream",
          "text": [
            " 72%|███████▏  | 627/870 [14:29<06:06,  1.51s/it]"
          ],
          "name": "stderr"
        },
        {
          "output_type": "stream",
          "text": [
            "\n",
            "동명이인 존재 : 이주형\n"
          ],
          "name": "stdout"
        },
        {
          "output_type": "stream",
          "text": [
            "\r 72%|███████▏  | 628/870 [14:31<06:48,  1.69s/it]"
          ],
          "name": "stderr"
        },
        {
          "output_type": "stream",
          "text": [
            "기록과 일치하는 선수 못찾음\n"
          ],
          "name": "stdout"
        },
        {
          "output_type": "stream",
          "text": [
            " 73%|███████▎  | 632/870 [14:35<04:06,  1.04s/it]"
          ],
          "name": "stderr"
        },
        {
          "output_type": "stream",
          "text": [
            "\n",
            "동명이인 존재 : 박주홍\n",
            "생일로 찾음\n"
          ],
          "name": "stdout"
        },
        {
          "output_type": "stream",
          "text": [
            " 73%|███████▎  | 639/870 [14:43<04:14,  1.10s/it]"
          ],
          "name": "stderr"
        },
        {
          "output_type": "stream",
          "text": [
            "\n",
            "동명이인 존재 : 박정현\n",
            "생일로 찾음\n"
          ],
          "name": "stdout"
        },
        {
          "output_type": "stream",
          "text": [
            " 74%|███████▍  | 647/870 [14:54<04:30,  1.21s/it]"
          ],
          "name": "stderr"
        },
        {
          "output_type": "stream",
          "text": [
            "\n",
            "동명이인 존재 : 이주형\n",
            "이주형 생일 저장\n",
            "기록과 일치하는 선수 찾음\n"
          ],
          "name": "stdout"
        },
        {
          "output_type": "stream",
          "text": [
            " 76%|███████▌  | 660/870 [15:09<03:21,  1.04it/s]"
          ],
          "name": "stderr"
        },
        {
          "output_type": "stream",
          "text": [
            "\n",
            "동명이인 존재 : 이해창\n",
            "생일로 찾음\n"
          ],
          "name": "stdout"
        },
        {
          "output_type": "stream",
          "text": [
            " 76%|███████▌  | 663/870 [15:13<04:06,  1.19s/it]"
          ],
          "name": "stderr"
        },
        {
          "output_type": "stream",
          "text": [
            "\n",
            "동명이인 존재 : 이상호\n",
            "생일로 찾음\n"
          ],
          "name": "stdout"
        },
        {
          "output_type": "stream",
          "text": [
            " 77%|███████▋  | 667/870 [15:18<03:57,  1.17s/it]"
          ],
          "name": "stderr"
        },
        {
          "output_type": "stream",
          "text": [
            "\n",
            "동명이인 존재 : 정진호\n",
            "생일로 찾음\n"
          ],
          "name": "stdout"
        },
        {
          "output_type": "stream",
          "text": [
            " 78%|███████▊  | 675/870 [15:27<03:12,  1.01it/s]"
          ],
          "name": "stderr"
        },
        {
          "output_type": "stream",
          "text": [
            "\n",
            "동명이인 존재 : 이원재\n",
            "생일로 찾음\n"
          ],
          "name": "stdout"
        },
        {
          "output_type": "stream",
          "text": [
            " 78%|███████▊  | 679/870 [15:32<03:28,  1.09s/it]"
          ],
          "name": "stderr"
        },
        {
          "output_type": "stream",
          "text": [
            "\n",
            "동명이인 존재 : 김재현\n",
            "생일로 찾음\n"
          ],
          "name": "stdout"
        },
        {
          "output_type": "stream",
          "text": [
            " 82%|████████▏ | 712/870 [16:11<02:42,  1.03s/it]"
          ],
          "name": "stderr"
        },
        {
          "output_type": "stream",
          "text": [
            "\n",
            "동명이인 존재 : 김민혁\n",
            "생일로 찾음\n"
          ],
          "name": "stdout"
        },
        {
          "output_type": "stream",
          "text": [
            " 84%|████████▍ | 732/870 [16:33<02:40,  1.16s/it]"
          ],
          "name": "stderr"
        },
        {
          "output_type": "stream",
          "text": [
            "\n",
            "동명이인 존재 : 박찬호\n",
            "생일로 찾음\n"
          ],
          "name": "stdout"
        },
        {
          "output_type": "stream",
          "text": [
            "\r 84%|████████▍ | 733/870 [16:35<03:06,  1.36s/it]"
          ],
          "name": "stderr"
        },
        {
          "output_type": "stream",
          "text": [
            "\n",
            "동명이인 존재 : 박준태\n",
            "생일로 찾음\n"
          ],
          "name": "stdout"
        },
        {
          "output_type": "stream",
          "text": [
            " 84%|████████▍ | 735/870 [16:38<03:03,  1.36s/it]"
          ],
          "name": "stderr"
        },
        {
          "output_type": "stream",
          "text": [
            "\n",
            "동명이인 존재 : 김민수\n",
            "생일로 찾음\n"
          ],
          "name": "stdout"
        },
        {
          "output_type": "stream",
          "text": [
            "\r 85%|████████▍ | 736/870 [16:41<04:11,  1.88s/it]"
          ],
          "name": "stderr"
        },
        {
          "output_type": "stream",
          "text": [
            "\n",
            "동명이인 존재 : 조용호\n",
            "생일로 찾음\n"
          ],
          "name": "stdout"
        },
        {
          "output_type": "stream",
          "text": [
            " 85%|████████▌ | 740/870 [16:46<03:01,  1.40s/it]"
          ],
          "name": "stderr"
        },
        {
          "output_type": "stream",
          "text": [
            "\n",
            "동명이인 존재 : 김태훈\n",
            "생일로 찾음\n"
          ],
          "name": "stdout"
        },
        {
          "output_type": "stream",
          "text": [
            "\r 85%|████████▌ | 741/870 [16:47<02:56,  1.37s/it]"
          ],
          "name": "stderr"
        },
        {
          "output_type": "stream",
          "text": [
            "\n",
            "동명이인 존재 : 김재성\n",
            "생일로 찾음\n"
          ],
          "name": "stdout"
        },
        {
          "output_type": "stream",
          "text": [
            " 85%|████████▌ | 743/870 [16:50<02:32,  1.20s/it]"
          ],
          "name": "stderr"
        },
        {
          "output_type": "stream",
          "text": [
            "\n",
            "동명이인 존재 : 김민혁\n",
            "김민혁 생일 저장\n",
            "기록과 일치하는 선수 찾음\n"
          ],
          "name": "stdout"
        },
        {
          "output_type": "stream",
          "text": [
            " 86%|████████▌ | 749/870 [16:57<02:11,  1.09s/it]"
          ],
          "name": "stderr"
        },
        {
          "output_type": "stream",
          "text": [
            "\n",
            "동명이인 존재 : 김기환\n",
            "생일로 찾음\n"
          ],
          "name": "stdout"
        },
        {
          "output_type": "stream",
          "text": [
            " 86%|████████▋ | 751/870 [16:59<02:06,  1.06s/it]"
          ],
          "name": "stderr"
        },
        {
          "output_type": "stream",
          "text": [
            "\n",
            "동명이인 존재 : 김지수\n",
            "생일로 찾음\n"
          ],
          "name": "stdout"
        },
        {
          "output_type": "stream",
          "text": [
            " 87%|████████▋ | 760/870 [17:09<02:00,  1.10s/it]"
          ],
          "name": "stderr"
        },
        {
          "output_type": "stream",
          "text": [
            "\n",
            "동명이인 존재 : 최승민\n",
            "생일로 찾음\n"
          ],
          "name": "stdout"
        },
        {
          "output_type": "stream",
          "text": [
            " 88%|████████▊ | 764/870 [17:14<01:58,  1.12s/it]"
          ],
          "name": "stderr"
        },
        {
          "output_type": "stream",
          "text": [
            "\n",
            "동명이인 존재 : 김주성\n",
            "김주성 생일 저장\n",
            "기록과 일치하는 선수 찾음\n"
          ],
          "name": "stdout"
        },
        {
          "output_type": "stream",
          "text": [
            " 88%|████████▊ | 768/870 [17:20<02:01,  1.19s/it]"
          ],
          "name": "stderr"
        },
        {
          "output_type": "stream",
          "text": [
            "\n",
            "동명이인 존재 : 최원준\n",
            "생일로 찾음\n"
          ],
          "name": "stdout"
        },
        {
          "output_type": "stream",
          "text": [
            " 89%|████████▊ | 770/870 [17:23<02:08,  1.29s/it]"
          ],
          "name": "stderr"
        },
        {
          "output_type": "stream",
          "text": [
            "\n",
            "동명이인 존재 : 이진영\n",
            "생일로 찾음\n"
          ],
          "name": "stdout"
        },
        {
          "output_type": "stream",
          "text": [
            "\r 89%|████████▊ | 771/870 [17:24<02:08,  1.30s/it]"
          ],
          "name": "stderr"
        },
        {
          "output_type": "stream",
          "text": [
            "\n",
            "동명이인 존재 : 이동훈\n",
            "생일로 찾음\n"
          ],
          "name": "stdout"
        },
        {
          "output_type": "stream",
          "text": [
            " 89%|████████▉ | 773/870 [17:26<01:54,  1.18s/it]"
          ],
          "name": "stderr"
        },
        {
          "output_type": "stream",
          "text": [
            "\n",
            "동명이인 존재 : 김주현\n"
          ],
          "name": "stdout"
        },
        {
          "output_type": "stream",
          "text": [
            "\r 89%|████████▉ | 774/870 [17:28<02:26,  1.53s/it]"
          ],
          "name": "stderr"
        },
        {
          "output_type": "stream",
          "text": [
            "기록과 일치하는 선수 못찾음\n"
          ],
          "name": "stdout"
        },
        {
          "output_type": "stream",
          "text": [
            " 89%|████████▉ | 776/870 [17:31<02:03,  1.31s/it]"
          ],
          "name": "stderr"
        },
        {
          "output_type": "stream",
          "text": [
            "\n",
            "동명이인 존재 : 박준영\n",
            "생일로 찾음\n"
          ],
          "name": "stdout"
        },
        {
          "output_type": "stream",
          "text": [
            " 90%|█████████ | 783/870 [17:39<01:45,  1.21s/it]"
          ],
          "name": "stderr"
        },
        {
          "output_type": "stream",
          "text": [
            "\n",
            "동명이인 존재 : 김민수\n",
            "생일로 찾음\n"
          ],
          "name": "stdout"
        },
        {
          "output_type": "stream",
          "text": [
            " 90%|█████████ | 785/870 [17:42<01:40,  1.18s/it]"
          ],
          "name": "stderr"
        },
        {
          "output_type": "stream",
          "text": [
            "\n",
            "동명이인 존재 : 이정훈\n",
            "생일로 찾음\n"
          ],
          "name": "stdout"
        },
        {
          "output_type": "stream",
          "text": [
            " 91%|█████████ | 788/870 [17:46<01:55,  1.40s/it]"
          ],
          "name": "stderr"
        },
        {
          "output_type": "stream",
          "text": [
            "\n",
            "동명이인 존재 : 김민수\n",
            "김민수 생일 저장\n",
            "기록과 일치하는 선수 찾음\n"
          ],
          "name": "stdout"
        },
        {
          "output_type": "stream",
          "text": [
            " 91%|█████████ | 790/870 [17:52<02:36,  1.95s/it]"
          ],
          "name": "stderr"
        },
        {
          "output_type": "stream",
          "text": [
            "\n",
            "동명이인 존재 : 이재원\n",
            "이재원 생일 저장\n",
            "기록과 일치하는 선수 찾음\n"
          ],
          "name": "stdout"
        },
        {
          "output_type": "stream",
          "text": [
            " 92%|█████████▏| 802/870 [18:07<01:24,  1.25s/it]"
          ],
          "name": "stderr"
        },
        {
          "output_type": "stream",
          "text": [
            "\n",
            "동명이인 존재 : 페르난데스\n",
            "생일로 찾음\n"
          ],
          "name": "stdout"
        },
        {
          "output_type": "stream",
          "text": [
            "\r 92%|█████████▏| 803/870 [18:09<01:38,  1.47s/it]"
          ],
          "name": "stderr"
        },
        {
          "output_type": "stream",
          "text": [
            "\n",
            "동명이인 존재 : 이명기\n",
            "이명기 생일 저장\n",
            "기록과 일치하는 선수 찾음\n"
          ],
          "name": "stdout"
        },
        {
          "output_type": "stream",
          "text": [
            " 95%|█████████▌| 827/870 [18:41<01:01,  1.44s/it]"
          ],
          "name": "stderr"
        },
        {
          "output_type": "stream",
          "text": [
            "\n",
            "동명이인 존재 : 박병호\n",
            "생일로 찾음\n"
          ],
          "name": "stdout"
        },
        {
          "output_type": "stream",
          "text": [
            " 95%|█████████▌| 830/870 [18:46<00:59,  1.48s/it]"
          ],
          "name": "stderr"
        },
        {
          "output_type": "stream",
          "text": [
            "\n",
            "동명이인 존재 : 이원석\n",
            "생일로 찾음\n"
          ],
          "name": "stdout"
        },
        {
          "output_type": "stream",
          "text": [
            " 96%|█████████▌| 832/870 [18:50<01:01,  1.63s/it]"
          ],
          "name": "stderr"
        },
        {
          "output_type": "stream",
          "text": [
            "\n",
            "동명이인 존재 : 이병규\n",
            "생일로 찾음\n"
          ],
          "name": "stdout"
        },
        {
          "output_type": "stream",
          "text": [
            " 96%|█████████▌| 836/870 [18:55<00:48,  1.43s/it]"
          ],
          "name": "stderr"
        },
        {
          "output_type": "stream",
          "text": [
            "\n",
            "동명이인 존재 : 김현수\n",
            "생일로 찾음\n"
          ],
          "name": "stdout"
        },
        {
          "output_type": "stream",
          "text": [
            " 96%|█████████▋| 839/870 [19:00<00:43,  1.41s/it]"
          ],
          "name": "stderr"
        },
        {
          "output_type": "stream",
          "text": [
            "\n",
            "동명이인 존재 : 김성현\n",
            "생일로 찾음\n"
          ],
          "name": "stdout"
        },
        {
          "output_type": "stream",
          "text": [
            "\r 97%|█████████▋| 840/870 [19:02<00:46,  1.55s/it]"
          ],
          "name": "stderr"
        },
        {
          "output_type": "stream",
          "text": [
            "\n",
            "동명이인 존재 : 이재원\n",
            "생일로 찾음\n"
          ],
          "name": "stdout"
        },
        {
          "output_type": "stream",
          "text": [
            "\r 97%|█████████▋| 841/870 [19:04<00:48,  1.69s/it]"
          ],
          "name": "stderr"
        },
        {
          "output_type": "stream",
          "text": [
            "\n",
            "동명이인 존재 : 이명기\n",
            "생일로 찾음\n"
          ],
          "name": "stdout"
        },
        {
          "output_type": "stream",
          "text": [
            " 99%|█████████▉| 862/870 [19:33<00:11,  1.38s/it]"
          ],
          "name": "stderr"
        },
        {
          "output_type": "stream",
          "text": [
            "\n",
            "동명이인 존재 : 박건우\n",
            "생일로 찾음\n"
          ],
          "name": "stdout"
        },
        {
          "output_type": "stream",
          "text": [
            "100%|█████████▉| 867/870 [19:42<00:04,  1.61s/it]"
          ],
          "name": "stderr"
        },
        {
          "output_type": "stream",
          "text": [
            "\n",
            "동명이인 존재 : 김상수\n",
            "생일로 찾음\n"
          ],
          "name": "stdout"
        },
        {
          "output_type": "stream",
          "text": [
            "100%|██████████| 870/870 [19:47<00:00,  1.36s/it]\n"
          ],
          "name": "stderr"
        }
      ]
    },
    {
      "cell_type": "code",
      "metadata": {
        "id": "9S5oVQiHrvJs",
        "outputId": "5be8c2f2-c3bd-44f9-dfef-61f1f53599d5",
        "colab": {
          "base_uri": "https://localhost:8080/",
          "height": 419
        }
      },
      "source": [
        "data"
      ],
      "execution_count": 59,
      "outputs": [
        {
          "output_type": "execute_result",
          "data": {
            "text/html": [
              "<div>\n",
              "<style scoped>\n",
              "    .dataframe tbody tr th:only-of-type {\n",
              "        vertical-align: middle;\n",
              "    }\n",
              "\n",
              "    .dataframe tbody tr th {\n",
              "        vertical-align: top;\n",
              "    }\n",
              "\n",
              "    .dataframe thead th {\n",
              "        text-align: right;\n",
              "    }\n",
              "</style>\n",
              "<table border=\"1\" class=\"dataframe\">\n",
              "  <thead>\n",
              "    <tr style=\"text-align: right;\">\n",
              "      <th></th>\n",
              "      <th>GYEAR</th>\n",
              "      <th>PCODE</th>\n",
              "      <th>NAME</th>\n",
              "      <th>T_ID</th>\n",
              "      <th>POSITION</th>\n",
              "      <th>day</th>\n",
              "      <th>vs</th>\n",
              "      <th>inn</th>\n",
              "      <th>pitcher</th>\n",
              "      <th>batter</th>\n",
              "      <th>P</th>\n",
              "      <th>result</th>\n",
              "      <th>before</th>\n",
              "      <th>after</th>\n",
              "      <th>LEV</th>\n",
              "      <th>REa</th>\n",
              "      <th>WPs</th>\n",
              "      <th>WPe</th>\n",
              "      <th>WPa</th>\n",
              "    </tr>\n",
              "  </thead>\n",
              "  <tbody>\n",
              "    <tr>\n",
              "      <th>0</th>\n",
              "      <td>2018</td>\n",
              "      <td>77463</td>\n",
              "      <td>채태인</td>\n",
              "      <td>LT</td>\n",
              "      <td>내</td>\n",
              "      <td>2018-03-24</td>\n",
              "      <td>SK</td>\n",
              "      <td>1초</td>\n",
              "      <td>켈리</td>\n",
              "      <td>채태인</td>\n",
              "      <td>2-1</td>\n",
              "      <td>채태인/10331 : 삼진 아웃</td>\n",
              "      <td>2사 2루 1:0</td>\n",
              "      <td>이닝종료 1:0</td>\n",
              "      <td>1.03</td>\n",
              "      <td>-0.344</td>\n",
              "      <td>41.6</td>\n",
              "      <td>44.5</td>\n",
              "      <td>-0.029</td>\n",
              "    </tr>\n",
              "    <tr>\n",
              "      <th>1</th>\n",
              "      <td>2018</td>\n",
              "      <td>77463</td>\n",
              "      <td>채태인</td>\n",
              "      <td>LT</td>\n",
              "      <td>내</td>\n",
              "      <td>2018-03-24</td>\n",
              "      <td>SK</td>\n",
              "      <td>3초</td>\n",
              "      <td>켈리</td>\n",
              "      <td>채태인</td>\n",
              "      <td>1-3</td>\n",
              "      <td>볼넷</td>\n",
              "      <td>2사 2루 2:2</td>\n",
              "      <td>2사 1,2루 2:2</td>\n",
              "      <td>1.30</td>\n",
              "      <td>0.122</td>\n",
              "      <td>51.8</td>\n",
              "      <td>50.7</td>\n",
              "      <td>0.011</td>\n",
              "    </tr>\n",
              "    <tr>\n",
              "      <th>2</th>\n",
              "      <td>2018</td>\n",
              "      <td>77463</td>\n",
              "      <td>채태인</td>\n",
              "      <td>LT</td>\n",
              "      <td>내</td>\n",
              "      <td>2018-03-24</td>\n",
              "      <td>SK</td>\n",
              "      <td>5초</td>\n",
              "      <td>켈리</td>\n",
              "      <td>채태인</td>\n",
              "      <td>0-0</td>\n",
              "      <td>유격수 땅볼</td>\n",
              "      <td>1사 1,3루 3:5</td>\n",
              "      <td>2사 1루 4:5</td>\n",
              "      <td>2.39</td>\n",
              "      <td>0.008</td>\n",
              "      <td>67.2</td>\n",
              "      <td>67.8</td>\n",
              "      <td>-0.006</td>\n",
              "    </tr>\n",
              "    <tr>\n",
              "      <th>3</th>\n",
              "      <td>2018</td>\n",
              "      <td>77463</td>\n",
              "      <td>채태인</td>\n",
              "      <td>LT</td>\n",
              "      <td>내</td>\n",
              "      <td>2018-03-24</td>\n",
              "      <td>SK</td>\n",
              "      <td>7초</td>\n",
              "      <td>백청훈</td>\n",
              "      <td>채태인</td>\n",
              "      <td>1-3</td>\n",
              "      <td>볼넷</td>\n",
              "      <td>2사 3루 5:5</td>\n",
              "      <td>2사 1,3루 5:5</td>\n",
              "      <td>2.59</td>\n",
              "      <td>0.151</td>\n",
              "      <td>51.7</td>\n",
              "      <td>49.9</td>\n",
              "      <td>0.018</td>\n",
              "    </tr>\n",
              "    <tr>\n",
              "      <th>4</th>\n",
              "      <td>2018</td>\n",
              "      <td>77463</td>\n",
              "      <td>채태인</td>\n",
              "      <td>LT</td>\n",
              "      <td>내</td>\n",
              "      <td>2018-03-25</td>\n",
              "      <td>SK</td>\n",
              "      <td>9초</td>\n",
              "      <td>김태훈</td>\n",
              "      <td>채태인</td>\n",
              "      <td>2-2</td>\n",
              "      <td>좌익수 안타</td>\n",
              "      <td>1사  0:5</td>\n",
              "      <td>1사 1루 0:5</td>\n",
              "      <td>0.07</td>\n",
              "      <td>0.276</td>\n",
              "      <td>99.8</td>\n",
              "      <td>99.4</td>\n",
              "      <td>0.004</td>\n",
              "    </tr>\n",
              "    <tr>\n",
              "      <th>...</th>\n",
              "      <td>...</td>\n",
              "      <td>...</td>\n",
              "      <td>...</td>\n",
              "      <td>...</td>\n",
              "      <td>...</td>\n",
              "      <td>...</td>\n",
              "      <td>...</td>\n",
              "      <td>...</td>\n",
              "      <td>...</td>\n",
              "      <td>...</td>\n",
              "      <td>...</td>\n",
              "      <td>...</td>\n",
              "      <td>...</td>\n",
              "      <td>...</td>\n",
              "      <td>...</td>\n",
              "      <td>...</td>\n",
              "      <td>...</td>\n",
              "      <td>...</td>\n",
              "      <td>...</td>\n",
              "    </tr>\n",
              "    <tr>\n",
              "      <th>158679</th>\n",
              "      <td>2021</td>\n",
              "      <td>79608</td>\n",
              "      <td>안치홍</td>\n",
              "      <td>LT</td>\n",
              "      <td>내</td>\n",
              "      <td>2021-08-25</td>\n",
              "      <td>KIA</td>\n",
              "      <td>2초</td>\n",
              "      <td>멩덴</td>\n",
              "      <td>안치홍</td>\n",
              "      <td>1-1</td>\n",
              "      <td>2루수 땅볼</td>\n",
              "      <td>1사  0:0</td>\n",
              "      <td>2사  0:0</td>\n",
              "      <td>0.65</td>\n",
              "      <td>-0.180</td>\n",
              "      <td>52.4</td>\n",
              "      <td>54.0</td>\n",
              "      <td>-0.016</td>\n",
              "    </tr>\n",
              "    <tr>\n",
              "      <th>158680</th>\n",
              "      <td>2021</td>\n",
              "      <td>79608</td>\n",
              "      <td>안치홍</td>\n",
              "      <td>LT</td>\n",
              "      <td>내</td>\n",
              "      <td>2021-08-25</td>\n",
              "      <td>KIA</td>\n",
              "      <td>4초</td>\n",
              "      <td>멩덴</td>\n",
              "      <td>안치홍</td>\n",
              "      <td>1-1</td>\n",
              "      <td>유격수 땅볼</td>\n",
              "      <td>무사 1루 1:5</td>\n",
              "      <td>1사 1루 1:5</td>\n",
              "      <td>1.20</td>\n",
              "      <td>-0.380</td>\n",
              "      <td>85.1</td>\n",
              "      <td>87.8</td>\n",
              "      <td>-0.027</td>\n",
              "    </tr>\n",
              "    <tr>\n",
              "      <th>158681</th>\n",
              "      <td>2021</td>\n",
              "      <td>79608</td>\n",
              "      <td>안치홍</td>\n",
              "      <td>LT</td>\n",
              "      <td>내</td>\n",
              "      <td>2021-08-25</td>\n",
              "      <td>KIA</td>\n",
              "      <td>5초</td>\n",
              "      <td>멩덴</td>\n",
              "      <td>안치홍</td>\n",
              "      <td>0-0</td>\n",
              "      <td>포수 땅볼</td>\n",
              "      <td>1사  4:6</td>\n",
              "      <td>2사  4:6</td>\n",
              "      <td>0.79</td>\n",
              "      <td>-0.180</td>\n",
              "      <td>78.4</td>\n",
              "      <td>80.3</td>\n",
              "      <td>-0.019</td>\n",
              "    </tr>\n",
              "    <tr>\n",
              "      <th>158682</th>\n",
              "      <td>2021</td>\n",
              "      <td>79608</td>\n",
              "      <td>안치홍</td>\n",
              "      <td>LT</td>\n",
              "      <td>내</td>\n",
              "      <td>2021-08-25</td>\n",
              "      <td>KIA</td>\n",
              "      <td>7초</td>\n",
              "      <td>박진태</td>\n",
              "      <td>안치홍</td>\n",
              "      <td>1-1</td>\n",
              "      <td>유격수 내야안타</td>\n",
              "      <td>1사 1,2루 4:7</td>\n",
              "      <td>1사 만루 4:7</td>\n",
              "      <td>2.30</td>\n",
              "      <td>0.679</td>\n",
              "      <td>84.9</td>\n",
              "      <td>77.0</td>\n",
              "      <td>0.079</td>\n",
              "    </tr>\n",
              "    <tr>\n",
              "      <th>158683</th>\n",
              "      <td>2021</td>\n",
              "      <td>79608</td>\n",
              "      <td>안치홍</td>\n",
              "      <td>LT</td>\n",
              "      <td>내</td>\n",
              "      <td>2021-08-25</td>\n",
              "      <td>KIA</td>\n",
              "      <td>9초</td>\n",
              "      <td>김재열</td>\n",
              "      <td>안치홍</td>\n",
              "      <td>2-1</td>\n",
              "      <td>유격수 뜬공</td>\n",
              "      <td>무사  6:11</td>\n",
              "      <td>1사  6:11</td>\n",
              "      <td>0.16</td>\n",
              "      <td>-0.258</td>\n",
              "      <td>99.4</td>\n",
              "      <td>99.8</td>\n",
              "      <td>-0.004</td>\n",
              "    </tr>\n",
              "  </tbody>\n",
              "</table>\n",
              "<p>158684 rows × 19 columns</p>\n",
              "</div>"
            ],
            "text/plain": [
              "       GYEAR  PCODE NAME T_ID POSITION  ...   LEV     REa   WPs   WPe     WPa\n",
              "0       2018  77463  채태인   LT        내  ...  1.03  -0.344  41.6  44.5  -0.029\n",
              "1       2018  77463  채태인   LT        내  ...  1.30   0.122  51.8  50.7   0.011\n",
              "2       2018  77463  채태인   LT        내  ...  2.39   0.008  67.2  67.8  -0.006\n",
              "3       2018  77463  채태인   LT        내  ...  2.59   0.151  51.7  49.9   0.018\n",
              "4       2018  77463  채태인   LT        내  ...  0.07   0.276  99.8  99.4   0.004\n",
              "...      ...    ...  ...  ...      ...  ...   ...     ...   ...   ...     ...\n",
              "158679  2021  79608  안치홍   LT        내  ...  0.65  -0.180  52.4  54.0  -0.016\n",
              "158680  2021  79608  안치홍   LT        내  ...  1.20  -0.380  85.1  87.8  -0.027\n",
              "158681  2021  79608  안치홍   LT        내  ...  0.79  -0.180  78.4  80.3  -0.019\n",
              "158682  2021  79608  안치홍   LT        내  ...  2.30   0.679  84.9  77.0   0.079\n",
              "158683  2021  79608  안치홍   LT        내  ...  0.16  -0.258  99.4  99.8  -0.004\n",
              "\n",
              "[158684 rows x 19 columns]"
            ]
          },
          "metadata": {},
          "execution_count": 59
        }
      ]
    },
    {
      "cell_type": "code",
      "metadata": {
        "id": "v912jgAUrR4O"
      },
      "source": [
        "data.to_csv('/content/drive/MyDrive/crawling_data.csv')"
      ],
      "execution_count": null,
      "outputs": []
    },
    {
      "cell_type": "code",
      "metadata": {
        "id": "Gqzkdjpb-lum"
      },
      "source": [
        "data_back = data.copy()"
      ],
      "execution_count": 60,
      "outputs": []
    },
    {
      "cell_type": "code",
      "metadata": {
        "id": "15gzLnRi-osb",
        "outputId": "d0bfa4c4-05b6-4357-ee76-fcaf34ea4336",
        "colab": {
          "base_uri": "https://localhost:8080/",
          "height": 419
        }
      },
      "source": [
        "data_front"
      ],
      "execution_count": 58,
      "outputs": [
        {
          "output_type": "execute_result",
          "data": {
            "text/html": [
              "<div>\n",
              "<style scoped>\n",
              "    .dataframe tbody tr th:only-of-type {\n",
              "        vertical-align: middle;\n",
              "    }\n",
              "\n",
              "    .dataframe tbody tr th {\n",
              "        vertical-align: top;\n",
              "    }\n",
              "\n",
              "    .dataframe thead th {\n",
              "        text-align: right;\n",
              "    }\n",
              "</style>\n",
              "<table border=\"1\" class=\"dataframe\">\n",
              "  <thead>\n",
              "    <tr style=\"text-align: right;\">\n",
              "      <th></th>\n",
              "      <th>GYEAR</th>\n",
              "      <th>PCODE</th>\n",
              "      <th>NAME</th>\n",
              "      <th>T_ID</th>\n",
              "      <th>POSITION</th>\n",
              "      <th>day</th>\n",
              "      <th>vs</th>\n",
              "      <th>inn</th>\n",
              "      <th>pitcher</th>\n",
              "      <th>batter</th>\n",
              "      <th>P</th>\n",
              "      <th>result</th>\n",
              "      <th>before</th>\n",
              "      <th>after</th>\n",
              "      <th>LEV</th>\n",
              "      <th>REa</th>\n",
              "      <th>WPs</th>\n",
              "      <th>WPe</th>\n",
              "      <th>WPa</th>\n",
              "    </tr>\n",
              "  </thead>\n",
              "  <tbody>\n",
              "    <tr>\n",
              "      <th>0</th>\n",
              "      <td>2018</td>\n",
              "      <td>60100</td>\n",
              "      <td>백창수</td>\n",
              "      <td>HH</td>\n",
              "      <td>외</td>\n",
              "      <td>2018-03-27</td>\n",
              "      <td>NC</td>\n",
              "      <td>8초</td>\n",
              "      <td>이민호</td>\n",
              "      <td>백창수</td>\n",
              "      <td>1-0</td>\n",
              "      <td>유격수 땅볼</td>\n",
              "      <td>무사  6:9</td>\n",
              "      <td>1사  6:9</td>\n",
              "      <td>0.88</td>\n",
              "      <td>-0.258</td>\n",
              "      <td>93.1</td>\n",
              "      <td>95.3</td>\n",
              "      <td>-0.022</td>\n",
              "    </tr>\n",
              "    <tr>\n",
              "      <th>1</th>\n",
              "      <td>2018</td>\n",
              "      <td>60100</td>\n",
              "      <td>백창수</td>\n",
              "      <td>HH</td>\n",
              "      <td>외</td>\n",
              "      <td>2018-03-28</td>\n",
              "      <td>NC</td>\n",
              "      <td>2초</td>\n",
              "      <td>구창모</td>\n",
              "      <td>백창수</td>\n",
              "      <td>2-3</td>\n",
              "      <td>볼넷</td>\n",
              "      <td>2사 2루 0:2</td>\n",
              "      <td>2사 1,2루 0:2</td>\n",
              "      <td>1.10</td>\n",
              "      <td>0.122</td>\n",
              "      <td>71.9</td>\n",
              "      <td>70.7</td>\n",
              "      <td>0.012</td>\n",
              "    </tr>\n",
              "    <tr>\n",
              "      <th>2</th>\n",
              "      <td>2018</td>\n",
              "      <td>60100</td>\n",
              "      <td>백창수</td>\n",
              "      <td>HH</td>\n",
              "      <td>외</td>\n",
              "      <td>2018-03-28</td>\n",
              "      <td>NC</td>\n",
              "      <td>4초</td>\n",
              "      <td>구창모</td>\n",
              "      <td>백창수</td>\n",
              "      <td>0-0</td>\n",
              "      <td>3루수 땅볼</td>\n",
              "      <td>2사  1:2</td>\n",
              "      <td>이닝종료 1:2</td>\n",
              "      <td>0.51</td>\n",
              "      <td>-0.117</td>\n",
              "      <td>67.4</td>\n",
              "      <td>68.8</td>\n",
              "      <td>-0.013</td>\n",
              "    </tr>\n",
              "    <tr>\n",
              "      <th>3</th>\n",
              "      <td>2018</td>\n",
              "      <td>60100</td>\n",
              "      <td>백창수</td>\n",
              "      <td>HH</td>\n",
              "      <td>외</td>\n",
              "      <td>2018-03-28</td>\n",
              "      <td>NC</td>\n",
              "      <td>7초</td>\n",
              "      <td>유원상</td>\n",
              "      <td>백창수</td>\n",
              "      <td>2-3</td>\n",
              "      <td>유격수 땅볼 실책</td>\n",
              "      <td>[실책포함]</td>\n",
              "      <td>무사  2:2</td>\n",
              "      <td>무사 1루 2:2</td>\n",
              "      <td>1.54</td>\n",
              "      <td>0.398</td>\n",
              "      <td>50.0</td>\n",
              "      <td>44.1</td>\n",
              "    </tr>\n",
              "    <tr>\n",
              "      <th>4</th>\n",
              "      <td>2018</td>\n",
              "      <td>60100</td>\n",
              "      <td>백창수</td>\n",
              "      <td>HH</td>\n",
              "      <td>외</td>\n",
              "      <td>2018-03-30</td>\n",
              "      <td>SK</td>\n",
              "      <td>2말</td>\n",
              "      <td>김태훈</td>\n",
              "      <td>백창수</td>\n",
              "      <td>0-1</td>\n",
              "      <td>백창수/10473 : 2루수 직선타 아웃</td>\n",
              "      <td>1사 2,3루 1:1</td>\n",
              "      <td>2사 2,3루 1:1</td>\n",
              "      <td>1.57</td>\n",
              "      <td>-0.833</td>\n",
              "      <td>64.1</td>\n",
              "      <td>56.1</td>\n",
              "      <td>-0.080</td>\n",
              "    </tr>\n",
              "    <tr>\n",
              "      <th>...</th>\n",
              "      <td>...</td>\n",
              "      <td>...</td>\n",
              "      <td>...</td>\n",
              "      <td>...</td>\n",
              "      <td>...</td>\n",
              "      <td>...</td>\n",
              "      <td>...</td>\n",
              "      <td>...</td>\n",
              "      <td>...</td>\n",
              "      <td>...</td>\n",
              "      <td>...</td>\n",
              "      <td>...</td>\n",
              "      <td>...</td>\n",
              "      <td>...</td>\n",
              "      <td>...</td>\n",
              "      <td>...</td>\n",
              "      <td>...</td>\n",
              "      <td>...</td>\n",
              "      <td>...</td>\n",
              "    </tr>\n",
              "    <tr>\n",
              "      <th>46221</th>\n",
              "      <td>2018</td>\n",
              "      <td>77248</td>\n",
              "      <td>오재원</td>\n",
              "      <td>OB</td>\n",
              "      <td>내</td>\n",
              "      <td>2018-11-12</td>\n",
              "      <td>SK</td>\n",
              "      <td>2말</td>\n",
              "      <td>켈리</td>\n",
              "      <td>오재원</td>\n",
              "      <td>2-2</td>\n",
              "      <td>2루수 뜬공</td>\n",
              "      <td>1사 1루 1:0</td>\n",
              "      <td>2사 1루 1:0</td>\n",
              "      <td>1.32</td>\n",
              "      <td>-0.322</td>\n",
              "      <td>44.3</td>\n",
              "      <td>41.1</td>\n",
              "      <td>-0.032</td>\n",
              "    </tr>\n",
              "    <tr>\n",
              "      <th>46222</th>\n",
              "      <td>2018</td>\n",
              "      <td>77248</td>\n",
              "      <td>오재원</td>\n",
              "      <td>OB</td>\n",
              "      <td>내</td>\n",
              "      <td>2018-11-12</td>\n",
              "      <td>SK</td>\n",
              "      <td>5말</td>\n",
              "      <td>켈리</td>\n",
              "      <td>오재원</td>\n",
              "      <td>0-1</td>\n",
              "      <td>유격수 땅볼</td>\n",
              "      <td>무사  3:0</td>\n",
              "      <td>1사  3:0</td>\n",
              "      <td>1.02</td>\n",
              "      <td>-0.258</td>\n",
              "      <td>18.7</td>\n",
              "      <td>16.1</td>\n",
              "      <td>-0.026</td>\n",
              "    </tr>\n",
              "    <tr>\n",
              "      <th>46223</th>\n",
              "      <td>2018</td>\n",
              "      <td>77248</td>\n",
              "      <td>오재원</td>\n",
              "      <td>OB</td>\n",
              "      <td>내</td>\n",
              "      <td>2018-11-12</td>\n",
              "      <td>SK</td>\n",
              "      <td>7말</td>\n",
              "      <td>김태훈</td>\n",
              "      <td>오재원</td>\n",
              "      <td>0-0</td>\n",
              "      <td>좌익수 뜬공</td>\n",
              "      <td>무사  3:3</td>\n",
              "      <td>1사  3:3</td>\n",
              "      <td>1.51</td>\n",
              "      <td>-0.258</td>\n",
              "      <td>58.8</td>\n",
              "      <td>54.9</td>\n",
              "      <td>-0.039</td>\n",
              "    </tr>\n",
              "    <tr>\n",
              "      <th>46224</th>\n",
              "      <td>2018</td>\n",
              "      <td>77248</td>\n",
              "      <td>오재원</td>\n",
              "      <td>OB</td>\n",
              "      <td>내</td>\n",
              "      <td>2018-11-12</td>\n",
              "      <td>SK</td>\n",
              "      <td>9말</td>\n",
              "      <td>정영일</td>\n",
              "      <td>오재원</td>\n",
              "      <td>2-2</td>\n",
              "      <td>오재원/10178 : 삼진 아웃</td>\n",
              "      <td>1사  4:4</td>\n",
              "      <td>2사  4:4</td>\n",
              "      <td>1.80</td>\n",
              "      <td>-0.180</td>\n",
              "      <td>58.0</td>\n",
              "      <td>53.5</td>\n",
              "      <td>-0.045</td>\n",
              "    </tr>\n",
              "    <tr>\n",
              "      <th>46225</th>\n",
              "      <td>2018</td>\n",
              "      <td>77248</td>\n",
              "      <td>오재원</td>\n",
              "      <td>OB</td>\n",
              "      <td>내</td>\n",
              "      <td>2018-11-12</td>\n",
              "      <td>SK</td>\n",
              "      <td>11말</td>\n",
              "      <td>문승원</td>\n",
              "      <td>오재원</td>\n",
              "      <td>1-2</td>\n",
              "      <td>우익수 안타</td>\n",
              "      <td>2사  4:4</td>\n",
              "      <td>2사 1루 4:4</td>\n",
              "      <td>1.38</td>\n",
              "      <td>0.134</td>\n",
              "      <td>53.5</td>\n",
              "      <td>56.4</td>\n",
              "      <td>0.029</td>\n",
              "    </tr>\n",
              "  </tbody>\n",
              "</table>\n",
              "<p>46226 rows × 19 columns</p>\n",
              "</div>"
            ],
            "text/plain": [
              "      GYEAR  PCODE NAME T_ID POSITION  ...        LEV     REa    WPs   WPe     WPa\n",
              "0      2018  60100  백창수   HH        외  ...       0.88  -0.258   93.1  95.3  -0.022\n",
              "1      2018  60100  백창수   HH        외  ...       1.10   0.122   71.9  70.7   0.012\n",
              "2      2018  60100  백창수   HH        외  ...       0.51  -0.117   67.4  68.8  -0.013\n",
              "3      2018  60100  백창수   HH        외  ...  무사 1루 2:2    1.54  0.398  50.0    44.1\n",
              "4      2018  60100  백창수   HH        외  ...       1.57  -0.833   64.1  56.1  -0.080\n",
              "...     ...    ...  ...  ...      ...  ...        ...     ...    ...   ...     ...\n",
              "46221  2018  77248  오재원   OB        내  ...       1.32  -0.322   44.3  41.1  -0.032\n",
              "46222  2018  77248  오재원   OB        내  ...       1.02  -0.258   18.7  16.1  -0.026\n",
              "46223  2018  77248  오재원   OB        내  ...       1.51  -0.258   58.8  54.9  -0.039\n",
              "46224  2018  77248  오재원   OB        내  ...       1.80  -0.180   58.0  53.5  -0.045\n",
              "46225  2018  77248  오재원   OB        내  ...       1.38   0.134   53.5  56.4   0.029\n",
              "\n",
              "[46226 rows x 19 columns]"
            ]
          },
          "metadata": {},
          "execution_count": 58
        }
      ]
    },
    {
      "cell_type": "code",
      "metadata": {
        "id": "QVjw79D7AGu2",
        "outputId": "219a8cb6-59cb-482a-8c33-ddc266b88d9b",
        "colab": {
          "base_uri": "https://localhost:8080/",
          "height": 419
        }
      },
      "source": [
        "data_final = pd.concat([data_front,data_back],ignore_index=True)\n",
        "data_final"
      ],
      "execution_count": 61,
      "outputs": [
        {
          "output_type": "execute_result",
          "data": {
            "text/html": [
              "<div>\n",
              "<style scoped>\n",
              "    .dataframe tbody tr th:only-of-type {\n",
              "        vertical-align: middle;\n",
              "    }\n",
              "\n",
              "    .dataframe tbody tr th {\n",
              "        vertical-align: top;\n",
              "    }\n",
              "\n",
              "    .dataframe thead th {\n",
              "        text-align: right;\n",
              "    }\n",
              "</style>\n",
              "<table border=\"1\" class=\"dataframe\">\n",
              "  <thead>\n",
              "    <tr style=\"text-align: right;\">\n",
              "      <th></th>\n",
              "      <th>GYEAR</th>\n",
              "      <th>PCODE</th>\n",
              "      <th>NAME</th>\n",
              "      <th>T_ID</th>\n",
              "      <th>POSITION</th>\n",
              "      <th>day</th>\n",
              "      <th>vs</th>\n",
              "      <th>inn</th>\n",
              "      <th>pitcher</th>\n",
              "      <th>batter</th>\n",
              "      <th>P</th>\n",
              "      <th>result</th>\n",
              "      <th>before</th>\n",
              "      <th>after</th>\n",
              "      <th>LEV</th>\n",
              "      <th>REa</th>\n",
              "      <th>WPs</th>\n",
              "      <th>WPe</th>\n",
              "      <th>WPa</th>\n",
              "    </tr>\n",
              "  </thead>\n",
              "  <tbody>\n",
              "    <tr>\n",
              "      <th>0</th>\n",
              "      <td>2018</td>\n",
              "      <td>60100</td>\n",
              "      <td>백창수</td>\n",
              "      <td>HH</td>\n",
              "      <td>외</td>\n",
              "      <td>2018-03-27</td>\n",
              "      <td>NC</td>\n",
              "      <td>8초</td>\n",
              "      <td>이민호</td>\n",
              "      <td>백창수</td>\n",
              "      <td>1-0</td>\n",
              "      <td>유격수 땅볼</td>\n",
              "      <td>무사  6:9</td>\n",
              "      <td>1사  6:9</td>\n",
              "      <td>0.88</td>\n",
              "      <td>-0.258</td>\n",
              "      <td>93.1</td>\n",
              "      <td>95.3</td>\n",
              "      <td>-0.022</td>\n",
              "    </tr>\n",
              "    <tr>\n",
              "      <th>1</th>\n",
              "      <td>2018</td>\n",
              "      <td>60100</td>\n",
              "      <td>백창수</td>\n",
              "      <td>HH</td>\n",
              "      <td>외</td>\n",
              "      <td>2018-03-28</td>\n",
              "      <td>NC</td>\n",
              "      <td>2초</td>\n",
              "      <td>구창모</td>\n",
              "      <td>백창수</td>\n",
              "      <td>2-3</td>\n",
              "      <td>볼넷</td>\n",
              "      <td>2사 2루 0:2</td>\n",
              "      <td>2사 1,2루 0:2</td>\n",
              "      <td>1.10</td>\n",
              "      <td>0.122</td>\n",
              "      <td>71.9</td>\n",
              "      <td>70.7</td>\n",
              "      <td>0.012</td>\n",
              "    </tr>\n",
              "    <tr>\n",
              "      <th>2</th>\n",
              "      <td>2018</td>\n",
              "      <td>60100</td>\n",
              "      <td>백창수</td>\n",
              "      <td>HH</td>\n",
              "      <td>외</td>\n",
              "      <td>2018-03-28</td>\n",
              "      <td>NC</td>\n",
              "      <td>4초</td>\n",
              "      <td>구창모</td>\n",
              "      <td>백창수</td>\n",
              "      <td>0-0</td>\n",
              "      <td>3루수 땅볼</td>\n",
              "      <td>2사  1:2</td>\n",
              "      <td>이닝종료 1:2</td>\n",
              "      <td>0.51</td>\n",
              "      <td>-0.117</td>\n",
              "      <td>67.4</td>\n",
              "      <td>68.8</td>\n",
              "      <td>-0.013</td>\n",
              "    </tr>\n",
              "    <tr>\n",
              "      <th>3</th>\n",
              "      <td>2018</td>\n",
              "      <td>60100</td>\n",
              "      <td>백창수</td>\n",
              "      <td>HH</td>\n",
              "      <td>외</td>\n",
              "      <td>2018-03-28</td>\n",
              "      <td>NC</td>\n",
              "      <td>7초</td>\n",
              "      <td>유원상</td>\n",
              "      <td>백창수</td>\n",
              "      <td>2-3</td>\n",
              "      <td>유격수 땅볼 실책</td>\n",
              "      <td>[실책포함]</td>\n",
              "      <td>무사  2:2</td>\n",
              "      <td>무사 1루 2:2</td>\n",
              "      <td>1.54</td>\n",
              "      <td>0.398</td>\n",
              "      <td>50.0</td>\n",
              "      <td>44.1</td>\n",
              "    </tr>\n",
              "    <tr>\n",
              "      <th>4</th>\n",
              "      <td>2018</td>\n",
              "      <td>60100</td>\n",
              "      <td>백창수</td>\n",
              "      <td>HH</td>\n",
              "      <td>외</td>\n",
              "      <td>2018-03-30</td>\n",
              "      <td>SK</td>\n",
              "      <td>2말</td>\n",
              "      <td>김태훈</td>\n",
              "      <td>백창수</td>\n",
              "      <td>0-1</td>\n",
              "      <td>백창수/10473 : 2루수 직선타 아웃</td>\n",
              "      <td>1사 2,3루 1:1</td>\n",
              "      <td>2사 2,3루 1:1</td>\n",
              "      <td>1.57</td>\n",
              "      <td>-0.833</td>\n",
              "      <td>64.1</td>\n",
              "      <td>56.1</td>\n",
              "      <td>-0.080</td>\n",
              "    </tr>\n",
              "    <tr>\n",
              "      <th>...</th>\n",
              "      <td>...</td>\n",
              "      <td>...</td>\n",
              "      <td>...</td>\n",
              "      <td>...</td>\n",
              "      <td>...</td>\n",
              "      <td>...</td>\n",
              "      <td>...</td>\n",
              "      <td>...</td>\n",
              "      <td>...</td>\n",
              "      <td>...</td>\n",
              "      <td>...</td>\n",
              "      <td>...</td>\n",
              "      <td>...</td>\n",
              "      <td>...</td>\n",
              "      <td>...</td>\n",
              "      <td>...</td>\n",
              "      <td>...</td>\n",
              "      <td>...</td>\n",
              "      <td>...</td>\n",
              "    </tr>\n",
              "    <tr>\n",
              "      <th>204905</th>\n",
              "      <td>2021</td>\n",
              "      <td>79608</td>\n",
              "      <td>안치홍</td>\n",
              "      <td>LT</td>\n",
              "      <td>내</td>\n",
              "      <td>2021-08-25</td>\n",
              "      <td>KIA</td>\n",
              "      <td>2초</td>\n",
              "      <td>멩덴</td>\n",
              "      <td>안치홍</td>\n",
              "      <td>1-1</td>\n",
              "      <td>2루수 땅볼</td>\n",
              "      <td>1사  0:0</td>\n",
              "      <td>2사  0:0</td>\n",
              "      <td>0.65</td>\n",
              "      <td>-0.180</td>\n",
              "      <td>52.4</td>\n",
              "      <td>54.0</td>\n",
              "      <td>-0.016</td>\n",
              "    </tr>\n",
              "    <tr>\n",
              "      <th>204906</th>\n",
              "      <td>2021</td>\n",
              "      <td>79608</td>\n",
              "      <td>안치홍</td>\n",
              "      <td>LT</td>\n",
              "      <td>내</td>\n",
              "      <td>2021-08-25</td>\n",
              "      <td>KIA</td>\n",
              "      <td>4초</td>\n",
              "      <td>멩덴</td>\n",
              "      <td>안치홍</td>\n",
              "      <td>1-1</td>\n",
              "      <td>유격수 땅볼</td>\n",
              "      <td>무사 1루 1:5</td>\n",
              "      <td>1사 1루 1:5</td>\n",
              "      <td>1.20</td>\n",
              "      <td>-0.380</td>\n",
              "      <td>85.1</td>\n",
              "      <td>87.8</td>\n",
              "      <td>-0.027</td>\n",
              "    </tr>\n",
              "    <tr>\n",
              "      <th>204907</th>\n",
              "      <td>2021</td>\n",
              "      <td>79608</td>\n",
              "      <td>안치홍</td>\n",
              "      <td>LT</td>\n",
              "      <td>내</td>\n",
              "      <td>2021-08-25</td>\n",
              "      <td>KIA</td>\n",
              "      <td>5초</td>\n",
              "      <td>멩덴</td>\n",
              "      <td>안치홍</td>\n",
              "      <td>0-0</td>\n",
              "      <td>포수 땅볼</td>\n",
              "      <td>1사  4:6</td>\n",
              "      <td>2사  4:6</td>\n",
              "      <td>0.79</td>\n",
              "      <td>-0.180</td>\n",
              "      <td>78.4</td>\n",
              "      <td>80.3</td>\n",
              "      <td>-0.019</td>\n",
              "    </tr>\n",
              "    <tr>\n",
              "      <th>204908</th>\n",
              "      <td>2021</td>\n",
              "      <td>79608</td>\n",
              "      <td>안치홍</td>\n",
              "      <td>LT</td>\n",
              "      <td>내</td>\n",
              "      <td>2021-08-25</td>\n",
              "      <td>KIA</td>\n",
              "      <td>7초</td>\n",
              "      <td>박진태</td>\n",
              "      <td>안치홍</td>\n",
              "      <td>1-1</td>\n",
              "      <td>유격수 내야안타</td>\n",
              "      <td>1사 1,2루 4:7</td>\n",
              "      <td>1사 만루 4:7</td>\n",
              "      <td>2.30</td>\n",
              "      <td>0.679</td>\n",
              "      <td>84.9</td>\n",
              "      <td>77.0</td>\n",
              "      <td>0.079</td>\n",
              "    </tr>\n",
              "    <tr>\n",
              "      <th>204909</th>\n",
              "      <td>2021</td>\n",
              "      <td>79608</td>\n",
              "      <td>안치홍</td>\n",
              "      <td>LT</td>\n",
              "      <td>내</td>\n",
              "      <td>2021-08-25</td>\n",
              "      <td>KIA</td>\n",
              "      <td>9초</td>\n",
              "      <td>김재열</td>\n",
              "      <td>안치홍</td>\n",
              "      <td>2-1</td>\n",
              "      <td>유격수 뜬공</td>\n",
              "      <td>무사  6:11</td>\n",
              "      <td>1사  6:11</td>\n",
              "      <td>0.16</td>\n",
              "      <td>-0.258</td>\n",
              "      <td>99.4</td>\n",
              "      <td>99.8</td>\n",
              "      <td>-0.004</td>\n",
              "    </tr>\n",
              "  </tbody>\n",
              "</table>\n",
              "<p>204910 rows × 19 columns</p>\n",
              "</div>"
            ],
            "text/plain": [
              "       GYEAR  PCODE NAME T_ID POSITION  ...        LEV     REa    WPs   WPe     WPa\n",
              "0       2018  60100  백창수   HH        외  ...       0.88  -0.258   93.1  95.3  -0.022\n",
              "1       2018  60100  백창수   HH        외  ...       1.10   0.122   71.9  70.7   0.012\n",
              "2       2018  60100  백창수   HH        외  ...       0.51  -0.117   67.4  68.8  -0.013\n",
              "3       2018  60100  백창수   HH        외  ...  무사 1루 2:2    1.54  0.398  50.0    44.1\n",
              "4       2018  60100  백창수   HH        외  ...       1.57  -0.833   64.1  56.1  -0.080\n",
              "...      ...    ...  ...  ...      ...  ...        ...     ...    ...   ...     ...\n",
              "204905  2021  79608  안치홍   LT        내  ...       0.65  -0.180   52.4  54.0  -0.016\n",
              "204906  2021  79608  안치홍   LT        내  ...       1.20  -0.380   85.1  87.8  -0.027\n",
              "204907  2021  79608  안치홍   LT        내  ...       0.79  -0.180   78.4  80.3  -0.019\n",
              "204908  2021  79608  안치홍   LT        내  ...       2.30   0.679   84.9  77.0   0.079\n",
              "204909  2021  79608  안치홍   LT        내  ...       0.16  -0.258   99.4  99.8  -0.004\n",
              "\n",
              "[204910 rows x 19 columns]"
            ]
          },
          "metadata": {},
          "execution_count": 61
        }
      ]
    },
    {
      "cell_type": "code",
      "metadata": {
        "id": "_EloguhoGBoM"
      },
      "source": [
        "data_final.to_csv('/content/drive/MyDrive/crawling_data.csv')"
      ],
      "execution_count": 62,
      "outputs": []
    },
    {
      "cell_type": "code",
      "metadata": {
        "id": "I4H981SyGJhu",
        "outputId": "0c661638-4541-4f9f-aceb-9fe4fb3b9aac",
        "colab": {
          "base_uri": "https://localhost:8080/"
        }
      },
      "source": [
        "same_name_fail_list"
      ],
      "execution_count": 63,
      "outputs": [
        {
          "output_type": "execute_result",
          "data": {
            "text/plain": [
              "[(2019, 71752, '김태균', 'HH'),\n",
              " (2020, 50054, '천성호', 'KT'),\n",
              " (2020, 68106, '이재원', 'LG'),\n",
              " (2020, 71752, '김태균', 'HH'),\n",
              " (2021, 50167, '이주형', 'LG'),\n",
              " (2021, 66749, '김주현', 'LT')]"
            ]
          },
          "metadata": {},
          "execution_count": 63
        }
      ]
    },
    {
      "cell_type": "code",
      "metadata": {
        "id": "gQfaMK0ZGMen"
      },
      "source": [
        ""
      ],
      "execution_count": null,
      "outputs": []
    }
  ]
}