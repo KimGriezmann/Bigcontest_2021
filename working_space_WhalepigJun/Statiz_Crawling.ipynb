{
  "nbformat": 4,
  "nbformat_minor": 0,
  "metadata": {
    "colab": {
      "name": "Web_Crawling__Selenium.ipynb",
      "provenance": []
    },
    "kernelspec": {
      "name": "python3",
      "display_name": "Python 3"
    },
    "language_info": {
      "name": "python"
    }
  },
  "cells": [
    {
      "cell_type": "code",
      "metadata": {
        "id": "raOSosFq2vTn",
        "colab": {
          "base_uri": "https://localhost:8080/"
        },
        "outputId": "359df1bc-ccc1-4087-e4a7-17320f4b77a7"
      },
      "source": [
        "from google.colab import drive\n",
        "drive.mount('/content/drive')"
      ],
      "execution_count": 1,
      "outputs": [
        {
          "output_type": "stream",
          "text": [
            "Mounted at /content/drive\n"
          ],
          "name": "stdout"
        }
      ]
    },
    {
      "cell_type": "code",
      "metadata": {
        "id": "Y4BErjLs272U"
      },
      "source": [
        "import pandas as pd\n",
        "import numpy as np\n",
        "\n",
        "hts_2018 = pd.read_csv('/content/drive/MyDrive/bigcontest/2021 빅콘테스트_데이터분석분야_챔피언리그_스포츠테크_HTS_2018.csv', encoding='euc-kr')\n",
        "hts_2019 = pd.read_csv('/content/drive/MyDrive/bigcontest/2021 빅콘테스트_데이터분석분야_챔피언리그_스포츠테크_HTS_2019.csv', encoding='euc-kr')\n",
        "hts_2020 = pd.read_csv('/content/drive/MyDrive/bigcontest/2021 빅콘테스트_데이터분석분야_챔피언리그_스포츠테크_HTS_2020.csv', encoding='euc-kr')\n",
        "hts_2021 = pd.read_csv('/content/drive/MyDrive/bigcontest/2021 빅콘테스트_데이터분석분야_챔피언리그_스포츠테크_HTS_2021.csv', encoding='euc-kr')\n",
        "hts = pd.concat([hts_2018,hts_2019,hts_2020,hts_2021], ignore_index=True)\n",
        "\n",
        "player_2018 = pd.read_csv('/content/drive/MyDrive/bigcontest/2021 빅콘테스트_데이터분석분야_챔피언리그_스포츠테크_선수_2018.csv', encoding='euc-kr')\n",
        "player_2019 = pd.read_csv('/content/drive/MyDrive/bigcontest/2021 빅콘테스트_데이터분석분야_챔피언리그_스포츠테크_선수_2019.csv', encoding='euc-kr')\n",
        "player_2020 = pd.read_csv('/content/drive/MyDrive/bigcontest/2021 빅콘테스트_데이터분석분야_챔피언리그_스포츠테크_선수_2020.csv', encoding='euc-kr')\n",
        "player_2021 = pd.read_csv('/content/drive/MyDrive/bigcontest/2021 빅콘테스트_데이터분석분야_챔피언리그_스포츠테크_선수_2021.csv', encoding='euc-kr')\n",
        "player = pd.concat([player_2018,player_2019,player_2020,player_2021], ignore_index=True)\n",
        "\n",
        "hitter_base_2018 = pd.read_csv('/content/drive/MyDrive/bigcontest/2021 빅콘테스트_데이터분석분야_챔피언리그_스포츠테크_타자 기본_2018.csv', encoding='euc-kr')\n",
        "hitter_base_2019 = pd.read_csv('/content/drive/MyDrive/bigcontest/2021 빅콘테스트_데이터분석분야_챔피언리그_스포츠테크_타자 기본_2019.csv', encoding='euc-kr')\n",
        "hitter_base_2020 = pd.read_csv('/content/drive/MyDrive/bigcontest/2021 빅콘테스트_데이터분석분야_챔피언리그_스포츠테크_타자 기본_2020.csv', encoding='euc-kr')\n",
        "hitter_base_2021 = pd.read_csv('/content/drive/MyDrive/bigcontest/2021 빅콘테스트_데이터분석분야_챔피언리그_스포츠테크_타자 기본_2021.csv', encoding='euc-kr')\n",
        "hitter_base = pd.concat([hitter_base_2018,hitter_base_2019,hitter_base_2020,hitter_base_2021], ignore_index=True)\n",
        "\n",
        "team = pd.read_csv('/content/drive/MyDrive/bigcontest/2021 빅콘테스트_데이터분석분야_챔피언리그_스포츠테크_팀.csv', encoding='euc-kr')\n",
        "schedule_2021 = pd.read_csv('/content/drive/MyDrive/bigcontest/2021 빅콘테스트_데이터분석분야_챔피언리그_스포츠테크_경기일정_2021.csv', encoding='euc-kr')"
      ],
      "execution_count": 2,
      "outputs": []
    },
    {
      "cell_type": "code",
      "metadata": {
        "id": "Ra-UhYpeI2tv"
      },
      "source": [
        "# 타자 기록이 있는 선수들과 등록 선수를 pcode와 연도를 기준으로 merge\n",
        "hitter = hitter_base.merge(player, on=['PCODE','GYEAR'])"
      ],
      "execution_count": 3,
      "outputs": []
    },
    {
      "cell_type": "code",
      "metadata": {
        "id": "5JpmFHeJnRK8"
      },
      "source": [
        "# 이름을 개명한 선수에 대해서 같은 이름이 쓰이도록 처리\n",
        "hitter.loc[hitter['NAME']=='한동민','NAME'] = '한유섬'\n",
        "hitter.loc[hitter['NAME']=='백민기','NAME'] = '백동훈'\n",
        "hitter.loc[hitter['NAME']=='윤대영','NAME'] = '윤형준'\n",
        "hitter.loc[hitter['NAME']=='이병휘','NAME'] = '이유찬'\n",
        "hitter.loc[hitter['NAME']=='나종덕','NAME'] = '나균안'\n",
        "hitter.loc[hitter['NAME']=='김동욱','NAME'] = '김동명'\n",
        "hitter.loc[hitter['NAME']=='이찬건','NAME'] = '이석훈'\n",
        "hitter.loc[hitter['NAME']=='김지열','NAME'] = '김사연'\n",
        "\n",
        "hitter['BIRTH']=0\n",
        "# 제공받는 hitter와 스탯티즈의 연도별 선수 기록이 달라서 동명이인을 처리 못하는 사람들에 대해 미리 생년월일을 입력\n",
        "# 기록이 다른 선수 명단 : 천성호, 이재원, 이주형, 김주현\n",
        "hitter.loc[hitter['PCODE']==50054,'BIRTH'] = '1997-10-30'\n",
        "hitter.loc[hitter['PCODE']==68106,'BIRTH'] = '1999-07-17'\n",
        "hitter.loc[hitter['PCODE']==50167,'BIRTH'] = '2001-04-02'\n",
        "hitter.loc[hitter['PCODE']==66749,'BIRTH'] = '1993-12-21'"
      ],
      "execution_count": 4,
      "outputs": []
    },
    {
      "cell_type": "code",
      "metadata": {
        "id": "t7bFZwQ-AwFW",
        "colab": {
          "base_uri": "https://localhost:8080/"
        },
        "outputId": "5dfd2d80-dfe4-4a2a-98dd-e8062a2b5960"
      },
      "source": [
        "###############\n",
        "# BeautifulSoup\n",
        "\n",
        "import numpy as np\n",
        "import pandas as pd\n",
        "import requests\n",
        "from bs4 import BeautifulSoup\n",
        "from tqdm import tqdm\n",
        "\n",
        "# 데이터를 모을 dataframe 생성\n",
        "data = pd.DataFrame(columns=['GYEAR','PCODE','NAME','T_ID','POSITION','day', 'vs', 'inn', 'pitcher', 'batter', 'P', 'result', 'before', 'after', 'LEV', 'REa', 'WPs','WPe', 'WPa'])\n",
        "same_name_fail_list = []\n",
        "\n",
        "for hitter_index in tqdm(range(len(hitter))):\n",
        "  year = hitter.loc[hitter_index,'GYEAR']\n",
        "  player_pcode = hitter.loc[hitter_index,'PCODE']\n",
        "  player_name = hitter.loc[hitter_index,'NAME']\n",
        "  player_team = hitter.loc[hitter_index,'T_ID']\n",
        "  player_position = hitter.loc[hitter_index,'POSITION']\n",
        "\n",
        "  # 선수와 연도에 맞는 플레이 로그 페이지\n",
        "  wp = requests.get('http://www.statiz.co.kr/player.php?opt=6&sopt=0&name=' + player_name + '&re=0&da=1&year=' + str(year))\n",
        "  soup = BeautifulSoup(wp.text, \"html.parser\")\n",
        "\n",
        "  # 동명이인 문제로 페이지에 데이터가 없다면\n",
        "  row_data = soup.find_all(class_='table table-striped table-responsive table-condensed table-bordered')\n",
        "  if len(row_data)==0:\n",
        "    print(\"\\n동명이인 존재 : \" + player_name)\n",
        "    if hitter.loc[hitter_index,'BIRTH']!=0:\n",
        "      print(\"생일로 찾음\")\n",
        "      wp = requests.get('http://www.statiz.co.kr/player.php?opt=6&sopt=0&name=' + player_name + '&birth=' + hitter.loc[hitter_index,'BIRTH'] + '&re=0&da=1&year=' + str(year))\n",
        "      soup = BeautifulSoup(wp.text, \"html.parser\")\n",
        "    else:  \n",
        "      same_name_href_list=[]\n",
        "      wp = requests.get('http://www.statiz.co.kr/player.php?name=' + player_name)\n",
        "      soup = BeautifulSoup(wp.text, \"html.parser\")\n",
        "      for same_name_list in soup.find(class_='table table-striped').find_all('a'):\n",
        "        same_name_href_list.append(same_name_list.attrs['href'])\n",
        "      flag=0\n",
        "      for same_name_page in same_name_href_list:\n",
        "        wp = requests.get('http://www.statiz.co.kr/'+same_name_page+'&opt=1&re=0')\n",
        "        soup = BeautifulSoup(wp.text, \"html.parser\")\n",
        "        # 현재 찾고 있는 선수의 기록과 현재 페이지의 선수 기록이 일치하면 같은 선수라는 의미이다. \n",
        "        d = str(hitter.loc[hitter_index,'GAMENUM'].item()) + str(hitter.loc[hitter_index,'PA'].item()) + str(hitter.loc[hitter_index,'AB'].item())\n",
        "        if d in soup.text:\n",
        "          flag=1\n",
        "          # 동명이인의 선수에 대해서 생일을 기록해둔다.\n",
        "          print(player_name+\" 생일 저장\")\n",
        "          player_birth = same_name_page[-10:]\n",
        "          hitter.loc[hitter['PCODE']==player_pcode, 'BIRTH'] = player_birth\n",
        "          break\n",
        "      # 찾은 선수의 페이지로 접근한다.\n",
        "      if flag==1:\n",
        "        print(\"기록과 일치하는 선수 찾음\")\n",
        "      else:\n",
        "        print(\"기록과 일치하는 선수 못찾음\")\n",
        "        same_name_fail_list.append((year,player_pcode,player_name,player_team))\n",
        "        continue\n",
        "      wp = requests.get('http://www.statiz.co.kr/player.php?opt=6&'+same_name_page.split('?')[1]+'&re=0&da=1&year='+str(year))\n",
        "      soup = BeautifulSoup(wp.text, \"html.parser\")\n",
        "\n",
        "  # 데이터 테이블 접근\n",
        "  row_data = soup.find_all(class_='table table-striped table-responsive table-condensed table-bordered')[0]\n",
        "  row_data_tr = row_data.find_all('tr')[1:]\n",
        "\n",
        "  # 행렬만들기\n",
        "  rawdata_day = np.zeros(len(row_data_tr), dtype=object)\n",
        "  rawdata_vs = np.zeros(len(row_data_tr), dtype=object)\n",
        "  rawdata_inn = np.zeros(len(row_data_tr), dtype=object)\n",
        "  rawdata_pitcher = np.zeros(len(row_data_tr),dtype=object)\n",
        "  rawdata_batter = np.zeros(len(row_data_tr), dtype=object)\n",
        "  rawdata_P = np.zeros(len(row_data_tr), dtype=object)\n",
        "  rawdata_result = np.zeros(len(row_data_tr), dtype=object)\n",
        "  rawdata_before = np.zeros(len(row_data_tr), dtype=object)\n",
        "  rawdata_after = np.zeros(len(row_data_tr), dtype=object)\n",
        "  rawdata_LEV = np.zeros(len(row_data_tr), dtype=object)\n",
        "  rawdata_REa = np.zeros(len(row_data_tr), dtype=object)\n",
        "  rawdata_WPs = np.zeros(len(row_data_tr), dtype=object)\n",
        "  rawdata_WPe = np.zeros(len(row_data_tr), dtype=object)\n",
        "  rawdata_WPa = np.zeros(len(row_data_tr), dtype=object)\n",
        "\n",
        "  # 행 하나씩 접근, 헤더 생략\n",
        "  for tr_index in range(len(row_data_tr)):\n",
        "    rawdata_td_element = [text for text in row_data_tr[tr_index].stripped_strings]\n",
        "    # P 칼럼의 값이 없을때도 있음.\n",
        "    if len(rawdata_td_element) == 14:\n",
        "      rawdata_td_element.insert(6,\"\")\n",
        "    \n",
        "    # 데이터 입력\n",
        "    rawdata_day[tr_index] = rawdata_td_element[0]\n",
        "    rawdata_vs[tr_index] = rawdata_td_element[1]\n",
        "    rawdata_inn[tr_index] = rawdata_td_element[2]\n",
        "    rawdata_pitcher[tr_index] = rawdata_td_element[3]\n",
        "    rawdata_batter[tr_index] = rawdata_td_element[5]\n",
        "    rawdata_P[tr_index] = rawdata_td_element[6]\n",
        "    rawdata_result[tr_index] = rawdata_td_element[7]\n",
        "    rawdata_before[tr_index] = rawdata_td_element[8]\n",
        "    rawdata_after[tr_index] = rawdata_td_element[9]\n",
        "    rawdata_LEV[tr_index] = rawdata_td_element[10]\n",
        "    rawdata_REa[tr_index] = rawdata_td_element[11]\n",
        "    rawdata_WPs[tr_index] = rawdata_td_element[12]\n",
        "    rawdata_WPe[tr_index] = rawdata_td_element[13]\n",
        "    rawdata_WPa[tr_index] = rawdata_td_element[14]\n",
        "\n",
        "  tmp_data = pd.DataFrame()\n",
        "\n",
        "  # tmp_data는 각 선수마다 데이터를 모은 후 data에 concat 하기 전 임시로 저장\n",
        "  tmp_data['day'] = rawdata_day\n",
        "  tmp_data['vs'] = rawdata_vs\n",
        "  tmp_data['inn'] = rawdata_inn\n",
        "  tmp_data['pitcher'] = rawdata_pitcher\n",
        "  tmp_data['batter'] = rawdata_batter\n",
        "  tmp_data['P'] = rawdata_P\n",
        "  tmp_data['result'] = rawdata_result\n",
        "  tmp_data['before'] = rawdata_before\n",
        "  tmp_data['after'] = rawdata_after\n",
        "  tmp_data['LEV'] = rawdata_LEV\n",
        "  tmp_data['REa'] = rawdata_REa\n",
        "  tmp_data['WPs'] = rawdata_WPs\n",
        "  tmp_data['WPe'] = rawdata_WPe\n",
        "  tmp_data['WPa'] = rawdata_WPa\n",
        "\n",
        "  tmp_data['GYEAR'] = year\n",
        "  tmp_data['PCODE'] = player_pcode\n",
        "  tmp_data['NAME'] = player_name\n",
        "  tmp_data['T_ID'] = player_team\n",
        "  tmp_data['POSITION'] = player_position\n",
        "\n",
        "  # 데이터 쌓기\n",
        "  data = pd.concat([data,tmp_data], ignore_index=True)"
      ],
      "execution_count": 5,
      "outputs": [
        {
          "output_type": "stream",
          "text": [
            "  0%|          | 3/1098 [00:03<18:47,  1.03s/it]"
          ],
          "name": "stderr"
        },
        {
          "output_type": "stream",
          "text": [
            "\n",
            "동명이인 존재 : 이해창\n",
            "이해창 생일 저장\n",
            "기록과 일치하는 선수 찾음\n"
          ],
          "name": "stdout"
        },
        {
          "output_type": "stream",
          "text": [
            "  1%|          | 7/1098 [00:12<31:54,  1.75s/it]"
          ],
          "name": "stderr"
        },
        {
          "output_type": "stream",
          "text": [
            "\n",
            "동명이인 존재 : 이상호\n",
            "이상호 생일 저장\n",
            "기록과 일치하는 선수 찾음\n"
          ],
          "name": "stdout"
        },
        {
          "output_type": "stream",
          "text": [
            "\r  1%|          | 8/1098 [00:17<50:32,  2.78s/it]"
          ],
          "name": "stderr"
        },
        {
          "output_type": "stream",
          "text": [
            "\n",
            "동명이인 존재 : 홍재호\n",
            "홍재호 생일 저장\n",
            "기록과 일치하는 선수 찾음\n"
          ],
          "name": "stdout"
        },
        {
          "output_type": "stream",
          "text": [
            "  2%|▏         | 17/1098 [00:34<28:31,  1.58s/it]"
          ],
          "name": "stderr"
        },
        {
          "output_type": "stream",
          "text": [
            "\n",
            "동명이인 존재 : 정진호\n",
            "정진호 생일 저장\n",
            "기록과 일치하는 선수 찾음\n"
          ],
          "name": "stdout"
        },
        {
          "output_type": "stream",
          "text": [
            "  3%|▎         | 31/1098 [00:56<21:36,  1.22s/it]"
          ],
          "name": "stderr"
        },
        {
          "output_type": "stream",
          "text": [
            "\n",
            "동명이인 존재 : 이원재\n",
            "이원재 생일 저장\n",
            "기록과 일치하는 선수 찾음\n"
          ],
          "name": "stdout"
        },
        {
          "output_type": "stream",
          "text": [
            "  3%|▎         | 36/1098 [01:06<26:46,  1.51s/it]"
          ],
          "name": "stderr"
        },
        {
          "output_type": "stream",
          "text": [
            "\n",
            "동명이인 존재 : 김재현\n",
            "김재현 생일 저장\n",
            "기록과 일치하는 선수 찾음\n"
          ],
          "name": "stdout"
        },
        {
          "output_type": "stream",
          "text": [
            "  5%|▌         | 56/1098 [01:45<22:30,  1.30s/it]"
          ],
          "name": "stderr"
        },
        {
          "output_type": "stream",
          "text": [
            "\n",
            "동명이인 존재 : 이민호\n",
            "이민호 생일 저장\n",
            "기록과 일치하는 선수 찾음\n"
          ],
          "name": "stdout"
        },
        {
          "output_type": "stream",
          "text": [
            "  8%|▊         | 88/1098 [02:32<20:13,  1.20s/it]"
          ],
          "name": "stderr"
        },
        {
          "output_type": "stream",
          "text": [
            "\n",
            "동명이인 존재 : 김재현\n",
            "김재현 생일 저장\n",
            "기록과 일치하는 선수 찾음\n"
          ],
          "name": "stdout"
        },
        {
          "output_type": "stream",
          "text": [
            "  8%|▊         | 92/1098 [02:43<32:09,  1.92s/it]"
          ],
          "name": "stderr"
        },
        {
          "output_type": "stream",
          "text": [
            "\n",
            "동명이인 존재 : 박준태\n",
            "박준태 생일 저장\n",
            "기록과 일치하는 선수 찾음\n"
          ],
          "name": "stdout"
        },
        {
          "output_type": "stream",
          "text": [
            "  9%|▊         | 94/1098 [02:50<40:52,  2.44s/it]"
          ],
          "name": "stderr"
        },
        {
          "output_type": "stream",
          "text": [
            "\n",
            "동명이인 존재 : 박준혁\n",
            "박준혁 생일 저장\n",
            "기록과 일치하는 선수 찾음\n"
          ],
          "name": "stdout"
        },
        {
          "output_type": "stream",
          "text": [
            "\r  9%|▊         | 95/1098 [02:54<51:10,  3.06s/it]"
          ],
          "name": "stderr"
        },
        {
          "output_type": "stream",
          "text": [
            "\n",
            "동명이인 존재 : 김민수\n",
            "김민수 생일 저장\n",
            "기록과 일치하는 선수 찾음\n"
          ],
          "name": "stdout"
        },
        {
          "output_type": "stream",
          "text": [
            "\r  9%|▊         | 96/1098 [03:00<1:06:22,  3.97s/it]"
          ],
          "name": "stderr"
        },
        {
          "output_type": "stream",
          "text": [
            "\n",
            "동명이인 존재 : 조용호\n",
            "조용호 생일 저장\n",
            "기록과 일치하는 선수 찾음\n"
          ],
          "name": "stdout"
        },
        {
          "output_type": "stream",
          "text": [
            "  9%|▉         | 103/1098 [03:11<23:45,  1.43s/it]"
          ],
          "name": "stderr"
        },
        {
          "output_type": "stream",
          "text": [
            "\n",
            "동명이인 존재 : 김민혁\n",
            "김민혁 생일 저장\n",
            "기록과 일치하는 선수 찾음\n"
          ],
          "name": "stdout"
        },
        {
          "output_type": "stream",
          "text": [
            " 11%|█         | 117/1098 [03:30<18:06,  1.11s/it]"
          ],
          "name": "stderr"
        },
        {
          "output_type": "stream",
          "text": [
            "\n",
            "동명이인 존재 : 김성훈\n",
            "김성훈 생일 저장\n",
            "기록과 일치하는 선수 찾음\n"
          ],
          "name": "stdout"
        },
        {
          "output_type": "stream",
          "text": [
            " 11%|█         | 119/1098 [03:35<29:20,  1.80s/it]"
          ],
          "name": "stderr"
        },
        {
          "output_type": "stream",
          "text": [
            "\n",
            "동명이인 존재 : 최원준\n",
            "최원준 생일 저장\n",
            "기록과 일치하는 선수 찾음\n"
          ],
          "name": "stdout"
        },
        {
          "output_type": "stream",
          "text": [
            " 11%|█         | 123/1098 [03:43<25:39,  1.58s/it]"
          ],
          "name": "stderr"
        },
        {
          "output_type": "stream",
          "text": [
            "\n",
            "동명이인 존재 : 이동훈\n",
            "이동훈 생일 저장\n",
            "기록과 일치하는 선수 찾음\n"
          ],
          "name": "stdout"
        },
        {
          "output_type": "stream",
          "text": [
            " 14%|█▍        | 155/1098 [04:32<23:33,  1.50s/it]"
          ],
          "name": "stderr"
        },
        {
          "output_type": "stream",
          "text": [
            "\n",
            "동명이인 존재 : 가르시아\n",
            "가르시아 생일 저장\n",
            "기록과 일치하는 선수 찾음\n"
          ],
          "name": "stdout"
        },
        {
          "output_type": "stream",
          "text": [
            " 16%|█▌        | 176/1098 [05:05<27:49,  1.81s/it]"
          ],
          "name": "stderr"
        },
        {
          "output_type": "stream",
          "text": [
            "\n",
            "동명이인 존재 : 김태균\n",
            "김태균 생일 저장\n",
            "기록과 일치하는 선수 찾음\n"
          ],
          "name": "stdout"
        },
        {
          "output_type": "stream",
          "text": [
            " 18%|█▊        | 196/1098 [05:40<25:56,  1.73s/it]"
          ],
          "name": "stderr"
        },
        {
          "output_type": "stream",
          "text": [
            "\n",
            "동명이인 존재 : 윤석민\n",
            "윤석민 생일 저장\n",
            "기록과 일치하는 선수 찾음\n"
          ],
          "name": "stdout"
        },
        {
          "output_type": "stream",
          "text": [
            " 18%|█▊        | 200/1098 [05:52<39:07,  2.61s/it]"
          ],
          "name": "stderr"
        },
        {
          "output_type": "stream",
          "text": [
            "\n",
            "동명이인 존재 : 김주형\n",
            "김주형 생일 저장\n",
            "기록과 일치하는 선수 찾음\n"
          ],
          "name": "stdout"
        },
        {
          "output_type": "stream",
          "text": [
            " 19%|█▊        | 204/1098 [06:01<29:13,  1.96s/it]"
          ],
          "name": "stderr"
        },
        {
          "output_type": "stream",
          "text": [
            "\n",
            "동명이인 존재 : 박병호\n",
            "박병호 생일 저장\n",
            "기록과 일치하는 선수 찾음\n"
          ],
          "name": "stdout"
        },
        {
          "output_type": "stream",
          "text": [
            " 19%|█▉        | 207/1098 [06:10<34:47,  2.34s/it]"
          ],
          "name": "stderr"
        },
        {
          "output_type": "stream",
          "text": [
            "\n",
            "동명이인 존재 : 이원석\n",
            "이원석 생일 저장\n",
            "기록과 일치하는 선수 찾음\n"
          ],
          "name": "stdout"
        },
        {
          "output_type": "stream",
          "text": [
            " 19%|█▉        | 210/1098 [06:18<37:28,  2.53s/it]"
          ],
          "name": "stderr"
        },
        {
          "output_type": "stream",
          "text": [
            "\n",
            "동명이인 존재 : 이병규\n",
            "이병규 생일 저장\n",
            "기록과 일치하는 선수 찾음\n"
          ],
          "name": "stdout"
        },
        {
          "output_type": "stream",
          "text": [
            " 20%|█▉        | 215/1098 [06:31<34:27,  2.34s/it]"
          ],
          "name": "stderr"
        },
        {
          "output_type": "stream",
          "text": [
            "\n",
            "동명이인 존재 : 김현수\n",
            "김현수 생일 저장\n",
            "기록과 일치하는 선수 찾음\n"
          ],
          "name": "stdout"
        },
        {
          "output_type": "stream",
          "text": [
            " 20%|██        | 220/1098 [06:41<26:16,  1.80s/it]"
          ],
          "name": "stderr"
        },
        {
          "output_type": "stream",
          "text": [
            "\n",
            "동명이인 존재 : 김태완\n",
            "김태완 생일 저장\n",
            "기록과 일치하는 선수 찾음\n"
          ],
          "name": "stdout"
        },
        {
          "output_type": "stream",
          "text": [
            " 20%|██        | 222/1098 [06:47<32:45,  2.24s/it]"
          ],
          "name": "stderr"
        },
        {
          "output_type": "stream",
          "text": [
            "\n",
            "동명이인 존재 : 김성현\n",
            "김성현 생일 저장\n",
            "기록과 일치하는 선수 찾음\n"
          ],
          "name": "stdout"
        },
        {
          "output_type": "stream",
          "text": [
            "\r 20%|██        | 223/1098 [06:51<43:09,  2.96s/it]"
          ],
          "name": "stderr"
        },
        {
          "output_type": "stream",
          "text": [
            "\n",
            "동명이인 존재 : 이재원\n",
            "이재원 생일 저장\n",
            "기록과 일치하는 선수 찾음\n"
          ],
          "name": "stdout"
        },
        {
          "output_type": "stream",
          "text": [
            "\r 20%|██        | 224/1098 [06:56<49:04,  3.37s/it]"
          ],
          "name": "stderr"
        },
        {
          "output_type": "stream",
          "text": [
            "\n",
            "동명이인 존재 : 이명기\n",
            "이명기 생일 저장\n",
            "기록과 일치하는 선수 찾음\n"
          ],
          "name": "stdout"
        },
        {
          "output_type": "stream",
          "text": [
            "\r 20%|██        | 225/1098 [07:00<53:27,  3.67s/it]"
          ],
          "name": "stderr"
        },
        {
          "output_type": "stream",
          "text": [
            "\n",
            "동명이인 존재 : 김재현\n",
            "김재현 생일 저장\n",
            "기록과 일치하는 선수 찾음\n"
          ],
          "name": "stdout"
        },
        {
          "output_type": "stream",
          "text": [
            " 22%|██▏       | 240/1098 [07:28<22:53,  1.60s/it]"
          ],
          "name": "stderr"
        },
        {
          "output_type": "stream",
          "text": [
            "\n",
            "동명이인 존재 : 이영욱\n",
            "이영욱 생일 저장\n",
            "기록과 일치하는 선수 찾음\n"
          ],
          "name": "stdout"
        },
        {
          "output_type": "stream",
          "text": [
            " 23%|██▎       | 257/1098 [07:57<20:30,  1.46s/it]"
          ],
          "name": "stderr"
        },
        {
          "output_type": "stream",
          "text": [
            "\n",
            "동명이인 존재 : 박건우\n",
            "박건우 생일 저장\n",
            "기록과 일치하는 선수 찾음\n"
          ],
          "name": "stdout"
        },
        {
          "output_type": "stream",
          "text": [
            " 24%|██▍       | 261/1098 [08:06<24:37,  1.76s/it]"
          ],
          "name": "stderr"
        },
        {
          "output_type": "stream",
          "text": [
            "\n",
            "동명이인 존재 : 김지수\n",
            "김지수 생일 저장\n",
            "기록과 일치하는 선수 찾음\n"
          ],
          "name": "stdout"
        },
        {
          "output_type": "stream",
          "text": [
            " 24%|██▍       | 264/1098 [08:12<25:08,  1.81s/it]"
          ],
          "name": "stderr"
        },
        {
          "output_type": "stream",
          "text": [
            "\n",
            "동명이인 존재 : 김종민\n",
            "김종민 생일 저장\n",
            "기록과 일치하는 선수 찾음\n"
          ],
          "name": "stdout"
        },
        {
          "output_type": "stream",
          "text": [
            " 24%|██▍       | 266/1098 [08:17<29:37,  2.14s/it]"
          ],
          "name": "stderr"
        },
        {
          "output_type": "stream",
          "text": [
            "\n",
            "동명이인 존재 : 김상수\n",
            "김상수 생일 저장\n",
            "기록과 일치하는 선수 찾음\n"
          ],
          "name": "stdout"
        },
        {
          "output_type": "stream",
          "text": [
            " 25%|██▍       | 273/1098 [08:30<21:50,  1.59s/it]"
          ],
          "name": "stderr"
        },
        {
          "output_type": "stream",
          "text": [
            "\n",
            "동명이인 존재 : 정성훈\n",
            "정성훈 생일 저장\n",
            "기록과 일치하는 선수 찾음\n"
          ],
          "name": "stdout"
        },
        {
          "output_type": "stream",
          "text": [
            "\r 25%|██▍       | 274/1098 [08:34<31:41,  2.31s/it]"
          ],
          "name": "stderr"
        },
        {
          "output_type": "stream",
          "text": [
            "\n",
            "동명이인 존재 : 이진영\n",
            "이진영 생일 저장\n",
            "기록과 일치하는 선수 찾음\n"
          ],
          "name": "stdout"
        },
        {
          "output_type": "stream",
          "text": [
            " 25%|██▌       | 278/1098 [08:41<21:59,  1.61s/it]"
          ],
          "name": "stderr"
        },
        {
          "output_type": "stream",
          "text": [
            "\n",
            "동명이인 존재 : 이해창\n",
            "생일로 찾음\n"
          ],
          "name": "stdout"
        },
        {
          "output_type": "stream",
          "text": [
            " 26%|██▌       | 281/1098 [08:45<18:50,  1.38s/it]"
          ],
          "name": "stderr"
        },
        {
          "output_type": "stream",
          "text": [
            "\n",
            "동명이인 존재 : 이상호\n",
            "생일로 찾음\n"
          ],
          "name": "stdout"
        },
        {
          "output_type": "stream",
          "text": [
            "\r 26%|██▌       | 282/1098 [08:47<22:01,  1.62s/it]"
          ],
          "name": "stderr"
        },
        {
          "output_type": "stream",
          "text": [
            "\n",
            "동명이인 존재 : 홍재호\n",
            "생일로 찾음\n"
          ],
          "name": "stdout"
        },
        {
          "output_type": "stream",
          "text": [
            " 27%|██▋       | 291/1098 [09:00<20:00,  1.49s/it]"
          ],
          "name": "stderr"
        },
        {
          "output_type": "stream",
          "text": [
            "\n",
            "동명이인 존재 : 정진호\n",
            "생일로 찾음\n"
          ],
          "name": "stdout"
        },
        {
          "output_type": "stream",
          "text": [
            " 27%|██▋       | 300/1098 [09:13<15:18,  1.15s/it]"
          ],
          "name": "stderr"
        },
        {
          "output_type": "stream",
          "text": [
            "\n",
            "동명이인 존재 : 이원재\n",
            "생일로 찾음\n"
          ],
          "name": "stdout"
        },
        {
          "output_type": "stream",
          "text": [
            " 32%|███▏      | 349/1098 [10:19<17:12,  1.38s/it]"
          ],
          "name": "stderr"
        },
        {
          "output_type": "stream",
          "text": [
            "\n",
            "동명이인 존재 : 김민혁\n",
            "김민혁 생일 저장\n",
            "기록과 일치하는 선수 찾음\n"
          ],
          "name": "stdout"
        },
        {
          "output_type": "stream",
          "text": [
            " 33%|███▎      | 359/1098 [10:34<14:11,  1.15s/it]"
          ],
          "name": "stderr"
        },
        {
          "output_type": "stream",
          "text": [
            "\n",
            "동명이인 존재 : 김경호\n",
            "김경호 생일 저장\n",
            "기록과 일치하는 선수 찾음\n"
          ],
          "name": "stdout"
        },
        {
          "output_type": "stream",
          "text": [
            " 34%|███▎      | 369/1098 [10:50<14:45,  1.21s/it]"
          ],
          "name": "stderr"
        },
        {
          "output_type": "stream",
          "text": [
            "\n",
            "동명이인 존재 : 김재현\n",
            "생일로 찾음\n"
          ],
          "name": "stdout"
        },
        {
          "output_type": "stream",
          "text": [
            " 34%|███▍      | 373/1098 [10:57<19:15,  1.59s/it]"
          ],
          "name": "stderr"
        },
        {
          "output_type": "stream",
          "text": [
            "\n",
            "동명이인 존재 : 박찬호\n",
            "박찬호 생일 저장\n",
            "기록과 일치하는 선수 찾음\n"
          ],
          "name": "stdout"
        },
        {
          "output_type": "stream",
          "text": [
            "\r 34%|███▍      | 374/1098 [11:02<32:24,  2.69s/it]"
          ],
          "name": "stderr"
        },
        {
          "output_type": "stream",
          "text": [
            "\n",
            "동명이인 존재 : 박준태\n",
            "생일로 찾음\n"
          ],
          "name": "stdout"
        },
        {
          "output_type": "stream",
          "text": [
            " 34%|███▍      | 377/1098 [11:06<20:47,  1.73s/it]"
          ],
          "name": "stderr"
        },
        {
          "output_type": "stream",
          "text": [
            "\n",
            "동명이인 존재 : 박준혁\n",
            "생일로 찾음\n"
          ],
          "name": "stdout"
        },
        {
          "output_type": "stream",
          "text": [
            "\r 34%|███▍      | 378/1098 [11:07<20:05,  1.67s/it]"
          ],
          "name": "stderr"
        },
        {
          "output_type": "stream",
          "text": [
            "\n",
            "동명이인 존재 : 김민수\n",
            "생일로 찾음\n"
          ],
          "name": "stdout"
        },
        {
          "output_type": "stream",
          "text": [
            " 35%|███▍      | 380/1098 [11:10<17:40,  1.48s/it]"
          ],
          "name": "stderr"
        },
        {
          "output_type": "stream",
          "text": [
            "\n",
            "동명이인 존재 : 조용호\n",
            "생일로 찾음\n"
          ],
          "name": "stdout"
        },
        {
          "output_type": "stream",
          "text": [
            " 35%|███▌      | 385/1098 [11:18<17:34,  1.48s/it]"
          ],
          "name": "stderr"
        },
        {
          "output_type": "stream",
          "text": [
            "\n",
            "동명이인 존재 : 김재성\n",
            "김재성 생일 저장\n",
            "기록과 일치하는 선수 찾음\n"
          ],
          "name": "stdout"
        },
        {
          "output_type": "stream",
          "text": [
            " 36%|███▌      | 398/1098 [11:37<12:46,  1.09s/it]"
          ],
          "name": "stderr"
        },
        {
          "output_type": "stream",
          "text": [
            "\n",
            "동명이인 존재 : 최승민\n",
            "최승민 생일 저장\n",
            "기록과 일치하는 선수 찾음\n"
          ],
          "name": "stdout"
        },
        {
          "output_type": "stream",
          "text": [
            " 37%|███▋      | 404/1098 [11:46<13:11,  1.14s/it]"
          ],
          "name": "stderr"
        },
        {
          "output_type": "stream",
          "text": [
            "\n",
            "동명이인 존재 : 김성훈\n",
            "생일로 찾음\n"
          ],
          "name": "stdout"
        },
        {
          "output_type": "stream",
          "text": [
            " 37%|███▋      | 407/1098 [11:49<13:28,  1.17s/it]"
          ],
          "name": "stderr"
        },
        {
          "output_type": "stream",
          "text": [
            "\n",
            "동명이인 존재 : 최원준\n",
            "생일로 찾음\n"
          ],
          "name": "stdout"
        },
        {
          "output_type": "stream",
          "text": [
            " 37%|███▋      | 409/1098 [11:53<16:09,  1.41s/it]"
          ],
          "name": "stderr"
        },
        {
          "output_type": "stream",
          "text": [
            "\n",
            "동명이인 존재 : 이진영\n",
            "이진영 생일 저장\n",
            "기록과 일치하는 선수 찾음\n"
          ],
          "name": "stdout"
        },
        {
          "output_type": "stream",
          "text": [
            " 37%|███▋      | 411/1098 [11:58<22:22,  1.95s/it]"
          ],
          "name": "stderr"
        },
        {
          "output_type": "stream",
          "text": [
            "\n",
            "동명이인 존재 : 이동훈\n",
            "생일로 찾음\n"
          ],
          "name": "stdout"
        },
        {
          "output_type": "stream",
          "text": [
            " 38%|███▊      | 421/1098 [12:12<17:29,  1.55s/it]"
          ],
          "name": "stderr"
        },
        {
          "output_type": "stream",
          "text": [
            "\n",
            "동명이인 존재 : 전준호\n",
            "전준호 생일 저장\n",
            "기록과 일치하는 선수 찾음\n"
          ],
          "name": "stdout"
        },
        {
          "output_type": "stream",
          "text": [
            " 39%|███▉      | 427/1098 [12:26<23:50,  2.13s/it]"
          ],
          "name": "stderr"
        },
        {
          "output_type": "stream",
          "text": [
            "\n",
            "동명이인 존재 : 김민수\n",
            "김민수 생일 저장\n",
            "기록과 일치하는 선수 찾음\n"
          ],
          "name": "stdout"
        },
        {
          "output_type": "stream",
          "text": [
            " 39%|███▉      | 429/1098 [12:31<23:37,  2.12s/it]"
          ],
          "name": "stderr"
        },
        {
          "output_type": "stream",
          "text": [
            "\n",
            "동명이인 존재 : 이정훈\n",
            "이정훈 생일 저장\n",
            "기록과 일치하는 선수 찾음\n"
          ],
          "name": "stdout"
        },
        {
          "output_type": "stream",
          "text": [
            " 40%|████      | 442/1098 [12:54<12:32,  1.15s/it]"
          ],
          "name": "stderr"
        },
        {
          "output_type": "stream",
          "text": [
            "\n",
            "동명이인 존재 : 이원석\n",
            "이원석 생일 저장\n",
            "기록과 일치하는 선수 찾음\n"
          ],
          "name": "stdout"
        },
        {
          "output_type": "stream",
          "text": [
            " 41%|████      | 450/1098 [13:07<13:37,  1.26s/it]"
          ],
          "name": "stderr"
        },
        {
          "output_type": "stream",
          "text": [
            "\n",
            "동명이인 존재 : 박민석\n",
            "박민석 생일 저장\n",
            "기록과 일치하는 선수 찾음\n"
          ],
          "name": "stdout"
        },
        {
          "output_type": "stream",
          "text": [
            " 41%|████▏     | 455/1098 [13:17<16:25,  1.53s/it]"
          ],
          "name": "stderr"
        },
        {
          "output_type": "stream",
          "text": [
            "\n",
            "동명이인 존재 : 페르난데스\n",
            "페르난데스 생일 저장\n",
            "기록과 일치하는 선수 찾음\n"
          ],
          "name": "stdout"
        },
        {
          "output_type": "stream",
          "text": [
            " 42%|████▏     | 457/1098 [13:23<20:42,  1.94s/it]"
          ],
          "name": "stderr"
        },
        {
          "output_type": "stream",
          "text": [
            "\n",
            "동명이인 존재 : 김주형\n",
            "김주형 생일 저장\n",
            "기록과 일치하는 선수 찾음\n"
          ],
          "name": "stdout"
        },
        {
          "output_type": "stream",
          "text": [
            " 42%|████▏     | 466/1098 [13:36<15:01,  1.43s/it]"
          ],
          "name": "stderr"
        },
        {
          "output_type": "stream",
          "text": [
            "\n",
            "동명이인 존재 : 윌슨\n",
            "윌슨 생일 저장\n",
            "기록과 일치하는 선수 찾음\n"
          ],
          "name": "stdout"
        },
        {
          "output_type": "stream",
          "text": [
            " 43%|████▎     | 476/1098 [13:51<11:49,  1.14s/it]"
          ],
          "name": "stderr"
        },
        {
          "output_type": "stream",
          "text": [
            "\n",
            "동명이인 존재 : 김성민\n",
            "김성민 생일 저장\n",
            "기록과 일치하는 선수 찾음\n"
          ],
          "name": "stdout"
        },
        {
          "output_type": "stream",
          "text": [
            " 44%|████▍     | 484/1098 [14:08<17:39,  1.73s/it]"
          ],
          "name": "stderr"
        },
        {
          "output_type": "stream",
          "text": [
            "\n",
            "동명이인 존재 : 김태균\n",
            "생일로 찾음\n"
          ],
          "name": "stdout"
        },
        {
          "output_type": "stream",
          "text": [
            " 45%|████▌     | 498/1098 [14:33<17:33,  1.76s/it]"
          ],
          "name": "stderr"
        },
        {
          "output_type": "stream",
          "text": [
            "\n",
            "동명이인 존재 : 윤석민\n",
            "생일로 찾음\n"
          ],
          "name": "stdout"
        },
        {
          "output_type": "stream",
          "text": [
            " 46%|████▌     | 504/1098 [14:44<15:39,  1.58s/it]"
          ],
          "name": "stderr"
        },
        {
          "output_type": "stream",
          "text": [
            "\n",
            "동명이인 존재 : 박병호\n",
            "생일로 찾음\n"
          ],
          "name": "stdout"
        },
        {
          "output_type": "stream",
          "text": [
            " 46%|████▌     | 507/1098 [14:51<19:42,  2.00s/it]"
          ],
          "name": "stderr"
        },
        {
          "output_type": "stream",
          "text": [
            "\n",
            "동명이인 존재 : 이원석\n",
            "생일로 찾음\n"
          ],
          "name": "stdout"
        },
        {
          "output_type": "stream",
          "text": [
            " 46%|████▋     | 510/1098 [14:58<21:04,  2.15s/it]"
          ],
          "name": "stderr"
        },
        {
          "output_type": "stream",
          "text": [
            "\n",
            "동명이인 존재 : 이병규\n",
            "생일로 찾음\n"
          ],
          "name": "stdout"
        },
        {
          "output_type": "stream",
          "text": [
            " 47%|████▋     | 515/1098 [15:06<17:43,  1.82s/it]"
          ],
          "name": "stderr"
        },
        {
          "output_type": "stream",
          "text": [
            "\n",
            "동명이인 존재 : 김현수\n",
            "생일로 찾음\n"
          ],
          "name": "stdout"
        },
        {
          "output_type": "stream",
          "text": [
            " 47%|████▋     | 521/1098 [15:17<16:20,  1.70s/it]"
          ],
          "name": "stderr"
        },
        {
          "output_type": "stream",
          "text": [
            "\n",
            "동명이인 존재 : 김성현\n",
            "생일로 찾음\n"
          ],
          "name": "stdout"
        },
        {
          "output_type": "stream",
          "text": [
            "\r 48%|████▊     | 522/1098 [15:20<18:57,  1.98s/it]"
          ],
          "name": "stderr"
        },
        {
          "output_type": "stream",
          "text": [
            "\n",
            "동명이인 존재 : 이재원\n",
            "생일로 찾음\n"
          ],
          "name": "stdout"
        },
        {
          "output_type": "stream",
          "text": [
            "\r 48%|████▊     | 523/1098 [15:22<21:08,  2.21s/it]"
          ],
          "name": "stderr"
        },
        {
          "output_type": "stream",
          "text": [
            "\n",
            "동명이인 존재 : 이명기\n",
            "생일로 찾음\n"
          ],
          "name": "stdout"
        },
        {
          "output_type": "stream",
          "text": [
            "\r 48%|████▊     | 524/1098 [15:25<23:04,  2.41s/it]"
          ],
          "name": "stderr"
        },
        {
          "output_type": "stream",
          "text": [
            "\n",
            "동명이인 존재 : 김재현\n",
            "생일로 찾음\n"
          ],
          "name": "stdout"
        },
        {
          "output_type": "stream",
          "text": [
            " 50%|█████     | 551/1098 [16:13<15:19,  1.68s/it]"
          ],
          "name": "stderr"
        },
        {
          "output_type": "stream",
          "text": [
            "\n",
            "동명이인 존재 : 박건우\n",
            "생일로 찾음\n"
          ],
          "name": "stdout"
        },
        {
          "output_type": "stream",
          "text": [
            " 51%|█████     | 556/1098 [16:23<15:36,  1.73s/it]"
          ],
          "name": "stderr"
        },
        {
          "output_type": "stream",
          "text": [
            "\n",
            "동명이인 존재 : 김지수\n",
            "생일로 찾음\n"
          ],
          "name": "stdout"
        },
        {
          "output_type": "stream",
          "text": [
            " 51%|█████     | 558/1098 [16:27<15:58,  1.77s/it]"
          ],
          "name": "stderr"
        },
        {
          "output_type": "stream",
          "text": [
            "\n",
            "동명이인 존재 : 김종민\n",
            "생일로 찾음\n"
          ],
          "name": "stdout"
        },
        {
          "output_type": "stream",
          "text": [
            " 51%|█████     | 560/1098 [16:31<16:15,  1.81s/it]"
          ],
          "name": "stderr"
        },
        {
          "output_type": "stream",
          "text": [
            "\n",
            "동명이인 존재 : 김상수\n",
            "생일로 찾음\n"
          ],
          "name": "stdout"
        },
        {
          "output_type": "stream",
          "text": [
            " 52%|█████▏    | 566/1098 [16:43<15:38,  1.76s/it]"
          ],
          "name": "stderr"
        },
        {
          "output_type": "stream",
          "text": [
            "\n",
            "동명이인 존재 : 천성호\n"
          ],
          "name": "stdout"
        },
        {
          "output_type": "stream",
          "text": [
            "\r 52%|█████▏    | 567/1098 [16:45<18:27,  2.09s/it]"
          ],
          "name": "stderr"
        },
        {
          "output_type": "stream",
          "text": [
            "기록과 일치하는 선수 못찾음\n"
          ],
          "name": "stdout"
        },
        {
          "output_type": "stream",
          "text": [
            " 52%|█████▏    | 571/1098 [16:51<13:39,  1.56s/it]"
          ],
          "name": "stderr"
        },
        {
          "output_type": "stream",
          "text": [
            "\n",
            "동명이인 존재 : 박지훈\n",
            "박지훈 생일 저장\n",
            "기록과 일치하는 선수 찾음\n"
          ],
          "name": "stdout"
        },
        {
          "output_type": "stream",
          "text": [
            " 53%|█████▎    | 577/1098 [17:01<12:43,  1.47s/it]"
          ],
          "name": "stderr"
        },
        {
          "output_type": "stream",
          "text": [
            "\n",
            "동명이인 존재 : 박주홍\n",
            "박주홍 생일 저장\n",
            "기록과 일치하는 선수 찾음\n"
          ],
          "name": "stdout"
        },
        {
          "output_type": "stream",
          "text": [
            " 53%|█████▎    | 587/1098 [17:17<11:59,  1.41s/it]"
          ],
          "name": "stderr"
        },
        {
          "output_type": "stream",
          "text": [
            "\n",
            "동명이인 존재 : 박정현\n",
            "박정현 생일 저장\n",
            "기록과 일치하는 선수 찾음\n"
          ],
          "name": "stdout"
        },
        {
          "output_type": "stream",
          "text": [
            " 54%|█████▎    | 589/1098 [17:23<17:50,  2.10s/it]"
          ],
          "name": "stderr"
        },
        {
          "output_type": "stream",
          "text": [
            "\n",
            "동명이인 존재 : 화이트\n",
            "화이트 생일 저장\n",
            "기록과 일치하는 선수 찾음\n"
          ],
          "name": "stdout"
        },
        {
          "output_type": "stream",
          "text": [
            " 54%|█████▍    | 591/1098 [17:28<18:21,  2.17s/it]"
          ],
          "name": "stderr"
        },
        {
          "output_type": "stream",
          "text": [
            "\n",
            "동명이인 존재 : 김성민\n",
            "김성민 생일 저장\n",
            "기록과 일치하는 선수 찾음\n"
          ],
          "name": "stdout"
        },
        {
          "output_type": "stream",
          "text": [
            " 54%|█████▍    | 597/1098 [17:40<13:35,  1.63s/it]"
          ],
          "name": "stderr"
        },
        {
          "output_type": "stream",
          "text": [
            "\n",
            "동명이인 존재 : 이해창\n",
            "생일로 찾음\n"
          ],
          "name": "stdout"
        },
        {
          "output_type": "stream",
          "text": [
            " 55%|█████▍    | 600/1098 [17:45<15:08,  1.82s/it]"
          ],
          "name": "stderr"
        },
        {
          "output_type": "stream",
          "text": [
            "\n",
            "동명이인 존재 : 이상호\n",
            "생일로 찾음\n"
          ],
          "name": "stdout"
        },
        {
          "output_type": "stream",
          "text": [
            " 55%|█████▌    | 605/1098 [17:54<13:18,  1.62s/it]"
          ],
          "name": "stderr"
        },
        {
          "output_type": "stream",
          "text": [
            "\n",
            "동명이인 존재 : 정진호\n",
            "생일로 찾음\n"
          ],
          "name": "stdout"
        },
        {
          "output_type": "stream",
          "text": [
            " 56%|█████▌    | 613/1098 [18:07<12:17,  1.52s/it]"
          ],
          "name": "stderr"
        },
        {
          "output_type": "stream",
          "text": [
            "\n",
            "동명이인 존재 : 이원재\n",
            "생일로 찾음\n"
          ],
          "name": "stdout"
        },
        {
          "output_type": "stream",
          "text": [
            " 56%|█████▌    | 617/1098 [18:14<14:18,  1.79s/it]"
          ],
          "name": "stderr"
        },
        {
          "output_type": "stream",
          "text": [
            "\n",
            "동명이인 존재 : 김재현\n",
            "생일로 찾음\n"
          ],
          "name": "stdout"
        },
        {
          "output_type": "stream",
          "text": [
            " 60%|█████▉    | 658/1098 [19:17<11:19,  1.54s/it]"
          ],
          "name": "stderr"
        },
        {
          "output_type": "stream",
          "text": [
            "\n",
            "동명이인 존재 : 김민혁\n",
            "생일로 찾음\n"
          ],
          "name": "stdout"
        },
        {
          "output_type": "stream",
          "text": [
            " 61%|██████    | 671/1098 [19:38<09:56,  1.40s/it]"
          ],
          "name": "stderr"
        },
        {
          "output_type": "stream",
          "text": [
            "\n",
            "동명이인 존재 : 김경호\n",
            "생일로 찾음\n"
          ],
          "name": "stdout"
        },
        {
          "output_type": "stream",
          "text": [
            " 62%|██████▏   | 680/1098 [19:51<09:14,  1.33s/it]"
          ],
          "name": "stderr"
        },
        {
          "output_type": "stream",
          "text": [
            "\n",
            "동명이인 존재 : 김재현\n",
            "생일로 찾음\n"
          ],
          "name": "stdout"
        },
        {
          "output_type": "stream",
          "text": [
            " 62%|██████▏   | 685/1098 [19:59<12:01,  1.75s/it]"
          ],
          "name": "stderr"
        },
        {
          "output_type": "stream",
          "text": [
            "\n",
            "동명이인 존재 : 박찬호\n",
            "생일로 찾음\n"
          ],
          "name": "stdout"
        },
        {
          "output_type": "stream",
          "text": [
            "\r 62%|██████▏   | 686/1098 [20:02<14:12,  2.07s/it]"
          ],
          "name": "stderr"
        },
        {
          "output_type": "stream",
          "text": [
            "\n",
            "동명이인 존재 : 박준태\n",
            "생일로 찾음\n"
          ],
          "name": "stdout"
        },
        {
          "output_type": "stream",
          "text": [
            " 63%|██████▎   | 689/1098 [20:07<11:36,  1.70s/it]"
          ],
          "name": "stderr"
        },
        {
          "output_type": "stream",
          "text": [
            "\n",
            "동명이인 존재 : 김민수\n",
            "생일로 찾음\n"
          ],
          "name": "stdout"
        },
        {
          "output_type": "stream",
          "text": [
            "\r 63%|██████▎   | 690/1098 [20:09<11:32,  1.70s/it]"
          ],
          "name": "stderr"
        },
        {
          "output_type": "stream",
          "text": [
            "\n",
            "동명이인 존재 : 조용호\n",
            "생일로 찾음\n"
          ],
          "name": "stdout"
        },
        {
          "output_type": "stream",
          "text": [
            " 63%|██████▎   | 694/1098 [20:16<11:19,  1.68s/it]"
          ],
          "name": "stderr"
        },
        {
          "output_type": "stream",
          "text": [
            "\n",
            "동명이인 존재 : 김태훈\n",
            "김태훈 생일 저장\n",
            "기록과 일치하는 선수 찾음\n"
          ],
          "name": "stdout"
        },
        {
          "output_type": "stream",
          "text": [
            " 64%|██████▍   | 702/1098 [20:30<09:24,  1.43s/it]"
          ],
          "name": "stderr"
        },
        {
          "output_type": "stream",
          "text": [
            "\n",
            "동명이인 존재 : 김기환\n",
            "김기환 생일 저장\n",
            "기록과 일치하는 선수 찾음\n"
          ],
          "name": "stdout"
        },
        {
          "output_type": "stream",
          "text": [
            " 64%|██████▍   | 704/1098 [20:35<11:07,  1.69s/it]"
          ],
          "name": "stderr"
        },
        {
          "output_type": "stream",
          "text": [
            "\n",
            "동명이인 존재 : 김지수\n",
            "김지수 생일 저장\n",
            "기록과 일치하는 선수 찾음\n"
          ],
          "name": "stdout"
        },
        {
          "output_type": "stream",
          "text": [
            " 66%|██████▌   | 722/1098 [21:02<09:13,  1.47s/it]"
          ],
          "name": "stderr"
        },
        {
          "output_type": "stream",
          "text": [
            "\n",
            "동명이인 존재 : 최원준\n",
            "생일로 찾음\n"
          ],
          "name": "stdout"
        },
        {
          "output_type": "stream",
          "text": [
            " 66%|██████▌   | 724/1098 [21:06<10:43,  1.72s/it]"
          ],
          "name": "stderr"
        },
        {
          "output_type": "stream",
          "text": [
            "\n",
            "동명이인 존재 : 이진영\n",
            "생일로 찾음\n"
          ],
          "name": "stdout"
        },
        {
          "output_type": "stream",
          "text": [
            "\r 66%|██████▌   | 725/1098 [21:08<10:40,  1.72s/it]"
          ],
          "name": "stderr"
        },
        {
          "output_type": "stream",
          "text": [
            "\n",
            "동명이인 존재 : 이동훈\n",
            "생일로 찾음\n"
          ],
          "name": "stdout"
        },
        {
          "output_type": "stream",
          "text": [
            " 66%|██████▋   | 730/1098 [21:15<09:30,  1.55s/it]"
          ],
          "name": "stderr"
        },
        {
          "output_type": "stream",
          "text": [
            "\n",
            "동명이인 존재 : 박준영\n",
            "박준영 생일 저장\n",
            "기록과 일치하는 선수 찾음\n"
          ],
          "name": "stdout"
        },
        {
          "output_type": "stream",
          "text": [
            " 67%|██████▋   | 740/1098 [21:34<10:22,  1.74s/it]"
          ],
          "name": "stderr"
        },
        {
          "output_type": "stream",
          "text": [
            "\n",
            "동명이인 존재 : 김민수\n",
            "생일로 찾음\n"
          ],
          "name": "stdout"
        },
        {
          "output_type": "stream",
          "text": [
            "\r 67%|██████▋   | 741/1098 [21:36<10:17,  1.73s/it]"
          ],
          "name": "stderr"
        },
        {
          "output_type": "stream",
          "text": [
            "\n",
            "동명이인 존재 : 이정훈\n",
            "생일로 찾음\n"
          ],
          "name": "stdout"
        },
        {
          "output_type": "stream",
          "text": [
            " 68%|██████▊   | 744/1098 [21:41<10:23,  1.76s/it]"
          ],
          "name": "stderr"
        },
        {
          "output_type": "stream",
          "text": [
            "\n",
            "동명이인 존재 : 박준혁\n",
            "박준혁 생일 저장\n",
            "기록과 일치하는 선수 찾음\n"
          ],
          "name": "stdout"
        },
        {
          "output_type": "stream",
          "text": [
            " 68%|██████▊   | 746/1098 [21:47<13:25,  2.29s/it]"
          ],
          "name": "stderr"
        },
        {
          "output_type": "stream",
          "text": [
            "\n",
            "동명이인 존재 : 이재원\n"
          ],
          "name": "stdout"
        },
        {
          "output_type": "stream",
          "text": [
            "\r 68%|██████▊   | 747/1098 [21:50<14:49,  2.53s/it]"
          ],
          "name": "stderr"
        },
        {
          "output_type": "stream",
          "text": [
            "기록과 일치하는 선수 못찾음\n"
          ],
          "name": "stdout"
        },
        {
          "output_type": "stream",
          "text": [
            "\r 68%|██████▊   | 748/1098 [21:51<12:24,  2.13s/it]"
          ],
          "name": "stderr"
        },
        {
          "output_type": "stream",
          "text": [
            "\n",
            "동명이인 존재 : 이승민\n",
            "이승민 생일 저장\n",
            "기록과 일치하는 선수 찾음\n"
          ],
          "name": "stdout"
        },
        {
          "output_type": "stream",
          "text": [
            " 69%|██████▉   | 755/1098 [22:03<09:41,  1.70s/it]"
          ],
          "name": "stderr"
        },
        {
          "output_type": "stream",
          "text": [
            "\n",
            "동명이인 존재 : 김진욱\n",
            "김진욱 생일 저장\n",
            "기록과 일치하는 선수 찾음\n"
          ],
          "name": "stdout"
        },
        {
          "output_type": "stream",
          "text": [
            " 69%|██████▉   | 761/1098 [22:15<10:11,  1.81s/it]"
          ],
          "name": "stderr"
        },
        {
          "output_type": "stream",
          "text": [
            "\n",
            "동명이인 존재 : 페르난데스\n",
            "생일로 찾음\n"
          ],
          "name": "stdout"
        },
        {
          "output_type": "stream",
          "text": [
            "\r 69%|██████▉   | 762/1098 [22:18<12:26,  2.22s/it]"
          ],
          "name": "stderr"
        },
        {
          "output_type": "stream",
          "text": [
            "\n",
            "동명이인 존재 : 김주형\n",
            "생일로 찾음\n"
          ],
          "name": "stdout"
        },
        {
          "output_type": "stream",
          "text": [
            " 70%|███████   | 771/1098 [22:31<09:17,  1.70s/it]"
          ],
          "name": "stderr"
        },
        {
          "output_type": "stream",
          "text": [
            "\n",
            "동명이인 존재 : 김현민\n",
            "김현민 생일 저장\n",
            "기록과 일치하는 선수 찾음\n"
          ],
          "name": "stdout"
        },
        {
          "output_type": "stream",
          "text": [
            " 71%|███████▏  | 783/1098 [22:50<08:14,  1.57s/it]"
          ],
          "name": "stderr"
        },
        {
          "output_type": "stream",
          "text": [
            "\n",
            "동명이인 존재 : 김태균\n",
            "생일로 찾음\n"
          ],
          "name": "stdout"
        },
        {
          "output_type": "stream",
          "text": [
            " 72%|███████▏  | 795/1098 [23:12<09:54,  1.96s/it]"
          ],
          "name": "stderr"
        },
        {
          "output_type": "stream",
          "text": [
            "\n",
            "동명이인 존재 : 윤석민\n",
            "생일로 찾음\n"
          ],
          "name": "stdout"
        },
        {
          "output_type": "stream",
          "text": [
            " 73%|███████▎  | 800/1098 [23:23<09:59,  2.01s/it]"
          ],
          "name": "stderr"
        },
        {
          "output_type": "stream",
          "text": [
            "\n",
            "동명이인 존재 : 박병호\n",
            "생일로 찾음\n"
          ],
          "name": "stdout"
        },
        {
          "output_type": "stream",
          "text": [
            " 73%|███████▎  | 803/1098 [23:29<10:31,  2.14s/it]"
          ],
          "name": "stderr"
        },
        {
          "output_type": "stream",
          "text": [
            "\n",
            "동명이인 존재 : 이원석\n",
            "생일로 찾음\n"
          ],
          "name": "stdout"
        },
        {
          "output_type": "stream",
          "text": [
            " 73%|███████▎  | 806/1098 [23:36<10:53,  2.24s/it]"
          ],
          "name": "stderr"
        },
        {
          "output_type": "stream",
          "text": [
            "\n",
            "동명이인 존재 : 이병규\n",
            "생일로 찾음\n"
          ],
          "name": "stdout"
        },
        {
          "output_type": "stream",
          "text": [
            " 74%|███████▍  | 811/1098 [23:47<11:03,  2.31s/it]"
          ],
          "name": "stderr"
        },
        {
          "output_type": "stream",
          "text": [
            "\n",
            "동명이인 존재 : 김현수\n",
            "생일로 찾음\n"
          ],
          "name": "stdout"
        },
        {
          "output_type": "stream",
          "text": [
            " 74%|███████▍  | 815/1098 [23:56<09:47,  2.08s/it]"
          ],
          "name": "stderr"
        },
        {
          "output_type": "stream",
          "text": [
            "\n",
            "동명이인 존재 : 김성현\n",
            "생일로 찾음\n"
          ],
          "name": "stdout"
        },
        {
          "output_type": "stream",
          "text": [
            "\r 74%|███████▍  | 816/1098 [23:58<10:31,  2.24s/it]"
          ],
          "name": "stderr"
        },
        {
          "output_type": "stream",
          "text": [
            "\n",
            "동명이인 존재 : 이재원\n",
            "생일로 찾음\n"
          ],
          "name": "stdout"
        },
        {
          "output_type": "stream",
          "text": [
            "\r 74%|███████▍  | 817/1098 [24:01<10:32,  2.25s/it]"
          ],
          "name": "stderr"
        },
        {
          "output_type": "stream",
          "text": [
            "\n",
            "동명이인 존재 : 이명기\n",
            "생일로 찾음\n"
          ],
          "name": "stdout"
        },
        {
          "output_type": "stream",
          "text": [
            "\r 74%|███████▍  | 818/1098 [24:03<11:23,  2.44s/it]"
          ],
          "name": "stderr"
        },
        {
          "output_type": "stream",
          "text": [
            "\n",
            "동명이인 존재 : 김재현\n",
            "생일로 찾음\n"
          ],
          "name": "stdout"
        },
        {
          "output_type": "stream",
          "text": [
            " 77%|███████▋  | 842/1098 [24:49<08:18,  1.95s/it]"
          ],
          "name": "stderr"
        },
        {
          "output_type": "stream",
          "text": [
            "\n",
            "동명이인 존재 : 박건우\n",
            "생일로 찾음\n"
          ],
          "name": "stdout"
        },
        {
          "output_type": "stream",
          "text": [
            " 77%|███████▋  | 848/1098 [25:02<07:41,  1.84s/it]"
          ],
          "name": "stderr"
        },
        {
          "output_type": "stream",
          "text": [
            "\n",
            "동명이인 존재 : 김상수\n",
            "생일로 찾음\n"
          ],
          "name": "stdout"
        },
        {
          "output_type": "stream",
          "text": [
            " 78%|███████▊  | 852/1098 [25:10<07:25,  1.81s/it]"
          ],
          "name": "stderr"
        },
        {
          "output_type": "stream",
          "text": [
            "\n",
            "동명이인 존재 : 천성호\n",
            "천성호 생일 저장\n",
            "기록과 일치하는 선수 찾음\n"
          ],
          "name": "stdout"
        },
        {
          "output_type": "stream",
          "text": [
            " 78%|███████▊  | 855/1098 [25:16<07:49,  1.93s/it]"
          ],
          "name": "stderr"
        },
        {
          "output_type": "stream",
          "text": [
            "\n",
            "동명이인 존재 : 이주형\n"
          ],
          "name": "stdout"
        },
        {
          "output_type": "stream",
          "text": [
            "\r 78%|███████▊  | 856/1098 [25:19<08:48,  2.18s/it]"
          ],
          "name": "stderr"
        },
        {
          "output_type": "stream",
          "text": [
            "기록과 일치하는 선수 못찾음\n"
          ],
          "name": "stdout"
        },
        {
          "output_type": "stream",
          "text": [
            " 78%|███████▊  | 860/1098 [25:24<05:30,  1.39s/it]"
          ],
          "name": "stderr"
        },
        {
          "output_type": "stream",
          "text": [
            "\n",
            "동명이인 존재 : 박주홍\n",
            "생일로 찾음\n"
          ],
          "name": "stdout"
        },
        {
          "output_type": "stream",
          "text": [
            " 79%|███████▉  | 867/1098 [25:34<05:39,  1.47s/it]"
          ],
          "name": "stderr"
        },
        {
          "output_type": "stream",
          "text": [
            "\n",
            "동명이인 존재 : 박정현\n",
            "생일로 찾음\n"
          ],
          "name": "stdout"
        },
        {
          "output_type": "stream",
          "text": [
            " 80%|███████▉  | 875/1098 [25:47<05:29,  1.48s/it]"
          ],
          "name": "stderr"
        },
        {
          "output_type": "stream",
          "text": [
            "\n",
            "동명이인 존재 : 이주형\n",
            "이주형 생일 저장\n",
            "기록과 일치하는 선수 찾음\n"
          ],
          "name": "stdout"
        },
        {
          "output_type": "stream",
          "text": [
            " 81%|████████  | 888/1098 [26:08<04:36,  1.32s/it]"
          ],
          "name": "stderr"
        },
        {
          "output_type": "stream",
          "text": [
            "\n",
            "동명이인 존재 : 이해창\n",
            "생일로 찾음\n"
          ],
          "name": "stdout"
        },
        {
          "output_type": "stream",
          "text": [
            " 81%|████████  | 891/1098 [26:14<05:32,  1.61s/it]"
          ],
          "name": "stderr"
        },
        {
          "output_type": "stream",
          "text": [
            "\n",
            "동명이인 존재 : 이상호\n",
            "생일로 찾음\n"
          ],
          "name": "stdout"
        },
        {
          "output_type": "stream",
          "text": [
            " 82%|████████▏ | 895/1098 [26:21<05:25,  1.60s/it]"
          ],
          "name": "stderr"
        },
        {
          "output_type": "stream",
          "text": [
            "\n",
            "동명이인 존재 : 정진호\n",
            "생일로 찾음\n"
          ],
          "name": "stdout"
        },
        {
          "output_type": "stream",
          "text": [
            " 82%|████████▏ | 903/1098 [26:33<04:24,  1.35s/it]"
          ],
          "name": "stderr"
        },
        {
          "output_type": "stream",
          "text": [
            "\n",
            "동명이인 존재 : 이원재\n",
            "생일로 찾음\n"
          ],
          "name": "stdout"
        },
        {
          "output_type": "stream",
          "text": [
            " 83%|████████▎ | 907/1098 [26:39<04:31,  1.42s/it]"
          ],
          "name": "stderr"
        },
        {
          "output_type": "stream",
          "text": [
            "\n",
            "동명이인 존재 : 김재현\n",
            "생일로 찾음\n"
          ],
          "name": "stdout"
        },
        {
          "output_type": "stream",
          "text": [
            " 86%|████████▌ | 940/1098 [27:30<03:46,  1.43s/it]"
          ],
          "name": "stderr"
        },
        {
          "output_type": "stream",
          "text": [
            "\n",
            "동명이인 존재 : 김민혁\n",
            "생일로 찾음\n"
          ],
          "name": "stdout"
        },
        {
          "output_type": "stream",
          "text": [
            " 87%|████████▋ | 960/1098 [28:00<03:33,  1.55s/it]"
          ],
          "name": "stderr"
        },
        {
          "output_type": "stream",
          "text": [
            "\n",
            "동명이인 존재 : 박찬호\n",
            "생일로 찾음\n"
          ],
          "name": "stdout"
        },
        {
          "output_type": "stream",
          "text": [
            "\r 88%|████████▊ | 961/1098 [28:03<04:07,  1.81s/it]"
          ],
          "name": "stderr"
        },
        {
          "output_type": "stream",
          "text": [
            "\n",
            "동명이인 존재 : 박준태\n",
            "생일로 찾음\n"
          ],
          "name": "stdout"
        },
        {
          "output_type": "stream",
          "text": [
            " 88%|████████▊ | 963/1098 [28:06<03:57,  1.76s/it]"
          ],
          "name": "stderr"
        },
        {
          "output_type": "stream",
          "text": [
            "\n",
            "동명이인 존재 : 김민수\n",
            "생일로 찾음\n"
          ],
          "name": "stdout"
        },
        {
          "output_type": "stream",
          "text": [
            "\r 88%|████████▊ | 964/1098 [28:09<04:18,  1.93s/it]"
          ],
          "name": "stderr"
        },
        {
          "output_type": "stream",
          "text": [
            "\n",
            "동명이인 존재 : 조용호\n",
            "생일로 찾음\n"
          ],
          "name": "stdout"
        },
        {
          "output_type": "stream",
          "text": [
            " 88%|████████▊ | 968/1098 [28:16<03:52,  1.79s/it]"
          ],
          "name": "stderr"
        },
        {
          "output_type": "stream",
          "text": [
            "\n",
            "동명이인 존재 : 김태훈\n",
            "생일로 찾음\n"
          ],
          "name": "stdout"
        },
        {
          "output_type": "stream",
          "text": [
            "\r 88%|████████▊ | 969/1098 [28:18<04:01,  1.87s/it]"
          ],
          "name": "stderr"
        },
        {
          "output_type": "stream",
          "text": [
            "\n",
            "동명이인 존재 : 김재성\n",
            "생일로 찾음\n"
          ],
          "name": "stdout"
        },
        {
          "output_type": "stream",
          "text": [
            " 88%|████████▊ | 971/1098 [28:21<03:29,  1.65s/it]"
          ],
          "name": "stderr"
        },
        {
          "output_type": "stream",
          "text": [
            "\n",
            "동명이인 존재 : 김민혁\n",
            "생일로 찾음\n"
          ],
          "name": "stdout"
        },
        {
          "output_type": "stream",
          "text": [
            " 89%|████████▉ | 977/1098 [28:30<02:44,  1.36s/it]"
          ],
          "name": "stderr"
        },
        {
          "output_type": "stream",
          "text": [
            "\n",
            "동명이인 존재 : 김기환\n",
            "생일로 찾음\n"
          ],
          "name": "stdout"
        },
        {
          "output_type": "stream",
          "text": [
            " 89%|████████▉ | 979/1098 [28:33<02:47,  1.41s/it]"
          ],
          "name": "stderr"
        },
        {
          "output_type": "stream",
          "text": [
            "\n",
            "동명이인 존재 : 김지수\n",
            "생일로 찾음\n"
          ],
          "name": "stdout"
        },
        {
          "output_type": "stream",
          "text": [
            " 90%|████████▉ | 988/1098 [28:46<02:45,  1.51s/it]"
          ],
          "name": "stderr"
        },
        {
          "output_type": "stream",
          "text": [
            "\n",
            "동명이인 존재 : 최승민\n",
            "생일로 찾음\n"
          ],
          "name": "stdout"
        },
        {
          "output_type": "stream",
          "text": [
            " 90%|█████████ | 992/1098 [28:52<02:39,  1.51s/it]"
          ],
          "name": "stderr"
        },
        {
          "output_type": "stream",
          "text": [
            "\n",
            "동명이인 존재 : 김주성\n",
            "김주성 생일 저장\n",
            "기록과 일치하는 선수 찾음\n"
          ],
          "name": "stdout"
        },
        {
          "output_type": "stream",
          "text": [
            " 91%|█████████ | 996/1098 [29:01<02:49,  1.67s/it]"
          ],
          "name": "stderr"
        },
        {
          "output_type": "stream",
          "text": [
            "\n",
            "동명이인 존재 : 최원준\n",
            "생일로 찾음\n"
          ],
          "name": "stdout"
        },
        {
          "output_type": "stream",
          "text": [
            " 91%|█████████ | 998/1098 [29:05<02:56,  1.76s/it]"
          ],
          "name": "stderr"
        },
        {
          "output_type": "stream",
          "text": [
            "\n",
            "동명이인 존재 : 이진영\n",
            "생일로 찾음\n"
          ],
          "name": "stdout"
        },
        {
          "output_type": "stream",
          "text": [
            "\r 91%|█████████ | 999/1098 [29:06<02:56,  1.79s/it]"
          ],
          "name": "stderr"
        },
        {
          "output_type": "stream",
          "text": [
            "\n",
            "동명이인 존재 : 이동훈\n",
            "생일로 찾음\n"
          ],
          "name": "stdout"
        },
        {
          "output_type": "stream",
          "text": [
            " 91%|█████████ | 1001/1098 [29:09<02:38,  1.63s/it]"
          ],
          "name": "stderr"
        },
        {
          "output_type": "stream",
          "text": [
            "\n",
            "동명이인 존재 : 김주현\n"
          ],
          "name": "stdout"
        },
        {
          "output_type": "stream",
          "text": [
            "\r 91%|█████████▏| 1002/1098 [29:13<03:18,  2.07s/it]"
          ],
          "name": "stderr"
        },
        {
          "output_type": "stream",
          "text": [
            "기록과 일치하는 선수 못찾음\n"
          ],
          "name": "stdout"
        },
        {
          "output_type": "stream",
          "text": [
            " 91%|█████████▏| 1004/1098 [29:16<02:49,  1.80s/it]"
          ],
          "name": "stderr"
        },
        {
          "output_type": "stream",
          "text": [
            "\n",
            "동명이인 존재 : 박준영\n",
            "생일로 찾음\n"
          ],
          "name": "stdout"
        },
        {
          "output_type": "stream",
          "text": [
            " 92%|█████████▏| 1011/1098 [29:27<02:25,  1.67s/it]"
          ],
          "name": "stderr"
        },
        {
          "output_type": "stream",
          "text": [
            "\n",
            "동명이인 존재 : 김민수\n",
            "생일로 찾음\n"
          ],
          "name": "stdout"
        },
        {
          "output_type": "stream",
          "text": [
            " 92%|█████████▏| 1013/1098 [29:31<02:20,  1.66s/it]"
          ],
          "name": "stderr"
        },
        {
          "output_type": "stream",
          "text": [
            "\n",
            "동명이인 존재 : 이정훈\n",
            "생일로 찾음\n"
          ],
          "name": "stdout"
        },
        {
          "output_type": "stream",
          "text": [
            " 93%|█████████▎| 1016/1098 [29:37<02:37,  1.93s/it]"
          ],
          "name": "stderr"
        },
        {
          "output_type": "stream",
          "text": [
            "\n",
            "동명이인 존재 : 김민수\n",
            "김민수 생일 저장\n",
            "기록과 일치하는 선수 찾음\n"
          ],
          "name": "stdout"
        },
        {
          "output_type": "stream",
          "text": [
            " 93%|█████████▎| 1018/1098 [29:44<03:30,  2.63s/it]"
          ],
          "name": "stderr"
        },
        {
          "output_type": "stream",
          "text": [
            "\n",
            "동명이인 존재 : 이재원\n",
            "이재원 생일 저장\n",
            "기록과 일치하는 선수 찾음\n"
          ],
          "name": "stdout"
        },
        {
          "output_type": "stream",
          "text": [
            " 94%|█████████▍| 1030/1098 [30:05<01:50,  1.62s/it]"
          ],
          "name": "stderr"
        },
        {
          "output_type": "stream",
          "text": [
            "\n",
            "동명이인 존재 : 페르난데스\n",
            "생일로 찾음\n"
          ],
          "name": "stdout"
        },
        {
          "output_type": "stream",
          "text": [
            "\r 94%|█████████▍| 1031/1098 [30:08<02:06,  1.89s/it]"
          ],
          "name": "stderr"
        },
        {
          "output_type": "stream",
          "text": [
            "\n",
            "동명이인 존재 : 이명기\n",
            "이명기 생일 저장\n",
            "기록과 일치하는 선수 찾음\n"
          ],
          "name": "stdout"
        },
        {
          "output_type": "stream",
          "text": [
            " 96%|█████████▌| 1055/1098 [30:49<01:15,  1.77s/it]"
          ],
          "name": "stderr"
        },
        {
          "output_type": "stream",
          "text": [
            "\n",
            "동명이인 존재 : 박병호\n",
            "생일로 찾음\n"
          ],
          "name": "stdout"
        },
        {
          "output_type": "stream",
          "text": [
            " 96%|█████████▋| 1058/1098 [30:56<01:16,  1.92s/it]"
          ],
          "name": "stderr"
        },
        {
          "output_type": "stream",
          "text": [
            "\n",
            "동명이인 존재 : 이원석\n",
            "생일로 찾음\n"
          ],
          "name": "stdout"
        },
        {
          "output_type": "stream",
          "text": [
            " 97%|█████████▋| 1060/1098 [31:00<01:20,  2.12s/it]"
          ],
          "name": "stderr"
        },
        {
          "output_type": "stream",
          "text": [
            "\n",
            "동명이인 존재 : 이병규\n",
            "생일로 찾음\n"
          ],
          "name": "stdout"
        },
        {
          "output_type": "stream",
          "text": [
            " 97%|█████████▋| 1064/1098 [31:07<01:01,  1.81s/it]"
          ],
          "name": "stderr"
        },
        {
          "output_type": "stream",
          "text": [
            "\n",
            "동명이인 존재 : 김현수\n",
            "생일로 찾음\n"
          ],
          "name": "stdout"
        },
        {
          "output_type": "stream",
          "text": [
            " 97%|█████████▋| 1067/1098 [31:13<00:54,  1.77s/it]"
          ],
          "name": "stderr"
        },
        {
          "output_type": "stream",
          "text": [
            "\n",
            "동명이인 존재 : 김성현\n",
            "생일로 찾음\n"
          ],
          "name": "stdout"
        },
        {
          "output_type": "stream",
          "text": [
            "\r 97%|█████████▋| 1068/1098 [31:16<01:03,  2.10s/it]"
          ],
          "name": "stderr"
        },
        {
          "output_type": "stream",
          "text": [
            "\n",
            "동명이인 존재 : 이재원\n",
            "생일로 찾음\n"
          ],
          "name": "stdout"
        },
        {
          "output_type": "stream",
          "text": [
            "\r 97%|█████████▋| 1069/1098 [31:18<01:03,  2.18s/it]"
          ],
          "name": "stderr"
        },
        {
          "output_type": "stream",
          "text": [
            "\n",
            "동명이인 존재 : 이명기\n",
            "생일로 찾음\n"
          ],
          "name": "stdout"
        },
        {
          "output_type": "stream",
          "text": [
            " 99%|█████████▉| 1090/1098 [31:59<00:15,  1.90s/it]"
          ],
          "name": "stderr"
        },
        {
          "output_type": "stream",
          "text": [
            "\n",
            "동명이인 존재 : 박건우\n",
            "생일로 찾음\n"
          ],
          "name": "stdout"
        },
        {
          "output_type": "stream",
          "text": [
            "100%|█████████▉| 1095/1098 [32:09<00:05,  1.86s/it]"
          ],
          "name": "stderr"
        },
        {
          "output_type": "stream",
          "text": [
            "\n",
            "동명이인 존재 : 김상수\n",
            "생일로 찾음\n"
          ],
          "name": "stdout"
        },
        {
          "output_type": "stream",
          "text": [
            "100%|██████████| 1098/1098 [32:15<00:00,  1.76s/it]\n"
          ],
          "name": "stderr"
        }
      ]
    },
    {
      "cell_type": "code",
      "metadata": {
        "id": "9S5oVQiHrvJs",
        "colab": {
          "base_uri": "https://localhost:8080/",
          "height": 813
        },
        "outputId": "ec3d896f-7d9b-4a78-8767-876eb53920e3"
      },
      "source": [
        "data"
      ],
      "execution_count": 6,
      "outputs": [
        {
          "output_type": "execute_result",
          "data": {
            "text/html": [
              "<div>\n",
              "<style scoped>\n",
              "    .dataframe tbody tr th:only-of-type {\n",
              "        vertical-align: middle;\n",
              "    }\n",
              "\n",
              "    .dataframe tbody tr th {\n",
              "        vertical-align: top;\n",
              "    }\n",
              "\n",
              "    .dataframe thead th {\n",
              "        text-align: right;\n",
              "    }\n",
              "</style>\n",
              "<table border=\"1\" class=\"dataframe\">\n",
              "  <thead>\n",
              "    <tr style=\"text-align: right;\">\n",
              "      <th></th>\n",
              "      <th>GYEAR</th>\n",
              "      <th>PCODE</th>\n",
              "      <th>NAME</th>\n",
              "      <th>T_ID</th>\n",
              "      <th>POSITION</th>\n",
              "      <th>day</th>\n",
              "      <th>vs</th>\n",
              "      <th>inn</th>\n",
              "      <th>pitcher</th>\n",
              "      <th>batter</th>\n",
              "      <th>P</th>\n",
              "      <th>result</th>\n",
              "      <th>before</th>\n",
              "      <th>after</th>\n",
              "      <th>LEV</th>\n",
              "      <th>REa</th>\n",
              "      <th>WPs</th>\n",
              "      <th>WPe</th>\n",
              "      <th>WPa</th>\n",
              "    </tr>\n",
              "  </thead>\n",
              "  <tbody>\n",
              "    <tr>\n",
              "      <th>0</th>\n",
              "      <td>2018</td>\n",
              "      <td>60100</td>\n",
              "      <td>백창수</td>\n",
              "      <td>HH</td>\n",
              "      <td>외</td>\n",
              "      <td>2018-03-27</td>\n",
              "      <td>NC</td>\n",
              "      <td>8초</td>\n",
              "      <td>이민호</td>\n",
              "      <td>백창수</td>\n",
              "      <td>1-0</td>\n",
              "      <td>유격수 땅볼</td>\n",
              "      <td>무사  6:9</td>\n",
              "      <td>1사  6:9</td>\n",
              "      <td>0.88</td>\n",
              "      <td>-0.258</td>\n",
              "      <td>93.1</td>\n",
              "      <td>95.3</td>\n",
              "      <td>-0.022</td>\n",
              "    </tr>\n",
              "    <tr>\n",
              "      <th>1</th>\n",
              "      <td>2018</td>\n",
              "      <td>60100</td>\n",
              "      <td>백창수</td>\n",
              "      <td>HH</td>\n",
              "      <td>외</td>\n",
              "      <td>2018-03-28</td>\n",
              "      <td>NC</td>\n",
              "      <td>2초</td>\n",
              "      <td>구창모</td>\n",
              "      <td>백창수</td>\n",
              "      <td>2-3</td>\n",
              "      <td>볼넷</td>\n",
              "      <td>2사 2루 0:2</td>\n",
              "      <td>2사 1,2루 0:2</td>\n",
              "      <td>1.10</td>\n",
              "      <td>0.122</td>\n",
              "      <td>71.9</td>\n",
              "      <td>70.7</td>\n",
              "      <td>0.012</td>\n",
              "    </tr>\n",
              "    <tr>\n",
              "      <th>2</th>\n",
              "      <td>2018</td>\n",
              "      <td>60100</td>\n",
              "      <td>백창수</td>\n",
              "      <td>HH</td>\n",
              "      <td>외</td>\n",
              "      <td>2018-03-28</td>\n",
              "      <td>NC</td>\n",
              "      <td>4초</td>\n",
              "      <td>구창모</td>\n",
              "      <td>백창수</td>\n",
              "      <td>0-0</td>\n",
              "      <td>3루수 땅볼</td>\n",
              "      <td>2사  1:2</td>\n",
              "      <td>이닝종료 1:2</td>\n",
              "      <td>0.51</td>\n",
              "      <td>-0.117</td>\n",
              "      <td>67.4</td>\n",
              "      <td>68.8</td>\n",
              "      <td>-0.013</td>\n",
              "    </tr>\n",
              "    <tr>\n",
              "      <th>3</th>\n",
              "      <td>2018</td>\n",
              "      <td>60100</td>\n",
              "      <td>백창수</td>\n",
              "      <td>HH</td>\n",
              "      <td>외</td>\n",
              "      <td>2018-03-28</td>\n",
              "      <td>NC</td>\n",
              "      <td>7초</td>\n",
              "      <td>유원상</td>\n",
              "      <td>백창수</td>\n",
              "      <td>2-3</td>\n",
              "      <td>유격수 땅볼 실책</td>\n",
              "      <td>[실책포함]</td>\n",
              "      <td>무사  2:2</td>\n",
              "      <td>무사 1루 2:2</td>\n",
              "      <td>1.54</td>\n",
              "      <td>0.398</td>\n",
              "      <td>50.0</td>\n",
              "      <td>44.1</td>\n",
              "    </tr>\n",
              "    <tr>\n",
              "      <th>4</th>\n",
              "      <td>2018</td>\n",
              "      <td>60100</td>\n",
              "      <td>백창수</td>\n",
              "      <td>HH</td>\n",
              "      <td>외</td>\n",
              "      <td>2018-03-30</td>\n",
              "      <td>SK</td>\n",
              "      <td>2말</td>\n",
              "      <td>김태훈</td>\n",
              "      <td>백창수</td>\n",
              "      <td>0-1</td>\n",
              "      <td>백창수/10473 : 2루수 직선타 아웃</td>\n",
              "      <td>1사 2,3루 1:1</td>\n",
              "      <td>2사 2,3루 1:1</td>\n",
              "      <td>1.57</td>\n",
              "      <td>-0.833</td>\n",
              "      <td>64.1</td>\n",
              "      <td>56.1</td>\n",
              "      <td>-0.080</td>\n",
              "    </tr>\n",
              "    <tr>\n",
              "      <th>...</th>\n",
              "      <td>...</td>\n",
              "      <td>...</td>\n",
              "      <td>...</td>\n",
              "      <td>...</td>\n",
              "      <td>...</td>\n",
              "      <td>...</td>\n",
              "      <td>...</td>\n",
              "      <td>...</td>\n",
              "      <td>...</td>\n",
              "      <td>...</td>\n",
              "      <td>...</td>\n",
              "      <td>...</td>\n",
              "      <td>...</td>\n",
              "      <td>...</td>\n",
              "      <td>...</td>\n",
              "      <td>...</td>\n",
              "      <td>...</td>\n",
              "      <td>...</td>\n",
              "      <td>...</td>\n",
              "    </tr>\n",
              "    <tr>\n",
              "      <th>205989</th>\n",
              "      <td>2021</td>\n",
              "      <td>79608</td>\n",
              "      <td>안치홍</td>\n",
              "      <td>LT</td>\n",
              "      <td>내</td>\n",
              "      <td>2021-08-25</td>\n",
              "      <td>KIA</td>\n",
              "      <td>2초</td>\n",
              "      <td>멩덴</td>\n",
              "      <td>안치홍</td>\n",
              "      <td>1-1</td>\n",
              "      <td>2루수 땅볼</td>\n",
              "      <td>1사  0:0</td>\n",
              "      <td>2사  0:0</td>\n",
              "      <td>0.65</td>\n",
              "      <td>-0.180</td>\n",
              "      <td>52.4</td>\n",
              "      <td>54.0</td>\n",
              "      <td>-0.016</td>\n",
              "    </tr>\n",
              "    <tr>\n",
              "      <th>205990</th>\n",
              "      <td>2021</td>\n",
              "      <td>79608</td>\n",
              "      <td>안치홍</td>\n",
              "      <td>LT</td>\n",
              "      <td>내</td>\n",
              "      <td>2021-08-25</td>\n",
              "      <td>KIA</td>\n",
              "      <td>4초</td>\n",
              "      <td>멩덴</td>\n",
              "      <td>안치홍</td>\n",
              "      <td>1-1</td>\n",
              "      <td>유격수 땅볼</td>\n",
              "      <td>무사 1루 1:5</td>\n",
              "      <td>1사 1루 1:5</td>\n",
              "      <td>1.20</td>\n",
              "      <td>-0.380</td>\n",
              "      <td>85.1</td>\n",
              "      <td>87.8</td>\n",
              "      <td>-0.027</td>\n",
              "    </tr>\n",
              "    <tr>\n",
              "      <th>205991</th>\n",
              "      <td>2021</td>\n",
              "      <td>79608</td>\n",
              "      <td>안치홍</td>\n",
              "      <td>LT</td>\n",
              "      <td>내</td>\n",
              "      <td>2021-08-25</td>\n",
              "      <td>KIA</td>\n",
              "      <td>5초</td>\n",
              "      <td>멩덴</td>\n",
              "      <td>안치홍</td>\n",
              "      <td>0-0</td>\n",
              "      <td>포수 땅볼</td>\n",
              "      <td>1사  4:6</td>\n",
              "      <td>2사  4:6</td>\n",
              "      <td>0.79</td>\n",
              "      <td>-0.180</td>\n",
              "      <td>78.4</td>\n",
              "      <td>80.3</td>\n",
              "      <td>-0.019</td>\n",
              "    </tr>\n",
              "    <tr>\n",
              "      <th>205992</th>\n",
              "      <td>2021</td>\n",
              "      <td>79608</td>\n",
              "      <td>안치홍</td>\n",
              "      <td>LT</td>\n",
              "      <td>내</td>\n",
              "      <td>2021-08-25</td>\n",
              "      <td>KIA</td>\n",
              "      <td>7초</td>\n",
              "      <td>박진태</td>\n",
              "      <td>안치홍</td>\n",
              "      <td>1-1</td>\n",
              "      <td>유격수 내야안타</td>\n",
              "      <td>1사 1,2루 4:7</td>\n",
              "      <td>1사 만루 4:7</td>\n",
              "      <td>2.30</td>\n",
              "      <td>0.679</td>\n",
              "      <td>84.9</td>\n",
              "      <td>77.0</td>\n",
              "      <td>0.079</td>\n",
              "    </tr>\n",
              "    <tr>\n",
              "      <th>205993</th>\n",
              "      <td>2021</td>\n",
              "      <td>79608</td>\n",
              "      <td>안치홍</td>\n",
              "      <td>LT</td>\n",
              "      <td>내</td>\n",
              "      <td>2021-08-25</td>\n",
              "      <td>KIA</td>\n",
              "      <td>9초</td>\n",
              "      <td>김재열</td>\n",
              "      <td>안치홍</td>\n",
              "      <td>2-1</td>\n",
              "      <td>유격수 뜬공</td>\n",
              "      <td>무사  6:11</td>\n",
              "      <td>1사  6:11</td>\n",
              "      <td>0.16</td>\n",
              "      <td>-0.258</td>\n",
              "      <td>99.4</td>\n",
              "      <td>99.8</td>\n",
              "      <td>-0.004</td>\n",
              "    </tr>\n",
              "  </tbody>\n",
              "</table>\n",
              "<p>205994 rows × 19 columns</p>\n",
              "</div>"
            ],
            "text/plain": [
              "       GYEAR  PCODE NAME T_ID POSITION  ...        LEV     REa    WPs   WPe     WPa\n",
              "0       2018  60100  백창수   HH        외  ...       0.88  -0.258   93.1  95.3  -0.022\n",
              "1       2018  60100  백창수   HH        외  ...       1.10   0.122   71.9  70.7   0.012\n",
              "2       2018  60100  백창수   HH        외  ...       0.51  -0.117   67.4  68.8  -0.013\n",
              "3       2018  60100  백창수   HH        외  ...  무사 1루 2:2    1.54  0.398  50.0    44.1\n",
              "4       2018  60100  백창수   HH        외  ...       1.57  -0.833   64.1  56.1  -0.080\n",
              "...      ...    ...  ...  ...      ...  ...        ...     ...    ...   ...     ...\n",
              "205989  2021  79608  안치홍   LT        내  ...       0.65  -0.180   52.4  54.0  -0.016\n",
              "205990  2021  79608  안치홍   LT        내  ...       1.20  -0.380   85.1  87.8  -0.027\n",
              "205991  2021  79608  안치홍   LT        내  ...       0.79  -0.180   78.4  80.3  -0.019\n",
              "205992  2021  79608  안치홍   LT        내  ...       2.30   0.679   84.9  77.0   0.079\n",
              "205993  2021  79608  안치홍   LT        내  ...       0.16  -0.258   99.4  99.8  -0.004\n",
              "\n",
              "[205994 rows x 19 columns]"
            ]
          },
          "metadata": {},
          "execution_count": 6
        }
      ]
    },
    {
      "cell_type": "code",
      "metadata": {
        "colab": {
          "base_uri": "https://localhost:8080/"
        },
        "id": "I4H981SyGJhu",
        "outputId": "0947be90-0ac1-440f-babb-0e5dd43c3fcd"
      },
      "source": [
        "same_name_fail_list"
      ],
      "execution_count": 7,
      "outputs": [
        {
          "output_type": "execute_result",
          "data": {
            "text/plain": [
              "[(2020, 50054, '천성호', 'KT'),\n",
              " (2020, 68106, '이재원', 'LG'),\n",
              " (2021, 50167, '이주형', 'LG'),\n",
              " (2021, 66749, '김주현', 'LT')]"
            ]
          },
          "metadata": {},
          "execution_count": 7
        }
      ]
    },
    {
      "cell_type": "code",
      "metadata": {
        "id": "v912jgAUrR4O"
      },
      "source": [
        "data.to_csv('/content/drive/MyDrive/crawling_data.csv')"
      ],
      "execution_count": null,
      "outputs": []
    },
    {
      "cell_type": "code",
      "metadata": {
        "id": "gQfaMK0ZGMen"
      },
      "source": [
        ""
      ],
      "execution_count": null,
      "outputs": []
    }
  ]
}