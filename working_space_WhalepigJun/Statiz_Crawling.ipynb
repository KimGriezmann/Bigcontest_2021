{
  "nbformat": 4,
  "nbformat_minor": 0,
  "metadata": {
    "colab": {
      "name": "Web_Crawling__Selenium.ipynb",
      "provenance": []
    },
    "kernelspec": {
      "name": "python3",
      "display_name": "Python 3"
    },
    "language_info": {
      "name": "python"
    }
  },
  "cells": [
    {
      "cell_type": "code",
      "metadata": {
        "id": "raOSosFq2vTn",
        "outputId": "ba6c1673-f02f-4d41-e6fc-13b796e4b9cc",
        "colab": {
          "base_uri": "https://localhost:8080/"
        }
      },
      "source": [
        "from google.colab import drive\n",
        "drive.mount('/content/drive')"
      ],
      "execution_count": 19,
      "outputs": [
        {
          "output_type": "stream",
          "text": [
            "Mounted at /content/drive\n"
          ],
          "name": "stdout"
        }
      ]
    },
    {
      "cell_type": "code",
      "metadata": {
        "id": "Y4BErjLs272U"
      },
      "source": [
        "import pandas as pd\n",
        "import numpy as np\n",
        "\n",
        "hts_2018 = pd.read_csv('/content/drive/MyDrive/bigcontest/2021 빅콘테스트_데이터분석분야_챔피언리그_스포츠테크_HTS_2018.csv', encoding='euc-kr')\n",
        "hts_2019 = pd.read_csv('/content/drive/MyDrive/bigcontest/2021 빅콘테스트_데이터분석분야_챔피언리그_스포츠테크_HTS_2019.csv', encoding='euc-kr')\n",
        "hts_2020 = pd.read_csv('/content/drive/MyDrive/bigcontest/2021 빅콘테스트_데이터분석분야_챔피언리그_스포츠테크_HTS_2020.csv', encoding='euc-kr')\n",
        "hts_2021 = pd.read_csv('/content/drive/MyDrive/bigcontest/2021 빅콘테스트_데이터분석분야_챔피언리그_스포츠테크_HTS_2021.csv', encoding='euc-kr')\n",
        "hts = pd.concat([hts_2018,hts_2019,hts_2020,hts_2021], ignore_index=True)\n",
        "\n",
        "player_2018 = pd.read_csv('/content/drive/MyDrive/bigcontest/2021 빅콘테스트_데이터분석분야_챔피언리그_스포츠테크_선수_2018.csv', encoding='euc-kr')\n",
        "player_2019 = pd.read_csv('/content/drive/MyDrive/bigcontest/2021 빅콘테스트_데이터분석분야_챔피언리그_스포츠테크_선수_2019.csv', encoding='euc-kr')\n",
        "player_2020 = pd.read_csv('/content/drive/MyDrive/bigcontest/2021 빅콘테스트_데이터분석분야_챔피언리그_스포츠테크_선수_2020.csv', encoding='euc-kr')\n",
        "player_2021 = pd.read_csv('/content/drive/MyDrive/bigcontest/2021 빅콘테스트_데이터분석분야_챔피언리그_스포츠테크_선수_2021.csv', encoding='euc-kr')\n",
        "player = pd.concat([player_2018,player_2019,player_2020,player_2021], ignore_index=True)\n",
        "\n",
        "hitter_base_2018 = pd.read_csv('/content/drive/MyDrive/bigcontest/2021 빅콘테스트_데이터분석분야_챔피언리그_스포츠테크_타자 기본_2018.csv', encoding='euc-kr')\n",
        "hitter_base_2019 = pd.read_csv('/content/drive/MyDrive/bigcontest/2021 빅콘테스트_데이터분석분야_챔피언리그_스포츠테크_타자 기본_2019.csv', encoding='euc-kr')\n",
        "hitter_base_2020 = pd.read_csv('/content/drive/MyDrive/bigcontest/2021 빅콘테스트_데이터분석분야_챔피언리그_스포츠테크_타자 기본_2020.csv', encoding='euc-kr')\n",
        "hitter_base_2021 = pd.read_csv('/content/drive/MyDrive/bigcontest/2021 빅콘테스트_데이터분석분야_챔피언리그_스포츠테크_타자 기본_2021.csv', encoding='euc-kr')\n",
        "hitter_base = pd.concat([hitter_base_2018,hitter_base_2019,hitter_base_2020,hitter_base_2021], ignore_index=True)\n",
        "\n",
        "team = pd.read_csv('/content/drive/MyDrive/bigcontest/2021 빅콘테스트_데이터분석분야_챔피언리그_스포츠테크_팀.csv', encoding='euc-kr')\n",
        "schedule_2021 = pd.read_csv('/content/drive/MyDrive/bigcontest/2021 빅콘테스트_데이터분석분야_챔피언리그_스포츠테크_경기일정_2021.csv', encoding='euc-kr')"
      ],
      "execution_count": 394,
      "outputs": []
    },
    {
      "cell_type": "code",
      "metadata": {
        "id": "Ra-UhYpeI2tv"
      },
      "source": [
        "# 타자 기록이 있는 선수들과 등록 선수를 pcode와 연도를 기준으로 merge\n",
        "hitter = hitter_base.merge(player, on=['PCODE','GYEAR'])"
      ],
      "execution_count": 395,
      "outputs": []
    },
    {
      "cell_type": "code",
      "metadata": {
        "id": "5JpmFHeJnRK8"
      },
      "source": [
        "# 이름을 개명한 선수에 대해서 같은 이름이 쓰이도록 처리\n",
        "hitter.loc[hitter['NAME']=='한동민','NAME'] = '한유섬'\n",
        "hitter.loc[hitter['NAME']=='백민기','NAME'] = '백동훈'\n",
        "hitter.loc[hitter['NAME']=='윤대영','NAME'] = '윤형준'\n",
        "hitter.loc[hitter['NAME']=='이병휘','NAME'] = '이유찬'\n",
        "hitter.loc[hitter['NAME']=='나종덕','NAME'] = '나균안'"
      ],
      "execution_count": 396,
      "outputs": []
    },
    {
      "cell_type": "code",
      "metadata": {
        "id": "t7bFZwQ-AwFW",
        "outputId": "9a044a72-3206-41f0-d5bd-9cd9f0ffc04b",
        "colab": {
          "base_uri": "https://localhost:8080/"
        }
      },
      "source": [
        "###############\n",
        "# BeautifulSoup\n",
        "\n",
        "import numpy as np\n",
        "import pandas as pd\n",
        "import requests\n",
        "from bs4 import BeautifulSoup\n",
        "from tqdm import tqdm\n",
        "\n",
        "# 데이터를 모을 dataframe 생성\n",
        "data = pd.DataFrame(columns=['GYEAR','PCODE','NAME','T_ID','POSITION','day', 'vs', 'inn', 'pitcher', 'batter', 'P', 'result', 'before', 'after', 'LEV', 'REa', 'WPs','WPe', 'WPa'])\n",
        "hitter['BIRTH']=0\n",
        "same_name_fail_list = []\n",
        "\n",
        "for hitter_index in tqdm(range(len(hitter))):\n",
        "  year = hitter.loc[hitter_index,'GYEAR']\n",
        "  player_pcode = hitter.loc[hitter_index,'PCODE']\n",
        "  player_name = hitter.loc[hitter_index,'NAME']\n",
        "  player_team = hitter.loc[hitter_index,'T_ID']\n",
        "  player_position = hitter.loc[hitter_index,'POSITION']\n",
        "\n",
        "  # 선수와 연도에 맞는 플레이 로그 페이지\n",
        "  wp = requests.get('http://www.statiz.co.kr/player.php?opt=6&sopt=0&name=' + player_name + '&da=1&year=' + str(year))\n",
        "  soup = BeautifulSoup(wp.text, \"html.parser\")\n",
        "\n",
        "  # 동명이인 문제로 페이지에 데이터가 없다면\n",
        "  row_data = soup.find_all(class_='table table-striped table-responsive table-condensed table-bordered')\n",
        "  if len(row_data)==0:\n",
        "    print(\"\\n동명이인 존재 : \" + player_name)\n",
        "    if hitter.loc[hitter_index,'BIRTH']!=0:\n",
        "      print(\"생일로 찾음\")\n",
        "      wp = requests.get('http://www.statiz.co.kr/player.php?opt=6&sopt=0&name=' + player_name + '&birth=' + hitter.loc[hitter_index,'BIRTH'] + '&da=1&year=' + str(year))\n",
        "      soup = BeautifulSoup(wp.text, \"html.parser\")\n",
        "    else:  \n",
        "      same_name_href_list=[]\n",
        "      wp = requests.get('http://www.statiz.co.kr/player.php?name=' + player_name)\n",
        "      soup = BeautifulSoup(wp.text, \"html.parser\")\n",
        "      for same_name_list in soup.find(class_='table table-striped').find_all('a'):\n",
        "        same_name_href_list.append(same_name_list.attrs['href'])\n",
        "      flag=0\n",
        "      for same_name_page in same_name_href_list:\n",
        "        wp = requests.get('http://www.statiz.co.kr/'+same_name_page+'&opt=1')\n",
        "        soup = BeautifulSoup(wp.text, \"html.parser\")\n",
        "        # 현재 찾고 있는 선수의 기록과 현재 페이지의 선수 기록이 일치하면 같은 선수라는 의미이다. \n",
        "        d = str(hitter.loc[hitter_index,'GAMENUM'].item()) + str(hitter.loc[hitter_index,'PA'].item()) + str(hitter.loc[hitter_index,'AB'].item())\n",
        "        if d in soup.text:\n",
        "          flag=1\n",
        "          # 동명이인의 선수에 대해서 생일을 기록해둔다.\n",
        "          print(player_name+\" 생일 저장\")\n",
        "          player_birth = same_name_page[-10:]\n",
        "          hitter.loc[hitter['PCODE']==hitter.loc[hitter_index,'PCODE'], 'BIRTH'] = player_birth\n",
        "          break\n",
        "      # 찾은 선수의 페이지로 접근한다.\n",
        "      if flag==1:\n",
        "        print(\"기록과 일치하는 선수 찾음\")\n",
        "      else:\n",
        "        print(\"기록과 일치하는 선수 못찾음\")\n",
        "        same_name_fail_list.append((year,player_pcode,player_name,player_team))\n",
        "        continue\n",
        "      wp = requests.get('http://www.statiz.co.kr/player.php?opt=6&'+same_name_page.split('?')[1]+'&da=1&year='+str(year))\n",
        "      soup = BeautifulSoup(wp.text, \"html.parser\")\n",
        "\n",
        "  # 데이터 테이블 접근\n",
        "  row_data = soup.find_all(class_='table table-striped table-responsive table-condensed table-bordered')[0]\n",
        "  row_data_tr = row_data.find_all('tr')[1:]\n",
        "\n",
        "  # 행렬만들기\n",
        "  rawdata_day = np.zeros(len(row_data_tr), dtype=object)\n",
        "  rawdata_vs = np.zeros(len(row_data_tr), dtype=object)\n",
        "  rawdata_inn = np.zeros(len(row_data_tr), dtype=object)\n",
        "  rawdata_pitcher = np.zeros(len(row_data_tr),dtype=object)\n",
        "  rawdata_batter = np.zeros(len(row_data_tr), dtype=object)\n",
        "  rawdata_P = np.zeros(len(row_data_tr), dtype=object)\n",
        "  rawdata_result = np.zeros(len(row_data_tr), dtype=object)\n",
        "  rawdata_before = np.zeros(len(row_data_tr), dtype=object)\n",
        "  rawdata_after = np.zeros(len(row_data_tr), dtype=object)\n",
        "  rawdata_LEV = np.zeros(len(row_data_tr), dtype=object)\n",
        "  rawdata_REa = np.zeros(len(row_data_tr), dtype=object)\n",
        "  rawdata_WPs = np.zeros(len(row_data_tr), dtype=object)\n",
        "  rawdata_WPe = np.zeros(len(row_data_tr), dtype=object)\n",
        "  rawdata_WPa = np.zeros(len(row_data_tr), dtype=object)\n",
        "\n",
        "  # 행 하나씩 접근, 헤더 생략\n",
        "  for tr_index in range(len(row_data_tr)):\n",
        "    rawdata_td_element = [text for text in row_data_tr[tr_index].stripped_strings]\n",
        "    # P 칼럼의 값이 없을때도 있음.\n",
        "    if len(rawdata_td_element) == 14:\n",
        "      rawdata_td_element.insert(6,\"\")\n",
        "    \n",
        "    # 데이터 입력\n",
        "    rawdata_day[tr_index] = rawdata_td_element[0]\n",
        "    rawdata_vs[tr_index] = rawdata_td_element[1]\n",
        "    rawdata_inn[tr_index] = rawdata_td_element[2]\n",
        "    rawdata_pitcher[tr_index] = rawdata_td_element[3]\n",
        "    rawdata_batter[tr_index] = rawdata_td_element[5]\n",
        "    rawdata_P[tr_index] = rawdata_td_element[6]\n",
        "    rawdata_result[tr_index] = rawdata_td_element[7]\n",
        "    rawdata_before[tr_index] = rawdata_td_element[8]\n",
        "    rawdata_after[tr_index] = rawdata_td_element[9]\n",
        "    rawdata_LEV[tr_index] = rawdata_td_element[10]\n",
        "    rawdata_REa[tr_index] = rawdata_td_element[11]\n",
        "    rawdata_WPs[tr_index] = rawdata_td_element[12]\n",
        "    rawdata_WPe[tr_index] = rawdata_td_element[13]\n",
        "    rawdata_WPa[tr_index] = rawdata_td_element[14]\n",
        "\n",
        "  tmp_data = pd.DataFrame()\n",
        "\n",
        "  # tmp_data는 각 선수마다 데이터를 모은 후 data에 concat 하기 전 임시로 저장\n",
        "  tmp_data['day'] = rawdata_day\n",
        "  tmp_data['vs'] = rawdata_vs\n",
        "  tmp_data['inn'] = rawdata_inn\n",
        "  tmp_data['pitcher'] = rawdata_pitcher\n",
        "  tmp_data['batter'] = rawdata_batter\n",
        "  tmp_data['P'] = rawdata_P\n",
        "  tmp_data['result'] = rawdata_result\n",
        "  tmp_data['before'] = rawdata_before\n",
        "  tmp_data['after'] = rawdata_after\n",
        "  tmp_data['LEV'] = rawdata_LEV\n",
        "  tmp_data['REa'] = rawdata_REa\n",
        "  tmp_data['WPs'] = rawdata_WPs\n",
        "  tmp_data['WPe'] = rawdata_WPe\n",
        "  tmp_data['WPa'] = rawdata_WPa\n",
        "\n",
        "  tmp_data['GYEAR'] = year\n",
        "  tmp_data['PCODE'] = player_pcode\n",
        "  tmp_data['NAME'] = player_name\n",
        "  tmp_data['T_ID'] = player_team\n",
        "  tmp_data['POSITION'] = player_position\n",
        "\n",
        "  # 데이터 쌓기\n",
        "  data = pd.concat([data,tmp_data], ignore_index=True)"
      ],
      "execution_count": 397,
      "outputs": [
        {
          "metadata": {
            "tags": null
          },
          "name": "stderr",
          "output_type": "stream",
          "text": [
            "  0%|          | 3/1098 [00:02<15:12,  1.20it/s]"
          ]
        },
        {
          "metadata": {
            "tags": null
          },
          "name": "stdout",
          "output_type": "stream",
          "text": [
            "\n",
            "동명이인 존재 : 이해창\n",
            "이해창 생일 저장\n",
            "기록과 일치하는 선수 찾음\n"
          ]
        },
        {
          "metadata": {
            "tags": null
          },
          "name": "stderr",
          "output_type": "stream",
          "text": [
            "  1%|          | 7/1098 [00:10<29:43,  1.63s/it]"
          ]
        },
        {
          "metadata": {
            "tags": null
          },
          "name": "stdout",
          "output_type": "stream",
          "text": [
            "\n",
            "동명이인 존재 : 이상호\n",
            "이상호 생일 저장\n",
            "기록과 일치하는 선수 찾음\n"
          ]
        },
        {
          "metadata": {
            "tags": null
          },
          "name": "stderr",
          "output_type": "stream",
          "text": [
            "\r  1%|          | 8/1098 [00:15<44:37,  2.46s/it]"
          ]
        },
        {
          "metadata": {
            "tags": null
          },
          "name": "stdout",
          "output_type": "stream",
          "text": [
            "\n",
            "동명이인 존재 : 홍재호\n",
            "홍재호 생일 저장\n",
            "기록과 일치하는 선수 찾음\n"
          ]
        },
        {
          "metadata": {
            "tags": null
          },
          "name": "stderr",
          "output_type": "stream",
          "text": [
            "  2%|▏         | 17/1098 [00:29<23:30,  1.30s/it]"
          ]
        },
        {
          "metadata": {
            "tags": null
          },
          "name": "stdout",
          "output_type": "stream",
          "text": [
            "\n",
            "동명이인 존재 : 정진호\n",
            "정진호 생일 저장\n",
            "기록과 일치하는 선수 찾음\n"
          ]
        },
        {
          "metadata": {
            "tags": null
          },
          "name": "stderr",
          "output_type": "stream",
          "text": [
            "  3%|▎         | 31/1098 [00:48<17:56,  1.01s/it]"
          ]
        },
        {
          "metadata": {
            "tags": null
          },
          "name": "stdout",
          "output_type": "stream",
          "text": [
            "\n",
            "동명이인 존재 : 이원재\n",
            "이원재 생일 저장\n",
            "기록과 일치하는 선수 찾음\n"
          ]
        },
        {
          "metadata": {
            "tags": null
          },
          "name": "stderr",
          "output_type": "stream",
          "text": [
            "  3%|▎         | 36/1098 [00:57<23:36,  1.33s/it]"
          ]
        },
        {
          "metadata": {
            "tags": null
          },
          "name": "stdout",
          "output_type": "stream",
          "text": [
            "\n",
            "동명이인 존재 : 김재현\n",
            "김재현 생일 저장\n",
            "기록과 일치하는 선수 찾음\n"
          ]
        },
        {
          "metadata": {
            "tags": null
          },
          "name": "stderr",
          "output_type": "stream",
          "text": [
            "  5%|▌         | 56/1098 [01:39<20:30,  1.18s/it]"
          ]
        },
        {
          "metadata": {
            "tags": null
          },
          "name": "stdout",
          "output_type": "stream",
          "text": [
            "\n",
            "동명이인 존재 : 이민호\n",
            "이민호 생일 저장\n",
            "기록과 일치하는 선수 찾음\n"
          ]
        },
        {
          "metadata": {
            "tags": null
          },
          "name": "stderr",
          "output_type": "stream",
          "text": [
            "  6%|▋         | 70/1098 [01:57<16:05,  1.07it/s]"
          ]
        },
        {
          "metadata": {
            "tags": null
          },
          "name": "stdout",
          "output_type": "stream",
          "text": [
            "\n",
            "동명이인 존재 : 조홍석\n",
            "조홍석 생일 저장\n",
            "기록과 일치하는 선수 찾음\n"
          ]
        },
        {
          "metadata": {
            "tags": null
          },
          "name": "stderr",
          "output_type": "stream",
          "text": [
            "  8%|▊         | 88/1098 [02:22<18:02,  1.07s/it]"
          ]
        },
        {
          "metadata": {
            "tags": null
          },
          "name": "stdout",
          "output_type": "stream",
          "text": [
            "\n",
            "동명이인 존재 : 김재현\n",
            "김재현 생일 저장\n",
            "기록과 일치하는 선수 찾음\n"
          ]
        },
        {
          "metadata": {
            "tags": null
          },
          "name": "stderr",
          "output_type": "stream",
          "text": [
            "  8%|▊         | 92/1098 [02:31<31:49,  1.90s/it]"
          ]
        },
        {
          "metadata": {
            "tags": null
          },
          "name": "stdout",
          "output_type": "stream",
          "text": [
            "\n",
            "동명이인 존재 : 박준태\n",
            "박준태 생일 저장\n",
            "기록과 일치하는 선수 찾음\n"
          ]
        },
        {
          "metadata": {
            "tags": null
          },
          "name": "stderr",
          "output_type": "stream",
          "text": [
            "  9%|▊         | 94/1098 [02:38<41:45,  2.50s/it]"
          ]
        },
        {
          "metadata": {
            "tags": null
          },
          "name": "stdout",
          "output_type": "stream",
          "text": [
            "\n",
            "동명이인 존재 : 박준혁\n",
            "박준혁 생일 저장\n",
            "기록과 일치하는 선수 찾음\n"
          ]
        },
        {
          "metadata": {
            "tags": null
          },
          "name": "stderr",
          "output_type": "stream",
          "text": [
            "\r  9%|▊         | 95/1098 [02:42<48:17,  2.89s/it]"
          ]
        },
        {
          "metadata": {
            "tags": null
          },
          "name": "stdout",
          "output_type": "stream",
          "text": [
            "\n",
            "동명이인 존재 : 김민수\n",
            "김민수 생일 저장\n",
            "기록과 일치하는 선수 찾음\n"
          ]
        },
        {
          "metadata": {
            "tags": null
          },
          "name": "stderr",
          "output_type": "stream",
          "text": [
            "\r  9%|▊         | 96/1098 [02:48<1:02:02,  3.72s/it]"
          ]
        },
        {
          "metadata": {
            "tags": null
          },
          "name": "stdout",
          "output_type": "stream",
          "text": [
            "\n",
            "동명이인 존재 : 조용호\n",
            "조용호 생일 저장\n",
            "기록과 일치하는 선수 찾음\n"
          ]
        },
        {
          "metadata": {
            "tags": null
          },
          "name": "stderr",
          "output_type": "stream",
          "text": [
            "  9%|▉         | 103/1098 [02:57<20:21,  1.23s/it]"
          ]
        },
        {
          "metadata": {
            "tags": null
          },
          "name": "stdout",
          "output_type": "stream",
          "text": [
            "\n",
            "동명이인 존재 : 김민혁\n",
            "김민혁 생일 저장\n",
            "기록과 일치하는 선수 찾음\n"
          ]
        },
        {
          "metadata": {
            "tags": null
          },
          "name": "stderr",
          "output_type": "stream",
          "text": [
            " 11%|█         | 117/1098 [03:13<14:34,  1.12it/s]"
          ]
        },
        {
          "metadata": {
            "tags": null
          },
          "name": "stdout",
          "output_type": "stream",
          "text": [
            "\n",
            "동명이인 존재 : 김성훈\n",
            "김성훈 생일 저장\n",
            "기록과 일치하는 선수 찾음\n"
          ]
        },
        {
          "metadata": {
            "tags": null
          },
          "name": "stderr",
          "output_type": "stream",
          "text": [
            " 11%|█         | 119/1098 [03:17<23:38,  1.45s/it]"
          ]
        },
        {
          "metadata": {
            "tags": null
          },
          "name": "stdout",
          "output_type": "stream",
          "text": [
            "\n",
            "동명이인 존재 : 최원준\n",
            "최원준 생일 저장\n",
            "기록과 일치하는 선수 찾음\n"
          ]
        },
        {
          "metadata": {
            "tags": null
          },
          "name": "stderr",
          "output_type": "stream",
          "text": [
            " 11%|█         | 123/1098 [03:26<27:43,  1.71s/it]"
          ]
        },
        {
          "metadata": {
            "tags": null
          },
          "name": "stdout",
          "output_type": "stream",
          "text": [
            "\n",
            "동명이인 존재 : 이동훈\n",
            "이동훈 생일 저장\n",
            "기록과 일치하는 선수 찾음\n"
          ]
        },
        {
          "metadata": {
            "tags": null
          },
          "name": "stderr",
          "output_type": "stream",
          "text": [
            " 14%|█▍        | 155/1098 [04:10<20:45,  1.32s/it]"
          ]
        },
        {
          "metadata": {
            "tags": null
          },
          "name": "stdout",
          "output_type": "stream",
          "text": [
            "\n",
            "동명이인 존재 : 가르시아\n",
            "가르시아 생일 저장\n",
            "기록과 일치하는 선수 찾음\n"
          ]
        },
        {
          "metadata": {
            "tags": null
          },
          "name": "stderr",
          "output_type": "stream",
          "text": [
            " 15%|█▌        | 166/1098 [04:26<18:58,  1.22s/it]"
          ]
        },
        {
          "metadata": {
            "tags": null
          },
          "name": "stdout",
          "output_type": "stream",
          "text": [
            "\n",
            "동명이인 존재 : 오영수\n"
          ]
        },
        {
          "metadata": {
            "tags": null
          },
          "name": "stderr",
          "output_type": "stream",
          "text": [
            "\r 15%|█▌        | 167/1098 [04:29<25:35,  1.65s/it]"
          ]
        },
        {
          "metadata": {
            "tags": null
          },
          "name": "stdout",
          "output_type": "stream",
          "text": [
            "기록과 일치하는 선수 못찾음\n"
          ]
        },
        {
          "metadata": {
            "tags": null
          },
          "name": "stderr",
          "output_type": "stream",
          "text": [
            " 16%|█▌        | 176/1098 [04:42<26:48,  1.74s/it]"
          ]
        },
        {
          "metadata": {
            "tags": null
          },
          "name": "stdout",
          "output_type": "stream",
          "text": [
            "\n",
            "동명이인 존재 : 김태균\n"
          ]
        },
        {
          "metadata": {
            "tags": null
          },
          "name": "stderr",
          "output_type": "stream",
          "text": [
            "\r 16%|█▌        | 177/1098 [04:45<31:58,  2.08s/it]"
          ]
        },
        {
          "metadata": {
            "tags": null
          },
          "name": "stdout",
          "output_type": "stream",
          "text": [
            "기록과 일치하는 선수 못찾음\n"
          ]
        },
        {
          "metadata": {
            "tags": null
          },
          "name": "stderr",
          "output_type": "stream",
          "text": [
            " 18%|█▊        | 196/1098 [05:23<25:38,  1.71s/it]"
          ]
        },
        {
          "metadata": {
            "tags": null
          },
          "name": "stdout",
          "output_type": "stream",
          "text": [
            "\n",
            "동명이인 존재 : 윤석민\n",
            "윤석민 생일 저장\n",
            "기록과 일치하는 선수 찾음\n"
          ]
        },
        {
          "metadata": {
            "tags": null
          },
          "name": "stderr",
          "output_type": "stream",
          "text": [
            " 18%|█▊        | 200/1098 [05:34<32:38,  2.18s/it]"
          ]
        },
        {
          "metadata": {
            "tags": null
          },
          "name": "stdout",
          "output_type": "stream",
          "text": [
            "\n",
            "동명이인 존재 : 김주형\n",
            "김주형 생일 저장\n",
            "기록과 일치하는 선수 찾음\n"
          ]
        },
        {
          "metadata": {
            "tags": null
          },
          "name": "stderr",
          "output_type": "stream",
          "text": [
            " 19%|█▊        | 204/1098 [05:42<24:52,  1.67s/it]"
          ]
        },
        {
          "metadata": {
            "tags": null
          },
          "name": "stdout",
          "output_type": "stream",
          "text": [
            "\n",
            "동명이인 존재 : 박병호\n",
            "박병호 생일 저장\n",
            "기록과 일치하는 선수 찾음\n"
          ]
        },
        {
          "metadata": {
            "tags": null
          },
          "name": "stderr",
          "output_type": "stream",
          "text": [
            " 19%|█▉        | 207/1098 [05:50<33:19,  2.24s/it]"
          ]
        },
        {
          "metadata": {
            "tags": null
          },
          "name": "stdout",
          "output_type": "stream",
          "text": [
            "\n",
            "동명이인 존재 : 이원석\n",
            "이원석 생일 저장\n",
            "기록과 일치하는 선수 찾음\n"
          ]
        },
        {
          "metadata": {
            "tags": null
          },
          "name": "stderr",
          "output_type": "stream",
          "text": [
            " 19%|█▉        | 210/1098 [05:58<35:22,  2.39s/it]"
          ]
        },
        {
          "metadata": {
            "tags": null
          },
          "name": "stdout",
          "output_type": "stream",
          "text": [
            "\n",
            "동명이인 존재 : 이병규\n",
            "이병규 생일 저장\n",
            "기록과 일치하는 선수 찾음\n"
          ]
        },
        {
          "metadata": {
            "tags": null
          },
          "name": "stderr",
          "output_type": "stream",
          "text": [
            " 20%|█▉        | 215/1098 [06:11<34:14,  2.33s/it]"
          ]
        },
        {
          "metadata": {
            "tags": null
          },
          "name": "stdout",
          "output_type": "stream",
          "text": [
            "\n",
            "동명이인 존재 : 김현수\n",
            "김현수 생일 저장\n",
            "기록과 일치하는 선수 찾음\n"
          ]
        },
        {
          "metadata": {
            "tags": null
          },
          "name": "stderr",
          "output_type": "stream",
          "text": [
            " 20%|██        | 220/1098 [06:21<27:03,  1.85s/it]"
          ]
        },
        {
          "metadata": {
            "tags": null
          },
          "name": "stdout",
          "output_type": "stream",
          "text": [
            "\n",
            "동명이인 존재 : 김태완\n",
            "김태완 생일 저장\n",
            "기록과 일치하는 선수 찾음\n"
          ]
        },
        {
          "metadata": {
            "tags": null
          },
          "name": "stderr",
          "output_type": "stream",
          "text": [
            " 20%|██        | 222/1098 [06:26<31:21,  2.15s/it]"
          ]
        },
        {
          "metadata": {
            "tags": null
          },
          "name": "stdout",
          "output_type": "stream",
          "text": [
            "\n",
            "동명이인 존재 : 김성현\n",
            "김성현 생일 저장\n",
            "기록과 일치하는 선수 찾음\n"
          ]
        },
        {
          "metadata": {
            "tags": null
          },
          "name": "stderr",
          "output_type": "stream",
          "text": [
            "\r 20%|██        | 223/1098 [06:30<39:07,  2.68s/it]"
          ]
        },
        {
          "metadata": {
            "tags": null
          },
          "name": "stdout",
          "output_type": "stream",
          "text": [
            "\n",
            "동명이인 존재 : 이재원\n",
            "이재원 생일 저장\n",
            "기록과 일치하는 선수 찾음\n"
          ]
        },
        {
          "metadata": {
            "tags": null
          },
          "name": "stderr",
          "output_type": "stream",
          "text": [
            "\r 20%|██        | 224/1098 [06:34<44:54,  3.08s/it]"
          ]
        },
        {
          "metadata": {
            "tags": null
          },
          "name": "stdout",
          "output_type": "stream",
          "text": [
            "\n",
            "동명이인 존재 : 이명기\n",
            "이명기 생일 저장\n",
            "기록과 일치하는 선수 찾음\n"
          ]
        },
        {
          "metadata": {
            "tags": null
          },
          "name": "stderr",
          "output_type": "stream",
          "text": [
            "\r 20%|██        | 225/1098 [06:38<49:13,  3.38s/it]"
          ]
        },
        {
          "metadata": {
            "tags": null
          },
          "name": "stdout",
          "output_type": "stream",
          "text": [
            "\n",
            "동명이인 존재 : 김재현\n",
            "김재현 생일 저장\n",
            "기록과 일치하는 선수 찾음\n"
          ]
        },
        {
          "metadata": {
            "tags": null
          },
          "name": "stderr",
          "output_type": "stream",
          "text": [
            " 22%|██▏       | 240/1098 [07:04<20:39,  1.44s/it]"
          ]
        },
        {
          "metadata": {
            "tags": null
          },
          "name": "stdout",
          "output_type": "stream",
          "text": [
            "\n",
            "동명이인 존재 : 이영욱\n",
            "이영욱 생일 저장\n",
            "기록과 일치하는 선수 찾음\n"
          ]
        },
        {
          "metadata": {
            "tags": null
          },
          "name": "stderr",
          "output_type": "stream",
          "text": [
            " 23%|██▎       | 257/1098 [07:30<19:36,  1.40s/it]"
          ]
        },
        {
          "metadata": {
            "tags": null
          },
          "name": "stdout",
          "output_type": "stream",
          "text": [
            "\n",
            "동명이인 존재 : 박건우\n",
            "박건우 생일 저장\n",
            "기록과 일치하는 선수 찾음\n"
          ]
        },
        {
          "metadata": {
            "tags": null
          },
          "name": "stderr",
          "output_type": "stream",
          "text": [
            " 24%|██▍       | 261/1098 [07:39<23:51,  1.71s/it]"
          ]
        },
        {
          "metadata": {
            "tags": null
          },
          "name": "stdout",
          "output_type": "stream",
          "text": [
            "\n",
            "동명이인 존재 : 김지수\n",
            "김지수 생일 저장\n",
            "기록과 일치하는 선수 찾음\n"
          ]
        },
        {
          "metadata": {
            "tags": null
          },
          "name": "stderr",
          "output_type": "stream",
          "text": [
            " 24%|██▍       | 264/1098 [07:46<25:12,  1.81s/it]"
          ]
        },
        {
          "metadata": {
            "tags": null
          },
          "name": "stdout",
          "output_type": "stream",
          "text": [
            "\n",
            "동명이인 존재 : 김종민\n",
            "김종민 생일 저장\n",
            "기록과 일치하는 선수 찾음\n"
          ]
        },
        {
          "metadata": {
            "tags": null
          },
          "name": "stderr",
          "output_type": "stream",
          "text": [
            " 24%|██▍       | 266/1098 [07:51<27:56,  2.02s/it]"
          ]
        },
        {
          "metadata": {
            "tags": null
          },
          "name": "stdout",
          "output_type": "stream",
          "text": [
            "\n",
            "동명이인 존재 : 김상수\n",
            "김상수 생일 저장\n",
            "기록과 일치하는 선수 찾음\n"
          ]
        },
        {
          "metadata": {
            "tags": null
          },
          "name": "stderr",
          "output_type": "stream",
          "text": [
            " 25%|██▍       | 273/1098 [08:05<21:30,  1.56s/it]"
          ]
        },
        {
          "metadata": {
            "tags": null
          },
          "name": "stdout",
          "output_type": "stream",
          "text": [
            "\n",
            "동명이인 존재 : 정성훈\n",
            "정성훈 생일 저장\n",
            "기록과 일치하는 선수 찾음\n"
          ]
        },
        {
          "metadata": {
            "tags": null
          },
          "name": "stderr",
          "output_type": "stream",
          "text": [
            "\r 25%|██▍       | 274/1098 [08:08<29:40,  2.16s/it]"
          ]
        },
        {
          "metadata": {
            "tags": null
          },
          "name": "stdout",
          "output_type": "stream",
          "text": [
            "\n",
            "동명이인 존재 : 이진영\n",
            "이진영 생일 저장\n",
            "기록과 일치하는 선수 찾음\n"
          ]
        },
        {
          "metadata": {
            "tags": null
          },
          "name": "stderr",
          "output_type": "stream",
          "text": [
            " 25%|██▌       | 278/1098 [08:14<20:06,  1.47s/it]"
          ]
        },
        {
          "metadata": {
            "tags": null
          },
          "name": "stdout",
          "output_type": "stream",
          "text": [
            "\n",
            "동명이인 존재 : 이해창\n",
            "생일로 찾음\n"
          ]
        },
        {
          "metadata": {
            "tags": null
          },
          "name": "stderr",
          "output_type": "stream",
          "text": [
            " 26%|██▌       | 281/1098 [08:18<17:33,  1.29s/it]"
          ]
        },
        {
          "metadata": {
            "tags": null
          },
          "name": "stdout",
          "output_type": "stream",
          "text": [
            "\n",
            "동명이인 존재 : 이상호\n",
            "생일로 찾음\n"
          ]
        },
        {
          "metadata": {
            "tags": null
          },
          "name": "stderr",
          "output_type": "stream",
          "text": [
            "\r 26%|██▌       | 282/1098 [08:20<20:25,  1.50s/it]"
          ]
        },
        {
          "metadata": {
            "tags": null
          },
          "name": "stdout",
          "output_type": "stream",
          "text": [
            "\n",
            "동명이인 존재 : 홍재호\n",
            "생일로 찾음\n"
          ]
        },
        {
          "metadata": {
            "tags": null
          },
          "name": "stderr",
          "output_type": "stream",
          "text": [
            " 27%|██▋       | 291/1098 [08:32<18:06,  1.35s/it]"
          ]
        },
        {
          "metadata": {
            "tags": null
          },
          "name": "stdout",
          "output_type": "stream",
          "text": [
            "\n",
            "동명이인 존재 : 정진호\n",
            "생일로 찾음\n"
          ]
        },
        {
          "metadata": {
            "tags": null
          },
          "name": "stderr",
          "output_type": "stream",
          "text": [
            " 27%|██▋       | 300/1098 [08:44<14:25,  1.08s/it]"
          ]
        },
        {
          "metadata": {
            "tags": null
          },
          "name": "stdout",
          "output_type": "stream",
          "text": [
            "\n",
            "동명이인 존재 : 이원재\n",
            "생일로 찾음\n"
          ]
        },
        {
          "metadata": {
            "tags": null
          },
          "name": "stderr",
          "output_type": "stream",
          "text": [
            " 31%|███       | 339/1098 [09:38<14:02,  1.11s/it]"
          ]
        },
        {
          "metadata": {
            "tags": null
          },
          "name": "stdout",
          "output_type": "stream",
          "text": [
            "\n",
            "동명이인 존재 : 조홍석\n",
            "생일로 찾음\n"
          ]
        },
        {
          "metadata": {
            "tags": null
          },
          "name": "stderr",
          "output_type": "stream",
          "text": [
            " 32%|███▏      | 349/1098 [09:50<16:19,  1.31s/it]"
          ]
        },
        {
          "metadata": {
            "tags": null
          },
          "name": "stdout",
          "output_type": "stream",
          "text": [
            "\n",
            "동명이인 존재 : 김민혁\n",
            "김민혁 생일 저장\n",
            "기록과 일치하는 선수 찾음\n"
          ]
        },
        {
          "metadata": {
            "tags": null
          },
          "name": "stderr",
          "output_type": "stream",
          "text": [
            " 33%|███▎      | 359/1098 [10:05<13:59,  1.14s/it]"
          ]
        },
        {
          "metadata": {
            "tags": null
          },
          "name": "stdout",
          "output_type": "stream",
          "text": [
            "\n",
            "동명이인 존재 : 김경호\n",
            "김경호 생일 저장\n",
            "기록과 일치하는 선수 찾음\n"
          ]
        },
        {
          "metadata": {
            "tags": null
          },
          "name": "stderr",
          "output_type": "stream",
          "text": [
            " 34%|███▎      | 369/1098 [10:20<13:50,  1.14s/it]"
          ]
        },
        {
          "metadata": {
            "tags": null
          },
          "name": "stdout",
          "output_type": "stream",
          "text": [
            "\n",
            "동명이인 존재 : 김재현\n",
            "생일로 찾음\n"
          ]
        },
        {
          "metadata": {
            "tags": null
          },
          "name": "stderr",
          "output_type": "stream",
          "text": [
            " 34%|███▍      | 373/1098 [10:26<18:40,  1.55s/it]"
          ]
        },
        {
          "metadata": {
            "tags": null
          },
          "name": "stdout",
          "output_type": "stream",
          "text": [
            "\n",
            "동명이인 존재 : 박찬호\n",
            "박찬호 생일 저장\n",
            "기록과 일치하는 선수 찾음\n"
          ]
        },
        {
          "metadata": {
            "tags": null
          },
          "name": "stderr",
          "output_type": "stream",
          "text": [
            "\r 34%|███▍      | 374/1098 [10:33<36:02,  2.99s/it]"
          ]
        },
        {
          "metadata": {
            "tags": null
          },
          "name": "stdout",
          "output_type": "stream",
          "text": [
            "\n",
            "동명이인 존재 : 박준태\n",
            "생일로 찾음\n"
          ]
        },
        {
          "metadata": {
            "tags": null
          },
          "name": "stderr",
          "output_type": "stream",
          "text": [
            " 34%|███▍      | 377/1098 [10:37<23:26,  1.95s/it]"
          ]
        },
        {
          "metadata": {
            "tags": null
          },
          "name": "stdout",
          "output_type": "stream",
          "text": [
            "\n",
            "동명이인 존재 : 박준혁\n",
            "생일로 찾음\n"
          ]
        },
        {
          "metadata": {
            "tags": null
          },
          "name": "stderr",
          "output_type": "stream",
          "text": [
            "\r 34%|███▍      | 378/1098 [10:39<23:10,  1.93s/it]"
          ]
        },
        {
          "metadata": {
            "tags": null
          },
          "name": "stdout",
          "output_type": "stream",
          "text": [
            "\n",
            "동명이인 존재 : 김민수\n",
            "생일로 찾음\n"
          ]
        },
        {
          "metadata": {
            "tags": null
          },
          "name": "stderr",
          "output_type": "stream",
          "text": [
            " 35%|███▍      | 380/1098 [10:42<19:07,  1.60s/it]"
          ]
        },
        {
          "metadata": {
            "tags": null
          },
          "name": "stdout",
          "output_type": "stream",
          "text": [
            "\n",
            "동명이인 존재 : 조용호\n",
            "생일로 찾음\n"
          ]
        },
        {
          "metadata": {
            "tags": null
          },
          "name": "stderr",
          "output_type": "stream",
          "text": [
            " 35%|███▌      | 385/1098 [10:49<15:34,  1.31s/it]"
          ]
        },
        {
          "metadata": {
            "tags": null
          },
          "name": "stdout",
          "output_type": "stream",
          "text": [
            "\n",
            "동명이인 존재 : 김재성\n",
            "김재성 생일 저장\n",
            "기록과 일치하는 선수 찾음\n"
          ]
        },
        {
          "metadata": {
            "tags": null
          },
          "name": "stderr",
          "output_type": "stream",
          "text": [
            " 36%|███▌      | 398/1098 [11:06<12:45,  1.09s/it]"
          ]
        },
        {
          "metadata": {
            "tags": null
          },
          "name": "stdout",
          "output_type": "stream",
          "text": [
            "\n",
            "동명이인 존재 : 최승민\n",
            "최승민 생일 저장\n",
            "기록과 일치하는 선수 찾음\n"
          ]
        },
        {
          "metadata": {
            "tags": null
          },
          "name": "stderr",
          "output_type": "stream",
          "text": [
            " 37%|███▋      | 404/1098 [11:15<12:29,  1.08s/it]"
          ]
        },
        {
          "metadata": {
            "tags": null
          },
          "name": "stdout",
          "output_type": "stream",
          "text": [
            "\n",
            "동명이인 존재 : 김성훈\n",
            "생일로 찾음\n"
          ]
        },
        {
          "metadata": {
            "tags": null
          },
          "name": "stderr",
          "output_type": "stream",
          "text": [
            " 37%|███▋      | 407/1098 [11:18<12:45,  1.11s/it]"
          ]
        },
        {
          "metadata": {
            "tags": null
          },
          "name": "stdout",
          "output_type": "stream",
          "text": [
            "\n",
            "동명이인 존재 : 최원준\n",
            "생일로 찾음\n"
          ]
        },
        {
          "metadata": {
            "tags": null
          },
          "name": "stderr",
          "output_type": "stream",
          "text": [
            " 37%|███▋      | 409/1098 [11:22<15:22,  1.34s/it]"
          ]
        },
        {
          "metadata": {
            "tags": null
          },
          "name": "stdout",
          "output_type": "stream",
          "text": [
            "\n",
            "동명이인 존재 : 이진영\n",
            "이진영 생일 저장\n",
            "기록과 일치하는 선수 찾음\n"
          ]
        },
        {
          "metadata": {
            "tags": null
          },
          "name": "stderr",
          "output_type": "stream",
          "text": [
            " 37%|███▋      | 411/1098 [11:27<20:46,  1.81s/it]"
          ]
        },
        {
          "metadata": {
            "tags": null
          },
          "name": "stdout",
          "output_type": "stream",
          "text": [
            "\n",
            "동명이인 존재 : 이동훈\n",
            "생일로 찾음\n"
          ]
        },
        {
          "metadata": {
            "tags": null
          },
          "name": "stderr",
          "output_type": "stream",
          "text": [
            " 38%|███▊      | 421/1098 [11:39<16:15,  1.44s/it]"
          ]
        },
        {
          "metadata": {
            "tags": null
          },
          "name": "stdout",
          "output_type": "stream",
          "text": [
            "\n",
            "동명이인 존재 : 전준호\n",
            "전준호 생일 저장\n",
            "기록과 일치하는 선수 찾음\n"
          ]
        },
        {
          "metadata": {
            "tags": null
          },
          "name": "stderr",
          "output_type": "stream",
          "text": [
            " 39%|███▉      | 427/1098 [11:53<23:54,  2.14s/it]"
          ]
        },
        {
          "metadata": {
            "tags": null
          },
          "name": "stdout",
          "output_type": "stream",
          "text": [
            "\n",
            "동명이인 존재 : 김민수\n",
            "김민수 생일 저장\n",
            "기록과 일치하는 선수 찾음\n"
          ]
        },
        {
          "metadata": {
            "tags": null
          },
          "name": "stderr",
          "output_type": "stream",
          "text": [
            " 39%|███▉      | 429/1098 [11:58<23:20,  2.09s/it]"
          ]
        },
        {
          "metadata": {
            "tags": null
          },
          "name": "stdout",
          "output_type": "stream",
          "text": [
            "\n",
            "동명이인 존재 : 이정훈\n",
            "이정훈 생일 저장\n",
            "기록과 일치하는 선수 찾음\n"
          ]
        },
        {
          "metadata": {
            "tags": null
          },
          "name": "stderr",
          "output_type": "stream",
          "text": [
            " 40%|████      | 442/1098 [12:23<13:27,  1.23s/it]"
          ]
        },
        {
          "metadata": {
            "tags": null
          },
          "name": "stdout",
          "output_type": "stream",
          "text": [
            "\n",
            "동명이인 존재 : 이원석\n",
            "이원석 생일 저장\n",
            "기록과 일치하는 선수 찾음\n"
          ]
        },
        {
          "metadata": {
            "tags": null
          },
          "name": "stderr",
          "output_type": "stream",
          "text": [
            " 41%|████      | 447/1098 [12:33<16:11,  1.49s/it]"
          ]
        },
        {
          "metadata": {
            "tags": null
          },
          "name": "stdout",
          "output_type": "stream",
          "text": [
            "\n",
            "동명이인 존재 : 오영수\n",
            "오영수 생일 저장\n",
            "기록과 일치하는 선수 찾음\n"
          ]
        },
        {
          "metadata": {
            "tags": null
          },
          "name": "stderr",
          "output_type": "stream",
          "text": [
            " 41%|████      | 450/1098 [12:38<17:13,  1.59s/it]"
          ]
        },
        {
          "metadata": {
            "tags": null
          },
          "name": "stdout",
          "output_type": "stream",
          "text": [
            "\n",
            "동명이인 존재 : 박민석\n",
            "박민석 생일 저장\n",
            "기록과 일치하는 선수 찾음\n"
          ]
        },
        {
          "metadata": {
            "tags": null
          },
          "name": "stderr",
          "output_type": "stream",
          "text": [
            " 41%|████▏     | 455/1098 [12:47<15:27,  1.44s/it]"
          ]
        },
        {
          "metadata": {
            "tags": null
          },
          "name": "stdout",
          "output_type": "stream",
          "text": [
            "\n",
            "동명이인 존재 : 페르난데스\n",
            "페르난데스 생일 저장\n",
            "기록과 일치하는 선수 찾음\n"
          ]
        },
        {
          "metadata": {
            "tags": null
          },
          "name": "stderr",
          "output_type": "stream",
          "text": [
            " 42%|████▏     | 457/1098 [12:53<21:11,  1.98s/it]"
          ]
        },
        {
          "metadata": {
            "tags": null
          },
          "name": "stdout",
          "output_type": "stream",
          "text": [
            "\n",
            "동명이인 존재 : 김주형\n",
            "김주형 생일 저장\n",
            "기록과 일치하는 선수 찾음\n"
          ]
        },
        {
          "metadata": {
            "tags": null
          },
          "name": "stderr",
          "output_type": "stream",
          "text": [
            " 42%|████▏     | 466/1098 [13:05<14:28,  1.37s/it]"
          ]
        },
        {
          "metadata": {
            "tags": null
          },
          "name": "stdout",
          "output_type": "stream",
          "text": [
            "\n",
            "동명이인 존재 : 윌슨\n",
            "윌슨 생일 저장\n",
            "기록과 일치하는 선수 찾음\n"
          ]
        },
        {
          "metadata": {
            "tags": null
          },
          "name": "stderr",
          "output_type": "stream",
          "text": [
            " 43%|████▎     | 476/1098 [13:21<11:47,  1.14s/it]"
          ]
        },
        {
          "metadata": {
            "tags": null
          },
          "name": "stdout",
          "output_type": "stream",
          "text": [
            "\n",
            "동명이인 존재 : 김성민\n",
            "김성민 생일 저장\n",
            "기록과 일치하는 선수 찾음\n"
          ]
        },
        {
          "metadata": {
            "tags": null
          },
          "name": "stderr",
          "output_type": "stream",
          "text": [
            " 44%|████▍     | 484/1098 [13:35<17:34,  1.72s/it]"
          ]
        },
        {
          "metadata": {
            "tags": null
          },
          "name": "stdout",
          "output_type": "stream",
          "text": [
            "\n",
            "동명이인 존재 : 김태균\n"
          ]
        },
        {
          "metadata": {
            "tags": null
          },
          "name": "stderr",
          "output_type": "stream",
          "text": [
            "\r 44%|████▍     | 485/1098 [13:38<21:27,  2.10s/it]"
          ]
        },
        {
          "metadata": {
            "tags": null
          },
          "name": "stdout",
          "output_type": "stream",
          "text": [
            "기록과 일치하는 선수 못찾음\n"
          ]
        },
        {
          "metadata": {
            "tags": null
          },
          "name": "stderr",
          "output_type": "stream",
          "text": [
            " 45%|████▌     | 498/1098 [13:59<16:37,  1.66s/it]"
          ]
        },
        {
          "metadata": {
            "tags": null
          },
          "name": "stdout",
          "output_type": "stream",
          "text": [
            "\n",
            "동명이인 존재 : 윤석민\n",
            "생일로 찾음\n"
          ]
        },
        {
          "metadata": {
            "tags": null
          },
          "name": "stderr",
          "output_type": "stream",
          "text": [
            " 46%|████▌     | 504/1098 [14:11<15:34,  1.57s/it]"
          ]
        },
        {
          "metadata": {
            "tags": null
          },
          "name": "stdout",
          "output_type": "stream",
          "text": [
            "\n",
            "동명이인 존재 : 박병호\n",
            "생일로 찾음\n"
          ]
        },
        {
          "metadata": {
            "tags": null
          },
          "name": "stderr",
          "output_type": "stream",
          "text": [
            " 46%|████▌     | 507/1098 [14:18<19:22,  1.97s/it]"
          ]
        },
        {
          "metadata": {
            "tags": null
          },
          "name": "stdout",
          "output_type": "stream",
          "text": [
            "\n",
            "동명이인 존재 : 이원석\n",
            "생일로 찾음\n"
          ]
        },
        {
          "metadata": {
            "tags": null
          },
          "name": "stderr",
          "output_type": "stream",
          "text": [
            " 46%|████▋     | 510/1098 [14:24<20:21,  2.08s/it]"
          ]
        },
        {
          "metadata": {
            "tags": null
          },
          "name": "stdout",
          "output_type": "stream",
          "text": [
            "\n",
            "동명이인 존재 : 이병규\n",
            "생일로 찾음\n"
          ]
        },
        {
          "metadata": {
            "tags": null
          },
          "name": "stderr",
          "output_type": "stream",
          "text": [
            " 47%|████▋     | 515/1098 [14:32<17:09,  1.77s/it]"
          ]
        },
        {
          "metadata": {
            "tags": null
          },
          "name": "stdout",
          "output_type": "stream",
          "text": [
            "\n",
            "동명이인 존재 : 김현수\n",
            "생일로 찾음\n"
          ]
        },
        {
          "metadata": {
            "tags": null
          },
          "name": "stderr",
          "output_type": "stream",
          "text": [
            " 47%|████▋     | 521/1098 [14:43<15:38,  1.63s/it]"
          ]
        },
        {
          "metadata": {
            "tags": null
          },
          "name": "stdout",
          "output_type": "stream",
          "text": [
            "\n",
            "동명이인 존재 : 김성현\n",
            "생일로 찾음\n"
          ]
        },
        {
          "metadata": {
            "tags": null
          },
          "name": "stderr",
          "output_type": "stream",
          "text": [
            "\r 48%|████▊     | 522/1098 [14:45<18:31,  1.93s/it]"
          ]
        },
        {
          "metadata": {
            "tags": null
          },
          "name": "stdout",
          "output_type": "stream",
          "text": [
            "\n",
            "동명이인 존재 : 이재원\n",
            "생일로 찾음\n"
          ]
        },
        {
          "metadata": {
            "tags": null
          },
          "name": "stderr",
          "output_type": "stream",
          "text": [
            "\r 48%|████▊     | 523/1098 [14:48<20:28,  2.14s/it]"
          ]
        },
        {
          "metadata": {
            "tags": null
          },
          "name": "stdout",
          "output_type": "stream",
          "text": [
            "\n",
            "동명이인 존재 : 이명기\n",
            "생일로 찾음\n"
          ]
        },
        {
          "metadata": {
            "tags": null
          },
          "name": "stderr",
          "output_type": "stream",
          "text": [
            "\r 48%|████▊     | 524/1098 [14:51<22:00,  2.30s/it]"
          ]
        },
        {
          "metadata": {
            "tags": null
          },
          "name": "stdout",
          "output_type": "stream",
          "text": [
            "\n",
            "동명이인 존재 : 김재현\n",
            "생일로 찾음\n"
          ]
        },
        {
          "metadata": {
            "tags": null
          },
          "name": "stderr",
          "output_type": "stream",
          "text": [
            " 50%|█████     | 551/1098 [15:37<14:54,  1.64s/it]"
          ]
        },
        {
          "metadata": {
            "tags": null
          },
          "name": "stdout",
          "output_type": "stream",
          "text": [
            "\n",
            "동명이인 존재 : 박건우\n",
            "생일로 찾음\n"
          ]
        },
        {
          "metadata": {
            "tags": null
          },
          "name": "stderr",
          "output_type": "stream",
          "text": [
            " 51%|█████     | 556/1098 [15:46<14:42,  1.63s/it]"
          ]
        },
        {
          "metadata": {
            "tags": null
          },
          "name": "stdout",
          "output_type": "stream",
          "text": [
            "\n",
            "동명이인 존재 : 김지수\n",
            "생일로 찾음\n"
          ]
        },
        {
          "metadata": {
            "tags": null
          },
          "name": "stderr",
          "output_type": "stream",
          "text": [
            " 51%|█████     | 558/1098 [15:49<15:13,  1.69s/it]"
          ]
        },
        {
          "metadata": {
            "tags": null
          },
          "name": "stdout",
          "output_type": "stream",
          "text": [
            "\n",
            "동명이인 존재 : 김종민\n",
            "생일로 찾음\n"
          ]
        },
        {
          "metadata": {
            "tags": null
          },
          "name": "stderr",
          "output_type": "stream",
          "text": [
            " 51%|█████     | 560/1098 [15:53<14:57,  1.67s/it]"
          ]
        },
        {
          "metadata": {
            "tags": null
          },
          "name": "stdout",
          "output_type": "stream",
          "text": [
            "\n",
            "동명이인 존재 : 김상수\n",
            "생일로 찾음\n"
          ]
        },
        {
          "metadata": {
            "tags": null
          },
          "name": "stderr",
          "output_type": "stream",
          "text": [
            " 52%|█████▏    | 566/1098 [16:03<13:26,  1.52s/it]"
          ]
        },
        {
          "metadata": {
            "tags": null
          },
          "name": "stdout",
          "output_type": "stream",
          "text": [
            "\n",
            "동명이인 존재 : 천성호\n",
            "천성호 생일 저장\n",
            "기록과 일치하는 선수 찾음\n"
          ]
        },
        {
          "metadata": {
            "tags": null
          },
          "name": "stderr",
          "output_type": "stream",
          "text": [
            " 52%|█████▏    | 571/1098 [16:12<13:26,  1.53s/it]"
          ]
        },
        {
          "metadata": {
            "tags": null
          },
          "name": "stdout",
          "output_type": "stream",
          "text": [
            "\n",
            "동명이인 존재 : 박지훈\n",
            "박지훈 생일 저장\n",
            "기록과 일치하는 선수 찾음\n"
          ]
        },
        {
          "metadata": {
            "tags": null
          },
          "name": "stderr",
          "output_type": "stream",
          "text": [
            " 53%|█████▎    | 577/1098 [16:21<11:52,  1.37s/it]"
          ]
        },
        {
          "metadata": {
            "tags": null
          },
          "name": "stdout",
          "output_type": "stream",
          "text": [
            "\n",
            "동명이인 존재 : 박주홍\n",
            "박주홍 생일 저장\n",
            "기록과 일치하는 선수 찾음\n"
          ]
        },
        {
          "metadata": {
            "tags": null
          },
          "name": "stderr",
          "output_type": "stream",
          "text": [
            " 53%|█████▎    | 587/1098 [16:37<11:16,  1.32s/it]"
          ]
        },
        {
          "metadata": {
            "tags": null
          },
          "name": "stdout",
          "output_type": "stream",
          "text": [
            "\n",
            "동명이인 존재 : 박정현\n",
            "박정현 생일 저장\n",
            "기록과 일치하는 선수 찾음\n"
          ]
        },
        {
          "metadata": {
            "tags": null
          },
          "name": "stderr",
          "output_type": "stream",
          "text": [
            " 54%|█████▎    | 589/1098 [16:42<17:03,  2.01s/it]"
          ]
        },
        {
          "metadata": {
            "tags": null
          },
          "name": "stdout",
          "output_type": "stream",
          "text": [
            "\n",
            "동명이인 존재 : 화이트\n",
            "화이트 생일 저장\n",
            "기록과 일치하는 선수 찾음\n"
          ]
        },
        {
          "metadata": {
            "tags": null
          },
          "name": "stderr",
          "output_type": "stream",
          "text": [
            " 54%|█████▍    | 591/1098 [16:47<17:17,  2.05s/it]"
          ]
        },
        {
          "metadata": {
            "tags": null
          },
          "name": "stdout",
          "output_type": "stream",
          "text": [
            "\n",
            "동명이인 존재 : 김성민\n",
            "김성민 생일 저장\n",
            "기록과 일치하는 선수 찾음\n"
          ]
        },
        {
          "metadata": {
            "tags": null
          },
          "name": "stderr",
          "output_type": "stream",
          "text": [
            " 54%|█████▍    | 597/1098 [16:58<12:51,  1.54s/it]"
          ]
        },
        {
          "metadata": {
            "tags": null
          },
          "name": "stdout",
          "output_type": "stream",
          "text": [
            "\n",
            "동명이인 존재 : 이해창\n",
            "생일로 찾음\n"
          ]
        },
        {
          "metadata": {
            "tags": null
          },
          "name": "stderr",
          "output_type": "stream",
          "text": [
            " 55%|█████▍    | 600/1098 [17:03<14:01,  1.69s/it]"
          ]
        },
        {
          "metadata": {
            "tags": null
          },
          "name": "stdout",
          "output_type": "stream",
          "text": [
            "\n",
            "동명이인 존재 : 이상호\n",
            "생일로 찾음\n"
          ]
        },
        {
          "metadata": {
            "tags": null
          },
          "name": "stderr",
          "output_type": "stream",
          "text": [
            " 55%|█████▌    | 605/1098 [17:12<12:33,  1.53s/it]"
          ]
        },
        {
          "metadata": {
            "tags": null
          },
          "name": "stdout",
          "output_type": "stream",
          "text": [
            "\n",
            "동명이인 존재 : 정진호\n",
            "생일로 찾음\n"
          ]
        },
        {
          "metadata": {
            "tags": null
          },
          "name": "stderr",
          "output_type": "stream",
          "text": [
            " 56%|█████▌    | 613/1098 [17:24<11:18,  1.40s/it]"
          ]
        },
        {
          "metadata": {
            "tags": null
          },
          "name": "stdout",
          "output_type": "stream",
          "text": [
            "\n",
            "동명이인 존재 : 이원재\n",
            "생일로 찾음\n"
          ]
        },
        {
          "metadata": {
            "tags": null
          },
          "name": "stderr",
          "output_type": "stream",
          "text": [
            " 56%|█████▌    | 617/1098 [17:31<14:01,  1.75s/it]"
          ]
        },
        {
          "metadata": {
            "tags": null
          },
          "name": "stdout",
          "output_type": "stream",
          "text": [
            "\n",
            "동명이인 존재 : 김재현\n",
            "생일로 찾음\n"
          ]
        },
        {
          "metadata": {
            "tags": null
          },
          "name": "stderr",
          "output_type": "stream",
          "text": [
            " 60%|█████▉    | 658/1098 [18:29<10:20,  1.41s/it]"
          ]
        },
        {
          "metadata": {
            "tags": null
          },
          "name": "stdout",
          "output_type": "stream",
          "text": [
            "\n",
            "동명이인 존재 : 김민혁\n",
            "생일로 찾음\n"
          ]
        },
        {
          "metadata": {
            "tags": null
          },
          "name": "stderr",
          "output_type": "stream",
          "text": [
            " 61%|██████    | 671/1098 [18:47<09:04,  1.27s/it]"
          ]
        },
        {
          "metadata": {
            "tags": null
          },
          "name": "stdout",
          "output_type": "stream",
          "text": [
            "\n",
            "동명이인 존재 : 김경호\n",
            "생일로 찾음\n"
          ]
        },
        {
          "metadata": {
            "tags": null
          },
          "name": "stderr",
          "output_type": "stream",
          "text": [
            " 62%|██████▏   | 680/1098 [19:01<08:45,  1.26s/it]"
          ]
        },
        {
          "metadata": {
            "tags": null
          },
          "name": "stdout",
          "output_type": "stream",
          "text": [
            "\n",
            "동명이인 존재 : 김재현\n",
            "생일로 찾음\n"
          ]
        },
        {
          "metadata": {
            "tags": null
          },
          "name": "stderr",
          "output_type": "stream",
          "text": [
            " 62%|██████▏   | 685/1098 [19:07<08:56,  1.30s/it]"
          ]
        },
        {
          "metadata": {
            "tags": null
          },
          "name": "stdout",
          "output_type": "stream",
          "text": [
            "\n",
            "동명이인 존재 : 박찬호\n",
            "생일로 찾음\n"
          ]
        },
        {
          "metadata": {
            "tags": null
          },
          "name": "stderr",
          "output_type": "stream",
          "text": [
            "\r 62%|██████▏   | 686/1098 [19:10<11:41,  1.70s/it]"
          ]
        },
        {
          "metadata": {
            "tags": null
          },
          "name": "stdout",
          "output_type": "stream",
          "text": [
            "\n",
            "동명이인 존재 : 박준태\n",
            "생일로 찾음\n"
          ]
        },
        {
          "metadata": {
            "tags": null
          },
          "name": "stderr",
          "output_type": "stream",
          "text": [
            " 63%|██████▎   | 689/1098 [19:15<10:24,  1.53s/it]"
          ]
        },
        {
          "metadata": {
            "tags": null
          },
          "name": "stdout",
          "output_type": "stream",
          "text": [
            "\n",
            "동명이인 존재 : 김민수\n",
            "생일로 찾음\n"
          ]
        },
        {
          "metadata": {
            "tags": null
          },
          "name": "stderr",
          "output_type": "stream",
          "text": [
            "\r 63%|██████▎   | 690/1098 [19:16<10:28,  1.54s/it]"
          ]
        },
        {
          "metadata": {
            "tags": null
          },
          "name": "stdout",
          "output_type": "stream",
          "text": [
            "\n",
            "동명이인 존재 : 조용호\n",
            "생일로 찾음\n"
          ]
        },
        {
          "metadata": {
            "tags": null
          },
          "name": "stderr",
          "output_type": "stream",
          "text": [
            " 63%|██████▎   | 694/1098 [19:23<10:25,  1.55s/it]"
          ]
        },
        {
          "metadata": {
            "tags": null
          },
          "name": "stdout",
          "output_type": "stream",
          "text": [
            "\n",
            "동명이인 존재 : 김태훈\n",
            "김태훈 생일 저장\n",
            "기록과 일치하는 선수 찾음\n"
          ]
        },
        {
          "metadata": {
            "tags": null
          },
          "name": "stderr",
          "output_type": "stream",
          "text": [
            " 64%|██████▍   | 702/1098 [19:35<08:30,  1.29s/it]"
          ]
        },
        {
          "metadata": {
            "tags": null
          },
          "name": "stdout",
          "output_type": "stream",
          "text": [
            "\n",
            "동명이인 존재 : 김기환\n",
            "김기환 생일 저장\n",
            "기록과 일치하는 선수 찾음\n"
          ]
        },
        {
          "metadata": {
            "tags": null
          },
          "name": "stderr",
          "output_type": "stream",
          "text": [
            " 64%|██████▍   | 704/1098 [19:40<12:21,  1.88s/it]"
          ]
        },
        {
          "metadata": {
            "tags": null
          },
          "name": "stdout",
          "output_type": "stream",
          "text": [
            "\n",
            "동명이인 존재 : 김지수\n",
            "김지수 생일 저장\n",
            "기록과 일치하는 선수 찾음\n"
          ]
        },
        {
          "metadata": {
            "tags": null
          },
          "name": "stderr",
          "output_type": "stream",
          "text": [
            " 66%|██████▌   | 722/1098 [20:12<09:26,  1.51s/it]"
          ]
        },
        {
          "metadata": {
            "tags": null
          },
          "name": "stdout",
          "output_type": "stream",
          "text": [
            "\n",
            "동명이인 존재 : 최원준\n",
            "생일로 찾음\n"
          ]
        },
        {
          "metadata": {
            "tags": null
          },
          "name": "stderr",
          "output_type": "stream",
          "text": [
            " 66%|██████▌   | 724/1098 [20:16<10:47,  1.73s/it]"
          ]
        },
        {
          "metadata": {
            "tags": null
          },
          "name": "stdout",
          "output_type": "stream",
          "text": [
            "\n",
            "동명이인 존재 : 이진영\n",
            "생일로 찾음\n"
          ]
        },
        {
          "metadata": {
            "tags": null
          },
          "name": "stderr",
          "output_type": "stream",
          "text": [
            "\r 66%|██████▌   | 725/1098 [20:18<10:29,  1.69s/it]"
          ]
        },
        {
          "metadata": {
            "tags": null
          },
          "name": "stdout",
          "output_type": "stream",
          "text": [
            "\n",
            "동명이인 존재 : 이동훈\n",
            "생일로 찾음\n"
          ]
        },
        {
          "metadata": {
            "tags": null
          },
          "name": "stderr",
          "output_type": "stream",
          "text": [
            " 66%|██████▋   | 730/1098 [20:25<09:04,  1.48s/it]"
          ]
        },
        {
          "metadata": {
            "tags": null
          },
          "name": "stdout",
          "output_type": "stream",
          "text": [
            "\n",
            "동명이인 존재 : 박준영\n",
            "박준영 생일 저장\n",
            "기록과 일치하는 선수 찾음\n"
          ]
        },
        {
          "metadata": {
            "tags": null
          },
          "name": "stderr",
          "output_type": "stream",
          "text": [
            " 67%|██████▋   | 740/1098 [20:45<10:12,  1.71s/it]"
          ]
        },
        {
          "metadata": {
            "tags": null
          },
          "name": "stdout",
          "output_type": "stream",
          "text": [
            "\n",
            "동명이인 존재 : 김민수\n",
            "생일로 찾음\n"
          ]
        },
        {
          "metadata": {
            "tags": null
          },
          "name": "stderr",
          "output_type": "stream",
          "text": [
            "\r 67%|██████▋   | 741/1098 [20:46<09:58,  1.68s/it]"
          ]
        },
        {
          "metadata": {
            "tags": null
          },
          "name": "stdout",
          "output_type": "stream",
          "text": [
            "\n",
            "동명이인 존재 : 이정훈\n",
            "생일로 찾음\n"
          ]
        },
        {
          "metadata": {
            "tags": null
          },
          "name": "stderr",
          "output_type": "stream",
          "text": [
            " 68%|██████▊   | 744/1098 [20:51<09:45,  1.65s/it]"
          ]
        },
        {
          "metadata": {
            "tags": null
          },
          "name": "stdout",
          "output_type": "stream",
          "text": [
            "\n",
            "동명이인 존재 : 박준혁\n",
            "박준혁 생일 저장\n",
            "기록과 일치하는 선수 찾음\n"
          ]
        },
        {
          "metadata": {
            "tags": null
          },
          "name": "stderr",
          "output_type": "stream",
          "text": [
            " 68%|██████▊   | 746/1098 [20:57<12:25,  2.12s/it]"
          ]
        },
        {
          "metadata": {
            "tags": null
          },
          "name": "stdout",
          "output_type": "stream",
          "text": [
            "\n",
            "동명이인 존재 : 이재원\n",
            "이재원 생일 저장\n",
            "기록과 일치하는 선수 찾음\n"
          ]
        },
        {
          "metadata": {
            "tags": null
          },
          "name": "stderr",
          "output_type": "stream",
          "text": [
            " 68%|██████▊   | 748/1098 [21:02<12:46,  2.19s/it]"
          ]
        },
        {
          "metadata": {
            "tags": null
          },
          "name": "stdout",
          "output_type": "stream",
          "text": [
            "\n",
            "동명이인 존재 : 이승민\n",
            "이승민 생일 저장\n",
            "기록과 일치하는 선수 찾음\n"
          ]
        },
        {
          "metadata": {
            "tags": null
          },
          "name": "stderr",
          "output_type": "stream",
          "text": [
            " 69%|██████▉   | 755/1098 [21:13<10:01,  1.75s/it]"
          ]
        },
        {
          "metadata": {
            "tags": null
          },
          "name": "stdout",
          "output_type": "stream",
          "text": [
            "\n",
            "동명이인 존재 : 김진욱\n",
            "김진욱 생일 저장\n",
            "기록과 일치하는 선수 찾음\n"
          ]
        },
        {
          "metadata": {
            "tags": null
          },
          "name": "stderr",
          "output_type": "stream",
          "text": [
            " 69%|██████▉   | 761/1098 [21:23<08:25,  1.50s/it]"
          ]
        },
        {
          "metadata": {
            "tags": null
          },
          "name": "stdout",
          "output_type": "stream",
          "text": [
            "\n",
            "동명이인 존재 : 페르난데스\n",
            "생일로 찾음\n"
          ]
        },
        {
          "metadata": {
            "tags": null
          },
          "name": "stderr",
          "output_type": "stream",
          "text": [
            "\r 69%|██████▉   | 762/1098 [21:26<10:48,  1.93s/it]"
          ]
        },
        {
          "metadata": {
            "tags": null
          },
          "name": "stdout",
          "output_type": "stream",
          "text": [
            "\n",
            "동명이인 존재 : 김주형\n",
            "생일로 찾음\n"
          ]
        },
        {
          "metadata": {
            "tags": null
          },
          "name": "stderr",
          "output_type": "stream",
          "text": [
            " 70%|███████   | 771/1098 [21:40<08:50,  1.62s/it]"
          ]
        },
        {
          "metadata": {
            "tags": null
          },
          "name": "stdout",
          "output_type": "stream",
          "text": [
            "\n",
            "동명이인 존재 : 김현민\n",
            "김현민 생일 저장\n",
            "기록과 일치하는 선수 찾음\n"
          ]
        },
        {
          "metadata": {
            "tags": null
          },
          "name": "stderr",
          "output_type": "stream",
          "text": [
            " 71%|███████▏  | 783/1098 [21:57<07:52,  1.50s/it]"
          ]
        },
        {
          "metadata": {
            "tags": null
          },
          "name": "stdout",
          "output_type": "stream",
          "text": [
            "\n",
            "동명이인 존재 : 김태균\n"
          ]
        },
        {
          "metadata": {
            "tags": null
          },
          "name": "stderr",
          "output_type": "stream",
          "text": [
            "\r 71%|███████▏  | 784/1098 [22:00<09:56,  1.90s/it]"
          ]
        },
        {
          "metadata": {
            "tags": null
          },
          "name": "stdout",
          "output_type": "stream",
          "text": [
            "기록과 일치하는 선수 못찾음\n"
          ]
        },
        {
          "metadata": {
            "tags": null
          },
          "name": "stderr",
          "output_type": "stream",
          "text": [
            " 72%|███████▏  | 795/1098 [22:20<10:07,  2.00s/it]"
          ]
        },
        {
          "metadata": {
            "tags": null
          },
          "name": "stdout",
          "output_type": "stream",
          "text": [
            "\n",
            "동명이인 존재 : 윤석민\n",
            "생일로 찾음\n"
          ]
        },
        {
          "metadata": {
            "tags": null
          },
          "name": "stderr",
          "output_type": "stream",
          "text": [
            " 73%|███████▎  | 800/1098 [22:30<09:35,  1.93s/it]"
          ]
        },
        {
          "metadata": {
            "tags": null
          },
          "name": "stdout",
          "output_type": "stream",
          "text": [
            "\n",
            "동명이인 존재 : 박병호\n",
            "생일로 찾음\n"
          ]
        },
        {
          "metadata": {
            "tags": null
          },
          "name": "stderr",
          "output_type": "stream",
          "text": [
            " 73%|███████▎  | 803/1098 [22:36<09:58,  2.03s/it]"
          ]
        },
        {
          "metadata": {
            "tags": null
          },
          "name": "stdout",
          "output_type": "stream",
          "text": [
            "\n",
            "동명이인 존재 : 이원석\n",
            "생일로 찾음\n"
          ]
        },
        {
          "metadata": {
            "tags": null
          },
          "name": "stderr",
          "output_type": "stream",
          "text": [
            " 73%|███████▎  | 806/1098 [22:43<10:04,  2.07s/it]"
          ]
        },
        {
          "metadata": {
            "tags": null
          },
          "name": "stdout",
          "output_type": "stream",
          "text": [
            "\n",
            "동명이인 존재 : 이병규\n",
            "생일로 찾음\n"
          ]
        },
        {
          "metadata": {
            "tags": null
          },
          "name": "stderr",
          "output_type": "stream",
          "text": [
            " 74%|███████▍  | 811/1098 [22:53<09:44,  2.04s/it]"
          ]
        },
        {
          "metadata": {
            "tags": null
          },
          "name": "stdout",
          "output_type": "stream",
          "text": [
            "\n",
            "동명이인 존재 : 김현수\n",
            "생일로 찾음\n"
          ]
        },
        {
          "metadata": {
            "tags": null
          },
          "name": "stderr",
          "output_type": "stream",
          "text": [
            " 74%|███████▍  | 815/1098 [23:01<08:52,  1.88s/it]"
          ]
        },
        {
          "metadata": {
            "tags": null
          },
          "name": "stdout",
          "output_type": "stream",
          "text": [
            "\n",
            "동명이인 존재 : 김성현\n",
            "생일로 찾음\n"
          ]
        },
        {
          "metadata": {
            "tags": null
          },
          "name": "stderr",
          "output_type": "stream",
          "text": [
            "\r 74%|███████▍  | 816/1098 [23:03<09:29,  2.02s/it]"
          ]
        },
        {
          "metadata": {
            "tags": null
          },
          "name": "stdout",
          "output_type": "stream",
          "text": [
            "\n",
            "동명이인 존재 : 이재원\n",
            "생일로 찾음\n"
          ]
        },
        {
          "metadata": {
            "tags": null
          },
          "name": "stderr",
          "output_type": "stream",
          "text": [
            "\r 74%|███████▍  | 817/1098 [23:05<09:52,  2.11s/it]"
          ]
        },
        {
          "metadata": {
            "tags": null
          },
          "name": "stdout",
          "output_type": "stream",
          "text": [
            "\n",
            "동명이인 존재 : 이명기\n",
            "생일로 찾음\n"
          ]
        },
        {
          "metadata": {
            "tags": null
          },
          "name": "stderr",
          "output_type": "stream",
          "text": [
            "\r 74%|███████▍  | 818/1098 [23:08<10:48,  2.32s/it]"
          ]
        },
        {
          "metadata": {
            "tags": null
          },
          "name": "stdout",
          "output_type": "stream",
          "text": [
            "\n",
            "동명이인 존재 : 김재현\n",
            "생일로 찾음\n"
          ]
        },
        {
          "metadata": {
            "tags": null
          },
          "name": "stderr",
          "output_type": "stream",
          "text": [
            " 77%|███████▋  | 842/1098 [23:53<08:40,  2.03s/it]"
          ]
        },
        {
          "metadata": {
            "tags": null
          },
          "name": "stdout",
          "output_type": "stream",
          "text": [
            "\n",
            "동명이인 존재 : 박건우\n",
            "생일로 찾음\n"
          ]
        },
        {
          "metadata": {
            "tags": null
          },
          "name": "stderr",
          "output_type": "stream",
          "text": [
            " 77%|███████▋  | 848/1098 [24:05<07:24,  1.78s/it]"
          ]
        },
        {
          "metadata": {
            "tags": null
          },
          "name": "stdout",
          "output_type": "stream",
          "text": [
            "\n",
            "동명이인 존재 : 김상수\n",
            "생일로 찾음\n"
          ]
        },
        {
          "metadata": {
            "tags": null
          },
          "name": "stderr",
          "output_type": "stream",
          "text": [
            " 78%|███████▊  | 852/1098 [24:12<07:33,  1.84s/it]"
          ]
        },
        {
          "metadata": {
            "tags": null
          },
          "name": "stdout",
          "output_type": "stream",
          "text": [
            "\n",
            "동명이인 존재 : 천성호\n",
            "생일로 찾음\n"
          ]
        },
        {
          "metadata": {
            "tags": null
          },
          "name": "stderr",
          "output_type": "stream",
          "text": [
            " 78%|███████▊  | 855/1098 [24:17<06:19,  1.56s/it]"
          ]
        },
        {
          "metadata": {
            "tags": null
          },
          "name": "stdout",
          "output_type": "stream",
          "text": [
            "\n",
            "동명이인 존재 : 이주형\n"
          ]
        },
        {
          "metadata": {
            "tags": null
          },
          "name": "stderr",
          "output_type": "stream",
          "text": [
            "\r 78%|███████▊  | 856/1098 [24:20<08:07,  2.01s/it]"
          ]
        },
        {
          "metadata": {
            "tags": null
          },
          "name": "stdout",
          "output_type": "stream",
          "text": [
            "기록과 일치하는 선수 못찾음\n"
          ]
        },
        {
          "metadata": {
            "tags": null
          },
          "name": "stderr",
          "output_type": "stream",
          "text": [
            " 78%|███████▊  | 860/1098 [24:25<05:33,  1.40s/it]"
          ]
        },
        {
          "metadata": {
            "tags": null
          },
          "name": "stdout",
          "output_type": "stream",
          "text": [
            "\n",
            "동명이인 존재 : 박주홍\n",
            "생일로 찾음\n"
          ]
        },
        {
          "metadata": {
            "tags": null
          },
          "name": "stderr",
          "output_type": "stream",
          "text": [
            " 79%|███████▉  | 867/1098 [24:35<05:05,  1.32s/it]"
          ]
        },
        {
          "metadata": {
            "tags": null
          },
          "name": "stdout",
          "output_type": "stream",
          "text": [
            "\n",
            "동명이인 존재 : 박정현\n",
            "생일로 찾음\n"
          ]
        },
        {
          "metadata": {
            "tags": null
          },
          "name": "stderr",
          "output_type": "stream",
          "text": [
            " 80%|███████▉  | 875/1098 [24:48<05:11,  1.40s/it]"
          ]
        },
        {
          "metadata": {
            "tags": null
          },
          "name": "stdout",
          "output_type": "stream",
          "text": [
            "\n",
            "동명이인 존재 : 이주형\n",
            "이주형 생일 저장\n",
            "기록과 일치하는 선수 찾음\n"
          ]
        },
        {
          "metadata": {
            "tags": null
          },
          "name": "stderr",
          "output_type": "stream",
          "text": [
            " 81%|████████  | 888/1098 [25:08<04:28,  1.28s/it]"
          ]
        },
        {
          "metadata": {
            "tags": null
          },
          "name": "stdout",
          "output_type": "stream",
          "text": [
            "\n",
            "동명이인 존재 : 이해창\n",
            "생일로 찾음\n"
          ]
        },
        {
          "metadata": {
            "tags": null
          },
          "name": "stderr",
          "output_type": "stream",
          "text": [
            " 81%|████████  | 891/1098 [25:13<05:19,  1.54s/it]"
          ]
        },
        {
          "metadata": {
            "tags": null
          },
          "name": "stdout",
          "output_type": "stream",
          "text": [
            "\n",
            "동명이인 존재 : 이상호\n",
            "생일로 찾음\n"
          ]
        },
        {
          "metadata": {
            "tags": null
          },
          "name": "stderr",
          "output_type": "stream",
          "text": [
            " 82%|████████▏ | 895/1098 [25:20<05:29,  1.63s/it]"
          ]
        },
        {
          "metadata": {
            "tags": null
          },
          "name": "stdout",
          "output_type": "stream",
          "text": [
            "\n",
            "동명이인 존재 : 정진호\n",
            "생일로 찾음\n"
          ]
        },
        {
          "metadata": {
            "tags": null
          },
          "name": "stderr",
          "output_type": "stream",
          "text": [
            " 82%|████████▏ | 903/1098 [25:32<04:46,  1.47s/it]"
          ]
        },
        {
          "metadata": {
            "tags": null
          },
          "name": "stdout",
          "output_type": "stream",
          "text": [
            "\n",
            "동명이인 존재 : 이원재\n",
            "생일로 찾음\n"
          ]
        },
        {
          "metadata": {
            "tags": null
          },
          "name": "stderr",
          "output_type": "stream",
          "text": [
            " 83%|████████▎ | 907/1098 [25:38<04:27,  1.40s/it]"
          ]
        },
        {
          "metadata": {
            "tags": null
          },
          "name": "stdout",
          "output_type": "stream",
          "text": [
            "\n",
            "동명이인 존재 : 김재현\n",
            "생일로 찾음\n"
          ]
        },
        {
          "metadata": {
            "tags": null
          },
          "name": "stderr",
          "output_type": "stream",
          "text": [
            " 86%|████████▌ | 940/1098 [26:28<03:28,  1.32s/it]"
          ]
        },
        {
          "metadata": {
            "tags": null
          },
          "name": "stdout",
          "output_type": "stream",
          "text": [
            "\n",
            "동명이인 존재 : 김민혁\n",
            "생일로 찾음\n"
          ]
        },
        {
          "metadata": {
            "tags": null
          },
          "name": "stderr",
          "output_type": "stream",
          "text": [
            " 87%|████████▋ | 960/1098 [26:57<03:21,  1.46s/it]"
          ]
        },
        {
          "metadata": {
            "tags": null
          },
          "name": "stdout",
          "output_type": "stream",
          "text": [
            "\n",
            "동명이인 존재 : 박찬호\n",
            "생일로 찾음\n"
          ]
        },
        {
          "metadata": {
            "tags": null
          },
          "name": "stderr",
          "output_type": "stream",
          "text": [
            "\r 88%|████████▊ | 961/1098 [26:59<03:57,  1.73s/it]"
          ]
        },
        {
          "metadata": {
            "tags": null
          },
          "name": "stdout",
          "output_type": "stream",
          "text": [
            "\n",
            "동명이인 존재 : 박준태\n",
            "생일로 찾음\n"
          ]
        },
        {
          "metadata": {
            "tags": null
          },
          "name": "stderr",
          "output_type": "stream",
          "text": [
            " 88%|████████▊ | 963/1098 [27:03<03:45,  1.67s/it]"
          ]
        },
        {
          "metadata": {
            "tags": null
          },
          "name": "stdout",
          "output_type": "stream",
          "text": [
            "\n",
            "동명이인 존재 : 김민수\n",
            "생일로 찾음\n"
          ]
        },
        {
          "metadata": {
            "tags": null
          },
          "name": "stderr",
          "output_type": "stream",
          "text": [
            "\r 88%|████████▊ | 964/1098 [27:05<03:52,  1.74s/it]"
          ]
        },
        {
          "metadata": {
            "tags": null
          },
          "name": "stdout",
          "output_type": "stream",
          "text": [
            "\n",
            "동명이인 존재 : 조용호\n",
            "생일로 찾음\n"
          ]
        },
        {
          "metadata": {
            "tags": null
          },
          "name": "stderr",
          "output_type": "stream",
          "text": [
            " 88%|████████▊ | 968/1098 [27:11<03:28,  1.60s/it]"
          ]
        },
        {
          "metadata": {
            "tags": null
          },
          "name": "stdout",
          "output_type": "stream",
          "text": [
            "\n",
            "동명이인 존재 : 김태훈\n",
            "생일로 찾음\n"
          ]
        },
        {
          "metadata": {
            "tags": null
          },
          "name": "stderr",
          "output_type": "stream",
          "text": [
            "\r 88%|████████▊ | 969/1098 [27:14<04:07,  1.92s/it]"
          ]
        },
        {
          "metadata": {
            "tags": null
          },
          "name": "stdout",
          "output_type": "stream",
          "text": [
            "\n",
            "동명이인 존재 : 김재성\n",
            "생일로 찾음\n"
          ]
        },
        {
          "metadata": {
            "tags": null
          },
          "name": "stderr",
          "output_type": "stream",
          "text": [
            " 88%|████████▊ | 971/1098 [27:17<03:28,  1.64s/it]"
          ]
        },
        {
          "metadata": {
            "tags": null
          },
          "name": "stdout",
          "output_type": "stream",
          "text": [
            "\n",
            "동명이인 존재 : 김민혁\n",
            "생일로 찾음\n"
          ]
        },
        {
          "metadata": {
            "tags": null
          },
          "name": "stderr",
          "output_type": "stream",
          "text": [
            " 89%|████████▉ | 977/1098 [27:25<02:38,  1.31s/it]"
          ]
        },
        {
          "metadata": {
            "tags": null
          },
          "name": "stdout",
          "output_type": "stream",
          "text": [
            "\n",
            "동명이인 존재 : 김기환\n",
            "생일로 찾음\n"
          ]
        },
        {
          "metadata": {
            "tags": null
          },
          "name": "stderr",
          "output_type": "stream",
          "text": [
            " 89%|████████▉ | 979/1098 [27:28<02:36,  1.32s/it]"
          ]
        },
        {
          "metadata": {
            "tags": null
          },
          "name": "stdout",
          "output_type": "stream",
          "text": [
            "\n",
            "동명이인 존재 : 김지수\n",
            "생일로 찾음\n"
          ]
        },
        {
          "metadata": {
            "tags": null
          },
          "name": "stderr",
          "output_type": "stream",
          "text": [
            " 90%|████████▉ | 988/1098 [27:41<02:42,  1.48s/it]"
          ]
        },
        {
          "metadata": {
            "tags": null
          },
          "name": "stdout",
          "output_type": "stream",
          "text": [
            "\n",
            "동명이인 존재 : 최승민\n",
            "생일로 찾음\n"
          ]
        },
        {
          "metadata": {
            "tags": null
          },
          "name": "stderr",
          "output_type": "stream",
          "text": [
            " 90%|█████████ | 992/1098 [27:47<02:32,  1.44s/it]"
          ]
        },
        {
          "metadata": {
            "tags": null
          },
          "name": "stdout",
          "output_type": "stream",
          "text": [
            "\n",
            "동명이인 존재 : 김주성\n",
            "김주성 생일 저장\n",
            "기록과 일치하는 선수 찾음\n"
          ]
        },
        {
          "metadata": {
            "tags": null
          },
          "name": "stderr",
          "output_type": "stream",
          "text": [
            " 91%|█████████ | 996/1098 [27:54<02:41,  1.59s/it]"
          ]
        },
        {
          "metadata": {
            "tags": null
          },
          "name": "stdout",
          "output_type": "stream",
          "text": [
            "\n",
            "동명이인 존재 : 최원준\n",
            "생일로 찾음\n"
          ]
        },
        {
          "metadata": {
            "tags": null
          },
          "name": "stderr",
          "output_type": "stream",
          "text": [
            " 91%|█████████ | 998/1098 [27:58<02:44,  1.64s/it]"
          ]
        },
        {
          "metadata": {
            "tags": null
          },
          "name": "stdout",
          "output_type": "stream",
          "text": [
            "\n",
            "동명이인 존재 : 이진영\n",
            "생일로 찾음\n"
          ]
        },
        {
          "metadata": {
            "tags": null
          },
          "name": "stderr",
          "output_type": "stream",
          "text": [
            "\r 91%|█████████ | 999/1098 [28:00<03:06,  1.89s/it]"
          ]
        },
        {
          "metadata": {
            "tags": null
          },
          "name": "stdout",
          "output_type": "stream",
          "text": [
            "\n",
            "동명이인 존재 : 이동훈\n",
            "생일로 찾음\n"
          ]
        },
        {
          "metadata": {
            "tags": null
          },
          "name": "stderr",
          "output_type": "stream",
          "text": [
            " 91%|█████████ | 1001/1098 [28:03<02:35,  1.60s/it]"
          ]
        },
        {
          "metadata": {
            "tags": null
          },
          "name": "stdout",
          "output_type": "stream",
          "text": [
            "\n",
            "동명이인 존재 : 김주현\n"
          ]
        },
        {
          "metadata": {
            "tags": null
          },
          "name": "stderr",
          "output_type": "stream",
          "text": [
            "\r 91%|█████████▏| 1002/1098 [28:06<03:14,  2.03s/it]"
          ]
        },
        {
          "metadata": {
            "tags": null
          },
          "name": "stdout",
          "output_type": "stream",
          "text": [
            "기록과 일치하는 선수 못찾음\n"
          ]
        },
        {
          "metadata": {
            "tags": null
          },
          "name": "stderr",
          "output_type": "stream",
          "text": [
            " 91%|█████████▏| 1004/1098 [28:10<02:54,  1.86s/it]"
          ]
        },
        {
          "metadata": {
            "tags": null
          },
          "name": "stdout",
          "output_type": "stream",
          "text": [
            "\n",
            "동명이인 존재 : 박준영\n",
            "생일로 찾음\n"
          ]
        },
        {
          "metadata": {
            "tags": null
          },
          "name": "stderr",
          "output_type": "stream",
          "text": [
            " 92%|█████████▏| 1011/1098 [28:25<03:28,  2.40s/it]"
          ]
        },
        {
          "metadata": {
            "tags": null
          },
          "name": "stdout",
          "output_type": "stream",
          "text": [
            "\n",
            "동명이인 존재 : 김민수\n",
            "생일로 찾음\n"
          ]
        },
        {
          "metadata": {
            "tags": null
          },
          "name": "stderr",
          "output_type": "stream",
          "text": [
            " 92%|█████████▏| 1013/1098 [28:29<02:57,  2.09s/it]"
          ]
        },
        {
          "metadata": {
            "tags": null
          },
          "name": "stdout",
          "output_type": "stream",
          "text": [
            "\n",
            "동명이인 존재 : 이정훈\n",
            "생일로 찾음\n"
          ]
        },
        {
          "metadata": {
            "tags": null
          },
          "name": "stderr",
          "output_type": "stream",
          "text": [
            " 93%|█████████▎| 1016/1098 [28:38<03:45,  2.75s/it]"
          ]
        },
        {
          "metadata": {
            "tags": null
          },
          "name": "stdout",
          "output_type": "stream",
          "text": [
            "\n",
            "동명이인 존재 : 김민수\n",
            "김민수 생일 저장\n",
            "기록과 일치하는 선수 찾음\n"
          ]
        },
        {
          "metadata": {
            "tags": null
          },
          "name": "stderr",
          "output_type": "stream",
          "text": [
            " 93%|█████████▎| 1018/1098 [28:48<04:59,  3.75s/it]"
          ]
        },
        {
          "metadata": {
            "tags": null
          },
          "name": "stdout",
          "output_type": "stream",
          "text": [
            "\n",
            "동명이인 존재 : 이재원\n",
            "생일로 찾음\n"
          ]
        },
        {
          "metadata": {
            "tags": null
          },
          "name": "stderr",
          "output_type": "stream",
          "text": [
            " 94%|█████████▍| 1030/1098 [29:24<02:56,  2.59s/it]"
          ]
        },
        {
          "metadata": {
            "tags": null
          },
          "name": "stdout",
          "output_type": "stream",
          "text": [
            "\n",
            "동명이인 존재 : 페르난데스\n",
            "생일로 찾음\n"
          ]
        },
        {
          "metadata": {
            "tags": null
          },
          "name": "stderr",
          "output_type": "stream",
          "text": [
            "\r 94%|█████████▍| 1031/1098 [29:29<03:35,  3.22s/it]"
          ]
        },
        {
          "metadata": {
            "tags": null
          },
          "name": "stdout",
          "output_type": "stream",
          "text": [
            "\n",
            "동명이인 존재 : 이명기\n",
            "이명기 생일 저장\n",
            "기록과 일치하는 선수 찾음\n"
          ]
        },
        {
          "metadata": {
            "tags": null
          },
          "name": "stderr",
          "output_type": "stream",
          "text": [
            " 96%|█████████▌| 1055/1098 [31:54<06:22,  8.91s/it]"
          ]
        },
        {
          "metadata": {
            "tags": null
          },
          "name": "stdout",
          "output_type": "stream",
          "text": [
            "\n",
            "동명이인 존재 : 박병호\n",
            "생일로 찾음\n"
          ]
        },
        {
          "metadata": {
            "tags": null
          },
          "name": "stderr",
          "output_type": "stream",
          "text": [
            " 96%|█████████▋| 1058/1098 [32:12<04:21,  6.53s/it]"
          ]
        },
        {
          "metadata": {
            "tags": null
          },
          "name": "stdout",
          "output_type": "stream",
          "text": [
            "\n",
            "동명이인 존재 : 이원석\n",
            "생일로 찾음\n"
          ]
        },
        {
          "metadata": {
            "tags": null
          },
          "name": "stderr",
          "output_type": "stream",
          "text": [
            " 97%|█████████▋| 1060/1098 [32:22<03:35,  5.68s/it]"
          ]
        },
        {
          "metadata": {
            "tags": null
          },
          "name": "stdout",
          "output_type": "stream",
          "text": [
            "\n",
            "동명이인 존재 : 이병규\n",
            "생일로 찾음\n"
          ]
        },
        {
          "metadata": {
            "tags": null
          },
          "name": "stderr",
          "output_type": "stream",
          "text": [
            " 97%|█████████▋| 1064/1098 [32:47<03:37,  6.39s/it]"
          ]
        },
        {
          "metadata": {
            "tags": null
          },
          "name": "stdout",
          "output_type": "stream",
          "text": [
            "\n",
            "동명이인 존재 : 김현수\n",
            "생일로 찾음\n"
          ]
        },
        {
          "metadata": {
            "tags": null
          },
          "name": "stderr",
          "output_type": "stream",
          "text": [
            " 97%|█████████▋| 1067/1098 [33:03<02:41,  5.20s/it]"
          ]
        },
        {
          "metadata": {
            "tags": null
          },
          "name": "stdout",
          "output_type": "stream",
          "text": [
            "\n",
            "동명이인 존재 : 김성현\n",
            "생일로 찾음\n"
          ]
        },
        {
          "metadata": {
            "tags": null
          },
          "name": "stderr",
          "output_type": "stream",
          "text": [
            "\r 97%|█████████▋| 1068/1098 [33:08<02:35,  5.18s/it]"
          ]
        },
        {
          "metadata": {
            "tags": null
          },
          "name": "stdout",
          "output_type": "stream",
          "text": [
            "\n",
            "동명이인 존재 : 이재원\n",
            "생일로 찾음\n"
          ]
        },
        {
          "metadata": {
            "tags": null
          },
          "name": "stderr",
          "output_type": "stream",
          "text": [
            "\r 97%|█████████▋| 1069/1098 [33:13<02:26,  5.06s/it]"
          ]
        },
        {
          "metadata": {
            "tags": null
          },
          "name": "stdout",
          "output_type": "stream",
          "text": [
            "\n",
            "동명이인 존재 : 이명기\n",
            "생일로 찾음\n"
          ]
        },
        {
          "metadata": {
            "tags": null
          },
          "name": "stderr",
          "output_type": "stream",
          "text": [
            " 99%|█████████▉| 1090/1098 [34:57<00:37,  4.75s/it]"
          ]
        },
        {
          "metadata": {
            "tags": null
          },
          "name": "stdout",
          "output_type": "stream",
          "text": [
            "\n",
            "동명이인 존재 : 박건우\n",
            "생일로 찾음\n"
          ]
        },
        {
          "metadata": {
            "tags": null
          },
          "name": "stderr",
          "output_type": "stream",
          "text": [
            "100%|█████████▉| 1095/1098 [35:14<00:09,  3.32s/it]"
          ]
        },
        {
          "metadata": {
            "tags": null
          },
          "name": "stdout",
          "output_type": "stream",
          "text": [
            "\n",
            "동명이인 존재 : 김상수\n",
            "생일로 찾음\n"
          ]
        },
        {
          "metadata": {
            "tags": null
          },
          "name": "stderr",
          "output_type": "stream",
          "text": [
            "100%|██████████| 1098/1098 [35:26<00:00,  1.94s/it]\n"
          ]
        }
      ]
    },
    {
      "cell_type": "code",
      "metadata": {
        "id": "oVfq1s6OU_c9",
        "outputId": "81a01762-5c51-4c19-fc27-00dd5ea0b422",
        "colab": {
          "base_uri": "https://localhost:8080/",
          "height": 589
        }
      },
      "source": [
        "data"
      ],
      "execution_count": 398,
      "outputs": [
        {
          "output_type": "execute_result",
          "data": {
            "text/html": [
              "<div>\n",
              "<style scoped>\n",
              "    .dataframe tbody tr th:only-of-type {\n",
              "        vertical-align: middle;\n",
              "    }\n",
              "\n",
              "    .dataframe tbody tr th {\n",
              "        vertical-align: top;\n",
              "    }\n",
              "\n",
              "    .dataframe thead th {\n",
              "        text-align: right;\n",
              "    }\n",
              "</style>\n",
              "<table border=\"1\" class=\"dataframe\">\n",
              "  <thead>\n",
              "    <tr style=\"text-align: right;\">\n",
              "      <th></th>\n",
              "      <th>GYEAR</th>\n",
              "      <th>PCODE</th>\n",
              "      <th>NAME</th>\n",
              "      <th>T_ID</th>\n",
              "      <th>POSITION</th>\n",
              "      <th>day</th>\n",
              "      <th>vs</th>\n",
              "      <th>inn</th>\n",
              "      <th>pitcher</th>\n",
              "      <th>batter</th>\n",
              "      <th>P</th>\n",
              "      <th>result</th>\n",
              "      <th>before</th>\n",
              "      <th>after</th>\n",
              "      <th>LEV</th>\n",
              "      <th>REa</th>\n",
              "      <th>WPs</th>\n",
              "      <th>WPe</th>\n",
              "      <th>WPa</th>\n",
              "    </tr>\n",
              "  </thead>\n",
              "  <tbody>\n",
              "    <tr>\n",
              "      <th>0</th>\n",
              "      <td>2018</td>\n",
              "      <td>60100</td>\n",
              "      <td>백창수</td>\n",
              "      <td>HH</td>\n",
              "      <td>외</td>\n",
              "      <td>2018-03-27</td>\n",
              "      <td>NC</td>\n",
              "      <td>8초</td>\n",
              "      <td>이민호</td>\n",
              "      <td>백창수</td>\n",
              "      <td>1-0</td>\n",
              "      <td>유격수 땅볼</td>\n",
              "      <td>무사  6:9</td>\n",
              "      <td>1사  6:9</td>\n",
              "      <td>0.88</td>\n",
              "      <td>-0.258</td>\n",
              "      <td>93.1</td>\n",
              "      <td>95.3</td>\n",
              "      <td>-0.022</td>\n",
              "    </tr>\n",
              "    <tr>\n",
              "      <th>1</th>\n",
              "      <td>2018</td>\n",
              "      <td>60100</td>\n",
              "      <td>백창수</td>\n",
              "      <td>HH</td>\n",
              "      <td>외</td>\n",
              "      <td>2018-03-28</td>\n",
              "      <td>NC</td>\n",
              "      <td>2초</td>\n",
              "      <td>구창모</td>\n",
              "      <td>백창수</td>\n",
              "      <td>2-3</td>\n",
              "      <td>볼넷</td>\n",
              "      <td>2사 2루 0:2</td>\n",
              "      <td>2사 1,2루 0:2</td>\n",
              "      <td>1.10</td>\n",
              "      <td>0.122</td>\n",
              "      <td>71.9</td>\n",
              "      <td>70.7</td>\n",
              "      <td>0.012</td>\n",
              "    </tr>\n",
              "    <tr>\n",
              "      <th>2</th>\n",
              "      <td>2018</td>\n",
              "      <td>60100</td>\n",
              "      <td>백창수</td>\n",
              "      <td>HH</td>\n",
              "      <td>외</td>\n",
              "      <td>2018-03-28</td>\n",
              "      <td>NC</td>\n",
              "      <td>4초</td>\n",
              "      <td>구창모</td>\n",
              "      <td>백창수</td>\n",
              "      <td>0-0</td>\n",
              "      <td>3루수 땅볼</td>\n",
              "      <td>2사  1:2</td>\n",
              "      <td>이닝종료 1:2</td>\n",
              "      <td>0.51</td>\n",
              "      <td>-0.117</td>\n",
              "      <td>67.4</td>\n",
              "      <td>68.8</td>\n",
              "      <td>-0.013</td>\n",
              "    </tr>\n",
              "    <tr>\n",
              "      <th>3</th>\n",
              "      <td>2018</td>\n",
              "      <td>60100</td>\n",
              "      <td>백창수</td>\n",
              "      <td>HH</td>\n",
              "      <td>외</td>\n",
              "      <td>2018-03-28</td>\n",
              "      <td>NC</td>\n",
              "      <td>7초</td>\n",
              "      <td>유원상</td>\n",
              "      <td>백창수</td>\n",
              "      <td>2-3</td>\n",
              "      <td>유격수 땅볼 실책</td>\n",
              "      <td>[실책포함]</td>\n",
              "      <td>무사  2:2</td>\n",
              "      <td>무사 1루 2:2</td>\n",
              "      <td>1.54</td>\n",
              "      <td>0.398</td>\n",
              "      <td>50.0</td>\n",
              "      <td>44.1</td>\n",
              "    </tr>\n",
              "    <tr>\n",
              "      <th>4</th>\n",
              "      <td>2018</td>\n",
              "      <td>60100</td>\n",
              "      <td>백창수</td>\n",
              "      <td>HH</td>\n",
              "      <td>외</td>\n",
              "      <td>2018-03-30</td>\n",
              "      <td>SK</td>\n",
              "      <td>2말</td>\n",
              "      <td>김태훈</td>\n",
              "      <td>백창수</td>\n",
              "      <td>0-1</td>\n",
              "      <td>백창수/10473 : 2루수 직선타 아웃</td>\n",
              "      <td>1사 2,3루 1:1</td>\n",
              "      <td>2사 2,3루 1:1</td>\n",
              "      <td>1.57</td>\n",
              "      <td>-0.833</td>\n",
              "      <td>64.1</td>\n",
              "      <td>56.1</td>\n",
              "      <td>-0.080</td>\n",
              "    </tr>\n",
              "    <tr>\n",
              "      <th>...</th>\n",
              "      <td>...</td>\n",
              "      <td>...</td>\n",
              "      <td>...</td>\n",
              "      <td>...</td>\n",
              "      <td>...</td>\n",
              "      <td>...</td>\n",
              "      <td>...</td>\n",
              "      <td>...</td>\n",
              "      <td>...</td>\n",
              "      <td>...</td>\n",
              "      <td>...</td>\n",
              "      <td>...</td>\n",
              "      <td>...</td>\n",
              "      <td>...</td>\n",
              "      <td>...</td>\n",
              "      <td>...</td>\n",
              "      <td>...</td>\n",
              "      <td>...</td>\n",
              "      <td>...</td>\n",
              "    </tr>\n",
              "    <tr>\n",
              "      <th>207784</th>\n",
              "      <td>2021</td>\n",
              "      <td>79608</td>\n",
              "      <td>안치홍</td>\n",
              "      <td>LT</td>\n",
              "      <td>내</td>\n",
              "      <td>2021-08-22</td>\n",
              "      <td>KT</td>\n",
              "      <td>7말</td>\n",
              "      <td>고영표</td>\n",
              "      <td>안치홍</td>\n",
              "      <td>2-3</td>\n",
              "      <td>2루수 땅볼</td>\n",
              "      <td>무사  3:0</td>\n",
              "      <td>1사  3:0</td>\n",
              "      <td>1.07</td>\n",
              "      <td>-0.258</td>\n",
              "      <td>12.4</td>\n",
              "      <td>9.6</td>\n",
              "      <td>-0.027</td>\n",
              "    </tr>\n",
              "    <tr>\n",
              "      <th>207785</th>\n",
              "      <td>2021</td>\n",
              "      <td>79608</td>\n",
              "      <td>안치홍</td>\n",
              "      <td>LT</td>\n",
              "      <td>내</td>\n",
              "      <td>2021-08-22</td>\n",
              "      <td>KT</td>\n",
              "      <td>9말</td>\n",
              "      <td>김재윤</td>\n",
              "      <td>안치홍</td>\n",
              "      <td>2-3</td>\n",
              "      <td>볼넷</td>\n",
              "      <td>1사  3:0</td>\n",
              "      <td>1사 1루 3:0</td>\n",
              "      <td>0.50</td>\n",
              "      <td>0.276</td>\n",
              "      <td>1.8</td>\n",
              "      <td>4.5</td>\n",
              "      <td>0.027</td>\n",
              "    </tr>\n",
              "    <tr>\n",
              "      <th>207786</th>\n",
              "      <td>2021</td>\n",
              "      <td>79608</td>\n",
              "      <td>안치홍</td>\n",
              "      <td>LT</td>\n",
              "      <td>내</td>\n",
              "      <td>2021-08-23</td>\n",
              "      <td>KT</td>\n",
              "      <td>1말</td>\n",
              "      <td>데스파이네</td>\n",
              "      <td>안치홍</td>\n",
              "      <td>0-2</td>\n",
              "      <td>좌익수 안타</td>\n",
              "      <td>1사 1,2루 0:1</td>\n",
              "      <td>1사 1,2루 0:2</td>\n",
              "      <td>1.64</td>\n",
              "      <td>1.000</td>\n",
              "      <td>67.9</td>\n",
              "      <td>76.1</td>\n",
              "      <td>0.082</td>\n",
              "    </tr>\n",
              "    <tr>\n",
              "      <th>207787</th>\n",
              "      <td>2021</td>\n",
              "      <td>79608</td>\n",
              "      <td>안치홍</td>\n",
              "      <td>LT</td>\n",
              "      <td>내</td>\n",
              "      <td>2021-08-23</td>\n",
              "      <td>KT</td>\n",
              "      <td>3말</td>\n",
              "      <td>데스파이네</td>\n",
              "      <td>안치홍</td>\n",
              "      <td>1-1</td>\n",
              "      <td>1루수 땅볼</td>\n",
              "      <td>무사  0:4</td>\n",
              "      <td>1사  0:4</td>\n",
              "      <td>0.30</td>\n",
              "      <td>-0.258</td>\n",
              "      <td>89.7</td>\n",
              "      <td>89.0</td>\n",
              "      <td>-0.008</td>\n",
              "    </tr>\n",
              "    <tr>\n",
              "      <th>207788</th>\n",
              "      <td>2021</td>\n",
              "      <td>79608</td>\n",
              "      <td>안치홍</td>\n",
              "      <td>LT</td>\n",
              "      <td>내</td>\n",
              "      <td>2021-08-23</td>\n",
              "      <td>KT</td>\n",
              "      <td>4말</td>\n",
              "      <td>심재민</td>\n",
              "      <td>안치홍</td>\n",
              "      <td>1-3</td>\n",
              "      <td>우익수 2루타</td>\n",
              "      <td>2사 1,2루 0:5</td>\n",
              "      <td>2사 2,3루 0:6</td>\n",
              "      <td>0.31</td>\n",
              "      <td>1.168</td>\n",
              "      <td>94.7</td>\n",
              "      <td>97.1</td>\n",
              "      <td>0.023</td>\n",
              "    </tr>\n",
              "  </tbody>\n",
              "</table>\n",
              "<p>207789 rows × 19 columns</p>\n",
              "</div>"
            ],
            "text/plain": [
              "       GYEAR  PCODE NAME T_ID POSITION  ...        LEV     REa    WPs   WPe     WPa\n",
              "0       2018  60100  백창수   HH        외  ...       0.88  -0.258   93.1  95.3  -0.022\n",
              "1       2018  60100  백창수   HH        외  ...       1.10   0.122   71.9  70.7   0.012\n",
              "2       2018  60100  백창수   HH        외  ...       0.51  -0.117   67.4  68.8  -0.013\n",
              "3       2018  60100  백창수   HH        외  ...  무사 1루 2:2    1.54  0.398  50.0    44.1\n",
              "4       2018  60100  백창수   HH        외  ...       1.57  -0.833   64.1  56.1  -0.080\n",
              "...      ...    ...  ...  ...      ...  ...        ...     ...    ...   ...     ...\n",
              "207784  2021  79608  안치홍   LT        내  ...       1.07  -0.258   12.4   9.6  -0.027\n",
              "207785  2021  79608  안치홍   LT        내  ...       0.50   0.276    1.8   4.5   0.027\n",
              "207786  2021  79608  안치홍   LT        내  ...       1.64   1.000   67.9  76.1   0.082\n",
              "207787  2021  79608  안치홍   LT        내  ...       0.30  -0.258   89.7  89.0  -0.008\n",
              "207788  2021  79608  안치홍   LT        내  ...       0.31   1.168   94.7  97.1   0.023\n",
              "\n",
              "[207789 rows x 19 columns]"
            ]
          },
          "metadata": {},
          "execution_count": 398
        }
      ]
    },
    {
      "cell_type": "code",
      "metadata": {
        "id": "v912jgAUrR4O"
      },
      "source": [
        "data.to_csv('/content/drive/MyDrive/crawling_data')"
      ],
      "execution_count": 401,
      "outputs": []
    },
    {
      "cell_type": "code",
      "metadata": {
        "id": "9S5oVQiHrvJs"
      },
      "source": [
        ""
      ],
      "execution_count": null,
      "outputs": []
    }
  ]
}